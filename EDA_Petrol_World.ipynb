{
  "nbformat": 4,
  "nbformat_minor": 0,
  "metadata": {
    "colab": {
      "name": "EDA Petrol World.ipynb",
      "provenance": [],
      "toc_visible": true,
      "authorship_tag": "ABX9TyOJ5MIaL9siF/3AjNabjszi",
      "include_colab_link": true
    },
    "kernelspec": {
      "name": "python3",
      "display_name": "Python 3"
    },
    "language_info": {
      "name": "python"
    }
  },
  "cells": [
    {
      "cell_type": "markdown",
      "metadata": {
        "id": "view-in-github",
        "colab_type": "text"
      },
      "source": [
        "<a href=\"https://colab.research.google.com/github/binmuji/petrol-consumption-world/blob/main/EDA_Petrol_World.ipynb\" target=\"_parent\"><img src=\"https://colab.research.google.com/assets/colab-badge.svg\" alt=\"Open In Colab\"/></a>"
      ]
    },
    {
      "cell_type": "markdown",
      "source": [
        "# Setup Library & Dataset"
      ],
      "metadata": {
        "id": "3bOx8IhhZZ_j"
      }
    },
    {
      "cell_type": "markdown",
      "source": [
        "## Import Library"
      ],
      "metadata": {
        "id": "QNN7_CzLaUw4"
      }
    },
    {
      "cell_type": "code",
      "execution_count": 44,
      "metadata": {
        "id": "YHHndooJXxsW"
      },
      "outputs": [],
      "source": [
        "import pandas as pd\n",
        "import matplotlib.pyplot as plt\n",
        "import plotly.express as px"
      ]
    },
    {
      "cell_type": "markdown",
      "source": [
        "## Import Dataset"
      ],
      "metadata": {
        "id": "JxhiKL4Baii7"
      }
    },
    {
      "cell_type": "code",
      "source": [
        "petrol_world = pd.read_csv(\"Petrol Dataset Version 2.csv\", encoding=\"latin-1\")"
      ],
      "metadata": {
        "id": "Epz7iEErcrKx"
      },
      "execution_count": 3,
      "outputs": []
    },
    {
      "cell_type": "markdown",
      "source": [
        "## Quick Look"
      ],
      "metadata": {
        "id": "z6lTG1IqZfB5"
      }
    },
    {
      "cell_type": "markdown",
      "source": [
        "### View Row x Colomn"
      ],
      "metadata": {
        "id": "nN18dHVDgjjK"
      }
    },
    {
      "cell_type": "code",
      "source": [
        "petrol_world.shape"
      ],
      "metadata": {
        "id": "ZwzliPWifAr_",
        "colab": {
          "base_uri": "https://localhost:8080/"
        },
        "outputId": "3fe2a825-fd97-475d-f79f-8ccfde4148c7"
      },
      "execution_count": null,
      "outputs": [
        {
          "output_type": "execute_result",
          "data": {
            "text/plain": [
              "(181, 11)"
            ]
          },
          "metadata": {},
          "execution_count": 13
        }
      ]
    },
    {
      "cell_type": "markdown",
      "source": [
        "### View Sample Data"
      ],
      "metadata": {
        "id": "qp8yikMTg1GD"
      }
    },
    {
      "cell_type": "code",
      "source": [
        "petrol_world.head(10)"
      ],
      "metadata": {
        "id": "0DxiIfXmgbmq",
        "colab": {
          "base_uri": "https://localhost:8080/",
          "height": 511
        },
        "outputId": "9534f099-f477-43f8-ee0c-f0fd8419af9d"
      },
      "execution_count": null,
      "outputs": [
        {
          "output_type": "execute_result",
          "data": {
            "text/plain": [
              "   S#        Country Daily Oil Consumption (Barrels) World Share  \\\n",
              "0   1  United States                      19,687,287         20%   \n",
              "1   2          China                      12,791,553         13%   \n",
              "2   3          India                       4,443,000          5%   \n",
              "3   4          Japan                       4,012,877          4%   \n",
              "4   5         Russia                       3,631,287          4%   \n",
              "5   6   Saudi Arabia                       3,302,000          3%   \n",
              "6   7         Brazil                       2,984,000          3%   \n",
              "7   8    South Korea                       2,605,440          3%   \n",
              "8   9         Canada                       2,486,301          3%   \n",
              "9  10        Germany                       2,383,393          3%   \n",
              "\n",
              "   Yearly Gallons Per Capita  Price Per Gallon (USD)  Price Per Liter (USD)  \\\n",
              "0                      934.3                    5.19                   1.37   \n",
              "1                      138.7                    5.42                   1.43   \n",
              "2                       51.4                    5.05                   1.33   \n",
              "3                      481.5                    4.69                   1.24   \n",
              "4                      383.2                    3.41                   0.90   \n",
              "5                     1560.2                    2.35                   0.62   \n",
              "6                      221.9                    5.36                   1.42   \n",
              "7                      783.4                    6.09                   1.61   \n",
              "8                     1047.6                    6.76                   1.79   \n",
              "9                      444.5                    7.65                   2.02   \n",
              "\n",
              "   Price Per Liter (PKR) GDP Per Capita ( USD )  \\\n",
              "0                 289.97                 63,414   \n",
              "1                 302.87                 10,435   \n",
              "2                 281.93                  1,901   \n",
              "3                 262.05                 40,193   \n",
              "4                 190.56                 10,127   \n",
              "5                 131.34                 20,110   \n",
              "6                 299.27                  6,797   \n",
              "7                 340.52                 31,632   \n",
              "8                 377.74                 43,258   \n",
              "9                 427.44                 46,208   \n",
              "\n",
              "  Gallons GDP Per Capita Can Buy  xTimes Yearly Gallons Per Capita Buy  \n",
              "0                         12,218                                    13  \n",
              "1                          1,925                                    14  \n",
              "2                            376                                     7  \n",
              "3                          8,570                                    18  \n",
              "4                          2,970                                     8  \n",
              "5                          8,557                                     5  \n",
              "6                          1,268                                     6  \n",
              "7                          5,194                                     7  \n",
              "8                          6,399                                     6  \n",
              "9                          6,040                                    14  "
            ],
            "text/html": [
              "\n",
              "  <div id=\"df-0f3747db-e1d8-4ea7-9db0-c567009f237a\">\n",
              "    <div class=\"colab-df-container\">\n",
              "      <div>\n",
              "<style scoped>\n",
              "    .dataframe tbody tr th:only-of-type {\n",
              "        vertical-align: middle;\n",
              "    }\n",
              "\n",
              "    .dataframe tbody tr th {\n",
              "        vertical-align: top;\n",
              "    }\n",
              "\n",
              "    .dataframe thead th {\n",
              "        text-align: right;\n",
              "    }\n",
              "</style>\n",
              "<table border=\"1\" class=\"dataframe\">\n",
              "  <thead>\n",
              "    <tr style=\"text-align: right;\">\n",
              "      <th></th>\n",
              "      <th>S#</th>\n",
              "      <th>Country</th>\n",
              "      <th>Daily Oil Consumption (Barrels)</th>\n",
              "      <th>World Share</th>\n",
              "      <th>Yearly Gallons Per Capita</th>\n",
              "      <th>Price Per Gallon (USD)</th>\n",
              "      <th>Price Per Liter (USD)</th>\n",
              "      <th>Price Per Liter (PKR)</th>\n",
              "      <th>GDP Per Capita ( USD )</th>\n",
              "      <th>Gallons GDP Per Capita Can Buy</th>\n",
              "      <th>xTimes Yearly Gallons Per Capita Buy</th>\n",
              "    </tr>\n",
              "  </thead>\n",
              "  <tbody>\n",
              "    <tr>\n",
              "      <th>0</th>\n",
              "      <td>1</td>\n",
              "      <td>United States</td>\n",
              "      <td>19,687,287</td>\n",
              "      <td>20%</td>\n",
              "      <td>934.3</td>\n",
              "      <td>5.19</td>\n",
              "      <td>1.37</td>\n",
              "      <td>289.97</td>\n",
              "      <td>63,414</td>\n",
              "      <td>12,218</td>\n",
              "      <td>13</td>\n",
              "    </tr>\n",
              "    <tr>\n",
              "      <th>1</th>\n",
              "      <td>2</td>\n",
              "      <td>China</td>\n",
              "      <td>12,791,553</td>\n",
              "      <td>13%</td>\n",
              "      <td>138.7</td>\n",
              "      <td>5.42</td>\n",
              "      <td>1.43</td>\n",
              "      <td>302.87</td>\n",
              "      <td>10,435</td>\n",
              "      <td>1,925</td>\n",
              "      <td>14</td>\n",
              "    </tr>\n",
              "    <tr>\n",
              "      <th>2</th>\n",
              "      <td>3</td>\n",
              "      <td>India</td>\n",
              "      <td>4,443,000</td>\n",
              "      <td>5%</td>\n",
              "      <td>51.4</td>\n",
              "      <td>5.05</td>\n",
              "      <td>1.33</td>\n",
              "      <td>281.93</td>\n",
              "      <td>1,901</td>\n",
              "      <td>376</td>\n",
              "      <td>7</td>\n",
              "    </tr>\n",
              "    <tr>\n",
              "      <th>3</th>\n",
              "      <td>4</td>\n",
              "      <td>Japan</td>\n",
              "      <td>4,012,877</td>\n",
              "      <td>4%</td>\n",
              "      <td>481.5</td>\n",
              "      <td>4.69</td>\n",
              "      <td>1.24</td>\n",
              "      <td>262.05</td>\n",
              "      <td>40,193</td>\n",
              "      <td>8,570</td>\n",
              "      <td>18</td>\n",
              "    </tr>\n",
              "    <tr>\n",
              "      <th>4</th>\n",
              "      <td>5</td>\n",
              "      <td>Russia</td>\n",
              "      <td>3,631,287</td>\n",
              "      <td>4%</td>\n",
              "      <td>383.2</td>\n",
              "      <td>3.41</td>\n",
              "      <td>0.90</td>\n",
              "      <td>190.56</td>\n",
              "      <td>10,127</td>\n",
              "      <td>2,970</td>\n",
              "      <td>8</td>\n",
              "    </tr>\n",
              "    <tr>\n",
              "      <th>5</th>\n",
              "      <td>6</td>\n",
              "      <td>Saudi Arabia</td>\n",
              "      <td>3,302,000</td>\n",
              "      <td>3%</td>\n",
              "      <td>1560.2</td>\n",
              "      <td>2.35</td>\n",
              "      <td>0.62</td>\n",
              "      <td>131.34</td>\n",
              "      <td>20,110</td>\n",
              "      <td>8,557</td>\n",
              "      <td>5</td>\n",
              "    </tr>\n",
              "    <tr>\n",
              "      <th>6</th>\n",
              "      <td>7</td>\n",
              "      <td>Brazil</td>\n",
              "      <td>2,984,000</td>\n",
              "      <td>3%</td>\n",
              "      <td>221.9</td>\n",
              "      <td>5.36</td>\n",
              "      <td>1.42</td>\n",
              "      <td>299.27</td>\n",
              "      <td>6,797</td>\n",
              "      <td>1,268</td>\n",
              "      <td>6</td>\n",
              "    </tr>\n",
              "    <tr>\n",
              "      <th>7</th>\n",
              "      <td>8</td>\n",
              "      <td>South Korea</td>\n",
              "      <td>2,605,440</td>\n",
              "      <td>3%</td>\n",
              "      <td>783.4</td>\n",
              "      <td>6.09</td>\n",
              "      <td>1.61</td>\n",
              "      <td>340.52</td>\n",
              "      <td>31,632</td>\n",
              "      <td>5,194</td>\n",
              "      <td>7</td>\n",
              "    </tr>\n",
              "    <tr>\n",
              "      <th>8</th>\n",
              "      <td>9</td>\n",
              "      <td>Canada</td>\n",
              "      <td>2,486,301</td>\n",
              "      <td>3%</td>\n",
              "      <td>1047.6</td>\n",
              "      <td>6.76</td>\n",
              "      <td>1.79</td>\n",
              "      <td>377.74</td>\n",
              "      <td>43,258</td>\n",
              "      <td>6,399</td>\n",
              "      <td>6</td>\n",
              "    </tr>\n",
              "    <tr>\n",
              "      <th>9</th>\n",
              "      <td>10</td>\n",
              "      <td>Germany</td>\n",
              "      <td>2,383,393</td>\n",
              "      <td>3%</td>\n",
              "      <td>444.5</td>\n",
              "      <td>7.65</td>\n",
              "      <td>2.02</td>\n",
              "      <td>427.44</td>\n",
              "      <td>46,208</td>\n",
              "      <td>6,040</td>\n",
              "      <td>14</td>\n",
              "    </tr>\n",
              "  </tbody>\n",
              "</table>\n",
              "</div>\n",
              "      <button class=\"colab-df-convert\" onclick=\"convertToInteractive('df-0f3747db-e1d8-4ea7-9db0-c567009f237a')\"\n",
              "              title=\"Convert this dataframe to an interactive table.\"\n",
              "              style=\"display:none;\">\n",
              "        \n",
              "  <svg xmlns=\"http://www.w3.org/2000/svg\" height=\"24px\"viewBox=\"0 0 24 24\"\n",
              "       width=\"24px\">\n",
              "    <path d=\"M0 0h24v24H0V0z\" fill=\"none\"/>\n",
              "    <path d=\"M18.56 5.44l.94 2.06.94-2.06 2.06-.94-2.06-.94-.94-2.06-.94 2.06-2.06.94zm-11 1L8.5 8.5l.94-2.06 2.06-.94-2.06-.94L8.5 2.5l-.94 2.06-2.06.94zm10 10l.94 2.06.94-2.06 2.06-.94-2.06-.94-.94-2.06-.94 2.06-2.06.94z\"/><path d=\"M17.41 7.96l-1.37-1.37c-.4-.4-.92-.59-1.43-.59-.52 0-1.04.2-1.43.59L10.3 9.45l-7.72 7.72c-.78.78-.78 2.05 0 2.83L4 21.41c.39.39.9.59 1.41.59.51 0 1.02-.2 1.41-.59l7.78-7.78 2.81-2.81c.8-.78.8-2.07 0-2.86zM5.41 20L4 18.59l7.72-7.72 1.47 1.35L5.41 20z\"/>\n",
              "  </svg>\n",
              "      </button>\n",
              "      \n",
              "  <style>\n",
              "    .colab-df-container {\n",
              "      display:flex;\n",
              "      flex-wrap:wrap;\n",
              "      gap: 12px;\n",
              "    }\n",
              "\n",
              "    .colab-df-convert {\n",
              "      background-color: #E8F0FE;\n",
              "      border: none;\n",
              "      border-radius: 50%;\n",
              "      cursor: pointer;\n",
              "      display: none;\n",
              "      fill: #1967D2;\n",
              "      height: 32px;\n",
              "      padding: 0 0 0 0;\n",
              "      width: 32px;\n",
              "    }\n",
              "\n",
              "    .colab-df-convert:hover {\n",
              "      background-color: #E2EBFA;\n",
              "      box-shadow: 0px 1px 2px rgba(60, 64, 67, 0.3), 0px 1px 3px 1px rgba(60, 64, 67, 0.15);\n",
              "      fill: #174EA6;\n",
              "    }\n",
              "\n",
              "    [theme=dark] .colab-df-convert {\n",
              "      background-color: #3B4455;\n",
              "      fill: #D2E3FC;\n",
              "    }\n",
              "\n",
              "    [theme=dark] .colab-df-convert:hover {\n",
              "      background-color: #434B5C;\n",
              "      box-shadow: 0px 1px 3px 1px rgba(0, 0, 0, 0.15);\n",
              "      filter: drop-shadow(0px 1px 2px rgba(0, 0, 0, 0.3));\n",
              "      fill: #FFFFFF;\n",
              "    }\n",
              "  </style>\n",
              "\n",
              "      <script>\n",
              "        const buttonEl =\n",
              "          document.querySelector('#df-0f3747db-e1d8-4ea7-9db0-c567009f237a button.colab-df-convert');\n",
              "        buttonEl.style.display =\n",
              "          google.colab.kernel.accessAllowed ? 'block' : 'none';\n",
              "\n",
              "        async function convertToInteractive(key) {\n",
              "          const element = document.querySelector('#df-0f3747db-e1d8-4ea7-9db0-c567009f237a');\n",
              "          const dataTable =\n",
              "            await google.colab.kernel.invokeFunction('convertToInteractive',\n",
              "                                                     [key], {});\n",
              "          if (!dataTable) return;\n",
              "\n",
              "          const docLinkHtml = 'Like what you see? Visit the ' +\n",
              "            '<a target=\"_blank\" href=https://colab.research.google.com/notebooks/data_table.ipynb>data table notebook</a>'\n",
              "            + ' to learn more about interactive tables.';\n",
              "          element.innerHTML = '';\n",
              "          dataTable['output_type'] = 'display_data';\n",
              "          await google.colab.output.renderOutput(dataTable, element);\n",
              "          const docLink = document.createElement('div');\n",
              "          docLink.innerHTML = docLinkHtml;\n",
              "          element.appendChild(docLink);\n",
              "        }\n",
              "      </script>\n",
              "    </div>\n",
              "  </div>\n",
              "  "
            ]
          },
          "metadata": {},
          "execution_count": 14
        }
      ]
    },
    {
      "cell_type": "markdown",
      "source": [
        "### View Data Types of Colomn"
      ],
      "metadata": {
        "id": "bth1Q9y5iKai"
      }
    },
    {
      "cell_type": "code",
      "source": [
        "petrol_world.info()"
      ],
      "metadata": {
        "colab": {
          "base_uri": "https://localhost:8080/"
        },
        "id": "XkiS2CLIiQbn",
        "outputId": "c57cb225-d564-4c7f-fb0d-d4f51fcb9425"
      },
      "execution_count": 5,
      "outputs": [
        {
          "output_type": "stream",
          "name": "stdout",
          "text": [
            "<class 'pandas.core.frame.DataFrame'>\n",
            "RangeIndex: 181 entries, 0 to 180\n",
            "Data columns (total 11 columns):\n",
            " #   Column                                Non-Null Count  Dtype  \n",
            "---  ------                                --------------  -----  \n",
            " 0   S#                                    181 non-null    int64  \n",
            " 1   Country                               181 non-null    object \n",
            " 2   Daily Oil Consumption (Barrels)       181 non-null    object \n",
            " 3   World Share                           181 non-null    object \n",
            " 4   Yearly Gallons Per Capita             181 non-null    float64\n",
            " 5   Price Per Gallon (USD)                181 non-null    float64\n",
            " 6   Price Per Liter (USD)                 181 non-null    float64\n",
            " 7   Price Per Liter (PKR)                 181 non-null    float64\n",
            " 8   GDP Per Capita ( USD )                181 non-null    object \n",
            " 9   Gallons GDP Per Capita Can Buy        181 non-null    object \n",
            " 10  xTimes Yearly Gallons Per Capita Buy  181 non-null    int64  \n",
            "dtypes: float64(4), int64(2), object(5)\n",
            "memory usage: 15.7+ KB\n"
          ]
        }
      ]
    },
    {
      "cell_type": "markdown",
      "source": [
        "# Data Processing"
      ],
      "metadata": {
        "id": "RCYrFhPZZjH4"
      }
    },
    {
      "cell_type": "markdown",
      "source": [
        "## Missing Value"
      ],
      "metadata": {
        "id": "qqTpBWdZZlI6"
      }
    },
    {
      "cell_type": "code",
      "source": [
        "petrol_world.isnull().sum()"
      ],
      "metadata": {
        "colab": {
          "base_uri": "https://localhost:8080/"
        },
        "id": "EmhwuHtnrPuZ",
        "outputId": "0e50b985-3572-48d6-9e6e-84ee4f6ecb64"
      },
      "execution_count": null,
      "outputs": [
        {
          "output_type": "execute_result",
          "data": {
            "text/plain": [
              "S#                                      0\n",
              "Country                                 0\n",
              "Daily Oil Consumption (Barrels)         0\n",
              "World Share                             0\n",
              "Yearly Gallons Per Capita               0\n",
              "Price Per Gallon (USD)                  0\n",
              "Price Per Liter (USD)                   0\n",
              "Price Per Liter (PKR)                   0\n",
              "GDP Per Capita ( USD )                  0\n",
              "Gallons GDP Per Capita Can Buy          0\n",
              "xTimes Yearly Gallons Per Capita Buy    0\n",
              "dtype: int64"
            ]
          },
          "metadata": {},
          "execution_count": 17
        }
      ]
    },
    {
      "cell_type": "markdown",
      "source": [
        "## Duplicate Value"
      ],
      "metadata": {
        "id": "-rwlLWUBZntb"
      }
    },
    {
      "cell_type": "code",
      "source": [
        "petrol_world.duplicated().sum()"
      ],
      "metadata": {
        "colab": {
          "base_uri": "https://localhost:8080/"
        },
        "id": "hlRrDyUXrWAZ",
        "outputId": "05290181-a70c-4fc7-f5dc-86340a7eb792"
      },
      "execution_count": null,
      "outputs": [
        {
          "output_type": "execute_result",
          "data": {
            "text/plain": [
              "0"
            ]
          },
          "metadata": {},
          "execution_count": 18
        }
      ]
    },
    {
      "cell_type": "markdown",
      "source": [
        "## Chande Data Types"
      ],
      "metadata": {
        "id": "CsmLQHBEr1D8"
      }
    },
    {
      "cell_type": "code",
      "source": [
        "petrol_world[\"Daily Oil Consumption (Barrels)\"]=petrol_world[\"Daily Oil Consumption (Barrels)\"].apply(lambda x: x.replace(',',''))\n",
        "petrol_world[\"Daily Oil Consumption (Barrels)\"]=petrol_world[\"Daily Oil Consumption (Barrels)\"].astype(float)"
      ],
      "metadata": {
        "id": "8JRnucSir6Kn"
      },
      "execution_count": 6,
      "outputs": []
    },
    {
      "cell_type": "code",
      "source": [
        "petrol_world[\"World Share\"]=petrol_world[\"World Share\"].apply(lambda x: x.replace('%',''))\n",
        "petrol_world[\"World Share\"]=petrol_world[\"World Share\"].astype(float)"
      ],
      "metadata": {
        "id": "hceArgCo42uW"
      },
      "execution_count": 7,
      "outputs": []
    },
    {
      "cell_type": "code",
      "source": [
        "petrol_world[\"GDP Per Capita ( USD )\"]=petrol_world[\"GDP Per Capita ( USD )\"].apply(lambda x: x.replace(',',''))\n",
        "petrol_world[\"GDP Per Capita ( USD )\"]=petrol_world[\"GDP Per Capita ( USD )\"].astype(float)"
      ],
      "metadata": {
        "id": "emHFSWvbzbq5"
      },
      "execution_count": 8,
      "outputs": []
    },
    {
      "cell_type": "code",
      "source": [
        "petrol_world[\"Gallons GDP Per Capita Can Buy\"]=petrol_world[\"Gallons GDP Per Capita Can Buy\"].apply(lambda x: x.replace(',',''))\n",
        "petrol_world[\"Gallons GDP Per Capita Can Buy\"]=petrol_world[\"Gallons GDP Per Capita Can Buy\"].astype(float)"
      ],
      "metadata": {
        "id": "0pKRD2Ewzvgy"
      },
      "execution_count": 9,
      "outputs": []
    },
    {
      "cell_type": "code",
      "source": [
        "petrol_world.info()"
      ],
      "metadata": {
        "colab": {
          "base_uri": "https://localhost:8080/"
        },
        "id": "ugVM09mFz4l5",
        "outputId": "6b9e7a5a-c7f9-48dc-f63d-48e461442758"
      },
      "execution_count": 10,
      "outputs": [
        {
          "output_type": "stream",
          "name": "stdout",
          "text": [
            "<class 'pandas.core.frame.DataFrame'>\n",
            "RangeIndex: 181 entries, 0 to 180\n",
            "Data columns (total 11 columns):\n",
            " #   Column                                Non-Null Count  Dtype  \n",
            "---  ------                                --------------  -----  \n",
            " 0   S#                                    181 non-null    int64  \n",
            " 1   Country                               181 non-null    object \n",
            " 2   Daily Oil Consumption (Barrels)       181 non-null    float64\n",
            " 3   World Share                           181 non-null    float64\n",
            " 4   Yearly Gallons Per Capita             181 non-null    float64\n",
            " 5   Price Per Gallon (USD)                181 non-null    float64\n",
            " 6   Price Per Liter (USD)                 181 non-null    float64\n",
            " 7   Price Per Liter (PKR)                 181 non-null    float64\n",
            " 8   GDP Per Capita ( USD )                181 non-null    float64\n",
            " 9   Gallons GDP Per Capita Can Buy        181 non-null    float64\n",
            " 10  xTimes Yearly Gallons Per Capita Buy  181 non-null    int64  \n",
            "dtypes: float64(8), int64(2), object(1)\n",
            "memory usage: 15.7+ KB\n"
          ]
        }
      ]
    },
    {
      "cell_type": "markdown",
      "source": [
        "# Descriptive Analyst"
      ],
      "metadata": {
        "id": "p7bM6xtwZrUi"
      }
    },
    {
      "cell_type": "markdown",
      "source": [
        "## Basic Statistic"
      ],
      "metadata": {
        "id": "hN4X6OuRZxTo"
      }
    },
    {
      "cell_type": "code",
      "source": [
        "petrol_world.describe()"
      ],
      "metadata": {
        "colab": {
          "base_uri": "https://localhost:8080/",
          "height": 451
        },
        "id": "EnLDUzbY1ZQs",
        "outputId": "88ff7ecd-fd1c-4fd5-b7e6-8b35489b6243"
      },
      "execution_count": null,
      "outputs": [
        {
          "output_type": "execute_result",
          "data": {
            "text/plain": [
              "               S#  Daily Oil Consumption (Barrels)  World Share  \\\n",
              "count  181.000000                     1.810000e+02   181.000000   \n",
              "mean    91.000000                     5.335730e+05     0.497238   \n",
              "std     52.394338                     1.858067e+06     1.922453   \n",
              "min      1.000000                     5.100000e+01     0.000000   \n",
              "25%     46.000000                     2.003600e+04     0.000000   \n",
              "50%     91.000000                     6.161200e+04     0.000000   \n",
              "75%    136.000000                     2.623520e+05     0.000000   \n",
              "max    181.000000                     1.968729e+07    20.000000   \n",
              "\n",
              "       Yearly Gallons Per Capita  Price Per Gallon (USD)  \\\n",
              "count                 181.000000              181.000000   \n",
              "mean                  332.006630                5.695691   \n",
              "std                   436.558735                4.370484   \n",
              "min                     2.200000                0.080000   \n",
              "25%                    53.900000                4.150000   \n",
              "50%                   180.200000                5.280000   \n",
              "75%                   424.600000                6.760000   \n",
              "max                  3679.500000               54.890000   \n",
              "\n",
              "       Price Per Liter (USD)  Price Per Liter (PKR)  GDP Per Capita ( USD )  \\\n",
              "count             181.000000             181.000000              181.000000   \n",
              "mean                1.505138             318.219227            15259.790055   \n",
              "std                 1.154575             244.192081            20542.231615   \n",
              "min                 0.020000               4.650000              274.000000   \n",
              "25%                 1.100000             232.020000             2033.000000   \n",
              "50%                 1.400000             295.040000             6127.000000   \n",
              "75%                 1.790000             377.740000            20234.000000   \n",
              "max                14.500000            3066.750000           115874.000000   \n",
              "\n",
              "       Gallons GDP Per Capita Can Buy  xTimes Yearly Gallons Per Capita Buy  \n",
              "count                      181.000000                            181.000000  \n",
              "mean                      4179.342541                             14.204420  \n",
              "std                      15436.362412                             48.613866  \n",
              "min                         24.000000                              1.000000  \n",
              "25%                        473.000000                              6.000000  \n",
              "50%                       1410.000000                              9.000000  \n",
              "75%                       4103.000000                             12.000000  \n",
              "max                     200700.000000                            654.000000  "
            ],
            "text/html": [
              "\n",
              "  <div id=\"df-88d8d4fc-6e2f-4fa6-a69c-e38b1a12825a\">\n",
              "    <div class=\"colab-df-container\">\n",
              "      <div>\n",
              "<style scoped>\n",
              "    .dataframe tbody tr th:only-of-type {\n",
              "        vertical-align: middle;\n",
              "    }\n",
              "\n",
              "    .dataframe tbody tr th {\n",
              "        vertical-align: top;\n",
              "    }\n",
              "\n",
              "    .dataframe thead th {\n",
              "        text-align: right;\n",
              "    }\n",
              "</style>\n",
              "<table border=\"1\" class=\"dataframe\">\n",
              "  <thead>\n",
              "    <tr style=\"text-align: right;\">\n",
              "      <th></th>\n",
              "      <th>S#</th>\n",
              "      <th>Daily Oil Consumption (Barrels)</th>\n",
              "      <th>World Share</th>\n",
              "      <th>Yearly Gallons Per Capita</th>\n",
              "      <th>Price Per Gallon (USD)</th>\n",
              "      <th>Price Per Liter (USD)</th>\n",
              "      <th>Price Per Liter (PKR)</th>\n",
              "      <th>GDP Per Capita ( USD )</th>\n",
              "      <th>Gallons GDP Per Capita Can Buy</th>\n",
              "      <th>xTimes Yearly Gallons Per Capita Buy</th>\n",
              "    </tr>\n",
              "  </thead>\n",
              "  <tbody>\n",
              "    <tr>\n",
              "      <th>count</th>\n",
              "      <td>181.000000</td>\n",
              "      <td>1.810000e+02</td>\n",
              "      <td>181.000000</td>\n",
              "      <td>181.000000</td>\n",
              "      <td>181.000000</td>\n",
              "      <td>181.000000</td>\n",
              "      <td>181.000000</td>\n",
              "      <td>181.000000</td>\n",
              "      <td>181.000000</td>\n",
              "      <td>181.000000</td>\n",
              "    </tr>\n",
              "    <tr>\n",
              "      <th>mean</th>\n",
              "      <td>91.000000</td>\n",
              "      <td>5.335730e+05</td>\n",
              "      <td>0.497238</td>\n",
              "      <td>332.006630</td>\n",
              "      <td>5.695691</td>\n",
              "      <td>1.505138</td>\n",
              "      <td>318.219227</td>\n",
              "      <td>15259.790055</td>\n",
              "      <td>4179.342541</td>\n",
              "      <td>14.204420</td>\n",
              "    </tr>\n",
              "    <tr>\n",
              "      <th>std</th>\n",
              "      <td>52.394338</td>\n",
              "      <td>1.858067e+06</td>\n",
              "      <td>1.922453</td>\n",
              "      <td>436.558735</td>\n",
              "      <td>4.370484</td>\n",
              "      <td>1.154575</td>\n",
              "      <td>244.192081</td>\n",
              "      <td>20542.231615</td>\n",
              "      <td>15436.362412</td>\n",
              "      <td>48.613866</td>\n",
              "    </tr>\n",
              "    <tr>\n",
              "      <th>min</th>\n",
              "      <td>1.000000</td>\n",
              "      <td>5.100000e+01</td>\n",
              "      <td>0.000000</td>\n",
              "      <td>2.200000</td>\n",
              "      <td>0.080000</td>\n",
              "      <td>0.020000</td>\n",
              "      <td>4.650000</td>\n",
              "      <td>274.000000</td>\n",
              "      <td>24.000000</td>\n",
              "      <td>1.000000</td>\n",
              "    </tr>\n",
              "    <tr>\n",
              "      <th>25%</th>\n",
              "      <td>46.000000</td>\n",
              "      <td>2.003600e+04</td>\n",
              "      <td>0.000000</td>\n",
              "      <td>53.900000</td>\n",
              "      <td>4.150000</td>\n",
              "      <td>1.100000</td>\n",
              "      <td>232.020000</td>\n",
              "      <td>2033.000000</td>\n",
              "      <td>473.000000</td>\n",
              "      <td>6.000000</td>\n",
              "    </tr>\n",
              "    <tr>\n",
              "      <th>50%</th>\n",
              "      <td>91.000000</td>\n",
              "      <td>6.161200e+04</td>\n",
              "      <td>0.000000</td>\n",
              "      <td>180.200000</td>\n",
              "      <td>5.280000</td>\n",
              "      <td>1.400000</td>\n",
              "      <td>295.040000</td>\n",
              "      <td>6127.000000</td>\n",
              "      <td>1410.000000</td>\n",
              "      <td>9.000000</td>\n",
              "    </tr>\n",
              "    <tr>\n",
              "      <th>75%</th>\n",
              "      <td>136.000000</td>\n",
              "      <td>2.623520e+05</td>\n",
              "      <td>0.000000</td>\n",
              "      <td>424.600000</td>\n",
              "      <td>6.760000</td>\n",
              "      <td>1.790000</td>\n",
              "      <td>377.740000</td>\n",
              "      <td>20234.000000</td>\n",
              "      <td>4103.000000</td>\n",
              "      <td>12.000000</td>\n",
              "    </tr>\n",
              "    <tr>\n",
              "      <th>max</th>\n",
              "      <td>181.000000</td>\n",
              "      <td>1.968729e+07</td>\n",
              "      <td>20.000000</td>\n",
              "      <td>3679.500000</td>\n",
              "      <td>54.890000</td>\n",
              "      <td>14.500000</td>\n",
              "      <td>3066.750000</td>\n",
              "      <td>115874.000000</td>\n",
              "      <td>200700.000000</td>\n",
              "      <td>654.000000</td>\n",
              "    </tr>\n",
              "  </tbody>\n",
              "</table>\n",
              "</div>\n",
              "      <button class=\"colab-df-convert\" onclick=\"convertToInteractive('df-88d8d4fc-6e2f-4fa6-a69c-e38b1a12825a')\"\n",
              "              title=\"Convert this dataframe to an interactive table.\"\n",
              "              style=\"display:none;\">\n",
              "        \n",
              "  <svg xmlns=\"http://www.w3.org/2000/svg\" height=\"24px\"viewBox=\"0 0 24 24\"\n",
              "       width=\"24px\">\n",
              "    <path d=\"M0 0h24v24H0V0z\" fill=\"none\"/>\n",
              "    <path d=\"M18.56 5.44l.94 2.06.94-2.06 2.06-.94-2.06-.94-.94-2.06-.94 2.06-2.06.94zm-11 1L8.5 8.5l.94-2.06 2.06-.94-2.06-.94L8.5 2.5l-.94 2.06-2.06.94zm10 10l.94 2.06.94-2.06 2.06-.94-2.06-.94-.94-2.06-.94 2.06-2.06.94z\"/><path d=\"M17.41 7.96l-1.37-1.37c-.4-.4-.92-.59-1.43-.59-.52 0-1.04.2-1.43.59L10.3 9.45l-7.72 7.72c-.78.78-.78 2.05 0 2.83L4 21.41c.39.39.9.59 1.41.59.51 0 1.02-.2 1.41-.59l7.78-7.78 2.81-2.81c.8-.78.8-2.07 0-2.86zM5.41 20L4 18.59l7.72-7.72 1.47 1.35L5.41 20z\"/>\n",
              "  </svg>\n",
              "      </button>\n",
              "      \n",
              "  <style>\n",
              "    .colab-df-container {\n",
              "      display:flex;\n",
              "      flex-wrap:wrap;\n",
              "      gap: 12px;\n",
              "    }\n",
              "\n",
              "    .colab-df-convert {\n",
              "      background-color: #E8F0FE;\n",
              "      border: none;\n",
              "      border-radius: 50%;\n",
              "      cursor: pointer;\n",
              "      display: none;\n",
              "      fill: #1967D2;\n",
              "      height: 32px;\n",
              "      padding: 0 0 0 0;\n",
              "      width: 32px;\n",
              "    }\n",
              "\n",
              "    .colab-df-convert:hover {\n",
              "      background-color: #E2EBFA;\n",
              "      box-shadow: 0px 1px 2px rgba(60, 64, 67, 0.3), 0px 1px 3px 1px rgba(60, 64, 67, 0.15);\n",
              "      fill: #174EA6;\n",
              "    }\n",
              "\n",
              "    [theme=dark] .colab-df-convert {\n",
              "      background-color: #3B4455;\n",
              "      fill: #D2E3FC;\n",
              "    }\n",
              "\n",
              "    [theme=dark] .colab-df-convert:hover {\n",
              "      background-color: #434B5C;\n",
              "      box-shadow: 0px 1px 3px 1px rgba(0, 0, 0, 0.15);\n",
              "      filter: drop-shadow(0px 1px 2px rgba(0, 0, 0, 0.3));\n",
              "      fill: #FFFFFF;\n",
              "    }\n",
              "  </style>\n",
              "\n",
              "      <script>\n",
              "        const buttonEl =\n",
              "          document.querySelector('#df-88d8d4fc-6e2f-4fa6-a69c-e38b1a12825a button.colab-df-convert');\n",
              "        buttonEl.style.display =\n",
              "          google.colab.kernel.accessAllowed ? 'block' : 'none';\n",
              "\n",
              "        async function convertToInteractive(key) {\n",
              "          const element = document.querySelector('#df-88d8d4fc-6e2f-4fa6-a69c-e38b1a12825a');\n",
              "          const dataTable =\n",
              "            await google.colab.kernel.invokeFunction('convertToInteractive',\n",
              "                                                     [key], {});\n",
              "          if (!dataTable) return;\n",
              "\n",
              "          const docLinkHtml = 'Like what you see? Visit the ' +\n",
              "            '<a target=\"_blank\" href=https://colab.research.google.com/notebooks/data_table.ipynb>data table notebook</a>'\n",
              "            + ' to learn more about interactive tables.';\n",
              "          element.innerHTML = '';\n",
              "          dataTable['output_type'] = 'display_data';\n",
              "          await google.colab.output.renderOutput(dataTable, element);\n",
              "          const docLink = document.createElement('div');\n",
              "          docLink.innerHTML = docLinkHtml;\n",
              "          element.appendChild(docLink);\n",
              "        }\n",
              "      </script>\n",
              "    </div>\n",
              "  </div>\n",
              "  "
            ]
          },
          "metadata": {},
          "execution_count": 32
        }
      ]
    },
    {
      "cell_type": "markdown",
      "source": [
        "## Top 10 Yearly Oil Budget"
      ],
      "metadata": {
        "id": "pRVutvWi1o7v"
      }
    },
    {
      "cell_type": "code",
      "source": [
        "petrol_world['Yearly Oil Budget (USD)'] = petrol_world['Daily Oil Consumption (Barrels)']*365 * petrol_world['Price Per Gallon (USD)']"
      ],
      "metadata": {
        "id": "Xe5CpnB4kdlv"
      },
      "execution_count": 26,
      "outputs": []
    },
    {
      "cell_type": "code",
      "source": [
        "YOB = petrol_world.sort_values('Yearly Oil Budget (USD)',ascending = False)\n",
        "YOB"
      ],
      "metadata": {
        "colab": {
          "base_uri": "https://localhost:8080/",
          "height": 624
        },
        "id": "fUzSOWPO0f7b",
        "outputId": "6d3d2eb6-7613-4271-a826-6ba9c7ecf3e5"
      },
      "execution_count": 41,
      "outputs": [
        {
          "output_type": "execute_result",
          "data": {
            "text/plain": [
              "      S#                 Country  Daily Oil Consumption (Barrels)  \\\n",
              "0      1           United States                       19687287.0   \n",
              "1      2                   China                       12791553.0   \n",
              "2      3                   India                        4443000.0   \n",
              "3      4                   Japan                        4012877.0   \n",
              "9     10                 Germany                        2383393.0   \n",
              "..   ...                     ...                              ...   \n",
              "165  166  British Virgin Islands                           1240.0   \n",
              "179  180              Montserrat                            400.0   \n",
              "171  172                Kiribati                            400.0   \n",
              "177  178                    Niue                             51.0   \n",
              "170  171            Saint Helena                             70.0   \n",
              "\n",
              "     World Share  Yearly Gallons Per Capita  Price Per Gallon (USD)  \\\n",
              "0           20.0                      934.3                    5.19   \n",
              "1           13.0                      138.7                    5.42   \n",
              "2            5.0                       51.4                    5.05   \n",
              "3            4.0                      481.5                    4.69   \n",
              "9            3.0                      444.5                    7.65   \n",
              "..           ...                        ...                     ...   \n",
              "165          0.0                      647.6                    3.60   \n",
              "179          0.0                     1231.1                    4.57   \n",
              "171          0.0                       54.5                    4.09   \n",
              "177          0.0                      484.4                   11.43   \n",
              "170          0.0                      180.2                    5.53   \n",
              "\n",
              "     Price Per Liter (USD)  Price Per Liter (PKR)  GDP Per Capita ( USD )  \\\n",
              "0                     1.37                 289.97                 63414.0   \n",
              "1                     1.43                 302.87                 10435.0   \n",
              "2                     1.33                 281.93                  1901.0   \n",
              "3                     1.24                 262.05                 40193.0   \n",
              "9                     2.02                 427.44                 46208.0   \n",
              "..                     ...                    ...                     ...   \n",
              "165                   0.95                 200.93                 34246.0   \n",
              "179                   1.21                 255.07                 12589.0   \n",
              "171                   1.08                 228.42                  1671.0   \n",
              "177                   3.02                 638.73                 15586.0   \n",
              "170                   1.46                 309.21                  7800.0   \n",
              "\n",
              "     Gallons GDP Per Capita Can Buy  xTimes Yearly Gallons Per Capita Buy  \\\n",
              "0                           12218.0                                    13   \n",
              "1                            1925.0                                    14   \n",
              "2                             376.0                                     7   \n",
              "3                            8570.0                                    18   \n",
              "9                            6040.0                                    14   \n",
              "..                              ...                                   ...   \n",
              "165                          9513.0                                    15   \n",
              "179                          2755.0                                     2   \n",
              "171                           409.0                                     7   \n",
              "177                          1364.0                                     3   \n",
              "170                          1410.0                                     8   \n",
              "\n",
              "     Yearly Oil Budget (USD)  \n",
              "0               3.729461e+10  \n",
              "1               2.530553e+10  \n",
              "2               8.189560e+09  \n",
              "3               6.869443e+09  \n",
              "9               6.655029e+09  \n",
              "..                       ...  \n",
              "165             1.629360e+06  \n",
              "179             6.672200e+05  \n",
              "171             5.971400e+05  \n",
              "177             2.127694e+05  \n",
              "170             1.412915e+05  \n",
              "\n",
              "[181 rows x 12 columns]"
            ],
            "text/html": [
              "\n",
              "  <div id=\"df-a9f10956-3c31-453f-bea1-de7d7560678c\">\n",
              "    <div class=\"colab-df-container\">\n",
              "      <div>\n",
              "<style scoped>\n",
              "    .dataframe tbody tr th:only-of-type {\n",
              "        vertical-align: middle;\n",
              "    }\n",
              "\n",
              "    .dataframe tbody tr th {\n",
              "        vertical-align: top;\n",
              "    }\n",
              "\n",
              "    .dataframe thead th {\n",
              "        text-align: right;\n",
              "    }\n",
              "</style>\n",
              "<table border=\"1\" class=\"dataframe\">\n",
              "  <thead>\n",
              "    <tr style=\"text-align: right;\">\n",
              "      <th></th>\n",
              "      <th>S#</th>\n",
              "      <th>Country</th>\n",
              "      <th>Daily Oil Consumption (Barrels)</th>\n",
              "      <th>World Share</th>\n",
              "      <th>Yearly Gallons Per Capita</th>\n",
              "      <th>Price Per Gallon (USD)</th>\n",
              "      <th>Price Per Liter (USD)</th>\n",
              "      <th>Price Per Liter (PKR)</th>\n",
              "      <th>GDP Per Capita ( USD )</th>\n",
              "      <th>Gallons GDP Per Capita Can Buy</th>\n",
              "      <th>xTimes Yearly Gallons Per Capita Buy</th>\n",
              "      <th>Yearly Oil Budget (USD)</th>\n",
              "    </tr>\n",
              "  </thead>\n",
              "  <tbody>\n",
              "    <tr>\n",
              "      <th>0</th>\n",
              "      <td>1</td>\n",
              "      <td>United States</td>\n",
              "      <td>19687287.0</td>\n",
              "      <td>20.0</td>\n",
              "      <td>934.3</td>\n",
              "      <td>5.19</td>\n",
              "      <td>1.37</td>\n",
              "      <td>289.97</td>\n",
              "      <td>63414.0</td>\n",
              "      <td>12218.0</td>\n",
              "      <td>13</td>\n",
              "      <td>3.729461e+10</td>\n",
              "    </tr>\n",
              "    <tr>\n",
              "      <th>1</th>\n",
              "      <td>2</td>\n",
              "      <td>China</td>\n",
              "      <td>12791553.0</td>\n",
              "      <td>13.0</td>\n",
              "      <td>138.7</td>\n",
              "      <td>5.42</td>\n",
              "      <td>1.43</td>\n",
              "      <td>302.87</td>\n",
              "      <td>10435.0</td>\n",
              "      <td>1925.0</td>\n",
              "      <td>14</td>\n",
              "      <td>2.530553e+10</td>\n",
              "    </tr>\n",
              "    <tr>\n",
              "      <th>2</th>\n",
              "      <td>3</td>\n",
              "      <td>India</td>\n",
              "      <td>4443000.0</td>\n",
              "      <td>5.0</td>\n",
              "      <td>51.4</td>\n",
              "      <td>5.05</td>\n",
              "      <td>1.33</td>\n",
              "      <td>281.93</td>\n",
              "      <td>1901.0</td>\n",
              "      <td>376.0</td>\n",
              "      <td>7</td>\n",
              "      <td>8.189560e+09</td>\n",
              "    </tr>\n",
              "    <tr>\n",
              "      <th>3</th>\n",
              "      <td>4</td>\n",
              "      <td>Japan</td>\n",
              "      <td>4012877.0</td>\n",
              "      <td>4.0</td>\n",
              "      <td>481.5</td>\n",
              "      <td>4.69</td>\n",
              "      <td>1.24</td>\n",
              "      <td>262.05</td>\n",
              "      <td>40193.0</td>\n",
              "      <td>8570.0</td>\n",
              "      <td>18</td>\n",
              "      <td>6.869443e+09</td>\n",
              "    </tr>\n",
              "    <tr>\n",
              "      <th>9</th>\n",
              "      <td>10</td>\n",
              "      <td>Germany</td>\n",
              "      <td>2383393.0</td>\n",
              "      <td>3.0</td>\n",
              "      <td>444.5</td>\n",
              "      <td>7.65</td>\n",
              "      <td>2.02</td>\n",
              "      <td>427.44</td>\n",
              "      <td>46208.0</td>\n",
              "      <td>6040.0</td>\n",
              "      <td>14</td>\n",
              "      <td>6.655029e+09</td>\n",
              "    </tr>\n",
              "    <tr>\n",
              "      <th>...</th>\n",
              "      <td>...</td>\n",
              "      <td>...</td>\n",
              "      <td>...</td>\n",
              "      <td>...</td>\n",
              "      <td>...</td>\n",
              "      <td>...</td>\n",
              "      <td>...</td>\n",
              "      <td>...</td>\n",
              "      <td>...</td>\n",
              "      <td>...</td>\n",
              "      <td>...</td>\n",
              "      <td>...</td>\n",
              "    </tr>\n",
              "    <tr>\n",
              "      <th>165</th>\n",
              "      <td>166</td>\n",
              "      <td>British Virgin Islands</td>\n",
              "      <td>1240.0</td>\n",
              "      <td>0.0</td>\n",
              "      <td>647.6</td>\n",
              "      <td>3.60</td>\n",
              "      <td>0.95</td>\n",
              "      <td>200.93</td>\n",
              "      <td>34246.0</td>\n",
              "      <td>9513.0</td>\n",
              "      <td>15</td>\n",
              "      <td>1.629360e+06</td>\n",
              "    </tr>\n",
              "    <tr>\n",
              "      <th>179</th>\n",
              "      <td>180</td>\n",
              "      <td>Montserrat</td>\n",
              "      <td>400.0</td>\n",
              "      <td>0.0</td>\n",
              "      <td>1231.1</td>\n",
              "      <td>4.57</td>\n",
              "      <td>1.21</td>\n",
              "      <td>255.07</td>\n",
              "      <td>12589.0</td>\n",
              "      <td>2755.0</td>\n",
              "      <td>2</td>\n",
              "      <td>6.672200e+05</td>\n",
              "    </tr>\n",
              "    <tr>\n",
              "      <th>171</th>\n",
              "      <td>172</td>\n",
              "      <td>Kiribati</td>\n",
              "      <td>400.0</td>\n",
              "      <td>0.0</td>\n",
              "      <td>54.5</td>\n",
              "      <td>4.09</td>\n",
              "      <td>1.08</td>\n",
              "      <td>228.42</td>\n",
              "      <td>1671.0</td>\n",
              "      <td>409.0</td>\n",
              "      <td>7</td>\n",
              "      <td>5.971400e+05</td>\n",
              "    </tr>\n",
              "    <tr>\n",
              "      <th>177</th>\n",
              "      <td>178</td>\n",
              "      <td>Niue</td>\n",
              "      <td>51.0</td>\n",
              "      <td>0.0</td>\n",
              "      <td>484.4</td>\n",
              "      <td>11.43</td>\n",
              "      <td>3.02</td>\n",
              "      <td>638.73</td>\n",
              "      <td>15586.0</td>\n",
              "      <td>1364.0</td>\n",
              "      <td>3</td>\n",
              "      <td>2.127694e+05</td>\n",
              "    </tr>\n",
              "    <tr>\n",
              "      <th>170</th>\n",
              "      <td>171</td>\n",
              "      <td>Saint Helena</td>\n",
              "      <td>70.0</td>\n",
              "      <td>0.0</td>\n",
              "      <td>180.2</td>\n",
              "      <td>5.53</td>\n",
              "      <td>1.46</td>\n",
              "      <td>309.21</td>\n",
              "      <td>7800.0</td>\n",
              "      <td>1410.0</td>\n",
              "      <td>8</td>\n",
              "      <td>1.412915e+05</td>\n",
              "    </tr>\n",
              "  </tbody>\n",
              "</table>\n",
              "<p>181 rows × 12 columns</p>\n",
              "</div>\n",
              "      <button class=\"colab-df-convert\" onclick=\"convertToInteractive('df-a9f10956-3c31-453f-bea1-de7d7560678c')\"\n",
              "              title=\"Convert this dataframe to an interactive table.\"\n",
              "              style=\"display:none;\">\n",
              "        \n",
              "  <svg xmlns=\"http://www.w3.org/2000/svg\" height=\"24px\"viewBox=\"0 0 24 24\"\n",
              "       width=\"24px\">\n",
              "    <path d=\"M0 0h24v24H0V0z\" fill=\"none\"/>\n",
              "    <path d=\"M18.56 5.44l.94 2.06.94-2.06 2.06-.94-2.06-.94-.94-2.06-.94 2.06-2.06.94zm-11 1L8.5 8.5l.94-2.06 2.06-.94-2.06-.94L8.5 2.5l-.94 2.06-2.06.94zm10 10l.94 2.06.94-2.06 2.06-.94-2.06-.94-.94-2.06-.94 2.06-2.06.94z\"/><path d=\"M17.41 7.96l-1.37-1.37c-.4-.4-.92-.59-1.43-.59-.52 0-1.04.2-1.43.59L10.3 9.45l-7.72 7.72c-.78.78-.78 2.05 0 2.83L4 21.41c.39.39.9.59 1.41.59.51 0 1.02-.2 1.41-.59l7.78-7.78 2.81-2.81c.8-.78.8-2.07 0-2.86zM5.41 20L4 18.59l7.72-7.72 1.47 1.35L5.41 20z\"/>\n",
              "  </svg>\n",
              "      </button>\n",
              "      \n",
              "  <style>\n",
              "    .colab-df-container {\n",
              "      display:flex;\n",
              "      flex-wrap:wrap;\n",
              "      gap: 12px;\n",
              "    }\n",
              "\n",
              "    .colab-df-convert {\n",
              "      background-color: #E8F0FE;\n",
              "      border: none;\n",
              "      border-radius: 50%;\n",
              "      cursor: pointer;\n",
              "      display: none;\n",
              "      fill: #1967D2;\n",
              "      height: 32px;\n",
              "      padding: 0 0 0 0;\n",
              "      width: 32px;\n",
              "    }\n",
              "\n",
              "    .colab-df-convert:hover {\n",
              "      background-color: #E2EBFA;\n",
              "      box-shadow: 0px 1px 2px rgba(60, 64, 67, 0.3), 0px 1px 3px 1px rgba(60, 64, 67, 0.15);\n",
              "      fill: #174EA6;\n",
              "    }\n",
              "\n",
              "    [theme=dark] .colab-df-convert {\n",
              "      background-color: #3B4455;\n",
              "      fill: #D2E3FC;\n",
              "    }\n",
              "\n",
              "    [theme=dark] .colab-df-convert:hover {\n",
              "      background-color: #434B5C;\n",
              "      box-shadow: 0px 1px 3px 1px rgba(0, 0, 0, 0.15);\n",
              "      filter: drop-shadow(0px 1px 2px rgba(0, 0, 0, 0.3));\n",
              "      fill: #FFFFFF;\n",
              "    }\n",
              "  </style>\n",
              "\n",
              "      <script>\n",
              "        const buttonEl =\n",
              "          document.querySelector('#df-a9f10956-3c31-453f-bea1-de7d7560678c button.colab-df-convert');\n",
              "        buttonEl.style.display =\n",
              "          google.colab.kernel.accessAllowed ? 'block' : 'none';\n",
              "\n",
              "        async function convertToInteractive(key) {\n",
              "          const element = document.querySelector('#df-a9f10956-3c31-453f-bea1-de7d7560678c');\n",
              "          const dataTable =\n",
              "            await google.colab.kernel.invokeFunction('convertToInteractive',\n",
              "                                                     [key], {});\n",
              "          if (!dataTable) return;\n",
              "\n",
              "          const docLinkHtml = 'Like what you see? Visit the ' +\n",
              "            '<a target=\"_blank\" href=https://colab.research.google.com/notebooks/data_table.ipynb>data table notebook</a>'\n",
              "            + ' to learn more about interactive tables.';\n",
              "          element.innerHTML = '';\n",
              "          dataTable['output_type'] = 'display_data';\n",
              "          await google.colab.output.renderOutput(dataTable, element);\n",
              "          const docLink = document.createElement('div');\n",
              "          docLink.innerHTML = docLinkHtml;\n",
              "          element.appendChild(docLink);\n",
              "        }\n",
              "      </script>\n",
              "    </div>\n",
              "  </div>\n",
              "  "
            ]
          },
          "metadata": {},
          "execution_count": 41
        }
      ]
    },
    {
      "cell_type": "code",
      "source": [
        "YOB = petrol_world.sort_values('Yearly Oil Budget (USD)',ascending = False)\n",
        "fig = px.bar(YOB, x= 'Country', y = 'Yearly Oil Budget (USD)', color = \"Country\", title = 'Yearly Oil Budget (USD)', hover_data = ['GDP Per Capita ( USD )', 'Gallons GDP Per Capita Can Buy'])\n",
        "fig.update_traces(textfont_size=12, textangle=0, textposition=\"outside\", cliponaxis=False)\n",
        "fig.update_layout(\n",
        "    height = 800,\n",
        "    width=1600\n",
        ")\n",
        "fig.show()"
      ],
      "metadata": {
        "colab": {
          "base_uri": "https://localhost:8080/",
          "height": 837
        },
        "id": "dBJrQrSb0Hro",
        "outputId": "d4a4f689-bf36-486b-a5ba-f2acbc3cd068"
      },
      "execution_count": 46,
      "outputs": [
        {
          "output_type": "display_data",
          "data": {
            "text/html": [
              "<html>\n",
              "<head><meta charset=\"utf-8\" /></head>\n",
              "<body>\n",
              "    <div>            <script src=\"https://cdnjs.cloudflare.com/ajax/libs/mathjax/2.7.5/MathJax.js?config=TeX-AMS-MML_SVG\"></script><script type=\"text/javascript\">if (window.MathJax) {MathJax.Hub.Config({SVG: {font: \"STIX-Web\"}});}</script>                <script type=\"text/javascript\">window.PlotlyConfig = {MathJaxConfig: 'local'};</script>\n",
              "        <script src=\"https://cdn.plot.ly/plotly-2.8.3.min.js\"></script>                <div id=\"bfe8966f-620e-46b3-b15d-c02a4c1b083e\" class=\"plotly-graph-div\" style=\"height:800px; width:1600px;\"></div>            <script type=\"text/javascript\">                                    window.PLOTLYENV=window.PLOTLYENV || {};                                    if (document.getElementById(\"bfe8966f-620e-46b3-b15d-c02a4c1b083e\")) {                    Plotly.newPlot(                        \"bfe8966f-620e-46b3-b15d-c02a4c1b083e\",                        [{\"alignmentgroup\":\"True\",\"customdata\":[[63414.0,12218.0]],\"hovertemplate\":\"Country=%{x}<br>Yearly Oil Budget (USD)=%{y}<br>GDP Per Capita ( USD )=%{customdata[0]}<br>Gallons GDP Per Capita Can Buy=%{customdata[1]}<extra></extra>\",\"legendgroup\":\"United States\",\"marker\":{\"color\":\"#636efa\",\"pattern\":{\"shape\":\"\"}},\"name\":\"United States\",\"offsetgroup\":\"United States\",\"orientation\":\"v\",\"showlegend\":true,\"textposition\":\"outside\",\"x\":[\"United States\"],\"xaxis\":\"x\",\"y\":[37294612128.450005],\"yaxis\":\"y\",\"type\":\"bar\",\"textfont\":{\"size\":12},\"cliponaxis\":false,\"textangle\":0},{\"alignmentgroup\":\"True\",\"customdata\":[[10435.0,1925.0]],\"hovertemplate\":\"Country=%{x}<br>Yearly Oil Budget (USD)=%{y}<br>GDP Per Capita ( USD )=%{customdata[0]}<br>Gallons GDP Per Capita Can Buy=%{customdata[1]}<extra></extra>\",\"legendgroup\":\"China\",\"marker\":{\"color\":\"#EF553B\",\"pattern\":{\"shape\":\"\"}},\"name\":\"China\",\"offsetgroup\":\"China\",\"orientation\":\"v\",\"showlegend\":true,\"textposition\":\"outside\",\"x\":[\"China\"],\"xaxis\":\"x\",\"y\":[25305529299.9],\"yaxis\":\"y\",\"type\":\"bar\",\"textfont\":{\"size\":12},\"cliponaxis\":false,\"textangle\":0},{\"alignmentgroup\":\"True\",\"customdata\":[[1901.0,376.0]],\"hovertemplate\":\"Country=%{x}<br>Yearly Oil Budget (USD)=%{y}<br>GDP Per Capita ( USD )=%{customdata[0]}<br>Gallons GDP Per Capita Can Buy=%{customdata[1]}<extra></extra>\",\"legendgroup\":\"India\",\"marker\":{\"color\":\"#00cc96\",\"pattern\":{\"shape\":\"\"}},\"name\":\"India\",\"offsetgroup\":\"India\",\"orientation\":\"v\",\"showlegend\":true,\"textposition\":\"outside\",\"x\":[\"India\"],\"xaxis\":\"x\",\"y\":[8189559750.0],\"yaxis\":\"y\",\"type\":\"bar\",\"textfont\":{\"size\":12},\"cliponaxis\":false,\"textangle\":0},{\"alignmentgroup\":\"True\",\"customdata\":[[40193.0,8570.0]],\"hovertemplate\":\"Country=%{x}<br>Yearly Oil Budget (USD)=%{y}<br>GDP Per Capita ( USD )=%{customdata[0]}<br>Gallons GDP Per Capita Can Buy=%{customdata[1]}<extra></extra>\",\"legendgroup\":\"Japan\",\"marker\":{\"color\":\"#ab63fa\",\"pattern\":{\"shape\":\"\"}},\"name\":\"Japan\",\"offsetgroup\":\"Japan\",\"orientation\":\"v\",\"showlegend\":true,\"textposition\":\"outside\",\"x\":[\"Japan\"],\"xaxis\":\"x\",\"y\":[6869443492.450001],\"yaxis\":\"y\",\"type\":\"bar\",\"textfont\":{\"size\":12},\"cliponaxis\":false,\"textangle\":0},{\"alignmentgroup\":\"True\",\"customdata\":[[46208.0,6040.0]],\"hovertemplate\":\"Country=%{x}<br>Yearly Oil Budget (USD)=%{y}<br>GDP Per Capita ( USD )=%{customdata[0]}<br>Gallons GDP Per Capita Can Buy=%{customdata[1]}<extra></extra>\",\"legendgroup\":\"Germany\",\"marker\":{\"color\":\"#FFA15A\",\"pattern\":{\"shape\":\"\"}},\"name\":\"Germany\",\"offsetgroup\":\"Germany\",\"orientation\":\"v\",\"showlegend\":true,\"textposition\":\"outside\",\"x\":[\"Germany\"],\"xaxis\":\"x\",\"y\":[6655029104.25],\"yaxis\":\"y\",\"type\":\"bar\",\"textfont\":{\"size\":12},\"cliponaxis\":false,\"textangle\":0},{\"alignmentgroup\":\"True\",\"customdata\":[[43258.0,6399.0]],\"hovertemplate\":\"Country=%{x}<br>Yearly Oil Budget (USD)=%{y}<br>GDP Per Capita ( USD )=%{customdata[0]}<br>Gallons GDP Per Capita Can Buy=%{customdata[1]}<extra></extra>\",\"legendgroup\":\"Canada\",\"marker\":{\"color\":\"#19d3f3\",\"pattern\":{\"shape\":\"\"}},\"name\":\"Canada\",\"offsetgroup\":\"Canada\",\"orientation\":\"v\",\"showlegend\":true,\"textposition\":\"outside\",\"x\":[\"Canada\"],\"xaxis\":\"x\",\"y\":[6134699087.4],\"yaxis\":\"y\",\"type\":\"bar\",\"textfont\":{\"size\":12},\"cliponaxis\":false,\"textangle\":0},{\"alignmentgroup\":\"True\",\"customdata\":[[6797.0,1268.0]],\"hovertemplate\":\"Country=%{x}<br>Yearly Oil Budget (USD)=%{y}<br>GDP Per Capita ( USD )=%{customdata[0]}<br>Gallons GDP Per Capita Can Buy=%{customdata[1]}<extra></extra>\",\"legendgroup\":\"Brazil\",\"marker\":{\"color\":\"#FF6692\",\"pattern\":{\"shape\":\"\"}},\"name\":\"Brazil\",\"offsetgroup\":\"Brazil\",\"orientation\":\"v\",\"showlegend\":true,\"textposition\":\"outside\",\"x\":[\"Brazil\"],\"xaxis\":\"x\",\"y\":[5837897600.0],\"yaxis\":\"y\",\"type\":\"bar\",\"textfont\":{\"size\":12},\"cliponaxis\":false,\"textangle\":0},{\"alignmentgroup\":\"True\",\"customdata\":[[31632.0,5194.0]],\"hovertemplate\":\"Country=%{x}<br>Yearly Oil Budget (USD)=%{y}<br>GDP Per Capita ( USD )=%{customdata[0]}<br>Gallons GDP Per Capita Can Buy=%{customdata[1]}<extra></extra>\",\"legendgroup\":\"South Korea\",\"marker\":{\"color\":\"#B6E880\",\"pattern\":{\"shape\":\"\"}},\"name\":\"South Korea\",\"offsetgroup\":\"South Korea\",\"orientation\":\"v\",\"showlegend\":true,\"textposition\":\"outside\",\"x\":[\"South Korea\"],\"xaxis\":\"x\",\"y\":[5791502304.0],\"yaxis\":\"y\",\"type\":\"bar\",\"textfont\":{\"size\":12},\"cliponaxis\":false,\"textangle\":0},{\"alignmentgroup\":\"True\",\"customdata\":[[39030.0,4719.0]],\"hovertemplate\":\"Country=%{x}<br>Yearly Oil Budget (USD)=%{y}<br>GDP Per Capita ( USD )=%{customdata[0]}<br>Gallons GDP Per Capita Can Buy=%{customdata[1]}<extra></extra>\",\"legendgroup\":\"France\",\"marker\":{\"color\":\"#FF97FF\",\"pattern\":{\"shape\":\"\"}},\"name\":\"France\",\"offsetgroup\":\"France\",\"orientation\":\"v\",\"showlegend\":true,\"textposition\":\"outside\",\"x\":[\"France\"],\"xaxis\":\"x\",\"y\":[5148342286.4],\"yaxis\":\"y\",\"type\":\"bar\",\"textfont\":{\"size\":12},\"cliponaxis\":false,\"textangle\":0},{\"alignmentgroup\":\"True\",\"customdata\":[[41125.0,4908.0]],\"hovertemplate\":\"Country=%{x}<br>Yearly Oil Budget (USD)=%{y}<br>GDP Per Capita ( USD )=%{customdata[0]}<br>Gallons GDP Per Capita Can Buy=%{customdata[1]}<extra></extra>\",\"legendgroup\":\"United Kingdom\",\"marker\":{\"color\":\"#FECB52\",\"pattern\":{\"shape\":\"\"}},\"name\":\"United Kingdom\",\"offsetgroup\":\"United Kingdom\",\"orientation\":\"v\",\"showlegend\":true,\"textposition\":\"outside\",\"x\":[\"United Kingdom\"],\"xaxis\":\"x\",\"y\":[4844662695.200001],\"yaxis\":\"y\",\"type\":\"bar\",\"textfont\":{\"size\":12},\"cliponaxis\":false,\"textangle\":0},{\"alignmentgroup\":\"True\",\"customdata\":[[10127.0,2970.0]],\"hovertemplate\":\"Country=%{x}<br>Yearly Oil Budget (USD)=%{y}<br>GDP Per Capita ( USD )=%{customdata[0]}<br>Gallons GDP Per Capita Can Buy=%{customdata[1]}<extra></extra>\",\"legendgroup\":\"Russia\",\"marker\":{\"color\":\"#636efa\",\"pattern\":{\"shape\":\"\"}},\"name\":\"Russia\",\"offsetgroup\":\"Russia\",\"orientation\":\"v\",\"showlegend\":true,\"textposition\":\"outside\",\"x\":[\"Russia\"],\"xaxis\":\"x\",\"y\":[4519681364.55],\"yaxis\":\"y\",\"type\":\"bar\",\"textfont\":{\"size\":12},\"cliponaxis\":false,\"textangle\":0},{\"alignmentgroup\":\"True\",\"customdata\":[[59798.0,6865.0]],\"hovertemplate\":\"Country=%{x}<br>Yearly Oil Budget (USD)=%{y}<br>GDP Per Capita ( USD )=%{customdata[0]}<br>Gallons GDP Per Capita Can Buy=%{customdata[1]}<extra></extra>\",\"legendgroup\":\"Singapore\",\"marker\":{\"color\":\"#EF553B\",\"pattern\":{\"shape\":\"\"}},\"name\":\"Singapore\",\"offsetgroup\":\"Singapore\",\"orientation\":\"v\",\"showlegend\":true,\"textposition\":\"outside\",\"x\":[\"Singapore\"],\"xaxis\":\"x\",\"y\":[4314106550.0],\"yaxis\":\"y\",\"type\":\"bar\",\"textfont\":{\"size\":12},\"cliponaxis\":false,\"textangle\":0},{\"alignmentgroup\":\"True\",\"customdata\":[[27063.0,3241.0]],\"hovertemplate\":\"Country=%{x}<br>Yearly Oil Budget (USD)=%{y}<br>GDP Per Capita ( USD )=%{customdata[0]}<br>Gallons GDP Per Capita Can Buy=%{customdata[1]}<extra></extra>\",\"legendgroup\":\"Spain\",\"marker\":{\"color\":\"#00cc96\",\"pattern\":{\"shape\":\"\"}},\"name\":\"Spain\",\"offsetgroup\":\"Spain\",\"orientation\":\"v\",\"showlegend\":true,\"textposition\":\"outside\",\"x\":[\"Spain\"],\"xaxis\":\"x\",\"y\":[3931789508.25],\"yaxis\":\"y\",\"type\":\"bar\",\"textfont\":{\"size\":12},\"cliponaxis\":false,\"textangle\":0},{\"alignmentgroup\":\"True\",\"customdata\":[[31714.0,3959.0]],\"hovertemplate\":\"Country=%{x}<br>Yearly Oil Budget (USD)=%{y}<br>GDP Per Capita ( USD )=%{customdata[0]}<br>Gallons GDP Per Capita Can Buy=%{customdata[1]}<extra></extra>\",\"legendgroup\":\"Italy\",\"marker\":{\"color\":\"#ab63fa\",\"pattern\":{\"shape\":\"\"}},\"name\":\"Italy\",\"offsetgroup\":\"Italy\",\"orientation\":\"v\",\"showlegend\":true,\"textposition\":\"outside\",\"x\":[\"Italy\"],\"xaxis\":\"x\",\"y\":[3615467452.2],\"yaxis\":\"y\",\"type\":\"bar\",\"textfont\":{\"size\":12},\"cliponaxis\":false,\"textangle\":0},{\"alignmentgroup\":\"True\",\"customdata\":[[8329.0,1910.0]],\"hovertemplate\":\"Country=%{x}<br>Yearly Oil Budget (USD)=%{y}<br>GDP Per Capita ( USD )=%{customdata[0]}<br>Gallons GDP Per Capita Can Buy=%{customdata[1]}<extra></extra>\",\"legendgroup\":\"Mexico\",\"marker\":{\"color\":\"#FFA15A\",\"pattern\":{\"shape\":\"\"}},\"name\":\"Mexico\",\"offsetgroup\":\"Mexico\",\"orientation\":\"v\",\"showlegend\":true,\"textposition\":\"outside\",\"x\":[\"Mexico\"],\"xaxis\":\"x\",\"y\":[3266518779.8],\"yaxis\":\"y\",\"type\":\"bar\",\"textfont\":{\"size\":12},\"cliponaxis\":false,\"textangle\":0},{\"alignmentgroup\":\"True\",\"customdata\":[[52397.0,5616.0]],\"hovertemplate\":\"Country=%{x}<br>Yearly Oil Budget (USD)=%{y}<br>GDP Per Capita ( USD )=%{customdata[0]}<br>Gallons GDP Per Capita Can Buy=%{customdata[1]}<extra></extra>\",\"legendgroup\":\"Netherlands\",\"marker\":{\"color\":\"#19d3f3\",\"pattern\":{\"shape\":\"\"}},\"name\":\"Netherlands\",\"offsetgroup\":\"Netherlands\",\"orientation\":\"v\",\"showlegend\":true,\"textposition\":\"outside\",\"x\":[\"Netherlands\"],\"xaxis\":\"x\",\"y\":[3191240384.1],\"yaxis\":\"y\",\"type\":\"bar\",\"textfont\":{\"size\":12},\"cliponaxis\":false,\"textangle\":0},{\"alignmentgroup\":\"True\",\"customdata\":[[20110.0,8557.0]],\"hovertemplate\":\"Country=%{x}<br>Yearly Oil Budget (USD)=%{y}<br>GDP Per Capita ( USD )=%{customdata[0]}<br>Gallons GDP Per Capita Can Buy=%{customdata[1]}<extra></extra>\",\"legendgroup\":\"Saudi Arabia\",\"marker\":{\"color\":\"#FF6692\",\"pattern\":{\"shape\":\"\"}},\"name\":\"Saudi Arabia\",\"offsetgroup\":\"Saudi Arabia\",\"orientation\":\"v\",\"showlegend\":true,\"textposition\":\"outside\",\"x\":[\"Saudi Arabia\"],\"xaxis\":\"x\",\"y\":[2832290500.0],\"yaxis\":\"y\",\"type\":\"bar\",\"textfont\":{\"size\":12},\"cliponaxis\":false,\"textangle\":0},{\"alignmentgroup\":\"True\",\"customdata\":[[7189.0,1261.0]],\"hovertemplate\":\"Country=%{x}<br>Yearly Oil Budget (USD)=%{y}<br>GDP Per Capita ( USD )=%{customdata[0]}<br>Gallons GDP Per Capita Can Buy=%{customdata[1]}<extra></extra>\",\"legendgroup\":\"Thailand\",\"marker\":{\"color\":\"#B6E880\",\"pattern\":{\"shape\":\"\"}},\"name\":\"Thailand\",\"offsetgroup\":\"Thailand\",\"orientation\":\"v\",\"showlegend\":true,\"textposition\":\"outside\",\"x\":[\"Thailand\"],\"xaxis\":\"x\",\"y\":[2708811000.0],\"yaxis\":\"y\",\"type\":\"bar\",\"textfont\":{\"size\":12},\"cliponaxis\":false,\"textangle\":0},{\"alignmentgroup\":\"True\",\"customdata\":[[3870.0,864.0]],\"hovertemplate\":\"Country=%{x}<br>Yearly Oil Budget (USD)=%{y}<br>GDP Per Capita ( USD )=%{customdata[0]}<br>Gallons GDP Per Capita Can Buy=%{customdata[1]}<extra></extra>\",\"legendgroup\":\"Indonesia\",\"marker\":{\"color\":\"#FF97FF\",\"pattern\":{\"shape\":\"\"}},\"name\":\"Indonesia\",\"offsetgroup\":\"Indonesia\",\"orientation\":\"v\",\"showlegend\":true,\"textposition\":\"outside\",\"x\":[\"Indonesia\"],\"xaxis\":\"x\",\"y\":[2653929600.0000005],\"yaxis\":\"y\",\"type\":\"bar\",\"textfont\":{\"size\":12},\"cliponaxis\":false,\"textangle\":0},{\"alignmentgroup\":\"True\",\"customdata\":[[51693.0,9903.0]],\"hovertemplate\":\"Country=%{x}<br>Yearly Oil Budget (USD)=%{y}<br>GDP Per Capita ( USD )=%{customdata[0]}<br>Gallons GDP Per Capita Can Buy=%{customdata[1]}<extra></extra>\",\"legendgroup\":\"Australia\",\"marker\":{\"color\":\"#FECB52\",\"pattern\":{\"shape\":\"\"}},\"name\":\"Australia\",\"offsetgroup\":\"Australia\",\"orientation\":\"v\",\"showlegend\":true,\"textposition\":\"outside\",\"x\":[\"Australia\"],\"xaxis\":\"x\",\"y\":[2123733118.5],\"yaxis\":\"y\",\"type\":\"bar\",\"textfont\":{\"size\":12},\"cliponaxis\":false,\"textangle\":0},{\"alignmentgroup\":\"True\",\"customdata\":[[8536.0,1409.0]],\"hovertemplate\":\"Country=%{x}<br>Yearly Oil Budget (USD)=%{y}<br>GDP Per Capita ( USD )=%{customdata[0]}<br>Gallons GDP Per Capita Can Buy=%{customdata[1]}<extra></extra>\",\"legendgroup\":\"Turkey\",\"marker\":{\"color\":\"#636efa\",\"pattern\":{\"shape\":\"\"}},\"name\":\"Turkey\",\"offsetgroup\":\"Turkey\",\"orientation\":\"v\",\"showlegend\":true,\"textposition\":\"outside\",\"x\":[\"Turkey\"],\"xaxis\":\"x\",\"y\":[2083302345.8999999],\"yaxis\":\"y\",\"type\":\"bar\",\"textfont\":{\"size\":12},\"cliponaxis\":false,\"textangle\":0},{\"alignmentgroup\":\"True\",\"customdata\":[[45159.0,5402.0]],\"hovertemplate\":\"Country=%{x}<br>Yearly Oil Budget (USD)=%{y}<br>GDP Per Capita ( USD )=%{customdata[0]}<br>Gallons GDP Per Capita Can Buy=%{customdata[1]}<extra></extra>\",\"legendgroup\":\"Belgium\",\"marker\":{\"color\":\"#EF553B\",\"pattern\":{\"shape\":\"\"}},\"name\":\"Belgium\",\"offsetgroup\":\"Belgium\",\"orientation\":\"v\",\"showlegend\":true,\"textposition\":\"outside\",\"x\":[\"Belgium\"],\"xaxis\":\"x\",\"y\":[1927026230.8],\"yaxis\":\"y\",\"type\":\"bar\",\"textfont\":{\"size\":12},\"cliponaxis\":false,\"textangle\":0},{\"alignmentgroup\":\"True\",\"customdata\":[[46324.0,4081.0]],\"hovertemplate\":\"Country=%{x}<br>Yearly Oil Budget (USD)=%{y}<br>GDP Per Capita ( USD )=%{customdata[0]}<br>Gallons GDP Per Capita Can Buy=%{customdata[1]}<extra></extra>\",\"legendgroup\":\"Hong Kong\",\"marker\":{\"color\":\"#00cc96\",\"pattern\":{\"shape\":\"\"}},\"name\":\"Hong Kong\",\"offsetgroup\":\"Hong Kong\",\"orientation\":\"v\",\"showlegend\":true,\"textposition\":\"outside\",\"x\":[\"Hong Kong\"],\"xaxis\":\"x\",\"y\":[1692276090.25],\"yaxis\":\"y\",\"type\":\"bar\",\"textfont\":{\"size\":12},\"cliponaxis\":false,\"textangle\":0},{\"alignmentgroup\":\"True\",\"customdata\":[[15721.0,2312.0]],\"hovertemplate\":\"Country=%{x}<br>Yearly Oil Budget (USD)=%{y}<br>GDP Per Capita ( USD )=%{customdata[0]}<br>Gallons GDP Per Capita Can Buy=%{customdata[1]}<extra></extra>\",\"legendgroup\":\"Poland\",\"marker\":{\"color\":\"#ab63fa\",\"pattern\":{\"shape\":\"\"}},\"name\":\"Poland\",\"offsetgroup\":\"Poland\",\"orientation\":\"v\",\"showlegend\":true,\"textposition\":\"outside\",\"x\":[\"Poland\"],\"xaxis\":\"x\",\"y\":[1444923602.0],\"yaxis\":\"y\",\"type\":\"bar\",\"textfont\":{\"size\":12},\"cliponaxis\":false,\"textangle\":0},{\"alignmentgroup\":\"True\",\"customdata\":[[25936.0,6583.0]],\"hovertemplate\":\"Country=%{x}<br>Yearly Oil Budget (USD)=%{y}<br>GDP Per Capita ( USD )=%{customdata[0]}<br>Gallons GDP Per Capita Can Buy=%{customdata[1]}<extra></extra>\",\"legendgroup\":\"Taiwan\",\"marker\":{\"color\":\"#FFA15A\",\"pattern\":{\"shape\":\"\"}},\"name\":\"Taiwan\",\"offsetgroup\":\"Taiwan\",\"orientation\":\"v\",\"showlegend\":true,\"textposition\":\"outside\",\"x\":[\"Taiwan\"],\"xaxis\":\"x\",\"y\":[1411068034.3],\"yaxis\":\"y\",\"type\":\"bar\",\"textfont\":{\"size\":12},\"cliponaxis\":false,\"textangle\":0},{\"alignmentgroup\":\"True\",\"customdata\":[[36285.0,8743.0]],\"hovertemplate\":\"Country=%{x}<br>Yearly Oil Budget (USD)=%{y}<br>GDP Per Capita ( USD )=%{customdata[0]}<br>Gallons GDP Per Capita Can Buy=%{customdata[1]}<extra></extra>\",\"legendgroup\":\"United Arab Emirates\",\"marker\":{\"color\":\"#19d3f3\",\"pattern\":{\"shape\":\"\"}},\"name\":\"United Arab Emirates\",\"offsetgroup\":\"United Arab Emirates\",\"orientation\":\"v\",\"showlegend\":true,\"textposition\":\"outside\",\"x\":[\"United Arab Emirates\"],\"xaxis\":\"x\",\"y\":[1357216000.0],\"yaxis\":\"y\",\"type\":\"bar\",\"textfont\":{\"size\":12},\"cliponaxis\":false,\"textangle\":0},{\"alignmentgroup\":\"True\",\"customdata\":[[5091.0,911.0]],\"hovertemplate\":\"Country=%{x}<br>Yearly Oil Budget (USD)=%{y}<br>GDP Per Capita ( USD )=%{customdata[0]}<br>Gallons GDP Per Capita Can Buy=%{customdata[1]}<extra></extra>\",\"legendgroup\":\"South Africa\",\"marker\":{\"color\":\"#FF6692\",\"pattern\":{\"shape\":\"\"}},\"name\":\"South Africa\",\"offsetgroup\":\"South Africa\",\"orientation\":\"v\",\"showlegend\":true,\"textposition\":\"outside\",\"x\":[\"South Africa\"],\"xaxis\":\"x\",\"y\":[1305824000.0],\"yaxis\":\"y\",\"type\":\"bar\",\"textfont\":{\"size\":12},\"cliponaxis\":false,\"textangle\":0},{\"alignmentgroup\":\"True\",\"customdata\":[[17623.0,1857.0]],\"hovertemplate\":\"Country=%{x}<br>Yearly Oil Budget (USD)=%{y}<br>GDP Per Capita ( USD )=%{customdata[0]}<br>Gallons GDP Per Capita Can Buy=%{customdata[1]}<extra></extra>\",\"legendgroup\":\"Greece\",\"marker\":{\"color\":\"#B6E880\",\"pattern\":{\"shape\":\"\"}},\"name\":\"Greece\",\"offsetgroup\":\"Greece\",\"orientation\":\"v\",\"showlegend\":true,\"textposition\":\"outside\",\"x\":[\"Greece\"],\"xaxis\":\"x\",\"y\":[1025649448.85],\"yaxis\":\"y\",\"type\":\"bar\",\"textfont\":{\"size\":12},\"cliponaxis\":false,\"textangle\":0},{\"alignmentgroup\":\"True\",\"customdata\":[[8579.0,2166.0]],\"hovertemplate\":\"Country=%{x}<br>Yearly Oil Budget (USD)=%{y}<br>GDP Per Capita ( USD )=%{customdata[0]}<br>Gallons GDP Per Capita Can Buy=%{customdata[1]}<extra></extra>\",\"legendgroup\":\"Argentina\",\"marker\":{\"color\":\"#FF97FF\",\"pattern\":{\"shape\":\"\"}},\"name\":\"Argentina\",\"offsetgroup\":\"Argentina\",\"orientation\":\"v\",\"showlegend\":true,\"textposition\":\"outside\",\"x\":[\"Argentina\"],\"xaxis\":\"x\",\"y\":[1024788600.0],\"yaxis\":\"y\",\"type\":\"bar\",\"textfont\":{\"size\":12},\"cliponaxis\":false,\"textangle\":0},{\"alignmentgroup\":\"True\",\"customdata\":[[52274.0,6009.0]],\"hovertemplate\":\"Country=%{x}<br>Yearly Oil Budget (USD)=%{y}<br>GDP Per Capita ( USD )=%{customdata[0]}<br>Gallons GDP Per Capita Can Buy=%{customdata[1]}<extra></extra>\",\"legendgroup\":\"Sweden\",\"marker\":{\"color\":\"#FECB52\",\"pattern\":{\"shape\":\"\"}},\"name\":\"Sweden\",\"offsetgroup\":\"Sweden\",\"orientation\":\"v\",\"showlegend\":true,\"textposition\":\"outside\",\"x\":[\"Sweden\"],\"xaxis\":\"x\",\"y\":[1022857129.4999999],\"yaxis\":\"y\",\"type\":\"bar\",\"textfont\":{\"size\":12},\"cliponaxis\":false,\"textangle\":0},{\"alignmentgroup\":\"True\",\"customdata\":[[2786.0,518.0]],\"hovertemplate\":\"Country=%{x}<br>Yearly Oil Budget (USD)=%{y}<br>GDP Per Capita ( USD )=%{customdata[0]}<br>Gallons GDP Per Capita Can Buy=%{customdata[1]}<extra></extra>\",\"legendgroup\":\"Vietnam\",\"marker\":{\"color\":\"#636efa\",\"pattern\":{\"shape\":\"\"}},\"name\":\"Vietnam\",\"offsetgroup\":\"Vietnam\",\"orientation\":\"v\",\"showlegend\":true,\"textposition\":\"outside\",\"x\":[\"Vietnam\"],\"xaxis\":\"x\",\"y\":[938648600.0],\"yaxis\":\"y\",\"type\":\"bar\",\"textfont\":{\"size\":12},\"cliponaxis\":false,\"textangle\":0},{\"alignmentgroup\":\"True\",\"customdata\":[[3299.0,561.0]],\"hovertemplate\":\"Country=%{x}<br>Yearly Oil Budget (USD)=%{y}<br>GDP Per Capita ( USD )=%{customdata[0]}<br>Gallons GDP Per Capita Can Buy=%{customdata[1]}<extra></extra>\",\"legendgroup\":\"Philippines\",\"marker\":{\"color\":\"#EF553B\",\"pattern\":{\"shape\":\"\"}},\"name\":\"Philippines\",\"offsetgroup\":\"Philippines\",\"orientation\":\"v\",\"showlegend\":true,\"textposition\":\"outside\",\"x\":[\"Philippines\"],\"xaxis\":\"x\",\"y\":[920719800.0],\"yaxis\":\"y\",\"type\":\"bar\",\"textfont\":{\"size\":12},\"cliponaxis\":false,\"textangle\":0},{\"alignmentgroup\":\"True\",\"customdata\":[[1194.0,306.0]],\"hovertemplate\":\"Country=%{x}<br>Yearly Oil Budget (USD)=%{y}<br>GDP Per Capita ( USD )=%{customdata[0]}<br>Gallons GDP Per Capita Can Buy=%{customdata[1]}<extra></extra>\",\"legendgroup\":\"Pakistan\",\"marker\":{\"color\":\"#00cc96\",\"pattern\":{\"shape\":\"\"}},\"name\":\"Pakistan\",\"offsetgroup\":\"Pakistan\",\"orientation\":\"v\",\"showlegend\":true,\"textposition\":\"outside\",\"x\":[\"Pakistan\"],\"xaxis\":\"x\",\"y\":[791466000.0],\"yaxis\":\"y\",\"type\":\"bar\",\"textfont\":{\"size\":12},\"cliponaxis\":false,\"textangle\":0},{\"alignmentgroup\":\"True\",\"customdata\":[[48587.0,6021.0]],\"hovertemplate\":\"Country=%{x}<br>Yearly Oil Budget (USD)=%{y}<br>GDP Per Capita ( USD )=%{customdata[0]}<br>Gallons GDP Per Capita Can Buy=%{customdata[1]}<extra></extra>\",\"legendgroup\":\"Austria\",\"marker\":{\"color\":\"#ab63fa\",\"pattern\":{\"shape\":\"\"}},\"name\":\"Austria\",\"offsetgroup\":\"Austria\",\"orientation\":\"v\",\"showlegend\":true,\"textposition\":\"outside\",\"x\":[\"Austria\"],\"xaxis\":\"x\",\"y\":[772770933.6],\"yaxis\":\"y\",\"type\":\"bar\",\"textfont\":{\"size\":12},\"cliponaxis\":false,\"textangle\":0},{\"alignmentgroup\":\"True\",\"customdata\":[[48773.0,4872.0]],\"hovertemplate\":\"Country=%{x}<br>Yearly Oil Budget (USD)=%{y}<br>GDP Per Capita ( USD )=%{customdata[0]}<br>Gallons GDP Per Capita Can Buy=%{customdata[1]}<extra></extra>\",\"legendgroup\":\"Finland\",\"marker\":{\"color\":\"#FFA15A\",\"pattern\":{\"shape\":\"\"}},\"name\":\"Finland\",\"offsetgroup\":\"Finland\",\"orientation\":\"v\",\"showlegend\":true,\"textposition\":\"outside\",\"x\":[\"Finland\"],\"xaxis\":\"x\",\"y\":[767376109.5],\"yaxis\":\"y\",\"type\":\"bar\",\"textfont\":{\"size\":12},\"cliponaxis\":false,\"textangle\":0},{\"alignmentgroup\":\"True\",\"customdata\":[[67390.0,6594.0]],\"hovertemplate\":\"Country=%{x}<br>Yearly Oil Budget (USD)=%{y}<br>GDP Per Capita ( USD )=%{customdata[0]}<br>Gallons GDP Per Capita Can Buy=%{customdata[1]}<extra></extra>\",\"legendgroup\":\"Norway\",\"marker\":{\"color\":\"#19d3f3\",\"pattern\":{\"shape\":\"\"}},\"name\":\"Norway\",\"offsetgroup\":\"Norway\",\"orientation\":\"v\",\"showlegend\":true,\"textposition\":\"outside\",\"x\":[\"Norway\"],\"xaxis\":\"x\",\"y\":[761316927.0],\"yaxis\":\"y\",\"type\":\"bar\",\"textfont\":{\"size\":12},\"cliponaxis\":false,\"textangle\":0},{\"alignmentgroup\":\"True\",\"customdata\":[[22176.0,2594.0]],\"hovertemplate\":\"Country=%{x}<br>Yearly Oil Budget (USD)=%{y}<br>GDP Per Capita ( USD )=%{customdata[0]}<br>Gallons GDP Per Capita Can Buy=%{customdata[1]}<extra></extra>\",\"legendgroup\":\"Portugal\",\"marker\":{\"color\":\"#FF6692\",\"pattern\":{\"shape\":\"\"}},\"name\":\"Portugal\",\"offsetgroup\":\"Portugal\",\"orientation\":\"v\",\"showlegend\":true,\"textposition\":\"outside\",\"x\":[\"Portugal\"],\"xaxis\":\"x\",\"y\":[739199569.5000001],\"yaxis\":\"y\",\"type\":\"bar\",\"textfont\":{\"size\":12},\"cliponaxis\":false,\"textangle\":0},{\"alignmentgroup\":\"True\",\"customdata\":[[87097.0,10532.0]],\"hovertemplate\":\"Country=%{x}<br>Yearly Oil Budget (USD)=%{y}<br>GDP Per Capita ( USD )=%{customdata[0]}<br>Gallons GDP Per Capita Can Buy=%{customdata[1]}<extra></extra>\",\"legendgroup\":\"Switzerland\",\"marker\":{\"color\":\"#B6E880\",\"pattern\":{\"shape\":\"\"}},\"name\":\"Switzerland\",\"offsetgroup\":\"Switzerland\",\"orientation\":\"v\",\"showlegend\":true,\"textposition\":\"outside\",\"x\":[\"Switzerland\"],\"xaxis\":\"x\",\"y\":[688814998.6999999],\"yaxis\":\"y\",\"type\":\"bar\",\"textfont\":{\"size\":12},\"cliponaxis\":false,\"textangle\":0},{\"alignmentgroup\":\"True\",\"customdata\":[[44169.0,5563.0]],\"hovertemplate\":\"Country=%{x}<br>Yearly Oil Budget (USD)=%{y}<br>GDP Per Capita ( USD )=%{customdata[0]}<br>Gallons GDP Per Capita Can Buy=%{customdata[1]}<extra></extra>\",\"legendgroup\":\"Israel\",\"marker\":{\"color\":\"#FF97FF\",\"pattern\":{\"shape\":\"\"}},\"name\":\"Israel\",\"offsetgroup\":\"Israel\",\"orientation\":\"v\",\"showlegend\":true,\"textposition\":\"outside\",\"x\":[\"Israel\"],\"xaxis\":\"x\",\"y\":[684673226.9],\"yaxis\":\"y\",\"type\":\"bar\",\"textfont\":{\"size\":12},\"cliponaxis\":false,\"textangle\":0},{\"alignmentgroup\":\"True\",\"customdata\":[[13232.0,2516.0]],\"hovertemplate\":\"Country=%{x}<br>Yearly Oil Budget (USD)=%{y}<br>GDP Per Capita ( USD )=%{customdata[0]}<br>Gallons GDP Per Capita Can Buy=%{customdata[1]}<extra></extra>\",\"legendgroup\":\"Chile\",\"marker\":{\"color\":\"#FECB52\",\"pattern\":{\"shape\":\"\"}},\"name\":\"Chile\",\"offsetgroup\":\"Chile\",\"orientation\":\"v\",\"showlegend\":true,\"textposition\":\"outside\",\"x\":[\"Chile\"],\"xaxis\":\"x\",\"y\":[675783681.1],\"yaxis\":\"y\",\"type\":\"bar\",\"textfont\":{\"size\":12},\"cliponaxis\":false,\"textangle\":0},{\"alignmentgroup\":\"True\",\"customdata\":[[3009.0,473.0]],\"hovertemplate\":\"Country=%{x}<br>Yearly Oil Budget (USD)=%{y}<br>GDP Per Capita ( USD )=%{customdata[0]}<br>Gallons GDP Per Capita Can Buy=%{customdata[1]}<extra></extra>\",\"legendgroup\":\"Morocco\",\"marker\":{\"color\":\"#636efa\",\"pattern\":{\"shape\":\"\"}},\"name\":\"Morocco\",\"offsetgroup\":\"Morocco\",\"orientation\":\"v\",\"showlegend\":true,\"textposition\":\"outside\",\"x\":[\"Morocco\"],\"xaxis\":\"x\",\"y\":[638385000.0],\"yaxis\":\"y\",\"type\":\"bar\",\"textfont\":{\"size\":12},\"cliponaxis\":false,\"textangle\":0},{\"alignmentgroup\":\"True\",\"customdata\":[[3548.0,1801.0]],\"hovertemplate\":\"Country=%{x}<br>Yearly Oil Budget (USD)=%{y}<br>GDP Per Capita ( USD )=%{customdata[0]}<br>Gallons GDP Per Capita Can Buy=%{customdata[1]}<extra></extra>\",\"legendgroup\":\"Egypt\",\"marker\":{\"color\":\"#EF553B\",\"pattern\":{\"shape\":\"\"}},\"name\":\"Egypt\",\"offsetgroup\":\"Egypt\",\"orientation\":\"v\",\"showlegend\":true,\"textposition\":\"outside\",\"x\":[\"Egypt\"],\"xaxis\":\"x\",\"y\":[630606850.0],\"yaxis\":\"y\",\"type\":\"bar\",\"textfont\":{\"size\":12},\"cliponaxis\":false,\"textangle\":0},{\"alignmentgroup\":\"True\",\"customdata\":[[4158.0,2132.0]],\"hovertemplate\":\"Country=%{x}<br>Yearly Oil Budget (USD)=%{y}<br>GDP Per Capita ( USD )=%{customdata[0]}<br>Gallons GDP Per Capita Can Buy=%{customdata[1]}<extra></extra>\",\"legendgroup\":\"Iraq\",\"marker\":{\"color\":\"#00cc96\",\"pattern\":{\"shape\":\"\"}},\"name\":\"Iraq\",\"offsetgroup\":\"Iraq\",\"orientation\":\"v\",\"showlegend\":true,\"textposition\":\"outside\",\"x\":[\"Iraq\"],\"xaxis\":\"x\",\"y\":[609969750.0],\"yaxis\":\"y\",\"type\":\"bar\",\"textfont\":{\"size\":12},\"cliponaxis\":false,\"textangle\":0},{\"alignmentgroup\":\"True\",\"customdata\":[[61063.0,6082.0]],\"hovertemplate\":\"Country=%{x}<br>Yearly Oil Budget (USD)=%{y}<br>GDP Per Capita ( USD )=%{customdata[0]}<br>Gallons GDP Per Capita Can Buy=%{customdata[1]}<extra></extra>\",\"legendgroup\":\"Denmark\",\"marker\":{\"color\":\"#ab63fa\",\"pattern\":{\"shape\":\"\"}},\"name\":\"Denmark\",\"offsetgroup\":\"Denmark\",\"orientation\":\"v\",\"showlegend\":true,\"textposition\":\"outside\",\"x\":[\"Denmark\"],\"xaxis\":\"x\",\"y\":[579717732.4],\"yaxis\":\"y\",\"type\":\"bar\",\"textfont\":{\"size\":12},\"cliponaxis\":false,\"textangle\":0},{\"alignmentgroup\":\"True\",\"customdata\":[[3727.0,579.0]],\"hovertemplate\":\"Country=%{x}<br>Yearly Oil Budget (USD)=%{y}<br>GDP Per Capita ( USD )=%{customdata[0]}<br>Gallons GDP Per Capita Can Buy=%{customdata[1]}<extra></extra>\",\"legendgroup\":\"Ukraine\",\"marker\":{\"color\":\"#FFA15A\",\"pattern\":{\"shape\":\"\"}},\"name\":\"Ukraine\",\"offsetgroup\":\"Ukraine\",\"orientation\":\"v\",\"showlegend\":true,\"textposition\":\"outside\",\"x\":[\"Ukraine\"],\"xaxis\":\"x\",\"y\":[573546400.0],\"yaxis\":\"y\",\"type\":\"bar\",\"textfont\":{\"size\":12},\"cliponaxis\":false,\"textangle\":0},{\"alignmentgroup\":\"True\",\"customdata\":[[6127.0,979.0]],\"hovertemplate\":\"Country=%{x}<br>Yearly Oil Budget (USD)=%{y}<br>GDP Per Capita ( USD )=%{customdata[0]}<br>Gallons GDP Per Capita Can Buy=%{customdata[1]}<extra></extra>\",\"legendgroup\":\"Peru\",\"marker\":{\"color\":\"#19d3f3\",\"pattern\":{\"shape\":\"\"}},\"name\":\"Peru\",\"offsetgroup\":\"Peru\",\"orientation\":\"v\",\"showlegend\":true,\"textposition\":\"outside\",\"x\":[\"Peru\"],\"xaxis\":\"x\",\"y\":[562085400.0],\"yaxis\":\"y\",\"type\":\"bar\",\"textfont\":{\"size\":12},\"cliponaxis\":false,\"textangle\":0},{\"alignmentgroup\":\"True\",\"customdata\":[[12896.0,1877.0]],\"hovertemplate\":\"Country=%{x}<br>Yearly Oil Budget (USD)=%{y}<br>GDP Per Capita ( USD )=%{customdata[0]}<br>Gallons GDP Per Capita Can Buy=%{customdata[1]}<extra></extra>\",\"legendgroup\":\"Romania\",\"marker\":{\"color\":\"#FF6692\",\"pattern\":{\"shape\":\"\"}},\"name\":\"Romania\",\"offsetgroup\":\"Romania\",\"orientation\":\"v\",\"showlegend\":true,\"textposition\":\"outside\",\"x\":[\"Romania\"],\"xaxis\":\"x\",\"y\":[501510000.0],\"yaxis\":\"y\",\"type\":\"bar\",\"textfont\":{\"size\":12},\"cliponaxis\":false,\"textangle\":0},{\"alignmentgroup\":\"True\",\"customdata\":[[22932.0,3033.0]],\"hovertemplate\":\"Country=%{x}<br>Yearly Oil Budget (USD)=%{y}<br>GDP Per Capita ( USD )=%{customdata[0]}<br>Gallons GDP Per Capita Can Buy=%{customdata[1]}<extra></extra>\",\"legendgroup\":\"Czech Republic (Czechia)\",\"marker\":{\"color\":\"#B6E880\",\"pattern\":{\"shape\":\"\"}},\"name\":\"Czech Republic (Czechia)\",\"offsetgroup\":\"Czech Republic (Czechia)\",\"orientation\":\"v\",\"showlegend\":true,\"textposition\":\"outside\",\"x\":[\"Czech Republic (Czechia)\"],\"xaxis\":\"x\",\"y\":[496570586.4],\"yaxis\":\"y\",\"type\":\"bar\",\"textfont\":{\"size\":12},\"cliponaxis\":false,\"textangle\":0},{\"alignmentgroup\":\"True\",\"customdata\":[[41442.0,5299.0]],\"hovertemplate\":\"Country=%{x}<br>Yearly Oil Budget (USD)=%{y}<br>GDP Per Capita ( USD )=%{customdata[0]}<br>Gallons GDP Per Capita Can Buy=%{customdata[1]}<extra></extra>\",\"legendgroup\":\"New Zealand\",\"marker\":{\"color\":\"#FF97FF\",\"pattern\":{\"shape\":\"\"}},\"name\":\"New Zealand\",\"offsetgroup\":\"New Zealand\",\"orientation\":\"v\",\"showlegend\":true,\"textposition\":\"outside\",\"x\":[\"New Zealand\"],\"xaxis\":\"x\",\"y\":[476419775.90000004],\"yaxis\":\"y\",\"type\":\"bar\",\"textfont\":{\"size\":12},\"cliponaxis\":false,\"textangle\":0},{\"alignmentgroup\":\"True\",\"customdata\":[[10412.0,5916.0]],\"hovertemplate\":\"Country=%{x}<br>Yearly Oil Budget (USD)=%{y}<br>GDP Per Capita ( USD )=%{customdata[0]}<br>Gallons GDP Per Capita Can Buy=%{customdata[1]}<extra></extra>\",\"legendgroup\":\"Malaysia\",\"marker\":{\"color\":\"#FECB52\",\"pattern\":{\"shape\":\"\"}},\"name\":\"Malaysia\",\"offsetgroup\":\"Malaysia\",\"orientation\":\"v\",\"showlegend\":true,\"textposition\":\"outside\",\"x\":[\"Malaysia\"],\"xaxis\":\"x\",\"y\":[454819200.0],\"yaxis\":\"y\",\"type\":\"bar\",\"textfont\":{\"size\":12},\"cliponaxis\":false,\"textangle\":0},{\"alignmentgroup\":\"True\",\"customdata\":[[85268.0,10876.0]],\"hovertemplate\":\"Country=%{x}<br>Yearly Oil Budget (USD)=%{y}<br>GDP Per Capita ( USD )=%{customdata[0]}<br>Gallons GDP Per Capita Can Buy=%{customdata[1]}<extra></extra>\",\"legendgroup\":\"Ireland\",\"marker\":{\"color\":\"#636efa\",\"pattern\":{\"shape\":\"\"}},\"name\":\"Ireland\",\"offsetgroup\":\"Ireland\",\"orientation\":\"v\",\"showlegend\":true,\"textposition\":\"outside\",\"x\":[\"Ireland\"],\"xaxis\":\"x\",\"y\":[436119286.4],\"yaxis\":\"y\",\"type\":\"bar\",\"textfont\":{\"size\":12},\"cliponaxis\":false,\"textangle\":0},{\"alignmentgroup\":\"True\",\"customdata\":[[15981.0,2103.0]],\"hovertemplate\":\"Country=%{x}<br>Yearly Oil Budget (USD)=%{y}<br>GDP Per Capita ( USD )=%{customdata[0]}<br>Gallons GDP Per Capita Can Buy=%{customdata[1]}<extra></extra>\",\"legendgroup\":\"Hungary\",\"marker\":{\"color\":\"#EF553B\",\"pattern\":{\"shape\":\"\"}},\"name\":\"Hungary\",\"offsetgroup\":\"Hungary\",\"orientation\":\"v\",\"showlegend\":true,\"textposition\":\"outside\",\"x\":[\"Hungary\"],\"xaxis\":\"x\",\"y\":[431479056.0],\"yaxis\":\"y\",\"type\":\"bar\",\"textfont\":{\"size\":12},\"cliponaxis\":false,\"textangle\":0},{\"alignmentgroup\":\"True\",\"customdata\":[[5600.0,1264.0]],\"hovertemplate\":\"Country=%{x}<br>Yearly Oil Budget (USD)=%{y}<br>GDP Per Capita ( USD )=%{customdata[0]}<br>Gallons GDP Per Capita Can Buy=%{customdata[1]}<extra></extra>\",\"legendgroup\":\"Ecuador\",\"marker\":{\"color\":\"#00cc96\",\"pattern\":{\"shape\":\"\"}},\"name\":\"Ecuador\",\"offsetgroup\":\"Ecuador\",\"orientation\":\"v\",\"showlegend\":true,\"textposition\":\"outside\",\"x\":[\"Ecuador\"],\"xaxis\":\"x\",\"y\":[418790050.0],\"yaxis\":\"y\",\"type\":\"bar\",\"textfont\":{\"size\":12},\"cliponaxis\":false,\"textangle\":0},{\"alignmentgroup\":\"True\",\"customdata\":[[1300.0,24.0]],\"hovertemplate\":\"Country=%{x}<br>Yearly Oil Budget (USD)=%{y}<br>GDP Per Capita ( USD )=%{customdata[0]}<br>Gallons GDP Per Capita Can Buy=%{customdata[1]}<extra></extra>\",\"legendgroup\":\"North Korea\",\"marker\":{\"color\":\"#ab63fa\",\"pattern\":{\"shape\":\"\"}},\"name\":\"North Korea\",\"offsetgroup\":\"North Korea\",\"orientation\":\"v\",\"showlegend\":true,\"textposition\":\"outside\",\"x\":[\"North Korea\"],\"xaxis\":\"x\",\"y\":[360627300.0],\"yaxis\":\"y\",\"type\":\"bar\",\"textfont\":{\"size\":12},\"cliponaxis\":false,\"textangle\":0},{\"alignmentgroup\":\"True\",\"customdata\":[[12510.0,2279.0]],\"hovertemplate\":\"Country=%{x}<br>Yearly Oil Budget (USD)=%{y}<br>GDP Per Capita ( USD )=%{customdata[0]}<br>Gallons GDP Per Capita Can Buy=%{customdata[1]}<extra></extra>\",\"legendgroup\":\"Panama\",\"marker\":{\"color\":\"#FFA15A\",\"pattern\":{\"shape\":\"\"}},\"name\":\"Panama\",\"offsetgroup\":\"Panama\",\"orientation\":\"v\",\"showlegend\":true,\"textposition\":\"outside\",\"x\":[\"Panama\"],\"xaxis\":\"x\",\"y\":[310596750.0],\"yaxis\":\"y\",\"type\":\"bar\",\"textfont\":{\"size\":12},\"cliponaxis\":false,\"textangle\":0},{\"alignmentgroup\":\"True\",\"customdata\":[[4650.0,860.0]],\"hovertemplate\":\"Country=%{x}<br>Yearly Oil Budget (USD)=%{y}<br>GDP Per Capita ( USD )=%{customdata[0]}<br>Gallons GDP Per Capita Can Buy=%{customdata[1]}<extra></extra>\",\"legendgroup\":\"Lebanon\",\"marker\":{\"color\":\"#19d3f3\",\"pattern\":{\"shape\":\"\"}},\"name\":\"Lebanon\",\"offsetgroup\":\"Lebanon\",\"orientation\":\"v\",\"showlegend\":true,\"textposition\":\"outside\",\"x\":[\"Lebanon\"],\"xaxis\":\"x\",\"y\":[302121450.0],\"yaxis\":\"y\",\"type\":\"bar\",\"textfont\":{\"size\":12},\"cliponaxis\":false,\"textangle\":0},{\"alignmentgroup\":\"True\",\"customdata\":[[5333.0,2339.0]],\"hovertemplate\":\"Country=%{x}<br>Yearly Oil Budget (USD)=%{y}<br>GDP Per Capita ( USD )=%{customdata[0]}<br>Gallons GDP Per Capita Can Buy=%{customdata[1]}<extra></extra>\",\"legendgroup\":\"Colombia\",\"marker\":{\"color\":\"#FF6692\",\"pattern\":{\"shape\":\"\"}},\"name\":\"Colombia\",\"offsetgroup\":\"Colombia\",\"orientation\":\"v\",\"showlegend\":true,\"textposition\":\"outside\",\"x\":[\"Colombia\"],\"xaxis\":\"x\",\"y\":[297095400.0],\"yaxis\":\"y\",\"type\":\"bar\",\"textfont\":{\"size\":12},\"cliponaxis\":false,\"textangle\":0},{\"alignmentgroup\":\"True\",\"customdata\":[[9478.0,1987.0]],\"hovertemplate\":\"Country=%{x}<br>Yearly Oil Budget (USD)=%{y}<br>GDP Per Capita ( USD )=%{customdata[0]}<br>Gallons GDP Per Capita Can Buy=%{customdata[1]}<extra></extra>\",\"legendgroup\":\"Cuba\",\"marker\":{\"color\":\"#B6E880\",\"pattern\":{\"shape\":\"\"}},\"name\":\"Cuba\",\"offsetgroup\":\"Cuba\",\"orientation\":\"v\",\"showlegend\":true,\"textposition\":\"outside\",\"x\":[\"Cuba\"],\"xaxis\":\"x\",\"y\":[266380649.99999997],\"yaxis\":\"y\",\"type\":\"bar\",\"textfont\":{\"size\":12},\"cliponaxis\":false,\"textangle\":0},{\"alignmentgroup\":\"True\",\"customdata\":[[4283.0,680.0]],\"hovertemplate\":\"Country=%{x}<br>Yearly Oil Budget (USD)=%{y}<br>GDP Per Capita ( USD )=%{customdata[0]}<br>Gallons GDP Per Capita Can Buy=%{customdata[1]}<extra></extra>\",\"legendgroup\":\"Jordan\",\"marker\":{\"color\":\"#FF97FF\",\"pattern\":{\"shape\":\"\"}},\"name\":\"Jordan\",\"offsetgroup\":\"Jordan\",\"orientation\":\"v\",\"showlegend\":true,\"textposition\":\"outside\",\"x\":[\"Jordan\"],\"xaxis\":\"x\",\"y\":[262143000.0],\"yaxis\":\"y\",\"type\":\"bar\",\"textfont\":{\"size\":12},\"cliponaxis\":false,\"textangle\":0},{\"alignmentgroup\":\"True\",\"customdata\":[[7268.0,1364.0]],\"hovertemplate\":\"Country=%{x}<br>Yearly Oil Budget (USD)=%{y}<br>GDP Per Capita ( USD )=%{customdata[0]}<br>Gallons GDP Per Capita Can Buy=%{customdata[1]}<extra></extra>\",\"legendgroup\":\"Dominican Republic\",\"marker\":{\"color\":\"#FECB52\",\"pattern\":{\"shape\":\"\"}},\"name\":\"Dominican Republic\",\"offsetgroup\":\"Dominican Republic\",\"orientation\":\"v\",\"showlegend\":true,\"textposition\":\"outside\",\"x\":[\"Dominican Republic\"],\"xaxis\":\"x\",\"y\":[258744850.0],\"yaxis\":\"y\",\"type\":\"bar\",\"textfont\":{\"size\":12},\"cliponaxis\":false,\"textangle\":0},{\"alignmentgroup\":\"True\",\"customdata\":[[596.0,124.0]],\"hovertemplate\":\"Country=%{x}<br>Yearly Oil Budget (USD)=%{y}<br>GDP Per Capita ( USD )=%{customdata[0]}<br>Gallons GDP Per Capita Can Buy=%{customdata[1]}<extra></extra>\",\"legendgroup\":\"Sudan\",\"marker\":{\"color\":\"#636efa\",\"pattern\":{\"shape\":\"\"}},\"name\":\"Sudan\",\"offsetgroup\":\"Sudan\",\"orientation\":\"v\",\"showlegend\":true,\"textposition\":\"outside\",\"x\":[\"Sudan\"],\"xaxis\":\"x\",\"y\":[245280000.0],\"yaxis\":\"y\",\"type\":\"bar\",\"textfont\":{\"size\":12},\"cliponaxis\":false,\"textangle\":0},{\"alignmentgroup\":\"True\",\"customdata\":[[2097.0,1336.0]],\"hovertemplate\":\"Country=%{x}<br>Yearly Oil Budget (USD)=%{y}<br>GDP Per Capita ( USD )=%{customdata[0]}<br>Gallons GDP Per Capita Can Buy=%{customdata[1]}<extra></extra>\",\"legendgroup\":\"Nigeria\",\"marker\":{\"color\":\"#EF553B\",\"pattern\":{\"shape\":\"\"}},\"name\":\"Nigeria\",\"offsetgroup\":\"Nigeria\",\"orientation\":\"v\",\"showlegend\":true,\"textposition\":\"outside\",\"x\":[\"Nigeria\"],\"xaxis\":\"x\",\"y\":[245265400.0],\"yaxis\":\"y\",\"type\":\"bar\",\"textfont\":{\"size\":12},\"cliponaxis\":false,\"textangle\":0},{\"alignmentgroup\":\"True\",\"customdata\":[[10079.0,1543.0]],\"hovertemplate\":\"Country=%{x}<br>Yearly Oil Budget (USD)=%{y}<br>GDP Per Capita ( USD )=%{customdata[0]}<br>Gallons GDP Per Capita Can Buy=%{customdata[1]}<extra></extra>\",\"legendgroup\":\"Bulgaria\",\"marker\":{\"color\":\"#00cc96\",\"pattern\":{\"shape\":\"\"}},\"name\":\"Bulgaria\",\"offsetgroup\":\"Bulgaria\",\"orientation\":\"v\",\"showlegend\":true,\"textposition\":\"outside\",\"x\":[\"Bulgaria\"],\"xaxis\":\"x\",\"y\":[231194650.0],\"yaxis\":\"y\",\"type\":\"bar\",\"textfont\":{\"size\":12},\"cliponaxis\":false,\"textangle\":0},{\"alignmentgroup\":\"True\",\"customdata\":[[19267.0,2569.0]],\"hovertemplate\":\"Country=%{x}<br>Yearly Oil Budget (USD)=%{y}<br>GDP Per Capita ( USD )=%{customdata[0]}<br>Gallons GDP Per Capita Can Buy=%{customdata[1]}<extra></extra>\",\"legendgroup\":\"Slovakia\",\"marker\":{\"color\":\"#ab63fa\",\"pattern\":{\"shape\":\"\"}},\"name\":\"Slovakia\",\"offsetgroup\":\"Slovakia\",\"orientation\":\"v\",\"showlegend\":true,\"textposition\":\"outside\",\"x\":[\"Slovakia\"],\"xaxis\":\"x\",\"y\":[223344412.5],\"yaxis\":\"y\",\"type\":\"bar\",\"textfont\":{\"size\":12},\"cliponaxis\":false,\"textangle\":0},{\"alignmentgroup\":\"True\",\"customdata\":[[3682.0,775.0]],\"hovertemplate\":\"Country=%{x}<br>Yearly Oil Budget (USD)=%{y}<br>GDP Per Capita ( USD )=%{customdata[0]}<br>Gallons GDP Per Capita Can Buy=%{customdata[1]}<extra></extra>\",\"legendgroup\":\"Sri Lanka\",\"marker\":{\"color\":\"#FFA15A\",\"pattern\":{\"shape\":\"\"}},\"name\":\"Sri Lanka\",\"offsetgroup\":\"Sri Lanka\",\"orientation\":\"v\",\"showlegend\":true,\"textposition\":\"outside\",\"x\":[\"Sri Lanka\"],\"xaxis\":\"x\",\"y\":[220186250.0],\"yaxis\":\"y\",\"type\":\"bar\",\"textfont\":{\"size\":12},\"cliponaxis\":false,\"textangle\":0},{\"alignmentgroup\":\"True\",\"customdata\":[[1838.0,358.0]],\"hovertemplate\":\"Country=%{x}<br>Yearly Oil Budget (USD)=%{y}<br>GDP Per Capita ( USD )=%{customdata[0]}<br>Gallons GDP Per Capita Can Buy=%{customdata[1]}<extra></extra>\",\"legendgroup\":\"Kenya\",\"marker\":{\"color\":\"#19d3f3\",\"pattern\":{\"shape\":\"\"}},\"name\":\"Kenya\",\"offsetgroup\":\"Kenya\",\"orientation\":\"v\",\"showlegend\":true,\"textposition\":\"outside\",\"x\":[\"Kenya\"],\"xaxis\":\"x\",\"y\":[213875400.0],\"yaxis\":\"y\",\"type\":\"bar\",\"textfont\":{\"size\":12},\"cliponaxis\":false,\"textangle\":0},{\"alignmentgroup\":\"True\",\"customdata\":[[9122.0,5068.0]],\"hovertemplate\":\"Country=%{x}<br>Yearly Oil Budget (USD)=%{y}<br>GDP Per Capita ( USD )=%{customdata[0]}<br>Gallons GDP Per Capita Can Buy=%{customdata[1]}<extra></extra>\",\"legendgroup\":\"Kazakhstan\",\"marker\":{\"color\":\"#FF6692\",\"pattern\":{\"shape\":\"\"}},\"name\":\"Kazakhstan\",\"offsetgroup\":\"Kazakhstan\",\"orientation\":\"v\",\"showlegend\":true,\"textposition\":\"outside\",\"x\":[\"Kazakhstan\"],\"xaxis\":\"x\",\"y\":[213525000.0],\"yaxis\":\"y\",\"type\":\"bar\",\"textfont\":{\"size\":12},\"cliponaxis\":false,\"textangle\":0},{\"alignmentgroup\":\"True\",\"customdata\":[[1400.0,295.0]],\"hovertemplate\":\"Country=%{x}<br>Yearly Oil Budget (USD)=%{y}<br>GDP Per Capita ( USD )=%{customdata[0]}<br>Gallons GDP Per Capita Can Buy=%{customdata[1]}<extra></extra>\",\"legendgroup\":\"Myanmar\",\"marker\":{\"color\":\"#B6E880\",\"pattern\":{\"shape\":\"\"}},\"name\":\"Myanmar\",\"offsetgroup\":\"Myanmar\",\"orientation\":\"v\",\"showlegend\":true,\"textposition\":\"outside\",\"x\":[\"Myanmar\"],\"xaxis\":\"x\",\"y\":[213251250.0],\"yaxis\":\"y\",\"type\":\"bar\",\"textfont\":{\"size\":12},\"cliponaxis\":false,\"textangle\":0},{\"alignmentgroup\":\"True\",\"customdata\":[[32291.0,5969.0]],\"hovertemplate\":\"Country=%{x}<br>Yearly Oil Budget (USD)=%{y}<br>GDP Per Capita ( USD )=%{customdata[0]}<br>Gallons GDP Per Capita Can Buy=%{customdata[1]}<extra></extra>\",\"legendgroup\":\"Puerto Rico\",\"marker\":{\"color\":\"#FF97FF\",\"pattern\":{\"shape\":\"\"}},\"name\":\"Puerto Rico\",\"offsetgroup\":\"Puerto Rico\",\"orientation\":\"v\",\"showlegend\":true,\"textposition\":\"outside\",\"x\":[\"Puerto Rico\"],\"xaxis\":\"x\",\"y\":[191039488.9],\"yaxis\":\"y\",\"type\":\"bar\",\"textfont\":{\"size\":12},\"cliponaxis\":false,\"textangle\":0},{\"alignmentgroup\":\"True\",\"customdata\":[[3310.0,2805.0]],\"hovertemplate\":\"Country=%{x}<br>Yearly Oil Budget (USD)=%{y}<br>GDP Per Capita ( USD )=%{customdata[0]}<br>Gallons GDP Per Capita Can Buy=%{customdata[1]}<extra></extra>\",\"legendgroup\":\"Algeria\",\"marker\":{\"color\":\"#FECB52\",\"pattern\":{\"shape\":\"\"}},\"name\":\"Algeria\",\"offsetgroup\":\"Algeria\",\"orientation\":\"v\",\"showlegend\":true,\"textposition\":\"outside\",\"x\":[\"Algeria\"],\"xaxis\":\"x\",\"y\":[184770300.0],\"yaxis\":\"y\",\"type\":\"bar\",\"textfont\":{\"size\":12},\"cliponaxis\":false,\"textangle\":0},{\"alignmentgroup\":\"True\",\"customdata\":[[20234.0,2495.0]],\"hovertemplate\":\"Country=%{x}<br>Yearly Oil Budget (USD)=%{y}<br>GDP Per Capita ( USD )=%{customdata[0]}<br>Gallons GDP Per Capita Can Buy=%{customdata[1]}<extra></extra>\",\"legendgroup\":\"Lithuania\",\"marker\":{\"color\":\"#636efa\",\"pattern\":{\"shape\":\"\"}},\"name\":\"Lithuania\",\"offsetgroup\":\"Lithuania\",\"orientation\":\"v\",\"showlegend\":true,\"textposition\":\"outside\",\"x\":[\"Lithuania\"],\"xaxis\":\"x\",\"y\":[182380761.79999998],\"yaxis\":\"y\",\"type\":\"bar\",\"textfont\":{\"size\":12},\"cliponaxis\":false,\"textangle\":0},{\"alignmentgroup\":\"True\",\"customdata\":[[14134.0,1952.0]],\"hovertemplate\":\"Country=%{x}<br>Yearly Oil Budget (USD)=%{y}<br>GDP Per Capita ( USD )=%{customdata[0]}<br>Gallons GDP Per Capita Can Buy=%{customdata[1]}<extra></extra>\",\"legendgroup\":\"Croatia\",\"marker\":{\"color\":\"#EF553B\",\"pattern\":{\"shape\":\"\"}},\"name\":\"Croatia\",\"offsetgroup\":\"Croatia\",\"orientation\":\"v\",\"showlegend\":true,\"textposition\":\"outside\",\"x\":[\"Croatia\"],\"xaxis\":\"x\",\"y\":[182339400.0],\"yaxis\":\"y\",\"type\":\"bar\",\"textfont\":{\"size\":12},\"cliponaxis\":false,\"textangle\":0},{\"alignmentgroup\":\"True\",\"customdata\":[[7721.0,1163.0]],\"hovertemplate\":\"Country=%{x}<br>Yearly Oil Budget (USD)=%{y}<br>GDP Per Capita ( USD )=%{customdata[0]}<br>Gallons GDP Per Capita Can Buy=%{customdata[1]}<extra></extra>\",\"legendgroup\":\"Serbia\",\"marker\":{\"color\":\"#00cc96\",\"pattern\":{\"shape\":\"\"}},\"name\":\"Serbia\",\"offsetgroup\":\"Serbia\",\"orientation\":\"v\",\"showlegend\":true,\"textposition\":\"outside\",\"x\":[\"Serbia\"],\"xaxis\":\"x\",\"y\":[179346400.0],\"yaxis\":\"y\",\"type\":\"bar\",\"textfont\":{\"size\":12},\"cliponaxis\":false,\"textangle\":0},{\"alignmentgroup\":\"True\",\"customdata\":[[4603.0,896.0]],\"hovertemplate\":\"Country=%{x}<br>Yearly Oil Budget (USD)=%{y}<br>GDP Per Capita ( USD )=%{customdata[0]}<br>Gallons GDP Per Capita Can Buy=%{customdata[1]}<extra></extra>\",\"legendgroup\":\"Guatemala\",\"marker\":{\"color\":\"#ab63fa\",\"pattern\":{\"shape\":\"\"}},\"name\":\"Guatemala\",\"offsetgroup\":\"Guatemala\",\"orientation\":\"v\",\"showlegend\":true,\"textposition\":\"outside\",\"x\":[\"Guatemala\"],\"xaxis\":\"x\",\"y\":[174477300.0],\"yaxis\":\"y\",\"type\":\"bar\",\"textfont\":{\"size\":12},\"cliponaxis\":false,\"textangle\":0},{\"alignmentgroup\":\"True\",\"customdata\":[[24812.0,19234.0]],\"hovertemplate\":\"Country=%{x}<br>Yearly Oil Budget (USD)=%{y}<br>GDP Per Capita ( USD )=%{customdata[0]}<br>Gallons GDP Per Capita Can Buy=%{customdata[1]}<extra></extra>\",\"legendgroup\":\"Kuwait\",\"marker\":{\"color\":\"#FFA15A\",\"pattern\":{\"shape\":\"\"}},\"name\":\"Kuwait\",\"offsetgroup\":\"Kuwait\",\"orientation\":\"v\",\"showlegend\":true,\"textposition\":\"outside\",\"x\":[\"Kuwait\"],\"xaxis\":\"x\",\"y\":[169035150.0],\"yaxis\":\"y\",\"type\":\"bar\",\"textfont\":{\"size\":12},\"cliponaxis\":false,\"textangle\":0},{\"alignmentgroup\":\"True\",\"customdata\":[[115874.0,14649.0]],\"hovertemplate\":\"Country=%{x}<br>Yearly Oil Budget (USD)=%{y}<br>GDP Per Capita ( USD )=%{customdata[0]}<br>Gallons GDP Per Capita Can Buy=%{customdata[1]}<extra></extra>\",\"legendgroup\":\"Luxembourg\",\"marker\":{\"color\":\"#19d3f3\",\"pattern\":{\"shape\":\"\"}},\"name\":\"Luxembourg\",\"offsetgroup\":\"Luxembourg\",\"orientation\":\"v\",\"showlegend\":true,\"textposition\":\"outside\",\"x\":[\"Luxembourg\"],\"xaxis\":\"x\",\"y\":[162240507.1],\"yaxis\":\"y\",\"type\":\"bar\",\"textfont\":{\"size\":12},\"cliponaxis\":false,\"textangle\":0},{\"alignmentgroup\":\"True\",\"customdata\":[[12660.0,5387.0]],\"hovertemplate\":\"Country=%{x}<br>Yearly Oil Budget (USD)=%{y}<br>GDP Per Capita ( USD )=%{customdata[0]}<br>Gallons GDP Per Capita Can Buy=%{customdata[1]}<extra></extra>\",\"legendgroup\":\"Oman\",\"marker\":{\"color\":\"#FF6692\",\"pattern\":{\"shape\":\"\"}},\"name\":\"Oman\",\"offsetgroup\":\"Oman\",\"orientation\":\"v\",\"showlegend\":true,\"textposition\":\"outside\",\"x\":[\"Oman\"],\"xaxis\":\"x\",\"y\":[156968250.0],\"yaxis\":\"y\",\"type\":\"bar\",\"textfont\":{\"size\":12},\"cliponaxis\":false,\"textangle\":0},{\"alignmentgroup\":\"True\",\"customdata\":[[2329.0,478.0]],\"hovertemplate\":\"Country=%{x}<br>Yearly Oil Budget (USD)=%{y}<br>GDP Per Capita ( USD )=%{customdata[0]}<br>Gallons GDP Per Capita Can Buy=%{customdata[1]}<extra></extra>\",\"legendgroup\":\"Ghana\",\"marker\":{\"color\":\"#B6E880\",\"pattern\":{\"shape\":\"\"}},\"name\":\"Ghana\",\"offsetgroup\":\"Ghana\",\"orientation\":\"v\",\"showlegend\":true,\"textposition\":\"outside\",\"x\":[\"Ghana\"],\"xaxis\":\"x\",\"y\":[156424400.0],\"yaxis\":\"y\",\"type\":\"bar\",\"textfont\":{\"size\":12},\"cliponaxis\":false,\"textangle\":0},{\"alignmentgroup\":\"True\",\"customdata\":[[1969.0,548.0]],\"hovertemplate\":\"Country=%{x}<br>Yearly Oil Budget (USD)=%{y}<br>GDP Per Capita ( USD )=%{customdata[0]}<br>Gallons GDP Per Capita Can Buy=%{customdata[1]}<extra></extra>\",\"legendgroup\":\"Bangladesh\",\"marker\":{\"color\":\"#FF97FF\",\"pattern\":{\"shape\":\"\"}},\"name\":\"Bangladesh\",\"offsetgroup\":\"Bangladesh\",\"orientation\":\"v\",\"showlegend\":true,\"textposition\":\"outside\",\"x\":[\"Bangladesh\"],\"xaxis\":\"x\",\"y\":[148069550.0],\"yaxis\":\"y\",\"type\":\"bar\",\"textfont\":{\"size\":12},\"cliponaxis\":false,\"textangle\":0},{\"alignmentgroup\":\"True\",\"customdata\":[[15438.0,2021.0]],\"hovertemplate\":\"Country=%{x}<br>Yearly Oil Budget (USD)=%{y}<br>GDP Per Capita ( USD )=%{customdata[0]}<br>Gallons GDP Per Capita Can Buy=%{customdata[1]}<extra></extra>\",\"legendgroup\":\"Uruguay\",\"marker\":{\"color\":\"#FECB52\",\"pattern\":{\"shape\":\"\"}},\"name\":\"Uruguay\",\"offsetgroup\":\"Uruguay\",\"orientation\":\"v\",\"showlegend\":true,\"textposition\":\"outside\",\"x\":[\"Uruguay\"],\"xaxis\":\"x\",\"y\":[147795800.0],\"yaxis\":\"y\",\"type\":\"bar\",\"textfont\":{\"size\":12},\"cliponaxis\":false,\"textangle\":0},{\"alignmentgroup\":\"True\",\"customdata\":[[50124.0,22993.0]],\"hovertemplate\":\"Country=%{x}<br>Yearly Oil Budget (USD)=%{y}<br>GDP Per Capita ( USD )=%{customdata[0]}<br>Gallons GDP Per Capita Can Buy=%{customdata[1]}<extra></extra>\",\"legendgroup\":\"Qatar\",\"marker\":{\"color\":\"#636efa\",\"pattern\":{\"shape\":\"\"}},\"name\":\"Qatar\",\"offsetgroup\":\"Qatar\",\"orientation\":\"v\",\"showlegend\":true,\"textposition\":\"outside\",\"x\":[\"Qatar\"],\"xaxis\":\"x\",\"y\":[136860400.0],\"yaxis\":\"y\",\"type\":\"bar\",\"textfont\":{\"size\":12},\"cliponaxis\":false,\"textangle\":0},{\"alignmentgroup\":\"True\",\"customdata\":[[26624.0,3782.0]],\"hovertemplate\":\"Country=%{x}<br>Yearly Oil Budget (USD)=%{y}<br>GDP Per Capita ( USD )=%{customdata[0]}<br>Gallons GDP Per Capita Can Buy=%{customdata[1]}<extra></extra>\",\"legendgroup\":\"Cyprus\",\"marker\":{\"color\":\"#EF553B\",\"pattern\":{\"shape\":\"\"}},\"name\":\"Cyprus\",\"offsetgroup\":\"Cyprus\",\"orientation\":\"v\",\"showlegend\":true,\"textposition\":\"outside\",\"x\":[\"Cyprus\"],\"xaxis\":\"x\",\"y\":[133619200.0],\"yaxis\":\"y\",\"type\":\"bar\",\"textfont\":{\"size\":12},\"cliponaxis\":false,\"textangle\":0},{\"alignmentgroup\":\"True\",\"customdata\":[[6411.0,2401.0]],\"hovertemplate\":\"Country=%{x}<br>Yearly Oil Budget (USD)=%{y}<br>GDP Per Capita ( USD )=%{customdata[0]}<br>Gallons GDP Per Capita Can Buy=%{customdata[1]}<extra></extra>\",\"legendgroup\":\"Belarus\",\"marker\":{\"color\":\"#00cc96\",\"pattern\":{\"shape\":\"\"}},\"name\":\"Belarus\",\"offsetgroup\":\"Belarus\",\"orientation\":\"v\",\"showlegend\":true,\"textposition\":\"outside\",\"x\":[\"Belarus\"],\"xaxis\":\"x\",\"y\":[133513350.0],\"yaxis\":\"y\",\"type\":\"bar\",\"textfont\":{\"size\":12},\"cliponaxis\":false,\"textangle\":0},{\"alignmentgroup\":\"True\",\"customdata\":[[2423.0,12115.0]],\"hovertemplate\":\"Country=%{x}<br>Yearly Oil Budget (USD)=%{y}<br>GDP Per Capita ( USD )=%{customdata[0]}<br>Gallons GDP Per Capita Can Buy=%{customdata[1]}<extra></extra>\",\"legendgroup\":\"Iran\",\"marker\":{\"color\":\"#ab63fa\",\"pattern\":{\"shape\":\"\"}},\"name\":\"Iran\",\"offsetgroup\":\"Iran\",\"orientation\":\"v\",\"showlegend\":true,\"textposition\":\"outside\",\"x\":[\"Iran\"],\"xaxis\":\"x\",\"y\":[131691927.0],\"yaxis\":\"y\",\"type\":\"bar\",\"textfont\":{\"size\":12},\"cliponaxis\":false,\"textangle\":0},{\"alignmentgroup\":\"True\",\"customdata\":[[1077.0,222.0]],\"hovertemplate\":\"Country=%{x}<br>Yearly Oil Budget (USD)=%{y}<br>GDP Per Capita ( USD )=%{customdata[0]}<br>Gallons GDP Per Capita Can Buy=%{customdata[1]}<extra></extra>\",\"legendgroup\":\"Tanzania\",\"marker\":{\"color\":\"#FFA15A\",\"pattern\":{\"shape\":\"\"}},\"name\":\"Tanzania\",\"offsetgroup\":\"Tanzania\",\"orientation\":\"v\",\"showlegend\":true,\"textposition\":\"outside\",\"x\":[\"Tanzania\"],\"xaxis\":\"x\",\"y\":[127719026.10000001],\"yaxis\":\"y\",\"type\":\"bar\",\"textfont\":{\"size\":12},\"cliponaxis\":false,\"textangle\":0},{\"alignmentgroup\":\"True\",\"customdata\":[[4665.0,733.0]],\"hovertemplate\":\"Country=%{x}<br>Yearly Oil Budget (USD)=%{y}<br>GDP Per Capita ( USD )=%{customdata[0]}<br>Gallons GDP Per Capita Can Buy=%{customdata[1]}<extra></extra>\",\"legendgroup\":\"Jamaica\",\"marker\":{\"color\":\"#19d3f3\",\"pattern\":{\"shape\":\"\"}},\"name\":\"Jamaica\",\"offsetgroup\":\"Jamaica\",\"orientation\":\"v\",\"showlegend\":true,\"textposition\":\"outside\",\"x\":[\"Jamaica\"],\"xaxis\":\"x\",\"y\":[125355600.0],\"yaxis\":\"y\",\"type\":\"bar\",\"textfont\":{\"size\":12},\"cliponaxis\":false,\"textangle\":0},{\"alignmentgroup\":\"True\",\"customdata\":[[12141.0,2068.0]],\"hovertemplate\":\"Country=%{x}<br>Yearly Oil Budget (USD)=%{y}<br>GDP Per Capita ( USD )=%{customdata[0]}<br>Gallons GDP Per Capita Can Buy=%{customdata[1]}<extra></extra>\",\"legendgroup\":\"Costa Rica\",\"marker\":{\"color\":\"#FF6692\",\"pattern\":{\"shape\":\"\"}},\"name\":\"Costa Rica\",\"offsetgroup\":\"Costa Rica\",\"orientation\":\"v\",\"showlegend\":true,\"textposition\":\"outside\",\"x\":[\"Costa Rica\"],\"xaxis\":\"x\",\"y\":[117840250.0],\"yaxis\":\"y\",\"type\":\"bar\",\"textfont\":{\"size\":12},\"cliponaxis\":false,\"textangle\":0},{\"alignmentgroup\":\"True\",\"customdata\":[[25517.0,4149.0]],\"hovertemplate\":\"Country=%{x}<br>Yearly Oil Budget (USD)=%{y}<br>GDP Per Capita ( USD )=%{customdata[0]}<br>Gallons GDP Per Capita Can Buy=%{customdata[1]}<extra></extra>\",\"legendgroup\":\"Slovenia\",\"marker\":{\"color\":\"#B6E880\",\"pattern\":{\"shape\":\"\"}},\"name\":\"Slovenia\",\"offsetgroup\":\"Slovenia\",\"orientation\":\"v\",\"showlegend\":true,\"textposition\":\"outside\",\"x\":[\"Slovenia\"],\"xaxis\":\"x\",\"y\":[117395935.5],\"yaxis\":\"y\",\"type\":\"bar\",\"textfont\":{\"size\":12},\"cliponaxis\":false,\"textangle\":0},{\"alignmentgroup\":\"True\",\"customdata\":[[2406.0,438.0]],\"hovertemplate\":\"Country=%{x}<br>Yearly Oil Budget (USD)=%{y}<br>GDP Per Capita ( USD )=%{customdata[0]}<br>Gallons GDP Per Capita Can Buy=%{customdata[1]}<extra></extra>\",\"legendgroup\":\"Honduras\",\"marker\":{\"color\":\"#FF97FF\",\"pattern\":{\"shape\":\"\"}},\"name\":\"Honduras\",\"offsetgroup\":\"Honduras\",\"orientation\":\"v\",\"showlegend\":true,\"textposition\":\"outside\",\"x\":[\"Honduras\"],\"xaxis\":\"x\",\"y\":[116223300.0],\"yaxis\":\"y\",\"type\":\"bar\",\"textfont\":{\"size\":12},\"cliponaxis\":false,\"textangle\":0},{\"alignmentgroup\":\"True\",\"customdata\":[[17726.0,2141.0]],\"hovertemplate\":\"Country=%{x}<br>Yearly Oil Budget (USD)=%{y}<br>GDP Per Capita ( USD )=%{customdata[0]}<br>Gallons GDP Per Capita Can Buy=%{customdata[1]}<extra></extra>\",\"legendgroup\":\"Latvia\",\"marker\":{\"color\":\"#FECB52\",\"pattern\":{\"shape\":\"\"}},\"name\":\"Latvia\",\"offsetgroup\":\"Latvia\",\"orientation\":\"v\",\"showlegend\":true,\"textposition\":\"outside\",\"x\":[\"Latvia\"],\"xaxis\":\"x\",\"y\":[113918806.8],\"yaxis\":\"y\",\"type\":\"bar\",\"textfont\":{\"size\":12},\"cliponaxis\":false,\"textangle\":0},{\"alignmentgroup\":\"True\",\"customdata\":[[1513.0,262.0]],\"hovertemplate\":\"Country=%{x}<br>Yearly Oil Budget (USD)=%{y}<br>GDP Per Capita ( USD )=%{customdata[0]}<br>Gallons GDP Per Capita Can Buy=%{customdata[1]}<extra></extra>\",\"legendgroup\":\"Cambodia\",\"marker\":{\"color\":\"#636efa\",\"pattern\":{\"shape\":\"\"}},\"name\":\"Cambodia\",\"offsetgroup\":\"Cambodia\",\"orientation\":\"v\",\"showlegend\":true,\"textposition\":\"outside\",\"x\":[\"Cambodia\"],\"xaxis\":\"x\",\"y\":[101265600.0],\"yaxis\":\"y\",\"type\":\"bar\",\"textfont\":{\"size\":12},\"cliponaxis\":false,\"textangle\":0},{\"alignmentgroup\":\"True\",\"customdata\":[[3320.0,1161.0]],\"hovertemplate\":\"Country=%{x}<br>Yearly Oil Budget (USD)=%{y}<br>GDP Per Capita ( USD )=%{customdata[0]}<br>Gallons GDP Per Capita Can Buy=%{customdata[1]}<extra></extra>\",\"legendgroup\":\"Tunisia\",\"marker\":{\"color\":\"#EF553B\",\"pattern\":{\"shape\":\"\"}},\"name\":\"Tunisia\",\"offsetgroup\":\"Tunisia\",\"orientation\":\"v\",\"showlegend\":true,\"textposition\":\"outside\",\"x\":[\"Tunisia\"],\"xaxis\":\"x\",\"y\":[101258300.0],\"yaxis\":\"y\",\"type\":\"bar\",\"textfont\":{\"size\":12},\"cliponaxis\":false,\"textangle\":0},{\"alignmentgroup\":\"True\",\"customdata\":[[4950.0,934.0]],\"hovertemplate\":\"Country=%{x}<br>Yearly Oil Budget (USD)=%{y}<br>GDP Per Capita ( USD )=%{customdata[0]}<br>Gallons GDP Per Capita Can Buy=%{customdata[1]}<extra></extra>\",\"legendgroup\":\"Paraguay\",\"marker\":{\"color\":\"#00cc96\",\"pattern\":{\"shape\":\"\"}},\"name\":\"Paraguay\",\"offsetgroup\":\"Paraguay\",\"orientation\":\"v\",\"showlegend\":true,\"textposition\":\"outside\",\"x\":[\"Paraguay\"],\"xaxis\":\"x\",\"y\":[98659500.0],\"yaxis\":\"y\",\"type\":\"bar\",\"textfont\":{\"size\":12},\"cliponaxis\":false,\"textangle\":0},{\"alignmentgroup\":\"True\",\"customdata\":[[1488.0,276.0]],\"hovertemplate\":\"Country=%{x}<br>Yearly Oil Budget (USD)=%{y}<br>GDP Per Capita ( USD )=%{customdata[0]}<br>Gallons GDP Per Capita Can Buy=%{customdata[1]}<extra></extra>\",\"legendgroup\":\"Senegal\",\"marker\":{\"color\":\"#ab63fa\",\"pattern\":{\"shape\":\"\"}},\"name\":\"Senegal\",\"offsetgroup\":\"Senegal\",\"orientation\":\"v\",\"showlegend\":true,\"textposition\":\"outside\",\"x\":[\"Senegal\"],\"xaxis\":\"x\",\"y\":[96400150.0],\"yaxis\":\"y\",\"type\":\"bar\",\"textfont\":{\"size\":12},\"cliponaxis\":false,\"textangle\":0},{\"alignmentgroup\":\"True\",\"customdata\":[[27885.0,5281.0]],\"hovertemplate\":\"Country=%{x}<br>Yearly Oil Budget (USD)=%{y}<br>GDP Per Capita ( USD )=%{customdata[0]}<br>Gallons GDP Per Capita Can Buy=%{customdata[1]}<extra></extra>\",\"legendgroup\":\"Malta\",\"marker\":{\"color\":\"#FFA15A\",\"pattern\":{\"shape\":\"\"}},\"name\":\"Malta\",\"offsetgroup\":\"Malta\",\"orientation\":\"v\",\"showlegend\":true,\"textposition\":\"outside\",\"x\":[\"Malta\"],\"xaxis\":\"x\",\"y\":[90578400.0],\"yaxis\":\"y\",\"type\":\"bar\",\"textfont\":{\"size\":12},\"cliponaxis\":false,\"textangle\":0},{\"alignmentgroup\":\"True\",\"customdata\":[[7612.0,4699.0]],\"hovertemplate\":\"Country=%{x}<br>Yearly Oil Budget (USD)=%{y}<br>GDP Per Capita ( USD )=%{customdata[0]}<br>Gallons GDP Per Capita Can Buy=%{customdata[1]}<extra></extra>\",\"legendgroup\":\"Turkmenistan\",\"marker\":{\"color\":\"#19d3f3\",\"pattern\":{\"shape\":\"\"}},\"name\":\"Turkmenistan\",\"offsetgroup\":\"Turkmenistan\",\"orientation\":\"v\",\"showlegend\":true,\"textposition\":\"outside\",\"x\":[\"Turkmenistan\"],\"xaxis\":\"x\",\"y\":[88103700.0],\"yaxis\":\"y\",\"type\":\"bar\",\"textfont\":{\"size\":12},\"cliponaxis\":false,\"textangle\":0},{\"alignmentgroup\":\"True\",\"customdata\":[[23027.0,2758.0]],\"hovertemplate\":\"Country=%{x}<br>Yearly Oil Budget (USD)=%{y}<br>GDP Per Capita ( USD )=%{customdata[0]}<br>Gallons GDP Per Capita Can Buy=%{customdata[1]}<extra></extra>\",\"legendgroup\":\"Estonia\",\"marker\":{\"color\":\"#FF6692\",\"pattern\":{\"shape\":\"\"}},\"name\":\"Estonia\",\"offsetgroup\":\"Estonia\",\"orientation\":\"v\",\"showlegend\":true,\"textposition\":\"outside\",\"x\":[\"Estonia\"],\"xaxis\":\"x\",\"y\":[87942826.25],\"yaxis\":\"y\",\"type\":\"bar\",\"textfont\":{\"size\":12},\"cliponaxis\":false,\"textangle\":0},{\"alignmentgroup\":\"True\",\"customdata\":[[1155.0,214.0]],\"hovertemplate\":\"Country=%{x}<br>Yearly Oil Budget (USD)=%{y}<br>GDP Per Capita ( USD )=%{customdata[0]}<br>Gallons GDP Per Capita Can Buy=%{customdata[1]}<extra></extra>\",\"legendgroup\":\"Nepal\",\"marker\":{\"color\":\"#B6E880\",\"pattern\":{\"shape\":\"\"}},\"name\":\"Nepal\",\"offsetgroup\":\"Nepal\",\"orientation\":\"v\",\"showlegend\":true,\"textposition\":\"outside\",\"x\":[\"Nepal\"],\"xaxis\":\"x\",\"y\":[84596050.0],\"yaxis\":\"y\",\"type\":\"bar\",\"textfont\":{\"size\":12},\"cliponaxis\":false,\"textangle\":0},{\"alignmentgroup\":\"True\",\"customdata\":[[6032.0,921.0]],\"hovertemplate\":\"Country=%{x}<br>Yearly Oil Budget (USD)=%{y}<br>GDP Per Capita ( USD )=%{customdata[0]}<br>Gallons GDP Per Capita Can Buy=%{customdata[1]}<extra></extra>\",\"legendgroup\":\"Bosnia and Herzegovina\",\"marker\":{\"color\":\"#FF97FF\",\"pattern\":{\"shape\":\"\"}},\"name\":\"Bosnia and Herzegovina\",\"offsetgroup\":\"Bosnia and Herzegovina\",\"orientation\":\"v\",\"showlegend\":true,\"textposition\":\"outside\",\"x\":[\"Bosnia and Herzegovina\"],\"xaxis\":\"x\",\"y\":[83676250.0],\"yaxis\":\"y\",\"type\":\"bar\",\"textfont\":{\"size\":12},\"cliponaxis\":false,\"textangle\":0},{\"alignmentgroup\":\"True\",\"customdata\":[[2325.0,520.0]],\"hovertemplate\":\"Country=%{x}<br>Yearly Oil Budget (USD)=%{y}<br>GDP Per Capita ( USD )=%{customdata[0]}<br>Gallons GDP Per Capita Can Buy=%{customdata[1]}<extra></extra>\",\"legendgroup\":\"C\\u00f4te d'Ivoire\",\"marker\":{\"color\":\"#FECB52\",\"pattern\":{\"shape\":\"\"}},\"name\":\"C\\u00f4te d'Ivoire\",\"offsetgroup\":\"C\\u00f4te d'Ivoire\",\"orientation\":\"v\",\"showlegend\":true,\"textposition\":\"outside\",\"x\":[\"C\\u00f4te d'Ivoire\"],\"xaxis\":\"x\",\"y\":[83209050.0],\"yaxis\":\"y\",\"type\":\"bar\",\"textfont\":{\"size\":12},\"cliponaxis\":false,\"textangle\":0},{\"alignmentgroup\":\"True\",\"customdata\":[[3799.0,881.0]],\"hovertemplate\":\"Country=%{x}<br>Yearly Oil Budget (USD)=%{y}<br>GDP Per Capita ( USD )=%{customdata[0]}<br>Gallons GDP Per Capita Can Buy=%{customdata[1]}<extra></extra>\",\"legendgroup\":\"El Salvador\",\"marker\":{\"color\":\"#636efa\",\"pattern\":{\"shape\":\"\"}},\"name\":\"El Salvador\",\"offsetgroup\":\"El Salvador\",\"orientation\":\"v\",\"showlegend\":true,\"textposition\":\"outside\",\"x\":[\"El Salvador\"],\"xaxis\":\"x\",\"y\":[81803800.0],\"yaxis\":\"y\",\"type\":\"bar\",\"textfont\":{\"size\":12},\"cliponaxis\":false,\"textangle\":0},{\"alignmentgroup\":\"True\",\"customdata\":[[2637.0,449.0]],\"hovertemplate\":\"Country=%{x}<br>Yearly Oil Budget (USD)=%{y}<br>GDP Per Capita ( USD )=%{customdata[0]}<br>Gallons GDP Per Capita Can Buy=%{customdata[1]}<extra></extra>\",\"legendgroup\":\"Papua New Guinea\",\"marker\":{\"color\":\"#EF553B\",\"pattern\":{\"shape\":\"\"}},\"name\":\"Papua New Guinea\",\"offsetgroup\":\"Papua New Guinea\",\"orientation\":\"v\",\"showlegend\":true,\"textposition\":\"outside\",\"x\":[\"Papua New Guinea\"],\"xaxis\":\"x\",\"y\":[79276492.55],\"yaxis\":\"y\",\"type\":\"bar\",\"textfont\":{\"size\":12},\"cliponaxis\":false,\"textangle\":0},{\"alignmentgroup\":\"True\",\"customdata\":[[5215.0,652.0]],\"hovertemplate\":\"Country=%{x}<br>Yearly Oil Budget (USD)=%{y}<br>GDP Per Capita ( USD )=%{customdata[0]}<br>Gallons GDP Per Capita Can Buy=%{customdata[1]}<extra></extra>\",\"legendgroup\":\"Albania\",\"marker\":{\"color\":\"#00cc96\",\"pattern\":{\"shape\":\"\"}},\"name\":\"Albania\",\"offsetgroup\":\"Albania\",\"orientation\":\"v\",\"showlegend\":true,\"textposition\":\"outside\",\"x\":[\"Albania\"],\"xaxis\":\"x\",\"y\":[78840000.0],\"yaxis\":\"y\",\"type\":\"bar\",\"textfont\":{\"size\":12},\"cliponaxis\":false,\"textangle\":0},{\"alignmentgroup\":\"True\",\"customdata\":[[15426.0,4103.0]],\"hovertemplate\":\"Country=%{x}<br>Yearly Oil Budget (USD)=%{y}<br>GDP Per Capita ( USD )=%{customdata[0]}<br>Gallons GDP Per Capita Can Buy=%{customdata[1]}<extra></extra>\",\"legendgroup\":\"Trinidad and Tobago\",\"marker\":{\"color\":\"#ab63fa\",\"pattern\":{\"shape\":\"\"}},\"name\":\"Trinidad and Tobago\",\"offsetgroup\":\"Trinidad and Tobago\",\"orientation\":\"v\",\"showlegend\":true,\"textposition\":\"outside\",\"x\":[\"Trinidad and Tobago\"],\"xaxis\":\"x\",\"y\":[78226800.0],\"yaxis\":\"y\",\"type\":\"bar\",\"textfont\":{\"size\":12},\"cliponaxis\":false,\"textangle\":0},{\"alignmentgroup\":\"True\",\"customdata\":[[4214.0,1890.0]],\"hovertemplate\":\"Country=%{x}<br>Yearly Oil Budget (USD)=%{y}<br>GDP Per Capita ( USD )=%{customdata[0]}<br>Gallons GDP Per Capita Can Buy=%{customdata[1]}<extra></extra>\",\"legendgroup\":\"Azerbaijan\",\"marker\":{\"color\":\"#FFA15A\",\"pattern\":{\"shape\":\"\"}},\"name\":\"Azerbaijan\",\"offsetgroup\":\"Azerbaijan\",\"orientation\":\"v\",\"showlegend\":true,\"textposition\":\"outside\",\"x\":[\"Azerbaijan\"],\"xaxis\":\"x\",\"y\":[78139200.0],\"yaxis\":\"y\",\"type\":\"bar\",\"textfont\":{\"size\":12},\"cliponaxis\":false,\"textangle\":0},{\"alignmentgroup\":\"True\",\"customdata\":[[936.0,347.0]],\"hovertemplate\":\"Country=%{x}<br>Yearly Oil Budget (USD)=%{y}<br>GDP Per Capita ( USD )=%{customdata[0]}<br>Gallons GDP Per Capita Can Buy=%{customdata[1]}<extra></extra>\",\"legendgroup\":\"Ethiopia\",\"marker\":{\"color\":\"#19d3f3\",\"pattern\":{\"shape\":\"\"}},\"name\":\"Ethiopia\",\"offsetgroup\":\"Ethiopia\",\"orientation\":\"v\",\"showlegend\":true,\"textposition\":\"outside\",\"x\":[\"Ethiopia\"],\"xaxis\":\"x\",\"y\":[72927000.0],\"yaxis\":\"y\",\"type\":\"bar\",\"textfont\":{\"size\":12},\"cliponaxis\":false,\"textangle\":0},{\"alignmentgroup\":\"True\",\"customdata\":[[449.0,91.0]],\"hovertemplate\":\"Country=%{x}<br>Yearly Oil Budget (USD)=%{y}<br>GDP Per Capita ( USD )=%{customdata[0]}<br>Gallons GDP Per Capita Can Buy=%{customdata[1]}<extra></extra>\",\"legendgroup\":\"Mozambique\",\"marker\":{\"color\":\"#FF6692\",\"pattern\":{\"shape\":\"\"}},\"name\":\"Mozambique\",\"offsetgroup\":\"Mozambique\",\"orientation\":\"v\",\"showlegend\":true,\"textposition\":\"outside\",\"x\":[\"Mozambique\"],\"xaxis\":\"x\",\"y\":[72124000.0],\"yaxis\":\"y\",\"type\":\"bar\",\"textfont\":{\"size\":12},\"cliponaxis\":false,\"textangle\":0},{\"alignmentgroup\":\"True\",\"customdata\":[[1905.0,368.0]],\"hovertemplate\":\"Country=%{x}<br>Yearly Oil Budget (USD)=%{y}<br>GDP Per Capita ( USD )=%{customdata[0]}<br>Gallons GDP Per Capita Can Buy=%{customdata[1]}<extra></extra>\",\"legendgroup\":\"Nicaragua\",\"marker\":{\"color\":\"#B6E880\",\"pattern\":{\"shape\":\"\"}},\"name\":\"Nicaragua\",\"offsetgroup\":\"Nicaragua\",\"orientation\":\"v\",\"showlegend\":true,\"textposition\":\"outside\",\"x\":[\"Nicaragua\"],\"xaxis\":\"x\",\"y\":[69955900.0],\"yaxis\":\"y\",\"type\":\"bar\",\"textfont\":{\"size\":12},\"cliponaxis\":false,\"textangle\":0},{\"alignmentgroup\":\"True\",\"customdata\":[[59270.0,6030.0]],\"hovertemplate\":\"Country=%{x}<br>Yearly Oil Budget (USD)=%{y}<br>GDP Per Capita ( USD )=%{customdata[0]}<br>Gallons GDP Per Capita Can Buy=%{customdata[1]}<extra></extra>\",\"legendgroup\":\"Iceland\",\"marker\":{\"color\":\"#FF97FF\",\"pattern\":{\"shape\":\"\"}},\"name\":\"Iceland\",\"offsetgroup\":\"Iceland\",\"orientation\":\"v\",\"showlegend\":true,\"textposition\":\"outside\",\"x\":[\"Iceland\"],\"xaxis\":\"x\",\"y\":[68493965.5],\"yaxis\":\"y\",\"type\":\"bar\",\"textfont\":{\"size\":12},\"cliponaxis\":false,\"textangle\":0},{\"alignmentgroup\":\"True\",\"customdata\":[[3143.0,1526.0]],\"hovertemplate\":\"Country=%{x}<br>Yearly Oil Budget (USD)=%{y}<br>GDP Per Capita ( USD )=%{customdata[0]}<br>Gallons GDP Per Capita Can Buy=%{customdata[1]}<extra></extra>\",\"legendgroup\":\"Bolivia\",\"marker\":{\"color\":\"#FECB52\",\"pattern\":{\"shape\":\"\"}},\"name\":\"Bolivia\",\"offsetgroup\":\"Bolivia\",\"orientation\":\"v\",\"showlegend\":true,\"textposition\":\"outside\",\"x\":[\"Bolivia\"],\"xaxis\":\"x\",\"y\":[67671000.0],\"yaxis\":\"y\",\"type\":\"bar\",\"textfont\":{\"size\":12},\"cliponaxis\":false,\"textangle\":0},{\"alignmentgroup\":\"True\",\"customdata\":[[1896.0,1364.0]],\"hovertemplate\":\"Country=%{x}<br>Yearly Oil Budget (USD)=%{y}<br>GDP Per Capita ( USD )=%{customdata[0]}<br>Gallons GDP Per Capita Can Buy=%{customdata[1]}<extra></extra>\",\"legendgroup\":\"Angola\",\"marker\":{\"color\":\"#636efa\",\"pattern\":{\"shape\":\"\"}},\"name\":\"Angola\",\"offsetgroup\":\"Angola\",\"orientation\":\"v\",\"showlegend\":true,\"textposition\":\"outside\",\"x\":[\"Angola\"],\"xaxis\":\"x\",\"y\":[67477550.0],\"yaxis\":\"y\",\"type\":\"bar\",\"textfont\":{\"size\":12},\"cliponaxis\":false,\"textangle\":0},{\"alignmentgroup\":\"True\",\"customdata\":[[817.0,143.0]],\"hovertemplate\":\"Country=%{x}<br>Yearly Oil Budget (USD)=%{y}<br>GDP Per Capita ( USD )=%{customdata[0]}<br>Gallons GDP Per Capita Can Buy=%{customdata[1]}<extra></extra>\",\"legendgroup\":\"Uganda\",\"marker\":{\"color\":\"#EF553B\",\"pattern\":{\"shape\":\"\"}},\"name\":\"Uganda\",\"offsetgroup\":\"Uganda\",\"orientation\":\"v\",\"showlegend\":true,\"textposition\":\"outside\",\"x\":[\"Uganda\"],\"xaxis\":\"x\",\"y\":[66578080.5],\"yaxis\":\"y\",\"type\":\"bar\",\"textfont\":{\"size\":12},\"cliponaxis\":false,\"textangle\":0},{\"alignmentgroup\":\"True\",\"customdata\":[[8628.0,1357.0]],\"hovertemplate\":\"Country=%{x}<br>Yearly Oil Budget (USD)=%{y}<br>GDP Per Capita ( USD )=%{customdata[0]}<br>Gallons GDP Per Capita Can Buy=%{customdata[1]}<extra></extra>\",\"legendgroup\":\"Mauritius\",\"marker\":{\"color\":\"#00cc96\",\"pattern\":{\"shape\":\"\"}},\"name\":\"Mauritius\",\"offsetgroup\":\"Mauritius\",\"orientation\":\"v\",\"showlegend\":true,\"textposition\":\"outside\",\"x\":[\"Mauritius\"],\"xaxis\":\"x\",\"y\":[64999200.0],\"yaxis\":\"y\",\"type\":\"bar\",\"textfont\":{\"size\":12},\"cliponaxis\":false,\"textangle\":0},{\"alignmentgroup\":\"True\",\"customdata\":[[4279.0,849.0]],\"hovertemplate\":\"Country=%{x}<br>Yearly Oil Budget (USD)=%{y}<br>GDP Per Capita ( USD )=%{customdata[0]}<br>Gallons GDP Per Capita Can Buy=%{customdata[1]}<extra></extra>\",\"legendgroup\":\"Georgia\",\"marker\":{\"color\":\"#ab63fa\",\"pattern\":{\"shape\":\"\"}},\"name\":\"Georgia\",\"offsetgroup\":\"Georgia\",\"orientation\":\"v\",\"showlegend\":true,\"textposition\":\"outside\",\"x\":[\"Georgia\"],\"xaxis\":\"x\",\"y\":[60706800.0],\"yaxis\":\"y\",\"type\":\"bar\",\"textfont\":{\"size\":12},\"cliponaxis\":false,\"textangle\":0},{\"alignmentgroup\":\"True\",\"customdata\":[[1686.0,497.0]],\"hovertemplate\":\"Country=%{x}<br>Yearly Oil Budget (USD)=%{y}<br>GDP Per Capita ( USD )=%{customdata[0]}<br>Gallons GDP Per Capita Can Buy=%{customdata[1]}<extra></extra>\",\"legendgroup\":\"Uzbekistan\",\"marker\":{\"color\":\"#FFA15A\",\"pattern\":{\"shape\":\"\"}},\"name\":\"Uzbekistan\",\"offsetgroup\":\"Uzbekistan\",\"orientation\":\"v\",\"showlegend\":true,\"textposition\":\"outside\",\"x\":[\"Uzbekistan\"],\"xaxis\":\"x\",\"y\":[60630150.0],\"yaxis\":\"y\",\"type\":\"bar\",\"textfont\":{\"size\":12},\"cliponaxis\":false,\"textangle\":0},{\"alignmentgroup\":\"True\",\"customdata\":[[34789.0,4248.0]],\"hovertemplate\":\"Country=%{x}<br>Yearly Oil Budget (USD)=%{y}<br>GDP Per Capita ( USD )=%{customdata[0]}<br>Gallons GDP Per Capita Can Buy=%{customdata[1]}<extra></extra>\",\"legendgroup\":\"New Caledonia\",\"marker\":{\"color\":\"#19d3f3\",\"pattern\":{\"shape\":\"\"}},\"name\":\"New Caledonia\",\"offsetgroup\":\"New Caledonia\",\"orientation\":\"v\",\"showlegend\":true,\"textposition\":\"outside\",\"x\":[\"New Caledonia\"],\"xaxis\":\"x\",\"y\":[59787000.0],\"yaxis\":\"y\",\"type\":\"bar\",\"textfont\":{\"size\":12},\"cliponaxis\":false,\"textangle\":0},{\"alignmentgroup\":\"True\",\"customdata\":[[3240.0,489.0]],\"hovertemplate\":\"Country=%{x}<br>Yearly Oil Budget (USD)=%{y}<br>GDP Per Capita ( USD )=%{customdata[0]}<br>Gallons GDP Per Capita Can Buy=%{customdata[1]}<extra></extra>\",\"legendgroup\":\"State of Palestine\",\"marker\":{\"color\":\"#FF6692\",\"pattern\":{\"shape\":\"\"}},\"name\":\"State of Palestine\",\"offsetgroup\":\"State of Palestine\",\"orientation\":\"v\",\"showlegend\":true,\"textposition\":\"outside\",\"x\":[\"State of Palestine\"],\"xaxis\":\"x\",\"y\":[57993616.300000004],\"yaxis\":\"y\",\"type\":\"bar\",\"textfont\":{\"size\":12},\"cliponaxis\":false,\"textangle\":0},{\"alignmentgroup\":\"True\",\"customdata\":[[1499.0,381.0]],\"hovertemplate\":\"Country=%{x}<br>Yearly Oil Budget (USD)=%{y}<br>GDP Per Capita ( USD )=%{customdata[0]}<br>Gallons GDP Per Capita Can Buy=%{customdata[1]}<extra></extra>\",\"legendgroup\":\"Cameroon\",\"marker\":{\"color\":\"#B6E880\",\"pattern\":{\"shape\":\"\"}},\"name\":\"Cameroon\",\"offsetgroup\":\"Cameroon\",\"orientation\":\"v\",\"showlegend\":true,\"textposition\":\"outside\",\"x\":[\"Cameroon\"],\"xaxis\":\"x\",\"y\":[57378000.0],\"yaxis\":\"y\",\"type\":\"bar\",\"textfont\":{\"size\":12},\"cliponaxis\":false,\"textangle\":0},{\"alignmentgroup\":\"True\",\"customdata\":[[2033.0,1882.0]],\"hovertemplate\":\"Country=%{x}<br>Yearly Oil Budget (USD)=%{y}<br>GDP Per Capita ( USD )=%{customdata[0]}<br>Gallons GDP Per Capita Can Buy=%{customdata[1]}<extra></extra>\",\"legendgroup\":\"Syria\",\"marker\":{\"color\":\"#FF97FF\",\"pattern\":{\"shape\":\"\"}},\"name\":\"Syria\",\"offsetgroup\":\"Syria\",\"orientation\":\"v\",\"showlegend\":true,\"textposition\":\"outside\",\"x\":[\"Syria\"],\"xaxis\":\"x\",\"y\":[55188000.0],\"yaxis\":\"y\",\"type\":\"bar\",\"textfont\":{\"size\":12},\"cliponaxis\":false,\"textangle\":0},{\"alignmentgroup\":\"True\",\"customdata\":[[5888.0,827.0]],\"hovertemplate\":\"Country=%{x}<br>Yearly Oil Budget (USD)=%{y}<br>GDP Per Capita ( USD )=%{customdata[0]}<br>Gallons GDP Per Capita Can Buy=%{customdata[1]}<extra></extra>\",\"legendgroup\":\"North Macedonia\",\"marker\":{\"color\":\"#FECB52\",\"pattern\":{\"shape\":\"\"}},\"name\":\"North Macedonia\",\"offsetgroup\":\"North Macedonia\",\"orientation\":\"v\",\"showlegend\":true,\"textposition\":\"outside\",\"x\":[\"North Macedonia\"],\"xaxis\":\"x\",\"y\":[54574800.0],\"yaxis\":\"y\",\"type\":\"bar\",\"textfont\":{\"size\":12},\"cliponaxis\":false,\"textangle\":0},{\"alignmentgroup\":\"True\",\"customdata\":[[1128.0,184.0]],\"hovertemplate\":\"Country=%{x}<br>Yearly Oil Budget (USD)=%{y}<br>GDP Per Capita ( USD )=%{customdata[0]}<br>Gallons GDP Per Capita Can Buy=%{customdata[1]}<extra></extra>\",\"legendgroup\":\"Zimbabwe\",\"marker\":{\"color\":\"#636efa\",\"pattern\":{\"shape\":\"\"}},\"name\":\"Zimbabwe\",\"offsetgroup\":\"Zimbabwe\",\"orientation\":\"v\",\"showlegend\":true,\"textposition\":\"outside\",\"x\":[\"Zimbabwe\"],\"xaxis\":\"x\",\"y\":[53698800.0],\"yaxis\":\"y\",\"type\":\"bar\",\"textfont\":{\"size\":12},\"cliponaxis\":false,\"textangle\":0},{\"alignmentgroup\":\"True\",\"customdata\":[[1291.0,356.0]],\"hovertemplate\":\"Country=%{x}<br>Yearly Oil Budget (USD)=%{y}<br>GDP Per Capita ( USD )=%{customdata[0]}<br>Gallons GDP Per Capita Can Buy=%{customdata[1]}<extra></extra>\",\"legendgroup\":\"Benin\",\"marker\":{\"color\":\"#EF553B\",\"pattern\":{\"shape\":\"\"}},\"name\":\"Benin\",\"offsetgroup\":\"Benin\",\"orientation\":\"v\",\"showlegend\":true,\"textposition\":\"outside\",\"x\":[\"Benin\"],\"xaxis\":\"x\",\"y\":[47698200.0],\"yaxis\":\"y\",\"type\":\"bar\",\"textfont\":{\"size\":12},\"cliponaxis\":false,\"textangle\":0},{\"alignmentgroup\":\"True\",\"customdata\":[[2630.0,364.0]],\"hovertemplate\":\"Country=%{x}<br>Yearly Oil Budget (USD)=%{y}<br>GDP Per Capita ( USD )=%{customdata[0]}<br>Gallons GDP Per Capita Can Buy=%{customdata[1]}<extra></extra>\",\"legendgroup\":\"Laos\",\"marker\":{\"color\":\"#00cc96\",\"pattern\":{\"shape\":\"\"}},\"name\":\"Laos\",\"offsetgroup\":\"Laos\",\"orientation\":\"v\",\"showlegend\":true,\"textposition\":\"outside\",\"x\":[\"Laos\"],\"xaxis\":\"x\",\"y\":[47501100.0],\"yaxis\":\"y\",\"type\":\"bar\",\"textfont\":{\"size\":12},\"cliponaxis\":false,\"textangle\":0},{\"alignmentgroup\":\"True\",\"customdata\":[[25194.0,3888.0]],\"hovertemplate\":\"Country=%{x}<br>Yearly Oil Budget (USD)=%{y}<br>GDP Per Capita ( USD )=%{customdata[0]}<br>Gallons GDP Per Capita Can Buy=%{customdata[1]}<extra></extra>\",\"legendgroup\":\"Bahamas\",\"marker\":{\"color\":\"#ab63fa\",\"pattern\":{\"shape\":\"\"}},\"name\":\"Bahamas\",\"offsetgroup\":\"Bahamas\",\"orientation\":\"v\",\"showlegend\":true,\"textposition\":\"outside\",\"x\":[\"Bahamas\"],\"xaxis\":\"x\",\"y\":[47389147.2],\"yaxis\":\"y\",\"type\":\"bar\",\"textfont\":{\"size\":12},\"cliponaxis\":false,\"textangle\":0},{\"alignmentgroup\":\"True\",\"customdata\":[[509.0,141.0]],\"hovertemplate\":\"Country=%{x}<br>Yearly Oil Budget (USD)=%{y}<br>GDP Per Capita ( USD )=%{customdata[0]}<br>Gallons GDP Per Capita Can Buy=%{customdata[1]}<extra></extra>\",\"legendgroup\":\"Afghanistan\",\"marker\":{\"color\":\"#FFA15A\",\"pattern\":{\"shape\":\"\"}},\"name\":\"Afghanistan\",\"offsetgroup\":\"Afghanistan\",\"orientation\":\"v\",\"showlegend\":true,\"textposition\":\"outside\",\"x\":[\"Afghanistan\"],\"xaxis\":\"x\",\"y\":[46245500.0],\"yaxis\":\"y\",\"type\":\"bar\",\"textfont\":{\"size\":12},\"cliponaxis\":false,\"textangle\":0},{\"alignmentgroup\":\"True\",\"customdata\":[[1174.0,374.0]],\"hovertemplate\":\"Country=%{x}<br>Yearly Oil Budget (USD)=%{y}<br>GDP Per Capita ( USD )=%{customdata[0]}<br>Gallons GDP Per Capita Can Buy=%{customdata[1]}<extra></extra>\",\"legendgroup\":\"Kyrgyzstan\",\"marker\":{\"color\":\"#19d3f3\",\"pattern\":{\"shape\":\"\"}},\"name\":\"Kyrgyzstan\",\"offsetgroup\":\"Kyrgyzstan\",\"orientation\":\"v\",\"showlegend\":true,\"textposition\":\"outside\",\"x\":[\"Kyrgyzstan\"],\"xaxis\":\"x\",\"y\":[45844000.0],\"yaxis\":\"y\",\"type\":\"bar\",\"textfont\":{\"size\":12},\"cliponaxis\":false,\"textangle\":0},{\"alignmentgroup\":\"True\",\"customdata\":[[4211.0,877.0]],\"hovertemplate\":\"Country=%{x}<br>Yearly Oil Budget (USD)=%{y}<br>GDP Per Capita ( USD )=%{customdata[0]}<br>Gallons GDP Per Capita Can Buy=%{customdata[1]}<extra></extra>\",\"legendgroup\":\"Namibia\",\"marker\":{\"color\":\"#FF6692\",\"pattern\":{\"shape\":\"\"}},\"name\":\"Namibia\",\"offsetgroup\":\"Namibia\",\"orientation\":\"v\",\"showlegend\":true,\"textposition\":\"outside\",\"x\":[\"Namibia\"],\"xaxis\":\"x\",\"y\":[45552000.0],\"yaxis\":\"y\",\"type\":\"bar\",\"textfont\":{\"size\":12},\"cliponaxis\":false,\"textangle\":0},{\"alignmentgroup\":\"True\",\"customdata\":[[859.0,145.0]],\"hovertemplate\":\"Country=%{x}<br>Yearly Oil Budget (USD)=%{y}<br>GDP Per Capita ( USD )=%{customdata[0]}<br>Gallons GDP Per Capita Can Buy=%{customdata[1]}<extra></extra>\",\"legendgroup\":\"Tajikistan\",\"marker\":{\"color\":\"#B6E880\",\"pattern\":{\"shape\":\"\"}},\"name\":\"Tajikistan\",\"offsetgroup\":\"Tajikistan\",\"orientation\":\"v\",\"showlegend\":true,\"textposition\":\"outside\",\"x\":[\"Tajikistan\"],\"xaxis\":\"x\",\"y\":[45530100.0],\"yaxis\":\"y\",\"type\":\"bar\",\"textfont\":{\"size\":12},\"cliponaxis\":false,\"textangle\":0},{\"alignmentgroup\":\"True\",\"customdata\":[[20410.0,10154.0]],\"hovertemplate\":\"Country=%{x}<br>Yearly Oil Budget (USD)=%{y}<br>GDP Per Capita ( USD )=%{customdata[0]}<br>Gallons GDP Per Capita Can Buy=%{customdata[1]}<extra></extra>\",\"legendgroup\":\"Bahrain\",\"marker\":{\"color\":\"#FF97FF\",\"pattern\":{\"shape\":\"\"}},\"name\":\"Bahrain\",\"offsetgroup\":\"Bahrain\",\"orientation\":\"v\",\"showlegend\":true,\"textposition\":\"outside\",\"x\":[\"Bahrain\"],\"xaxis\":\"x\",\"y\":[45486299.99999999],\"yaxis\":\"y\",\"type\":\"bar\",\"textfont\":{\"size\":12},\"cliponaxis\":false,\"textangle\":0},{\"alignmentgroup\":\"True\",\"customdata\":[[1051.0,188.0]],\"hovertemplate\":\"Country=%{x}<br>Yearly Oil Budget (USD)=%{y}<br>GDP Per Capita ( USD )=%{customdata[0]}<br>Gallons GDP Per Capita Can Buy=%{customdata[1]}<extra></extra>\",\"legendgroup\":\"Zambia\",\"marker\":{\"color\":\"#FECB52\",\"pattern\":{\"shape\":\"\"}},\"name\":\"Zambia\",\"offsetgroup\":\"Zambia\",\"orientation\":\"v\",\"showlegend\":true,\"textposition\":\"outside\",\"x\":[\"Zambia\"],\"xaxis\":\"x\",\"y\":[44887700.0],\"yaxis\":\"y\",\"type\":\"bar\",\"textfont\":{\"size\":12},\"cliponaxis\":false,\"textangle\":0},{\"alignmentgroup\":\"True\",\"customdata\":[[4551.0,674.0]],\"hovertemplate\":\"Country=%{x}<br>Yearly Oil Budget (USD)=%{y}<br>GDP Per Capita ( USD )=%{customdata[0]}<br>Gallons GDP Per Capita Can Buy=%{customdata[1]}<extra></extra>\",\"legendgroup\":\"Moldova\",\"marker\":{\"color\":\"#636efa\",\"pattern\":{\"shape\":\"\"}},\"name\":\"Moldova\",\"offsetgroup\":\"Moldova\",\"orientation\":\"v\",\"showlegend\":true,\"textposition\":\"outside\",\"x\":[\"Moldova\"],\"xaxis\":\"x\",\"y\":[44349963.75],\"yaxis\":\"y\",\"type\":\"bar\",\"textfont\":{\"size\":12},\"cliponaxis\":false,\"textangle\":0},{\"alignmentgroup\":\"True\",\"customdata\":[[824.0,420.0]],\"hovertemplate\":\"Country=%{x}<br>Yearly Oil Budget (USD)=%{y}<br>GDP Per Capita ( USD )=%{customdata[0]}<br>Gallons GDP Per Capita Can Buy=%{customdata[1]}<extra></extra>\",\"legendgroup\":\"Yemen\",\"marker\":{\"color\":\"#EF553B\",\"pattern\":{\"shape\":\"\"}},\"name\":\"Yemen\",\"offsetgroup\":\"Yemen\",\"orientation\":\"v\",\"showlegend\":true,\"textposition\":\"outside\",\"x\":[\"Yemen\"],\"xaxis\":\"x\",\"y\":[42924000.0],\"yaxis\":\"y\",\"type\":\"bar\",\"textfont\":{\"size\":12},\"cliponaxis\":false,\"textangle\":0},{\"alignmentgroup\":\"True\",\"customdata\":[[859.0,186.0]],\"hovertemplate\":\"Country=%{x}<br>Yearly Oil Budget (USD)=%{y}<br>GDP Per Capita ( USD )=%{customdata[0]}<br>Gallons GDP Per Capita Can Buy=%{customdata[1]}<extra></extra>\",\"legendgroup\":\"Mali\",\"marker\":{\"color\":\"#00cc96\",\"pattern\":{\"shape\":\"\"}},\"name\":\"Mali\",\"offsetgroup\":\"Mali\",\"orientation\":\"v\",\"showlegend\":true,\"textposition\":\"outside\",\"x\":[\"Mali\"],\"xaxis\":\"x\",\"y\":[37016617.35],\"yaxis\":\"y\",\"type\":\"bar\",\"textfont\":{\"size\":12},\"cliponaxis\":false,\"textangle\":0},{\"alignmentgroup\":\"True\",\"customdata\":[[831.0,192.0]],\"hovertemplate\":\"Country=%{x}<br>Yearly Oil Budget (USD)=%{y}<br>GDP Per Capita ( USD )=%{customdata[0]}<br>Gallons GDP Per Capita Can Buy=%{customdata[1]}<extra></extra>\",\"legendgroup\":\"Burkina Faso\",\"marker\":{\"color\":\"#ab63fa\",\"pattern\":{\"shape\":\"\"}},\"name\":\"Burkina Faso\",\"offsetgroup\":\"Burkina Faso\",\"orientation\":\"v\",\"showlegend\":true,\"textposition\":\"outside\",\"x\":[\"Burkina Faso\"],\"xaxis\":\"x\",\"y\":[36350350.0],\"yaxis\":\"y\",\"type\":\"bar\",\"textfont\":{\"size\":12},\"cliponaxis\":false,\"textangle\":0},{\"alignmentgroup\":\"True\",\"customdata\":[[4007.0,858.0]],\"hovertemplate\":\"Country=%{x}<br>Yearly Oil Budget (USD)=%{y}<br>GDP Per Capita ( USD )=%{customdata[0]}<br>Gallons GDP Per Capita Can Buy=%{customdata[1]}<extra></extra>\",\"legendgroup\":\"Mongolia\",\"marker\":{\"color\":\"#FFA15A\",\"pattern\":{\"shape\":\"\"}},\"name\":\"Mongolia\",\"offsetgroup\":\"Mongolia\",\"orientation\":\"v\",\"showlegend\":true,\"textposition\":\"outside\",\"x\":[\"Mongolia\"],\"xaxis\":\"x\",\"y\":[35795550.0],\"yaxis\":\"y\",\"type\":\"bar\",\"textfont\":{\"size\":12},\"cliponaxis\":false,\"textangle\":0},{\"alignmentgroup\":\"True\",\"customdata\":[[1194.0,233.0]],\"hovertemplate\":\"Country=%{x}<br>Yearly Oil Budget (USD)=%{y}<br>GDP Per Capita ( USD )=%{customdata[0]}<br>Gallons GDP Per Capita Can Buy=%{customdata[1]}<extra></extra>\",\"legendgroup\":\"Guinea\",\"marker\":{\"color\":\"#19d3f3\",\"pattern\":{\"shape\":\"\"}},\"name\":\"Guinea\",\"offsetgroup\":\"Guinea\",\"orientation\":\"v\",\"showlegend\":true,\"textposition\":\"outside\",\"x\":[\"Guinea\"],\"xaxis\":\"x\",\"y\":[35578422.45],\"yaxis\":\"y\",\"type\":\"bar\",\"textfont\":{\"size\":12},\"cliponaxis\":false,\"textangle\":0},{\"alignmentgroup\":\"True\",\"customdata\":[[557.0,126.0]],\"hovertemplate\":\"Country=%{x}<br>Yearly Oil Budget (USD)=%{y}<br>GDP Per Capita ( USD )=%{customdata[0]}<br>Gallons GDP Per Capita Can Buy=%{customdata[1]}<extra></extra>\",\"legendgroup\":\"DR Congo\",\"marker\":{\"color\":\"#FF6692\",\"pattern\":{\"shape\":\"\"}},\"name\":\"DR Congo\",\"offsetgroup\":\"DR Congo\",\"orientation\":\"v\",\"showlegend\":true,\"textposition\":\"outside\",\"x\":[\"DR Congo\"],\"xaxis\":\"x\",\"y\":[33955950.0],\"yaxis\":\"y\",\"type\":\"bar\",\"textfont\":{\"size\":12},\"cliponaxis\":false,\"textangle\":0},{\"alignmentgroup\":\"True\",\"customdata\":[[86117.0,15889.0]],\"hovertemplate\":\"Country=%{x}<br>Yearly Oil Budget (USD)=%{y}<br>GDP Per Capita ( USD )=%{customdata[0]}<br>Gallons GDP Per Capita Can Buy=%{customdata[1]}<extra></extra>\",\"legendgroup\":\"Macao\",\"marker\":{\"color\":\"#B6E880\",\"pattern\":{\"shape\":\"\"}},\"name\":\"Macao\",\"offsetgroup\":\"Macao\",\"orientation\":\"v\",\"showlegend\":true,\"textposition\":\"outside\",\"x\":[\"Macao\"],\"xaxis\":\"x\",\"y\":[33848713.0],\"yaxis\":\"y\",\"type\":\"bar\",\"textfont\":{\"size\":12},\"cliponaxis\":false,\"textangle\":0},{\"alignmentgroup\":\"True\",\"customdata\":[[15374.0,1859.0]],\"hovertemplate\":\"Country=%{x}<br>Yearly Oil Budget (USD)=%{y}<br>GDP Per Capita ( USD )=%{customdata[0]}<br>Gallons GDP Per Capita Can Buy=%{customdata[1]}<extra></extra>\",\"legendgroup\":\"Barbados\",\"marker\":{\"color\":\"#FF97FF\",\"pattern\":{\"shape\":\"\"}},\"name\":\"Barbados\",\"offsetgroup\":\"Barbados\",\"orientation\":\"v\",\"showlegend\":true,\"textposition\":\"outside\",\"x\":[\"Barbados\"],\"xaxis\":\"x\",\"y\":[33207068.549999997],\"yaxis\":\"y\",\"type\":\"bar\",\"textfont\":{\"size\":12},\"cliponaxis\":false,\"textangle\":0},{\"alignmentgroup\":\"True\",\"customdata\":[[6711.0,1564.0]],\"hovertemplate\":\"Country=%{x}<br>Yearly Oil Budget (USD)=%{y}<br>GDP Per Capita ( USD )=%{customdata[0]}<br>Gallons GDP Per Capita Can Buy=%{customdata[1]}<extra></extra>\",\"legendgroup\":\"Botswana\",\"marker\":{\"color\":\"#FECB52\",\"pattern\":{\"shape\":\"\"}},\"name\":\"Botswana\",\"offsetgroup\":\"Botswana\",\"orientation\":\"v\",\"showlegend\":true,\"textposition\":\"outside\",\"x\":[\"Botswana\"],\"xaxis\":\"x\",\"y\":[32882850.0],\"yaxis\":\"y\",\"type\":\"bar\",\"textfont\":{\"size\":12},\"cliponaxis\":false,\"textangle\":0},{\"alignmentgroup\":\"True\",\"customdata\":[[4882.0,926.0]],\"hovertemplate\":\"Country=%{x}<br>Yearly Oil Budget (USD)=%{y}<br>GDP Per Capita ( USD )=%{customdata[0]}<br>Gallons GDP Per Capita Can Buy=%{customdata[1]}<extra></extra>\",\"legendgroup\":\"Fiji\",\"marker\":{\"color\":\"#636efa\",\"pattern\":{\"shape\":\"\"}},\"name\":\"Fiji\",\"offsetgroup\":\"Fiji\",\"orientation\":\"v\",\"showlegend\":true,\"textposition\":\"outside\",\"x\":[\"Fiji\"],\"xaxis\":\"x\",\"y\":[30776799.999999996],\"yaxis\":\"y\",\"type\":\"bar\",\"textfont\":{\"size\":12},\"cliponaxis\":false,\"textangle\":0},{\"alignmentgroup\":\"True\",\"customdata\":[[7006.0,1919.0]],\"hovertemplate\":\"Country=%{x}<br>Yearly Oil Budget (USD)=%{y}<br>GDP Per Capita ( USD )=%{customdata[0]}<br>Gallons GDP Per Capita Can Buy=%{customdata[1]}<extra></extra>\",\"legendgroup\":\"Gabon\",\"marker\":{\"color\":\"#EF553B\",\"pattern\":{\"shape\":\"\"}},\"name\":\"Gabon\",\"offsetgroup\":\"Gabon\",\"orientation\":\"v\",\"showlegend\":true,\"textposition\":\"outside\",\"x\":[\"Gabon\"],\"xaxis\":\"x\",\"y\":[27977250.0],\"yaxis\":\"y\",\"type\":\"bar\",\"textfont\":{\"size\":12},\"cliponaxis\":false,\"textangle\":0},{\"alignmentgroup\":\"True\",\"customdata\":[[496.0,128.0]],\"hovertemplate\":\"Country=%{x}<br>Yearly Oil Budget (USD)=%{y}<br>GDP Per Capita ( USD )=%{customdata[0]}<br>Gallons GDP Per Capita Can Buy=%{customdata[1]}<extra></extra>\",\"legendgroup\":\"Madagascar\",\"marker\":{\"color\":\"#00cc96\",\"pattern\":{\"shape\":\"\"}},\"name\":\"Madagascar\",\"offsetgroup\":\"Madagascar\",\"orientation\":\"v\",\"showlegend\":true,\"textposition\":\"outside\",\"x\":[\"Madagascar\"],\"xaxis\":\"x\",\"y\":[25360200.0],\"yaxis\":\"y\",\"type\":\"bar\",\"textfont\":{\"size\":12},\"cliponaxis\":false,\"textangle\":0},{\"alignmentgroup\":\"True\",\"customdata\":[[1973.0,501.0]],\"hovertemplate\":\"Country=%{x}<br>Yearly Oil Budget (USD)=%{y}<br>GDP Per Capita ( USD )=%{customdata[0]}<br>Gallons GDP Per Capita Can Buy=%{customdata[1]}<extra></extra>\",\"legendgroup\":\"Congo\",\"marker\":{\"color\":\"#ab63fa\",\"pattern\":{\"shape\":\"\"}},\"name\":\"Congo\",\"offsetgroup\":\"Congo\",\"orientation\":\"v\",\"showlegend\":true,\"textposition\":\"outside\",\"x\":[\"Congo\"],\"xaxis\":\"x\",\"y\":[24447700.0],\"yaxis\":\"y\",\"type\":\"bar\",\"textfont\":{\"size\":12},\"cliponaxis\":false,\"textangle\":0},{\"alignmentgroup\":\"True\",\"customdata\":[[6956.0,1512.0]],\"hovertemplate\":\"Country=%{x}<br>Yearly Oil Budget (USD)=%{y}<br>GDP Per Capita ( USD )=%{customdata[0]}<br>Gallons GDP Per Capita Can Buy=%{customdata[1]}<extra></extra>\",\"legendgroup\":\"Guyana\",\"marker\":{\"color\":\"#FFA15A\",\"pattern\":{\"shape\":\"\"}},\"name\":\"Guyana\",\"offsetgroup\":\"Guyana\",\"orientation\":\"v\",\"showlegend\":true,\"textposition\":\"outside\",\"x\":[\"Guyana\"],\"xaxis\":\"x\",\"y\":[23506000.0],\"yaxis\":\"y\",\"type\":\"bar\",\"textfont\":{\"size\":12},\"cliponaxis\":false,\"textangle\":0},{\"alignmentgroup\":\"True\",\"customdata\":[[6491.0,1524.0]],\"hovertemplate\":\"Country=%{x}<br>Yearly Oil Budget (USD)=%{y}<br>GDP Per Capita ( USD )=%{customdata[0]}<br>Gallons GDP Per Capita Can Buy=%{customdata[1]}<extra></extra>\",\"legendgroup\":\"Suriname\",\"marker\":{\"color\":\"#19d3f3\",\"pattern\":{\"shape\":\"\"}},\"name\":\"Suriname\",\"offsetgroup\":\"Suriname\",\"orientation\":\"v\",\"showlegend\":true,\"textposition\":\"outside\",\"x\":[\"Suriname\"],\"xaxis\":\"x\",\"y\":[20213700.0],\"yaxis\":\"y\",\"type\":\"bar\",\"textfont\":{\"size\":12},\"cliponaxis\":false,\"textangle\":0},{\"alignmentgroup\":\"True\",\"customdata\":[[10764.0,1560.0]],\"hovertemplate\":\"Country=%{x}<br>Yearly Oil Budget (USD)=%{y}<br>GDP Per Capita ( USD )=%{customdata[0]}<br>Gallons GDP Per Capita Can Buy=%{customdata[1]}<extra></extra>\",\"legendgroup\":\"Seychelles\",\"marker\":{\"color\":\"#FF6692\",\"pattern\":{\"shape\":\"\"}},\"name\":\"Seychelles\",\"offsetgroup\":\"Seychelles\",\"orientation\":\"v\",\"showlegend\":true,\"textposition\":\"outside\",\"x\":[\"Seychelles\"],\"xaxis\":\"x\",\"y\":[18382531.5],\"yaxis\":\"y\",\"type\":\"bar\",\"textfont\":{\"size\":12},\"cliponaxis\":false,\"textangle\":0},{\"alignmentgroup\":\"True\",\"customdata\":[[1177.0,540.0]],\"hovertemplate\":\"Country=%{x}<br>Yearly Oil Budget (USD)=%{y}<br>GDP Per Capita ( USD )=%{customdata[0]}<br>Gallons GDP Per Capita Can Buy=%{customdata[1]}<extra></extra>\",\"legendgroup\":\"Haiti\",\"marker\":{\"color\":\"#B6E880\",\"pattern\":{\"shape\":\"\"}},\"name\":\"Haiti\",\"offsetgroup\":\"Haiti\",\"orientation\":\"v\",\"showlegend\":true,\"textposition\":\"outside\",\"x\":[\"Haiti\"],\"xaxis\":\"x\",\"y\":[18301100.0],\"yaxis\":\"y\",\"type\":\"bar\",\"textfont\":{\"size\":12},\"cliponaxis\":false,\"textangle\":0},{\"alignmentgroup\":\"True\",\"customdata\":[[30253.0,4976.0]],\"hovertemplate\":\"Country=%{x}<br>Yearly Oil Budget (USD)=%{y}<br>GDP Per Capita ( USD )=%{customdata[0]}<br>Gallons GDP Per Capita Can Buy=%{customdata[1]}<extra></extra>\",\"legendgroup\":\"Aruba\",\"marker\":{\"color\":\"#FF97FF\",\"pattern\":{\"shape\":\"\"}},\"name\":\"Aruba\",\"offsetgroup\":\"Aruba\",\"orientation\":\"v\",\"showlegend\":true,\"textposition\":\"outside\",\"x\":[\"Aruba\"],\"xaxis\":\"x\",\"y\":[17753600.0],\"yaxis\":\"y\",\"type\":\"bar\",\"textfont\":{\"size\":12},\"cliponaxis\":false,\"textangle\":0},{\"alignmentgroup\":\"True\",\"customdata\":[[16056.0,200700.0]],\"hovertemplate\":\"Country=%{x}<br>Yearly Oil Budget (USD)=%{y}<br>GDP Per Capita ( USD )=%{customdata[0]}<br>Gallons GDP Per Capita Can Buy=%{customdata[1]}<extra></extra>\",\"legendgroup\":\"Venezuela\",\"marker\":{\"color\":\"#FECB52\",\"pattern\":{\"shape\":\"\"}},\"name\":\"Venezuela\",\"offsetgroup\":\"Venezuela\",\"orientation\":\"v\",\"showlegend\":true,\"textposition\":\"outside\",\"x\":[\"Venezuela\"],\"xaxis\":\"x\",\"y\":[17461600.0],\"yaxis\":\"y\",\"type\":\"bar\",\"textfont\":{\"size\":12},\"cliponaxis\":false,\"textangle\":0},{\"alignmentgroup\":\"True\",\"customdata\":[[915.0,288.0]],\"hovertemplate\":\"Country=%{x}<br>Yearly Oil Budget (USD)=%{y}<br>GDP Per Capita ( USD )=%{customdata[0]}<br>Gallons GDP Per Capita Can Buy=%{customdata[1]}<extra></extra>\",\"legendgroup\":\"Togo\",\"marker\":{\"color\":\"#636efa\",\"pattern\":{\"shape\":\"\"}},\"name\":\"Togo\",\"offsetgroup\":\"Togo\",\"orientation\":\"v\",\"showlegend\":true,\"textposition\":\"outside\",\"x\":[\"Togo\"],\"xaxis\":\"x\",\"y\":[17410500.0],\"yaxis\":\"y\",\"type\":\"bar\",\"textfont\":{\"size\":12},\"cliponaxis\":false,\"textangle\":0},{\"alignmentgroup\":\"True\",\"customdata\":[[7677.0,1188.0]],\"hovertemplate\":\"Country=%{x}<br>Yearly Oil Budget (USD)=%{y}<br>GDP Per Capita ( USD )=%{customdata[0]}<br>Gallons GDP Per Capita Can Buy=%{customdata[1]}<extra></extra>\",\"legendgroup\":\"Montenegro\",\"marker\":{\"color\":\"#EF553B\",\"pattern\":{\"shape\":\"\"}},\"name\":\"Montenegro\",\"offsetgroup\":\"Montenegro\",\"orientation\":\"v\",\"showlegend\":true,\"textposition\":\"outside\",\"x\":[\"Montenegro\"],\"xaxis\":\"x\",\"y\":[16505300.0],\"yaxis\":\"y\",\"type\":\"bar\",\"textfont\":{\"size\":12},\"cliponaxis\":false,\"textangle\":0},{\"alignmentgroup\":\"True\",\"customdata\":[[6924.0,1923.0]],\"hovertemplate\":\"Country=%{x}<br>Yearly Oil Budget (USD)=%{y}<br>GDP Per Capita ( USD )=%{customdata[0]}<br>Gallons GDP Per Capita Can Buy=%{customdata[1]}<extra></extra>\",\"legendgroup\":\"Maldives\",\"marker\":{\"color\":\"#00cc96\",\"pattern\":{\"shape\":\"\"}},\"name\":\"Maldives\",\"offsetgroup\":\"Maldives\",\"orientation\":\"v\",\"showlegend\":true,\"textposition\":\"outside\",\"x\":[\"Maldives\"],\"xaxis\":\"x\",\"y\":[14454000.0],\"yaxis\":\"y\",\"type\":\"bar\",\"textfont\":{\"size\":12},\"cliponaxis\":false,\"textangle\":0},{\"alignmentgroup\":\"True\",\"customdata\":[[583.0,119.0]],\"hovertemplate\":\"Country=%{x}<br>Yearly Oil Budget (USD)=%{y}<br>GDP Per Capita ( USD )=%{customdata[0]}<br>Gallons GDP Per Capita Can Buy=%{customdata[1]}<extra></extra>\",\"legendgroup\":\"Liberia\",\"marker\":{\"color\":\"#ab63fa\",\"pattern\":{\"shape\":\"\"}},\"name\":\"Liberia\",\"offsetgroup\":\"Liberia\",\"orientation\":\"v\",\"showlegend\":true,\"textposition\":\"outside\",\"x\":[\"Liberia\"],\"xaxis\":\"x\",\"y\":[14308000.000000002],\"yaxis\":\"y\",\"type\":\"bar\",\"textfont\":{\"size\":12},\"cliponaxis\":false,\"textangle\":0},{\"alignmentgroup\":\"True\",\"customdata\":[[3064.0,447.0]],\"hovertemplate\":\"Country=%{x}<br>Yearly Oil Budget (USD)=%{y}<br>GDP Per Capita ( USD )=%{customdata[0]}<br>Gallons GDP Per Capita Can Buy=%{customdata[1]}<extra></extra>\",\"legendgroup\":\"Cabo Verde\",\"marker\":{\"color\":\"#FFA15A\",\"pattern\":{\"shape\":\"\"}},\"name\":\"Cabo Verde\",\"offsetgroup\":\"Cabo Verde\",\"orientation\":\"v\",\"showlegend\":true,\"textposition\":\"outside\",\"x\":[\"Cabo Verde\"],\"xaxis\":\"x\",\"y\":[14021840.0],\"yaxis\":\"y\",\"type\":\"bar\",\"textfont\":{\"size\":12},\"cliponaxis\":false,\"textangle\":0},{\"alignmentgroup\":\"True\",\"customdata\":[[1120.0,233.0]],\"hovertemplate\":\"Country=%{x}<br>Yearly Oil Budget (USD)=%{y}<br>GDP Per Capita ( USD )=%{customdata[0]}<br>Gallons GDP Per Capita Can Buy=%{customdata[1]}<extra></extra>\",\"legendgroup\":\"South Sudan\",\"marker\":{\"color\":\"#19d3f3\",\"pattern\":{\"shape\":\"\"}},\"name\":\"South Sudan\",\"offsetgroup\":\"South Sudan\",\"orientation\":\"v\",\"showlegend\":true,\"textposition\":\"outside\",\"x\":[\"South Sudan\"],\"xaxis\":\"x\",\"y\":[14017752.0],\"yaxis\":\"y\",\"type\":\"bar\",\"textfont\":{\"size\":12},\"cliponaxis\":false,\"textangle\":0},{\"alignmentgroup\":\"True\",\"customdata\":[[798.0,149.0]],\"hovertemplate\":\"Country=%{x}<br>Yearly Oil Budget (USD)=%{y}<br>GDP Per Capita ( USD )=%{customdata[0]}<br>Gallons GDP Per Capita Can Buy=%{customdata[1]}<extra></extra>\",\"legendgroup\":\"Rwanda\",\"marker\":{\"color\":\"#FF6692\",\"pattern\":{\"shape\":\"\"}},\"name\":\"Rwanda\",\"offsetgroup\":\"Rwanda\",\"orientation\":\"v\",\"showlegend\":true,\"textposition\":\"outside\",\"x\":[\"Rwanda\"],\"xaxis\":\"x\",\"y\":[13107880.0],\"yaxis\":\"y\",\"type\":\"bar\",\"textfont\":{\"size\":12},\"cliponaxis\":false,\"textangle\":0},{\"alignmentgroup\":\"True\",\"customdata\":[[485.0,94.0]],\"hovertemplate\":\"Country=%{x}<br>Yearly Oil Budget (USD)=%{y}<br>GDP Per Capita ( USD )=%{customdata[0]}<br>Gallons GDP Per Capita Can Buy=%{customdata[1]}<extra></extra>\",\"legendgroup\":\"Sierra Leone\",\"marker\":{\"color\":\"#B6E880\",\"pattern\":{\"shape\":\"\"}},\"name\":\"Sierra Leone\",\"offsetgroup\":\"Sierra Leone\",\"orientation\":\"v\",\"showlegend\":true,\"textposition\":\"outside\",\"x\":[\"Sierra Leone\"],\"xaxis\":\"x\",\"y\":[12265825.0],\"yaxis\":\"y\",\"type\":\"bar\",\"textfont\":{\"size\":12},\"cliponaxis\":false,\"textangle\":0},{\"alignmentgroup\":\"True\",\"customdata\":[[625.0,122.0]],\"hovertemplate\":\"Country=%{x}<br>Yearly Oil Budget (USD)=%{y}<br>GDP Per Capita ( USD )=%{customdata[0]}<br>Gallons GDP Per Capita Can Buy=%{customdata[1]}<extra></extra>\",\"legendgroup\":\"Malawi\",\"marker\":{\"color\":\"#FF97FF\",\"pattern\":{\"shape\":\"\"}},\"name\":\"Malawi\",\"offsetgroup\":\"Malawi\",\"orientation\":\"v\",\"showlegend\":true,\"textposition\":\"outside\",\"x\":[\"Malawi\"],\"xaxis\":\"x\",\"y\":[11214668.8],\"yaxis\":\"y\",\"type\":\"bar\",\"textfont\":{\"size\":12},\"cliponaxis\":false,\"textangle\":0},{\"alignmentgroup\":\"True\",\"customdata\":[[4268.0,895.0]],\"hovertemplate\":\"Country=%{x}<br>Yearly Oil Budget (USD)=%{y}<br>GDP Per Capita ( USD )=%{customdata[0]}<br>Gallons GDP Per Capita Can Buy=%{customdata[1]}<extra></extra>\",\"legendgroup\":\"Armenia\",\"marker\":{\"color\":\"#FECB52\",\"pattern\":{\"shape\":\"\"}},\"name\":\"Armenia\",\"offsetgroup\":\"Armenia\",\"orientation\":\"v\",\"showlegend\":true,\"textposition\":\"outside\",\"x\":[\"Armenia\"],\"xaxis\":\"x\",\"y\":[10446299.999999998],\"yaxis\":\"y\",\"type\":\"bar\",\"textfont\":{\"size\":12},\"cliponaxis\":false,\"textangle\":0},{\"alignmentgroup\":\"True\",\"customdata\":[[861.0,152.0]],\"hovertemplate\":\"Country=%{x}<br>Yearly Oil Budget (USD)=%{y}<br>GDP Per Capita ( USD )=%{customdata[0]}<br>Gallons GDP Per Capita Can Buy=%{customdata[1]}<extra></extra>\",\"legendgroup\":\"Lesotho\",\"marker\":{\"color\":\"#636efa\",\"pattern\":{\"shape\":\"\"}},\"name\":\"Lesotho\",\"offsetgroup\":\"Lesotho\",\"orientation\":\"v\",\"showlegend\":true,\"textposition\":\"outside\",\"x\":[\"Lesotho\"],\"xaxis\":\"x\",\"y\":[10368073.2],\"yaxis\":\"y\",\"type\":\"bar\",\"textfont\":{\"size\":12},\"cliponaxis\":false,\"textangle\":0},{\"alignmentgroup\":\"True\",\"customdata\":[[85083.0,13570.0]],\"hovertemplate\":\"Country=%{x}<br>Yearly Oil Budget (USD)=%{y}<br>GDP Per Capita ( USD )=%{customdata[0]}<br>Gallons GDP Per Capita Can Buy=%{customdata[1]}<extra></extra>\",\"legendgroup\":\"Cayman Islands\",\"marker\":{\"color\":\"#EF553B\",\"pattern\":{\"shape\":\"\"}},\"name\":\"Cayman Islands\",\"offsetgroup\":\"Cayman Islands\",\"orientation\":\"v\",\"showlegend\":true,\"textposition\":\"outside\",\"x\":[\"Cayman Islands\"],\"xaxis\":\"x\",\"y\":[10071908.549999999],\"yaxis\":\"y\",\"type\":\"bar\",\"textfont\":{\"size\":12},\"cliponaxis\":false,\"textangle\":0},{\"alignmentgroup\":\"True\",\"customdata\":[[3699.0,30825.0]],\"hovertemplate\":\"Country=%{x}<br>Yearly Oil Budget (USD)=%{y}<br>GDP Per Capita ( USD )=%{customdata[0]}<br>Gallons GDP Per Capita Can Buy=%{customdata[1]}<extra></extra>\",\"legendgroup\":\"Libya\",\"marker\":{\"color\":\"#00cc96\",\"pattern\":{\"shape\":\"\"}},\"name\":\"Libya\",\"offsetgroup\":\"Libya\",\"orientation\":\"v\",\"showlegend\":true,\"textposition\":\"outside\",\"x\":[\"Libya\"],\"xaxis\":\"x\",\"y\":[9767400.0],\"yaxis\":\"y\",\"type\":\"bar\",\"textfont\":{\"size\":12},\"cliponaxis\":false,\"textangle\":0},{\"alignmentgroup\":\"True\",\"customdata\":[[4436.0,664.0]],\"hovertemplate\":\"Country=%{x}<br>Yearly Oil Budget (USD)=%{y}<br>GDP Per Capita ( USD )=%{customdata[0]}<br>Gallons GDP Per Capita Can Buy=%{customdata[1]}<extra></extra>\",\"legendgroup\":\"Belize\",\"marker\":{\"color\":\"#ab63fa\",\"pattern\":{\"shape\":\"\"}},\"name\":\"Belize\",\"offsetgroup\":\"Belize\",\"orientation\":\"v\",\"showlegend\":true,\"textposition\":\"outside\",\"x\":[\"Belize\"],\"xaxis\":\"x\",\"y\":[9755238.2],\"yaxis\":\"y\",\"type\":\"bar\",\"textfont\":{\"size\":12},\"cliponaxis\":false,\"textangle\":0},{\"alignmentgroup\":\"True\",\"customdata\":[[477.0,53.0]],\"hovertemplate\":\"Country=%{x}<br>Yearly Oil Budget (USD)=%{y}<br>GDP Per Capita ( USD )=%{customdata[0]}<br>Gallons GDP Per Capita Can Buy=%{customdata[1]}<extra></extra>\",\"legendgroup\":\"Central African Republic\",\"marker\":{\"color\":\"#FFA15A\",\"pattern\":{\"shape\":\"\"}},\"name\":\"Central African Republic\",\"offsetgroup\":\"Central African Republic\",\"orientation\":\"v\",\"showlegend\":true,\"textposition\":\"outside\",\"x\":[\"Central African Republic\"],\"xaxis\":\"x\",\"y\":[9259320.0],\"yaxis\":\"y\",\"type\":\"bar\",\"textfont\":{\"size\":12},\"cliponaxis\":false,\"textangle\":0},{\"alignmentgroup\":\"True\",\"customdata\":[[787.0,156.0]],\"hovertemplate\":\"Country=%{x}<br>Yearly Oil Budget (USD)=%{y}<br>GDP Per Capita ( USD )=%{customdata[0]}<br>Gallons GDP Per Capita Can Buy=%{customdata[1]}<extra></extra>\",\"legendgroup\":\"Gambia\",\"marker\":{\"color\":\"#19d3f3\",\"pattern\":{\"shape\":\"\"}},\"name\":\"Gambia\",\"offsetgroup\":\"Gambia\",\"orientation\":\"v\",\"showlegend\":true,\"textposition\":\"outside\",\"x\":[\"Gambia\"],\"xaxis\":\"x\",\"y\":[6990480.0],\"yaxis\":\"y\",\"type\":\"bar\",\"textfont\":{\"size\":12},\"cliponaxis\":false,\"textangle\":0},{\"alignmentgroup\":\"True\",\"customdata\":[[309.0,102.0]],\"hovertemplate\":\"Country=%{x}<br>Yearly Oil Budget (USD)=%{y}<br>GDP Per Capita ( USD )=%{customdata[0]}<br>Gallons GDP Per Capita Can Buy=%{customdata[1]}<extra></extra>\",\"legendgroup\":\"Somalia\",\"marker\":{\"color\":\"#FF6692\",\"pattern\":{\"shape\":\"\"}},\"name\":\"Somalia\",\"offsetgroup\":\"Somalia\",\"orientation\":\"v\",\"showlegend\":true,\"textposition\":\"outside\",\"x\":[\"Somalia\"],\"xaxis\":\"x\",\"y\":[6193320.0],\"yaxis\":\"y\",\"type\":\"bar\",\"textfont\":{\"size\":12},\"cliponaxis\":false,\"textangle\":0},{\"alignmentgroup\":\"True\",\"customdata\":[[4903.0,303.0]],\"hovertemplate\":\"Country=%{x}<br>Yearly Oil Budget (USD)=%{y}<br>GDP Per Capita ( USD )=%{customdata[0]}<br>Gallons GDP Per Capita Can Buy=%{customdata[1]}<extra></extra>\",\"legendgroup\":\"Tonga\",\"marker\":{\"color\":\"#B6E880\",\"pattern\":{\"shape\":\"\"}},\"name\":\"Tonga\",\"offsetgroup\":\"Tonga\",\"orientation\":\"v\",\"showlegend\":true,\"textposition\":\"outside\",\"x\":[\"Tonga\"],\"xaxis\":\"x\",\"y\":[5315787.0],\"yaxis\":\"y\",\"type\":\"bar\",\"textfont\":{\"size\":12},\"cliponaxis\":false,\"textangle\":0},{\"alignmentgroup\":\"True\",\"customdata\":[[3122.0,700.0]],\"hovertemplate\":\"Country=%{x}<br>Yearly Oil Budget (USD)=%{y}<br>GDP Per Capita ( USD )=%{customdata[0]}<br>Gallons GDP Per Capita Can Buy=%{customdata[1]}<extra></extra>\",\"legendgroup\":\"Bhutan\",\"marker\":{\"color\":\"#FF97FF\",\"pattern\":{\"shape\":\"\"}},\"name\":\"Bhutan\",\"offsetgroup\":\"Bhutan\",\"orientation\":\"v\",\"showlegend\":true,\"textposition\":\"outside\",\"x\":[\"Bhutan\"],\"xaxis\":\"x\",\"y\":[4885327.9],\"yaxis\":\"y\",\"type\":\"bar\",\"textfont\":{\"size\":12},\"cliponaxis\":false,\"textangle\":0},{\"alignmentgroup\":\"True\",\"customdata\":[[27443.0,33064.0]],\"hovertemplate\":\"Country=%{x}<br>Yearly Oil Budget (USD)=%{y}<br>GDP Per Capita ( USD )=%{customdata[0]}<br>Gallons GDP Per Capita Can Buy=%{customdata[1]}<extra></extra>\",\"legendgroup\":\"Brunei \",\"marker\":{\"color\":\"#FECB52\",\"pattern\":{\"shape\":\"\"}},\"name\":\"Brunei \",\"offsetgroup\":\"Brunei \",\"orientation\":\"v\",\"showlegend\":true,\"textposition\":\"outside\",\"x\":[\"Brunei \"],\"xaxis\":\"x\",\"y\":[4847200.0],\"yaxis\":\"y\",\"type\":\"bar\",\"textfont\":{\"size\":12},\"cliponaxis\":false,\"textangle\":0},{\"alignmentgroup\":\"True\",\"customdata\":[[9262.0,2005.0]],\"hovertemplate\":\"Country=%{x}<br>Yearly Oil Budget (USD)=%{y}<br>GDP Per Capita ( USD )=%{customdata[0]}<br>Gallons GDP Per Capita Can Buy=%{customdata[1]}<extra></extra>\",\"legendgroup\":\"Grenada\",\"marker\":{\"color\":\"#636efa\",\"pattern\":{\"shape\":\"\"}},\"name\":\"Grenada\",\"offsetgroup\":\"Grenada\",\"orientation\":\"v\",\"showlegend\":true,\"textposition\":\"outside\",\"x\":[\"Grenada\"],\"xaxis\":\"x\",\"y\":[3372600.0],\"yaxis\":\"y\",\"type\":\"bar\",\"textfont\":{\"size\":12},\"cliponaxis\":false,\"textangle\":0},{\"alignmentgroup\":\"True\",\"customdata\":[[274.0,54.0]],\"hovertemplate\":\"Country=%{x}<br>Yearly Oil Budget (USD)=%{y}<br>GDP Per Capita ( USD )=%{customdata[0]}<br>Gallons GDP Per Capita Can Buy=%{customdata[1]}<extra></extra>\",\"legendgroup\":\"Burundi\",\"marker\":{\"color\":\"#EF553B\",\"pattern\":{\"shape\":\"\"}},\"name\":\"Burundi\",\"offsetgroup\":\"Burundi\",\"orientation\":\"v\",\"showlegend\":true,\"textposition\":\"outside\",\"x\":[\"Burundi\"],\"xaxis\":\"x\",\"y\":[2784917.15],\"yaxis\":\"y\",\"type\":\"bar\",\"textfont\":{\"size\":12},\"cliponaxis\":false,\"textangle\":0},{\"alignmentgroup\":\"True\",\"customdata\":[[1403.0,272.0]],\"hovertemplate\":\"Country=%{x}<br>Yearly Oil Budget (USD)=%{y}<br>GDP Per Capita ( USD )=%{customdata[0]}<br>Gallons GDP Per Capita Can Buy=%{customdata[1]}<extra></extra>\",\"legendgroup\":\"Comoros\",\"marker\":{\"color\":\"#00cc96\",\"pattern\":{\"shape\":\"\"}},\"name\":\"Comoros\",\"offsetgroup\":\"Comoros\",\"orientation\":\"v\",\"showlegend\":true,\"textposition\":\"outside\",\"x\":[\"Comoros\"],\"xaxis\":\"x\",\"y\":[2443675.0],\"yaxis\":\"y\",\"type\":\"bar\",\"textfont\":{\"size\":12},\"cliponaxis\":false,\"textangle\":0},{\"alignmentgroup\":\"True\",\"customdata\":[[7268.0,1521.0]],\"hovertemplate\":\"Country=%{x}<br>Yearly Oil Budget (USD)=%{y}<br>GDP Per Capita ( USD )=%{customdata[0]}<br>Gallons GDP Per Capita Can Buy=%{customdata[1]}<extra></extra>\",\"legendgroup\":\"Dominica\",\"marker\":{\"color\":\"#ab63fa\",\"pattern\":{\"shape\":\"\"}},\"name\":\"Dominica\",\"offsetgroup\":\"Dominica\",\"orientation\":\"v\",\"showlegend\":true,\"textposition\":\"outside\",\"x\":[\"Dominica\"],\"xaxis\":\"x\",\"y\":[2269854.7],\"yaxis\":\"y\",\"type\":\"bar\",\"textfont\":{\"size\":12},\"cliponaxis\":false,\"textangle\":0},{\"alignmentgroup\":\"True\",\"customdata\":[[34900.0,4220.0]],\"hovertemplate\":\"Country=%{x}<br>Yearly Oil Budget (USD)=%{y}<br>GDP Per Capita ( USD )=%{customdata[0]}<br>Gallons GDP Per Capita Can Buy=%{customdata[1]}<extra></extra>\",\"legendgroup\":\"Saint Pierre & Miquelon\",\"marker\":{\"color\":\"#FFA15A\",\"pattern\":{\"shape\":\"\"}},\"name\":\"Saint Pierre & Miquelon\",\"offsetgroup\":\"Saint Pierre & Miquelon\",\"orientation\":\"v\",\"showlegend\":true,\"textposition\":\"outside\",\"x\":[\"Saint Pierre & Miquelon\"],\"xaxis\":\"x\",\"y\":[1992243.0],\"yaxis\":\"y\",\"type\":\"bar\",\"textfont\":{\"size\":12},\"cliponaxis\":false,\"textangle\":0},{\"alignmentgroup\":\"True\",\"customdata\":[[2783.0,566.0]],\"hovertemplate\":\"Country=%{x}<br>Yearly Oil Budget (USD)=%{y}<br>GDP Per Capita ( USD )=%{customdata[0]}<br>Gallons GDP Per Capita Can Buy=%{customdata[1]}<extra></extra>\",\"legendgroup\":\"Vanuatu\",\"marker\":{\"color\":\"#19d3f3\",\"pattern\":{\"shape\":\"\"}},\"name\":\"Vanuatu\",\"offsetgroup\":\"Vanuatu\",\"orientation\":\"v\",\"showlegend\":true,\"textposition\":\"outside\",\"x\":[\"Vanuatu\"],\"xaxis\":\"x\",\"y\":[1975380.0],\"yaxis\":\"y\",\"type\":\"bar\",\"textfont\":{\"size\":12},\"cliponaxis\":false,\"textangle\":0},{\"alignmentgroup\":\"True\",\"customdata\":[[34246.0,9513.0]],\"hovertemplate\":\"Country=%{x}<br>Yearly Oil Budget (USD)=%{y}<br>GDP Per Capita ( USD )=%{customdata[0]}<br>Gallons GDP Per Capita Can Buy=%{customdata[1]}<extra></extra>\",\"legendgroup\":\"British Virgin Islands\",\"marker\":{\"color\":\"#FF6692\",\"pattern\":{\"shape\":\"\"}},\"name\":\"British Virgin Islands\",\"offsetgroup\":\"British Virgin Islands\",\"orientation\":\"v\",\"showlegend\":true,\"textposition\":\"outside\",\"x\":[\"British Virgin Islands\"],\"xaxis\":\"x\",\"y\":[1629360.0],\"yaxis\":\"y\",\"type\":\"bar\",\"textfont\":{\"size\":12},\"cliponaxis\":false,\"textangle\":0},{\"alignmentgroup\":\"True\",\"customdata\":[[12589.0,2755.0]],\"hovertemplate\":\"Country=%{x}<br>Yearly Oil Budget (USD)=%{y}<br>GDP Per Capita ( USD )=%{customdata[0]}<br>Gallons GDP Per Capita Can Buy=%{customdata[1]}<extra></extra>\",\"legendgroup\":\"Montserrat\",\"marker\":{\"color\":\"#B6E880\",\"pattern\":{\"shape\":\"\"}},\"name\":\"Montserrat\",\"offsetgroup\":\"Montserrat\",\"orientation\":\"v\",\"showlegend\":true,\"textposition\":\"outside\",\"x\":[\"Montserrat\"],\"xaxis\":\"x\",\"y\":[667220.0],\"yaxis\":\"y\",\"type\":\"bar\",\"textfont\":{\"size\":12},\"cliponaxis\":false,\"textangle\":0},{\"alignmentgroup\":\"True\",\"customdata\":[[1671.0,409.0]],\"hovertemplate\":\"Country=%{x}<br>Yearly Oil Budget (USD)=%{y}<br>GDP Per Capita ( USD )=%{customdata[0]}<br>Gallons GDP Per Capita Can Buy=%{customdata[1]}<extra></extra>\",\"legendgroup\":\"Kiribati\",\"marker\":{\"color\":\"#FF97FF\",\"pattern\":{\"shape\":\"\"}},\"name\":\"Kiribati\",\"offsetgroup\":\"Kiribati\",\"orientation\":\"v\",\"showlegend\":true,\"textposition\":\"outside\",\"x\":[\"Kiribati\"],\"xaxis\":\"x\",\"y\":[597140.0],\"yaxis\":\"y\",\"type\":\"bar\",\"textfont\":{\"size\":12},\"cliponaxis\":false,\"textangle\":0},{\"alignmentgroup\":\"True\",\"customdata\":[[15586.0,1364.0]],\"hovertemplate\":\"Country=%{x}<br>Yearly Oil Budget (USD)=%{y}<br>GDP Per Capita ( USD )=%{customdata[0]}<br>Gallons GDP Per Capita Can Buy=%{customdata[1]}<extra></extra>\",\"legendgroup\":\"Niue\",\"marker\":{\"color\":\"#FECB52\",\"pattern\":{\"shape\":\"\"}},\"name\":\"Niue\",\"offsetgroup\":\"Niue\",\"orientation\":\"v\",\"showlegend\":true,\"textposition\":\"outside\",\"x\":[\"Niue\"],\"xaxis\":\"x\",\"y\":[212769.44999999998],\"yaxis\":\"y\",\"type\":\"bar\",\"textfont\":{\"size\":12},\"cliponaxis\":false,\"textangle\":0},{\"alignmentgroup\":\"True\",\"customdata\":[[7800.0,1410.0]],\"hovertemplate\":\"Country=%{x}<br>Yearly Oil Budget (USD)=%{y}<br>GDP Per Capita ( USD )=%{customdata[0]}<br>Gallons GDP Per Capita Can Buy=%{customdata[1]}<extra></extra>\",\"legendgroup\":\"Saint Helena\",\"marker\":{\"color\":\"#636efa\",\"pattern\":{\"shape\":\"\"}},\"name\":\"Saint Helena\",\"offsetgroup\":\"Saint Helena\",\"orientation\":\"v\",\"showlegend\":true,\"textposition\":\"outside\",\"x\":[\"Saint Helena\"],\"xaxis\":\"x\",\"y\":[141291.5],\"yaxis\":\"y\",\"type\":\"bar\",\"textfont\":{\"size\":12},\"cliponaxis\":false,\"textangle\":0}],                        {\"template\":{\"data\":{\"bar\":[{\"error_x\":{\"color\":\"#2a3f5f\"},\"error_y\":{\"color\":\"#2a3f5f\"},\"marker\":{\"line\":{\"color\":\"#E5ECF6\",\"width\":0.5},\"pattern\":{\"fillmode\":\"overlay\",\"size\":10,\"solidity\":0.2}},\"type\":\"bar\"}],\"barpolar\":[{\"marker\":{\"line\":{\"color\":\"#E5ECF6\",\"width\":0.5},\"pattern\":{\"fillmode\":\"overlay\",\"size\":10,\"solidity\":0.2}},\"type\":\"barpolar\"}],\"carpet\":[{\"aaxis\":{\"endlinecolor\":\"#2a3f5f\",\"gridcolor\":\"white\",\"linecolor\":\"white\",\"minorgridcolor\":\"white\",\"startlinecolor\":\"#2a3f5f\"},\"baxis\":{\"endlinecolor\":\"#2a3f5f\",\"gridcolor\":\"white\",\"linecolor\":\"white\",\"minorgridcolor\":\"white\",\"startlinecolor\":\"#2a3f5f\"},\"type\":\"carpet\"}],\"choropleth\":[{\"colorbar\":{\"outlinewidth\":0,\"ticks\":\"\"},\"type\":\"choropleth\"}],\"contour\":[{\"colorbar\":{\"outlinewidth\":0,\"ticks\":\"\"},\"colorscale\":[[0.0,\"#0d0887\"],[0.1111111111111111,\"#46039f\"],[0.2222222222222222,\"#7201a8\"],[0.3333333333333333,\"#9c179e\"],[0.4444444444444444,\"#bd3786\"],[0.5555555555555556,\"#d8576b\"],[0.6666666666666666,\"#ed7953\"],[0.7777777777777778,\"#fb9f3a\"],[0.8888888888888888,\"#fdca26\"],[1.0,\"#f0f921\"]],\"type\":\"contour\"}],\"contourcarpet\":[{\"colorbar\":{\"outlinewidth\":0,\"ticks\":\"\"},\"type\":\"contourcarpet\"}],\"heatmap\":[{\"colorbar\":{\"outlinewidth\":0,\"ticks\":\"\"},\"colorscale\":[[0.0,\"#0d0887\"],[0.1111111111111111,\"#46039f\"],[0.2222222222222222,\"#7201a8\"],[0.3333333333333333,\"#9c179e\"],[0.4444444444444444,\"#bd3786\"],[0.5555555555555556,\"#d8576b\"],[0.6666666666666666,\"#ed7953\"],[0.7777777777777778,\"#fb9f3a\"],[0.8888888888888888,\"#fdca26\"],[1.0,\"#f0f921\"]],\"type\":\"heatmap\"}],\"heatmapgl\":[{\"colorbar\":{\"outlinewidth\":0,\"ticks\":\"\"},\"colorscale\":[[0.0,\"#0d0887\"],[0.1111111111111111,\"#46039f\"],[0.2222222222222222,\"#7201a8\"],[0.3333333333333333,\"#9c179e\"],[0.4444444444444444,\"#bd3786\"],[0.5555555555555556,\"#d8576b\"],[0.6666666666666666,\"#ed7953\"],[0.7777777777777778,\"#fb9f3a\"],[0.8888888888888888,\"#fdca26\"],[1.0,\"#f0f921\"]],\"type\":\"heatmapgl\"}],\"histogram\":[{\"marker\":{\"pattern\":{\"fillmode\":\"overlay\",\"size\":10,\"solidity\":0.2}},\"type\":\"histogram\"}],\"histogram2d\":[{\"colorbar\":{\"outlinewidth\":0,\"ticks\":\"\"},\"colorscale\":[[0.0,\"#0d0887\"],[0.1111111111111111,\"#46039f\"],[0.2222222222222222,\"#7201a8\"],[0.3333333333333333,\"#9c179e\"],[0.4444444444444444,\"#bd3786\"],[0.5555555555555556,\"#d8576b\"],[0.6666666666666666,\"#ed7953\"],[0.7777777777777778,\"#fb9f3a\"],[0.8888888888888888,\"#fdca26\"],[1.0,\"#f0f921\"]],\"type\":\"histogram2d\"}],\"histogram2dcontour\":[{\"colorbar\":{\"outlinewidth\":0,\"ticks\":\"\"},\"colorscale\":[[0.0,\"#0d0887\"],[0.1111111111111111,\"#46039f\"],[0.2222222222222222,\"#7201a8\"],[0.3333333333333333,\"#9c179e\"],[0.4444444444444444,\"#bd3786\"],[0.5555555555555556,\"#d8576b\"],[0.6666666666666666,\"#ed7953\"],[0.7777777777777778,\"#fb9f3a\"],[0.8888888888888888,\"#fdca26\"],[1.0,\"#f0f921\"]],\"type\":\"histogram2dcontour\"}],\"mesh3d\":[{\"colorbar\":{\"outlinewidth\":0,\"ticks\":\"\"},\"type\":\"mesh3d\"}],\"parcoords\":[{\"line\":{\"colorbar\":{\"outlinewidth\":0,\"ticks\":\"\"}},\"type\":\"parcoords\"}],\"pie\":[{\"automargin\":true,\"type\":\"pie\"}],\"scatter\":[{\"marker\":{\"colorbar\":{\"outlinewidth\":0,\"ticks\":\"\"}},\"type\":\"scatter\"}],\"scatter3d\":[{\"line\":{\"colorbar\":{\"outlinewidth\":0,\"ticks\":\"\"}},\"marker\":{\"colorbar\":{\"outlinewidth\":0,\"ticks\":\"\"}},\"type\":\"scatter3d\"}],\"scattercarpet\":[{\"marker\":{\"colorbar\":{\"outlinewidth\":0,\"ticks\":\"\"}},\"type\":\"scattercarpet\"}],\"scattergeo\":[{\"marker\":{\"colorbar\":{\"outlinewidth\":0,\"ticks\":\"\"}},\"type\":\"scattergeo\"}],\"scattergl\":[{\"marker\":{\"colorbar\":{\"outlinewidth\":0,\"ticks\":\"\"}},\"type\":\"scattergl\"}],\"scattermapbox\":[{\"marker\":{\"colorbar\":{\"outlinewidth\":0,\"ticks\":\"\"}},\"type\":\"scattermapbox\"}],\"scatterpolar\":[{\"marker\":{\"colorbar\":{\"outlinewidth\":0,\"ticks\":\"\"}},\"type\":\"scatterpolar\"}],\"scatterpolargl\":[{\"marker\":{\"colorbar\":{\"outlinewidth\":0,\"ticks\":\"\"}},\"type\":\"scatterpolargl\"}],\"scatterternary\":[{\"marker\":{\"colorbar\":{\"outlinewidth\":0,\"ticks\":\"\"}},\"type\":\"scatterternary\"}],\"surface\":[{\"colorbar\":{\"outlinewidth\":0,\"ticks\":\"\"},\"colorscale\":[[0.0,\"#0d0887\"],[0.1111111111111111,\"#46039f\"],[0.2222222222222222,\"#7201a8\"],[0.3333333333333333,\"#9c179e\"],[0.4444444444444444,\"#bd3786\"],[0.5555555555555556,\"#d8576b\"],[0.6666666666666666,\"#ed7953\"],[0.7777777777777778,\"#fb9f3a\"],[0.8888888888888888,\"#fdca26\"],[1.0,\"#f0f921\"]],\"type\":\"surface\"}],\"table\":[{\"cells\":{\"fill\":{\"color\":\"#EBF0F8\"},\"line\":{\"color\":\"white\"}},\"header\":{\"fill\":{\"color\":\"#C8D4E3\"},\"line\":{\"color\":\"white\"}},\"type\":\"table\"}]},\"layout\":{\"annotationdefaults\":{\"arrowcolor\":\"#2a3f5f\",\"arrowhead\":0,\"arrowwidth\":1},\"autotypenumbers\":\"strict\",\"coloraxis\":{\"colorbar\":{\"outlinewidth\":0,\"ticks\":\"\"}},\"colorscale\":{\"diverging\":[[0,\"#8e0152\"],[0.1,\"#c51b7d\"],[0.2,\"#de77ae\"],[0.3,\"#f1b6da\"],[0.4,\"#fde0ef\"],[0.5,\"#f7f7f7\"],[0.6,\"#e6f5d0\"],[0.7,\"#b8e186\"],[0.8,\"#7fbc41\"],[0.9,\"#4d9221\"],[1,\"#276419\"]],\"sequential\":[[0.0,\"#0d0887\"],[0.1111111111111111,\"#46039f\"],[0.2222222222222222,\"#7201a8\"],[0.3333333333333333,\"#9c179e\"],[0.4444444444444444,\"#bd3786\"],[0.5555555555555556,\"#d8576b\"],[0.6666666666666666,\"#ed7953\"],[0.7777777777777778,\"#fb9f3a\"],[0.8888888888888888,\"#fdca26\"],[1.0,\"#f0f921\"]],\"sequentialminus\":[[0.0,\"#0d0887\"],[0.1111111111111111,\"#46039f\"],[0.2222222222222222,\"#7201a8\"],[0.3333333333333333,\"#9c179e\"],[0.4444444444444444,\"#bd3786\"],[0.5555555555555556,\"#d8576b\"],[0.6666666666666666,\"#ed7953\"],[0.7777777777777778,\"#fb9f3a\"],[0.8888888888888888,\"#fdca26\"],[1.0,\"#f0f921\"]]},\"colorway\":[\"#636efa\",\"#EF553B\",\"#00cc96\",\"#ab63fa\",\"#FFA15A\",\"#19d3f3\",\"#FF6692\",\"#B6E880\",\"#FF97FF\",\"#FECB52\"],\"font\":{\"color\":\"#2a3f5f\"},\"geo\":{\"bgcolor\":\"white\",\"lakecolor\":\"white\",\"landcolor\":\"#E5ECF6\",\"showlakes\":true,\"showland\":true,\"subunitcolor\":\"white\"},\"hoverlabel\":{\"align\":\"left\"},\"hovermode\":\"closest\",\"mapbox\":{\"style\":\"light\"},\"paper_bgcolor\":\"white\",\"plot_bgcolor\":\"#E5ECF6\",\"polar\":{\"angularaxis\":{\"gridcolor\":\"white\",\"linecolor\":\"white\",\"ticks\":\"\"},\"bgcolor\":\"#E5ECF6\",\"radialaxis\":{\"gridcolor\":\"white\",\"linecolor\":\"white\",\"ticks\":\"\"}},\"scene\":{\"xaxis\":{\"backgroundcolor\":\"#E5ECF6\",\"gridcolor\":\"white\",\"gridwidth\":2,\"linecolor\":\"white\",\"showbackground\":true,\"ticks\":\"\",\"zerolinecolor\":\"white\"},\"yaxis\":{\"backgroundcolor\":\"#E5ECF6\",\"gridcolor\":\"white\",\"gridwidth\":2,\"linecolor\":\"white\",\"showbackground\":true,\"ticks\":\"\",\"zerolinecolor\":\"white\"},\"zaxis\":{\"backgroundcolor\":\"#E5ECF6\",\"gridcolor\":\"white\",\"gridwidth\":2,\"linecolor\":\"white\",\"showbackground\":true,\"ticks\":\"\",\"zerolinecolor\":\"white\"}},\"shapedefaults\":{\"line\":{\"color\":\"#2a3f5f\"}},\"ternary\":{\"aaxis\":{\"gridcolor\":\"white\",\"linecolor\":\"white\",\"ticks\":\"\"},\"baxis\":{\"gridcolor\":\"white\",\"linecolor\":\"white\",\"ticks\":\"\"},\"bgcolor\":\"#E5ECF6\",\"caxis\":{\"gridcolor\":\"white\",\"linecolor\":\"white\",\"ticks\":\"\"}},\"title\":{\"x\":0.05},\"xaxis\":{\"automargin\":true,\"gridcolor\":\"white\",\"linecolor\":\"white\",\"ticks\":\"\",\"title\":{\"standoff\":15},\"zerolinecolor\":\"white\",\"zerolinewidth\":2},\"yaxis\":{\"automargin\":true,\"gridcolor\":\"white\",\"linecolor\":\"white\",\"ticks\":\"\",\"title\":{\"standoff\":15},\"zerolinecolor\":\"white\",\"zerolinewidth\":2}}},\"xaxis\":{\"anchor\":\"y\",\"domain\":[0.0,1.0],\"title\":{\"text\":\"Country\"},\"categoryorder\":\"array\",\"categoryarray\":[\"United States\",\"China\",\"India\",\"Japan\",\"Germany\",\"Canada\",\"Brazil\",\"South Korea\",\"France\",\"United Kingdom\",\"Russia\",\"Singapore\",\"Spain\",\"Italy\",\"Mexico\",\"Netherlands\",\"Saudi Arabia\",\"Thailand\",\"Indonesia\",\"Australia\",\"Turkey\",\"Belgium\",\"Hong Kong\",\"Poland\",\"Taiwan\",\"United Arab Emirates\",\"South Africa\",\"Greece\",\"Argentina\",\"Sweden\",\"Vietnam\",\"Philippines\",\"Pakistan\",\"Austria\",\"Finland\",\"Norway\",\"Portugal\",\"Switzerland\",\"Israel\",\"Chile\",\"Morocco\",\"Egypt\",\"Iraq\",\"Denmark\",\"Ukraine\",\"Peru\",\"Romania\",\"Czech Republic (Czechia)\",\"New Zealand\",\"Malaysia\",\"Ireland\",\"Hungary\",\"Ecuador\",\"North Korea\",\"Panama\",\"Lebanon\",\"Colombia\",\"Cuba\",\"Jordan\",\"Dominican Republic\",\"Sudan\",\"Nigeria\",\"Bulgaria\",\"Slovakia\",\"Sri Lanka\",\"Kenya\",\"Kazakhstan\",\"Myanmar\",\"Puerto Rico\",\"Algeria\",\"Lithuania\",\"Croatia\",\"Serbia\",\"Guatemala\",\"Kuwait\",\"Luxembourg\",\"Oman\",\"Ghana\",\"Bangladesh\",\"Uruguay\",\"Qatar\",\"Cyprus\",\"Belarus\",\"Iran\",\"Tanzania\",\"Jamaica\",\"Costa Rica\",\"Slovenia\",\"Honduras\",\"Latvia\",\"Cambodia\",\"Tunisia\",\"Paraguay\",\"Senegal\",\"Malta\",\"Turkmenistan\",\"Estonia\",\"Nepal\",\"Bosnia and Herzegovina\",\"C\\u00f4te d'Ivoire\",\"El Salvador\",\"Papua New Guinea\",\"Albania\",\"Trinidad and Tobago\",\"Azerbaijan\",\"Ethiopia\",\"Mozambique\",\"Nicaragua\",\"Iceland\",\"Bolivia\",\"Angola\",\"Uganda\",\"Mauritius\",\"Georgia\",\"Uzbekistan\",\"New Caledonia\",\"State of Palestine\",\"Cameroon\",\"Syria\",\"North Macedonia\",\"Zimbabwe\",\"Benin\",\"Laos\",\"Bahamas\",\"Afghanistan\",\"Kyrgyzstan\",\"Namibia\",\"Tajikistan\",\"Bahrain\",\"Zambia\",\"Moldova\",\"Yemen\",\"Mali\",\"Burkina Faso\",\"Mongolia\",\"Guinea\",\"DR Congo\",\"Macao\",\"Barbados\",\"Botswana\",\"Fiji\",\"Gabon\",\"Madagascar\",\"Congo\",\"Guyana\",\"Suriname\",\"Seychelles\",\"Haiti\",\"Aruba\",\"Venezuela\",\"Togo\",\"Montenegro\",\"Maldives\",\"Liberia\",\"Cabo Verde\",\"South Sudan\",\"Rwanda\",\"Sierra Leone\",\"Malawi\",\"Armenia\",\"Lesotho\",\"Cayman Islands\",\"Libya\",\"Belize\",\"Central African Republic\",\"Gambia\",\"Somalia\",\"Tonga\",\"Bhutan\",\"Brunei \",\"Grenada\",\"Burundi\",\"Comoros\",\"Dominica\",\"Saint Pierre & Miquelon\",\"Vanuatu\",\"British Virgin Islands\",\"Montserrat\",\"Kiribati\",\"Niue\",\"Saint Helena\"]},\"yaxis\":{\"anchor\":\"x\",\"domain\":[0.0,1.0],\"title\":{\"text\":\"Yearly Oil Budget (USD)\"}},\"legend\":{\"title\":{\"text\":\"Country\"},\"tracegroupgap\":0},\"title\":{\"text\":\"Yearly Oil Budget (USD)\"},\"barmode\":\"relative\",\"height\":800,\"width\":1600},                        {\"responsive\": true}                    ).then(function(){\n",
              "                            \n",
              "var gd = document.getElementById('bfe8966f-620e-46b3-b15d-c02a4c1b083e');\n",
              "var x = new MutationObserver(function (mutations, observer) {{\n",
              "        var display = window.getComputedStyle(gd).display;\n",
              "        if (!display || display === 'none') {{\n",
              "            console.log([gd, 'removed!']);\n",
              "            Plotly.purge(gd);\n",
              "            observer.disconnect();\n",
              "        }}\n",
              "}});\n",
              "\n",
              "// Listen for the removal of the full notebook cells\n",
              "var notebookContainer = gd.closest('#notebook-container');\n",
              "if (notebookContainer) {{\n",
              "    x.observe(notebookContainer, {childList: true});\n",
              "}}\n",
              "\n",
              "// Listen for the clearing of the current output cell\n",
              "var outputEl = gd.closest('.output');\n",
              "if (outputEl) {{\n",
              "    x.observe(outputEl, {childList: true});\n",
              "}}\n",
              "\n",
              "                        })                };                            </script>        </div>\n",
              "</body>\n",
              "</html>"
            ]
          },
          "metadata": {}
        }
      ]
    },
    {
      "cell_type": "markdown",
      "source": [
        "## Top 10 Daily Oil Consumption (Barrels) (High & Low)"
      ],
      "metadata": {
        "id": "5cLlWVmk6H09"
      }
    },
    {
      "cell_type": "code",
      "source": [
        "fig1 = px.bar(petrol_world, x= 'Country', y = 'Daily Oil Consumption (Barrels)', color = 'Country', title = 'Daily Oil Consumption (Barrels)', hover_data = ['GDP Per Capita ( USD )', 'World Share'])\n",
        "fig1.update_traces(textfont_size=12, textangle=0, textposition=\"outside\", cliponaxis=False)\n",
        "fig1.update_layout(\n",
        "    height = 800,\n",
        "    width=1600\n",
        ")\n",
        "fig1.show()"
      ],
      "metadata": {
        "colab": {
          "base_uri": "https://localhost:8080/",
          "height": 837
        },
        "id": "Jz0IryZi4mNy",
        "outputId": "9d59c48b-2702-472d-8f2e-49937a5d80a3"
      },
      "execution_count": 47,
      "outputs": [
        {
          "output_type": "display_data",
          "data": {
            "text/html": [
              "<html>\n",
              "<head><meta charset=\"utf-8\" /></head>\n",
              "<body>\n",
              "    <div>            <script src=\"https://cdnjs.cloudflare.com/ajax/libs/mathjax/2.7.5/MathJax.js?config=TeX-AMS-MML_SVG\"></script><script type=\"text/javascript\">if (window.MathJax) {MathJax.Hub.Config({SVG: {font: \"STIX-Web\"}});}</script>                <script type=\"text/javascript\">window.PlotlyConfig = {MathJaxConfig: 'local'};</script>\n",
              "        <script src=\"https://cdn.plot.ly/plotly-2.8.3.min.js\"></script>                <div id=\"c4106356-84be-4c62-a237-7c8d8832f62b\" class=\"plotly-graph-div\" style=\"height:800px; width:1600px;\"></div>            <script type=\"text/javascript\">                                    window.PLOTLYENV=window.PLOTLYENV || {};                                    if (document.getElementById(\"c4106356-84be-4c62-a237-7c8d8832f62b\")) {                    Plotly.newPlot(                        \"c4106356-84be-4c62-a237-7c8d8832f62b\",                        [{\"alignmentgroup\":\"True\",\"customdata\":[[63414.0,20.0]],\"hovertemplate\":\"Country=%{x}<br>Daily Oil Consumption (Barrels)=%{y}<br>GDP Per Capita ( USD )=%{customdata[0]}<br>World Share=%{customdata[1]}<extra></extra>\",\"legendgroup\":\"United States\",\"marker\":{\"color\":\"#636efa\",\"pattern\":{\"shape\":\"\"}},\"name\":\"United States\",\"offsetgroup\":\"United States\",\"orientation\":\"v\",\"showlegend\":true,\"textposition\":\"outside\",\"x\":[\"United States\"],\"xaxis\":\"x\",\"y\":[19687287.0],\"yaxis\":\"y\",\"type\":\"bar\",\"textfont\":{\"size\":12},\"cliponaxis\":false,\"textangle\":0},{\"alignmentgroup\":\"True\",\"customdata\":[[10435.0,13.0]],\"hovertemplate\":\"Country=%{x}<br>Daily Oil Consumption (Barrels)=%{y}<br>GDP Per Capita ( USD )=%{customdata[0]}<br>World Share=%{customdata[1]}<extra></extra>\",\"legendgroup\":\"China\",\"marker\":{\"color\":\"#EF553B\",\"pattern\":{\"shape\":\"\"}},\"name\":\"China\",\"offsetgroup\":\"China\",\"orientation\":\"v\",\"showlegend\":true,\"textposition\":\"outside\",\"x\":[\"China\"],\"xaxis\":\"x\",\"y\":[12791553.0],\"yaxis\":\"y\",\"type\":\"bar\",\"textfont\":{\"size\":12},\"cliponaxis\":false,\"textangle\":0},{\"alignmentgroup\":\"True\",\"customdata\":[[1901.0,5.0]],\"hovertemplate\":\"Country=%{x}<br>Daily Oil Consumption (Barrels)=%{y}<br>GDP Per Capita ( USD )=%{customdata[0]}<br>World Share=%{customdata[1]}<extra></extra>\",\"legendgroup\":\"India\",\"marker\":{\"color\":\"#00cc96\",\"pattern\":{\"shape\":\"\"}},\"name\":\"India\",\"offsetgroup\":\"India\",\"orientation\":\"v\",\"showlegend\":true,\"textposition\":\"outside\",\"x\":[\"India\"],\"xaxis\":\"x\",\"y\":[4443000.0],\"yaxis\":\"y\",\"type\":\"bar\",\"textfont\":{\"size\":12},\"cliponaxis\":false,\"textangle\":0},{\"alignmentgroup\":\"True\",\"customdata\":[[40193.0,4.0]],\"hovertemplate\":\"Country=%{x}<br>Daily Oil Consumption (Barrels)=%{y}<br>GDP Per Capita ( USD )=%{customdata[0]}<br>World Share=%{customdata[1]}<extra></extra>\",\"legendgroup\":\"Japan\",\"marker\":{\"color\":\"#ab63fa\",\"pattern\":{\"shape\":\"\"}},\"name\":\"Japan\",\"offsetgroup\":\"Japan\",\"orientation\":\"v\",\"showlegend\":true,\"textposition\":\"outside\",\"x\":[\"Japan\"],\"xaxis\":\"x\",\"y\":[4012877.0],\"yaxis\":\"y\",\"type\":\"bar\",\"textfont\":{\"size\":12},\"cliponaxis\":false,\"textangle\":0},{\"alignmentgroup\":\"True\",\"customdata\":[[10127.0,4.0]],\"hovertemplate\":\"Country=%{x}<br>Daily Oil Consumption (Barrels)=%{y}<br>GDP Per Capita ( USD )=%{customdata[0]}<br>World Share=%{customdata[1]}<extra></extra>\",\"legendgroup\":\"Russia\",\"marker\":{\"color\":\"#FFA15A\",\"pattern\":{\"shape\":\"\"}},\"name\":\"Russia\",\"offsetgroup\":\"Russia\",\"orientation\":\"v\",\"showlegend\":true,\"textposition\":\"outside\",\"x\":[\"Russia\"],\"xaxis\":\"x\",\"y\":[3631287.0],\"yaxis\":\"y\",\"type\":\"bar\",\"textfont\":{\"size\":12},\"cliponaxis\":false,\"textangle\":0},{\"alignmentgroup\":\"True\",\"customdata\":[[20110.0,3.0]],\"hovertemplate\":\"Country=%{x}<br>Daily Oil Consumption (Barrels)=%{y}<br>GDP Per Capita ( USD )=%{customdata[0]}<br>World Share=%{customdata[1]}<extra></extra>\",\"legendgroup\":\"Saudi Arabia\",\"marker\":{\"color\":\"#19d3f3\",\"pattern\":{\"shape\":\"\"}},\"name\":\"Saudi Arabia\",\"offsetgroup\":\"Saudi Arabia\",\"orientation\":\"v\",\"showlegend\":true,\"textposition\":\"outside\",\"x\":[\"Saudi Arabia\"],\"xaxis\":\"x\",\"y\":[3302000.0],\"yaxis\":\"y\",\"type\":\"bar\",\"textfont\":{\"size\":12},\"cliponaxis\":false,\"textangle\":0},{\"alignmentgroup\":\"True\",\"customdata\":[[6797.0,3.0]],\"hovertemplate\":\"Country=%{x}<br>Daily Oil Consumption (Barrels)=%{y}<br>GDP Per Capita ( USD )=%{customdata[0]}<br>World Share=%{customdata[1]}<extra></extra>\",\"legendgroup\":\"Brazil\",\"marker\":{\"color\":\"#FF6692\",\"pattern\":{\"shape\":\"\"}},\"name\":\"Brazil\",\"offsetgroup\":\"Brazil\",\"orientation\":\"v\",\"showlegend\":true,\"textposition\":\"outside\",\"x\":[\"Brazil\"],\"xaxis\":\"x\",\"y\":[2984000.0],\"yaxis\":\"y\",\"type\":\"bar\",\"textfont\":{\"size\":12},\"cliponaxis\":false,\"textangle\":0},{\"alignmentgroup\":\"True\",\"customdata\":[[31632.0,3.0]],\"hovertemplate\":\"Country=%{x}<br>Daily Oil Consumption (Barrels)=%{y}<br>GDP Per Capita ( USD )=%{customdata[0]}<br>World Share=%{customdata[1]}<extra></extra>\",\"legendgroup\":\"South Korea\",\"marker\":{\"color\":\"#B6E880\",\"pattern\":{\"shape\":\"\"}},\"name\":\"South Korea\",\"offsetgroup\":\"South Korea\",\"orientation\":\"v\",\"showlegend\":true,\"textposition\":\"outside\",\"x\":[\"South Korea\"],\"xaxis\":\"x\",\"y\":[2605440.0],\"yaxis\":\"y\",\"type\":\"bar\",\"textfont\":{\"size\":12},\"cliponaxis\":false,\"textangle\":0},{\"alignmentgroup\":\"True\",\"customdata\":[[43258.0,3.0]],\"hovertemplate\":\"Country=%{x}<br>Daily Oil Consumption (Barrels)=%{y}<br>GDP Per Capita ( USD )=%{customdata[0]}<br>World Share=%{customdata[1]}<extra></extra>\",\"legendgroup\":\"Canada\",\"marker\":{\"color\":\"#FF97FF\",\"pattern\":{\"shape\":\"\"}},\"name\":\"Canada\",\"offsetgroup\":\"Canada\",\"orientation\":\"v\",\"showlegend\":true,\"textposition\":\"outside\",\"x\":[\"Canada\"],\"xaxis\":\"x\",\"y\":[2486301.0],\"yaxis\":\"y\",\"type\":\"bar\",\"textfont\":{\"size\":12},\"cliponaxis\":false,\"textangle\":0},{\"alignmentgroup\":\"True\",\"customdata\":[[46208.0,3.0]],\"hovertemplate\":\"Country=%{x}<br>Daily Oil Consumption (Barrels)=%{y}<br>GDP Per Capita ( USD )=%{customdata[0]}<br>World Share=%{customdata[1]}<extra></extra>\",\"legendgroup\":\"Germany\",\"marker\":{\"color\":\"#FECB52\",\"pattern\":{\"shape\":\"\"}},\"name\":\"Germany\",\"offsetgroup\":\"Germany\",\"orientation\":\"v\",\"showlegend\":true,\"textposition\":\"outside\",\"x\":[\"Germany\"],\"xaxis\":\"x\",\"y\":[2383393.0],\"yaxis\":\"y\",\"type\":\"bar\",\"textfont\":{\"size\":12},\"cliponaxis\":false,\"textangle\":0},{\"alignmentgroup\":\"True\",\"customdata\":[[8329.0,2.0]],\"hovertemplate\":\"Country=%{x}<br>Daily Oil Consumption (Barrels)=%{y}<br>GDP Per Capita ( USD )=%{customdata[0]}<br>World Share=%{customdata[1]}<extra></extra>\",\"legendgroup\":\"Mexico\",\"marker\":{\"color\":\"#636efa\",\"pattern\":{\"shape\":\"\"}},\"name\":\"Mexico\",\"offsetgroup\":\"Mexico\",\"orientation\":\"v\",\"showlegend\":true,\"textposition\":\"outside\",\"x\":[\"Mexico\"],\"xaxis\":\"x\",\"y\":[2052607.0],\"yaxis\":\"y\",\"type\":\"bar\",\"textfont\":{\"size\":12},\"cliponaxis\":false,\"textangle\":0},{\"alignmentgroup\":\"True\",\"customdata\":[[2423.0,2.0]],\"hovertemplate\":\"Country=%{x}<br>Daily Oil Consumption (Barrels)=%{y}<br>GDP Per Capita ( USD )=%{customdata[0]}<br>World Share=%{customdata[1]}<extra></extra>\",\"legendgroup\":\"Iran\",\"marker\":{\"color\":\"#EF553B\",\"pattern\":{\"shape\":\"\"}},\"name\":\"Iran\",\"offsetgroup\":\"Iran\",\"orientation\":\"v\",\"showlegend\":true,\"textposition\":\"outside\",\"x\":[\"Iran\"],\"xaxis\":\"x\",\"y\":[1803999.0],\"yaxis\":\"y\",\"type\":\"bar\",\"textfont\":{\"size\":12},\"cliponaxis\":false,\"textangle\":0},{\"alignmentgroup\":\"True\",\"customdata\":[[39030.0,2.0]],\"hovertemplate\":\"Country=%{x}<br>Daily Oil Consumption (Barrels)=%{y}<br>GDP Per Capita ( USD )=%{customdata[0]}<br>World Share=%{customdata[1]}<extra></extra>\",\"legendgroup\":\"France\",\"marker\":{\"color\":\"#00cc96\",\"pattern\":{\"shape\":\"\"}},\"name\":\"France\",\"offsetgroup\":\"France\",\"orientation\":\"v\",\"showlegend\":true,\"textposition\":\"outside\",\"x\":[\"France\"],\"xaxis\":\"x\",\"y\":[1705568.0],\"yaxis\":\"y\",\"type\":\"bar\",\"textfont\":{\"size\":12},\"cliponaxis\":false,\"textangle\":0},{\"alignmentgroup\":\"True\",\"customdata\":[[3870.0,2.0]],\"hovertemplate\":\"Country=%{x}<br>Daily Oil Consumption (Barrels)=%{y}<br>GDP Per Capita ( USD )=%{customdata[0]}<br>World Share=%{customdata[1]}<extra></extra>\",\"legendgroup\":\"Indonesia\",\"marker\":{\"color\":\"#ab63fa\",\"pattern\":{\"shape\":\"\"}},\"name\":\"Indonesia\",\"offsetgroup\":\"Indonesia\",\"orientation\":\"v\",\"showlegend\":true,\"textposition\":\"outside\",\"x\":[\"Indonesia\"],\"xaxis\":\"x\",\"y\":[1623000.0],\"yaxis\":\"y\",\"type\":\"bar\",\"textfont\":{\"size\":12},\"cliponaxis\":false,\"textangle\":0},{\"alignmentgroup\":\"True\",\"customdata\":[[41125.0,2.0]],\"hovertemplate\":\"Country=%{x}<br>Daily Oil Consumption (Barrels)=%{y}<br>GDP Per Capita ( USD )=%{customdata[0]}<br>World Share=%{customdata[1]}<extra></extra>\",\"legendgroup\":\"United Kingdom\",\"marker\":{\"color\":\"#FFA15A\",\"pattern\":{\"shape\":\"\"}},\"name\":\"United Kingdom\",\"offsetgroup\":\"United Kingdom\",\"orientation\":\"v\",\"showlegend\":true,\"textposition\":\"outside\",\"x\":[\"United Kingdom\"],\"xaxis\":\"x\",\"y\":[1583896.0],\"yaxis\":\"y\",\"type\":\"bar\",\"textfont\":{\"size\":12},\"cliponaxis\":false,\"textangle\":0},{\"alignmentgroup\":\"True\",\"customdata\":[[59798.0,1.0]],\"hovertemplate\":\"Country=%{x}<br>Daily Oil Consumption (Barrels)=%{y}<br>GDP Per Capita ( USD )=%{customdata[0]}<br>World Share=%{customdata[1]}<extra></extra>\",\"legendgroup\":\"Singapore\",\"marker\":{\"color\":\"#19d3f3\",\"pattern\":{\"shape\":\"\"}},\"name\":\"Singapore\",\"offsetgroup\":\"Singapore\",\"orientation\":\"v\",\"showlegend\":true,\"textposition\":\"outside\",\"x\":[\"Singapore\"],\"xaxis\":\"x\",\"y\":[1357000.0],\"yaxis\":\"y\",\"type\":\"bar\",\"textfont\":{\"size\":12},\"cliponaxis\":false,\"textangle\":0},{\"alignmentgroup\":\"True\",\"customdata\":[[31714.0,1.0]],\"hovertemplate\":\"Country=%{x}<br>Daily Oil Consumption (Barrels)=%{y}<br>GDP Per Capita ( USD )=%{customdata[0]}<br>World Share=%{customdata[1]}<extra></extra>\",\"legendgroup\":\"Italy\",\"marker\":{\"color\":\"#FF6692\",\"pattern\":{\"shape\":\"\"}},\"name\":\"Italy\",\"offsetgroup\":\"Italy\",\"orientation\":\"v\",\"showlegend\":true,\"textposition\":\"outside\",\"x\":[\"Italy\"],\"xaxis\":\"x\",\"y\":[1236628.0],\"yaxis\":\"y\",\"type\":\"bar\",\"textfont\":{\"size\":12},\"cliponaxis\":false,\"textangle\":0},{\"alignmentgroup\":\"True\",\"customdata\":[[27063.0,1.0]],\"hovertemplate\":\"Country=%{x}<br>Daily Oil Consumption (Barrels)=%{y}<br>GDP Per Capita ( USD )=%{customdata[0]}<br>World Share=%{customdata[1]}<extra></extra>\",\"legendgroup\":\"Spain\",\"marker\":{\"color\":\"#B6E880\",\"pattern\":{\"shape\":\"\"}},\"name\":\"Spain\",\"offsetgroup\":\"Spain\",\"orientation\":\"v\",\"showlegend\":true,\"textposition\":\"outside\",\"x\":[\"Spain\"],\"xaxis\":\"x\",\"y\":[1290063.0],\"yaxis\":\"y\",\"type\":\"bar\",\"textfont\":{\"size\":12},\"cliponaxis\":false,\"textangle\":0},{\"alignmentgroup\":\"True\",\"customdata\":[[7189.0,1.0]],\"hovertemplate\":\"Country=%{x}<br>Daily Oil Consumption (Barrels)=%{y}<br>GDP Per Capita ( USD )=%{customdata[0]}<br>World Share=%{customdata[1]}<extra></extra>\",\"legendgroup\":\"Thailand\",\"marker\":{\"color\":\"#FF97FF\",\"pattern\":{\"shape\":\"\"}},\"name\":\"Thailand\",\"offsetgroup\":\"Thailand\",\"orientation\":\"v\",\"showlegend\":true,\"textposition\":\"outside\",\"x\":[\"Thailand\"],\"xaxis\":\"x\",\"y\":[1302000.0],\"yaxis\":\"y\",\"type\":\"bar\",\"textfont\":{\"size\":12},\"cliponaxis\":false,\"textangle\":0},{\"alignmentgroup\":\"True\",\"customdata\":[[51693.0,1.0]],\"hovertemplate\":\"Country=%{x}<br>Daily Oil Consumption (Barrels)=%{y}<br>GDP Per Capita ( USD )=%{customdata[0]}<br>World Share=%{customdata[1]}<extra></extra>\",\"legendgroup\":\"Australia\",\"marker\":{\"color\":\"#FECB52\",\"pattern\":{\"shape\":\"\"}},\"name\":\"Australia\",\"offsetgroup\":\"Australia\",\"orientation\":\"v\",\"showlegend\":true,\"textposition\":\"outside\",\"x\":[\"Australia\"],\"xaxis\":\"x\",\"y\":[1114645.0],\"yaxis\":\"y\",\"type\":\"bar\",\"textfont\":{\"size\":12},\"cliponaxis\":false,\"textangle\":0},{\"alignmentgroup\":\"True\",\"customdata\":[[25936.0,1.0]],\"hovertemplate\":\"Country=%{x}<br>Daily Oil Consumption (Barrels)=%{y}<br>GDP Per Capita ( USD )=%{customdata[0]}<br>World Share=%{customdata[1]}<extra></extra>\",\"legendgroup\":\"Taiwan\",\"marker\":{\"color\":\"#636efa\",\"pattern\":{\"shape\":\"\"}},\"name\":\"Taiwan\",\"offsetgroup\":\"Taiwan\",\"orientation\":\"v\",\"showlegend\":true,\"textposition\":\"outside\",\"x\":[\"Taiwan\"],\"xaxis\":\"x\",\"y\":[981203.0],\"yaxis\":\"y\",\"type\":\"bar\",\"textfont\":{\"size\":12},\"cliponaxis\":false,\"textangle\":0},{\"alignmentgroup\":\"True\",\"customdata\":[[8536.0,1.0]],\"hovertemplate\":\"Country=%{x}<br>Daily Oil Consumption (Barrels)=%{y}<br>GDP Per Capita ( USD )=%{customdata[0]}<br>World Share=%{customdata[1]}<extra></extra>\",\"legendgroup\":\"Turkey\",\"marker\":{\"color\":\"#EF553B\",\"pattern\":{\"shape\":\"\"}},\"name\":\"Turkey\",\"offsetgroup\":\"Turkey\",\"orientation\":\"v\",\"showlegend\":true,\"textposition\":\"outside\",\"x\":[\"Turkey\"],\"xaxis\":\"x\",\"y\":[941861.0],\"yaxis\":\"y\",\"type\":\"bar\",\"textfont\":{\"size\":12},\"cliponaxis\":false,\"textangle\":0},{\"alignmentgroup\":\"True\",\"customdata\":[[52397.0,1.0]],\"hovertemplate\":\"Country=%{x}<br>Daily Oil Consumption (Barrels)=%{y}<br>GDP Per Capita ( USD )=%{customdata[0]}<br>World Share=%{customdata[1]}<extra></extra>\",\"legendgroup\":\"Netherlands\",\"marker\":{\"color\":\"#00cc96\",\"pattern\":{\"shape\":\"\"}},\"name\":\"Netherlands\",\"offsetgroup\":\"Netherlands\",\"orientation\":\"v\",\"showlegend\":true,\"textposition\":\"outside\",\"x\":[\"Netherlands\"],\"xaxis\":\"x\",\"y\":[937098.0],\"yaxis\":\"y\",\"type\":\"bar\",\"textfont\":{\"size\":12},\"cliponaxis\":false,\"textangle\":0},{\"alignmentgroup\":\"True\",\"customdata\":[[3548.0,1.0]],\"hovertemplate\":\"Country=%{x}<br>Daily Oil Consumption (Barrels)=%{y}<br>GDP Per Capita ( USD )=%{customdata[0]}<br>World Share=%{customdata[1]}<extra></extra>\",\"legendgroup\":\"Egypt\",\"marker\":{\"color\":\"#ab63fa\",\"pattern\":{\"shape\":\"\"}},\"name\":\"Egypt\",\"offsetgroup\":\"Egypt\",\"orientation\":\"v\",\"showlegend\":true,\"textposition\":\"outside\",\"x\":[\"Egypt\"],\"xaxis\":\"x\",\"y\":[877000.0],\"yaxis\":\"y\",\"type\":\"bar\",\"textfont\":{\"size\":12},\"cliponaxis\":false,\"textangle\":0},{\"alignmentgroup\":\"True\",\"customdata\":[[36285.0,1.0]],\"hovertemplate\":\"Country=%{x}<br>Daily Oil Consumption (Barrels)=%{y}<br>GDP Per Capita ( USD )=%{customdata[0]}<br>World Share=%{customdata[1]}<extra></extra>\",\"legendgroup\":\"United Arab Emirates\",\"marker\":{\"color\":\"#FFA15A\",\"pattern\":{\"shape\":\"\"}},\"name\":\"United Arab Emirates\",\"offsetgroup\":\"United Arab Emirates\",\"orientation\":\"v\",\"showlegend\":true,\"textposition\":\"outside\",\"x\":[\"United Arab Emirates\"],\"xaxis\":\"x\",\"y\":[896000.0],\"yaxis\":\"y\",\"type\":\"bar\",\"textfont\":{\"size\":12},\"cliponaxis\":false,\"textangle\":0},{\"alignmentgroup\":\"True\",\"customdata\":[[4158.0,1.0]],\"hovertemplate\":\"Country=%{x}<br>Daily Oil Consumption (Barrels)=%{y}<br>GDP Per Capita ( USD )=%{customdata[0]}<br>World Share=%{customdata[1]}<extra></extra>\",\"legendgroup\":\"Iraq\",\"marker\":{\"color\":\"#19d3f3\",\"pattern\":{\"shape\":\"\"}},\"name\":\"Iraq\",\"offsetgroup\":\"Iraq\",\"orientation\":\"v\",\"showlegend\":true,\"textposition\":\"outside\",\"x\":[\"Iraq\"],\"xaxis\":\"x\",\"y\":[857000.0],\"yaxis\":\"y\",\"type\":\"bar\",\"textfont\":{\"size\":12},\"cliponaxis\":false,\"textangle\":0},{\"alignmentgroup\":\"True\",\"customdata\":[[10412.0,1.0]],\"hovertemplate\":\"Country=%{x}<br>Daily Oil Consumption (Barrels)=%{y}<br>GDP Per Capita ( USD )=%{customdata[0]}<br>World Share=%{customdata[1]}<extra></extra>\",\"legendgroup\":\"Malaysia\",\"marker\":{\"color\":\"#FF6692\",\"pattern\":{\"shape\":\"\"}},\"name\":\"Malaysia\",\"offsetgroup\":\"Malaysia\",\"orientation\":\"v\",\"showlegend\":true,\"textposition\":\"outside\",\"x\":[\"Malaysia\"],\"xaxis\":\"x\",\"y\":[708000.0],\"yaxis\":\"y\",\"type\":\"bar\",\"textfont\":{\"size\":12},\"cliponaxis\":false,\"textangle\":0},{\"alignmentgroup\":\"True\",\"customdata\":[[8579.0,1.0]],\"hovertemplate\":\"Country=%{x}<br>Daily Oil Consumption (Barrels)=%{y}<br>GDP Per Capita ( USD )=%{customdata[0]}<br>World Share=%{customdata[1]}<extra></extra>\",\"legendgroup\":\"Argentina\",\"marker\":{\"color\":\"#B6E880\",\"pattern\":{\"shape\":\"\"}},\"name\":\"Argentina\",\"offsetgroup\":\"Argentina\",\"orientation\":\"v\",\"showlegend\":true,\"textposition\":\"outside\",\"x\":[\"Argentina\"],\"xaxis\":\"x\",\"y\":[709000.0],\"yaxis\":\"y\",\"type\":\"bar\",\"textfont\":{\"size\":12},\"cliponaxis\":false,\"textangle\":0},{\"alignmentgroup\":\"True\",\"customdata\":[[45159.0,1.0]],\"hovertemplate\":\"Country=%{x}<br>Daily Oil Consumption (Barrels)=%{y}<br>GDP Per Capita ( USD )=%{customdata[0]}<br>World Share=%{customdata[1]}<extra></extra>\",\"legendgroup\":\"Belgium\",\"marker\":{\"color\":\"#FF97FF\",\"pattern\":{\"shape\":\"\"}},\"name\":\"Belgium\",\"offsetgroup\":\"Belgium\",\"orientation\":\"v\",\"showlegend\":true,\"textposition\":\"outside\",\"x\":[\"Belgium\"],\"xaxis\":\"x\",\"y\":[631522.0],\"yaxis\":\"y\",\"type\":\"bar\",\"textfont\":{\"size\":12},\"cliponaxis\":false,\"textangle\":0},{\"alignmentgroup\":\"True\",\"customdata\":[[5091.0,1.0]],\"hovertemplate\":\"Country=%{x}<br>Daily Oil Consumption (Barrels)=%{y}<br>GDP Per Capita ( USD )=%{customdata[0]}<br>World Share=%{customdata[1]}<extra></extra>\",\"legendgroup\":\"South Africa\",\"marker\":{\"color\":\"#FECB52\",\"pattern\":{\"shape\":\"\"}},\"name\":\"South Africa\",\"offsetgroup\":\"South Africa\",\"orientation\":\"v\",\"showlegend\":true,\"textposition\":\"outside\",\"x\":[\"South Africa\"],\"xaxis\":\"x\",\"y\":[640000.0],\"yaxis\":\"y\",\"type\":\"bar\",\"textfont\":{\"size\":12},\"cliponaxis\":false,\"textangle\":0},{\"alignmentgroup\":\"True\",\"customdata\":[[16056.0,1.0]],\"hovertemplate\":\"Country=%{x}<br>Daily Oil Consumption (Barrels)=%{y}<br>GDP Per Capita ( USD )=%{customdata[0]}<br>World Share=%{customdata[1]}<extra></extra>\",\"legendgroup\":\"Venezuela\",\"marker\":{\"color\":\"#636efa\",\"pattern\":{\"shape\":\"\"}},\"name\":\"Venezuela\",\"offsetgroup\":\"Venezuela\",\"orientation\":\"v\",\"showlegend\":true,\"textposition\":\"outside\",\"x\":[\"Venezuela\"],\"xaxis\":\"x\",\"y\":[598000.0],\"yaxis\":\"y\",\"type\":\"bar\",\"textfont\":{\"size\":12},\"cliponaxis\":false,\"textangle\":0},{\"alignmentgroup\":\"True\",\"customdata\":[[15721.0,1.0]],\"hovertemplate\":\"Country=%{x}<br>Daily Oil Consumption (Barrels)=%{y}<br>GDP Per Capita ( USD )=%{customdata[0]}<br>World Share=%{customdata[1]}<extra></extra>\",\"legendgroup\":\"Poland\",\"marker\":{\"color\":\"#EF553B\",\"pattern\":{\"shape\":\"\"}},\"name\":\"Poland\",\"offsetgroup\":\"Poland\",\"orientation\":\"v\",\"showlegend\":true,\"textposition\":\"outside\",\"x\":[\"Poland\"],\"xaxis\":\"x\",\"y\":[582161.0],\"yaxis\":\"y\",\"type\":\"bar\",\"textfont\":{\"size\":12},\"cliponaxis\":false,\"textangle\":0},{\"alignmentgroup\":\"True\",\"customdata\":[[1194.0,1.0]],\"hovertemplate\":\"Country=%{x}<br>Daily Oil Consumption (Barrels)=%{y}<br>GDP Per Capita ( USD )=%{customdata[0]}<br>World Share=%{customdata[1]}<extra></extra>\",\"legendgroup\":\"Pakistan\",\"marker\":{\"color\":\"#00cc96\",\"pattern\":{\"shape\":\"\"}},\"name\":\"Pakistan\",\"offsetgroup\":\"Pakistan\",\"orientation\":\"v\",\"showlegend\":true,\"textposition\":\"outside\",\"x\":[\"Pakistan\"],\"xaxis\":\"x\",\"y\":[556000.0],\"yaxis\":\"y\",\"type\":\"bar\",\"textfont\":{\"size\":12},\"cliponaxis\":false,\"textangle\":0},{\"alignmentgroup\":\"True\",\"customdata\":[[2786.0,1.0]],\"hovertemplate\":\"Country=%{x}<br>Daily Oil Consumption (Barrels)=%{y}<br>GDP Per Capita ( USD )=%{customdata[0]}<br>World Share=%{customdata[1]}<extra></extra>\",\"legendgroup\":\"Vietnam\",\"marker\":{\"color\":\"#ab63fa\",\"pattern\":{\"shape\":\"\"}},\"name\":\"Vietnam\",\"offsetgroup\":\"Vietnam\",\"orientation\":\"v\",\"showlegend\":true,\"textposition\":\"outside\",\"x\":[\"Vietnam\"],\"xaxis\":\"x\",\"y\":[478000.0],\"yaxis\":\"y\",\"type\":\"bar\",\"textfont\":{\"size\":12},\"cliponaxis\":false,\"textangle\":0},{\"alignmentgroup\":\"True\",\"customdata\":[[2097.0,0.0]],\"hovertemplate\":\"Country=%{x}<br>Daily Oil Consumption (Barrels)=%{y}<br>GDP Per Capita ( USD )=%{customdata[0]}<br>World Share=%{customdata[1]}<extra></extra>\",\"legendgroup\":\"Nigeria\",\"marker\":{\"color\":\"#FFA15A\",\"pattern\":{\"shape\":\"\"}},\"name\":\"Nigeria\",\"offsetgroup\":\"Nigeria\",\"orientation\":\"v\",\"showlegend\":true,\"textposition\":\"outside\",\"x\":[\"Nigeria\"],\"xaxis\":\"x\",\"y\":[428000.0],\"yaxis\":\"y\",\"type\":\"bar\",\"textfont\":{\"size\":12},\"cliponaxis\":false,\"textangle\":0},{\"alignmentgroup\":\"True\",\"customdata\":[[5333.0,0.0]],\"hovertemplate\":\"Country=%{x}<br>Daily Oil Consumption (Barrels)=%{y}<br>GDP Per Capita ( USD )=%{customdata[0]}<br>World Share=%{customdata[1]}<extra></extra>\",\"legendgroup\":\"Colombia\",\"marker\":{\"color\":\"#19d3f3\",\"pattern\":{\"shape\":\"\"}},\"name\":\"Colombia\",\"offsetgroup\":\"Colombia\",\"orientation\":\"v\",\"showlegend\":true,\"textposition\":\"outside\",\"x\":[\"Colombia\"],\"xaxis\":\"x\",\"y\":[357000.0],\"yaxis\":\"y\",\"type\":\"bar\",\"textfont\":{\"size\":12},\"cliponaxis\":false,\"textangle\":0},{\"alignmentgroup\":\"True\",\"customdata\":[[3310.0,0.0]],\"hovertemplate\":\"Country=%{x}<br>Daily Oil Consumption (Barrels)=%{y}<br>GDP Per Capita ( USD )=%{customdata[0]}<br>World Share=%{customdata[1]}<extra></extra>\",\"legendgroup\":\"Algeria\",\"marker\":{\"color\":\"#FF6692\",\"pattern\":{\"shape\":\"\"}},\"name\":\"Algeria\",\"offsetgroup\":\"Algeria\",\"orientation\":\"v\",\"showlegend\":true,\"textposition\":\"outside\",\"x\":[\"Algeria\"],\"xaxis\":\"x\",\"y\":[429000.0],\"yaxis\":\"y\",\"type\":\"bar\",\"textfont\":{\"size\":12},\"cliponaxis\":false,\"textangle\":0},{\"alignmentgroup\":\"True\",\"customdata\":[[24812.0,0.0]],\"hovertemplate\":\"Country=%{x}<br>Daily Oil Consumption (Barrels)=%{y}<br>GDP Per Capita ( USD )=%{customdata[0]}<br>World Share=%{customdata[1]}<extra></extra>\",\"legendgroup\":\"Kuwait\",\"marker\":{\"color\":\"#B6E880\",\"pattern\":{\"shape\":\"\"}},\"name\":\"Kuwait\",\"offsetgroup\":\"Kuwait\",\"orientation\":\"v\",\"showlegend\":true,\"textposition\":\"outside\",\"x\":[\"Kuwait\"],\"xaxis\":\"x\",\"y\":[359000.0],\"yaxis\":\"y\",\"type\":\"bar\",\"textfont\":{\"size\":12},\"cliponaxis\":false,\"textangle\":0},{\"alignmentgroup\":\"True\",\"customdata\":[[3299.0,0.0]],\"hovertemplate\":\"Country=%{x}<br>Daily Oil Consumption (Barrels)=%{y}<br>GDP Per Capita ( USD )=%{customdata[0]}<br>World Share=%{customdata[1]}<extra></extra>\",\"legendgroup\":\"Philippines\",\"marker\":{\"color\":\"#FF97FF\",\"pattern\":{\"shape\":\"\"}},\"name\":\"Philippines\",\"offsetgroup\":\"Philippines\",\"orientation\":\"v\",\"showlegend\":true,\"textposition\":\"outside\",\"x\":[\"Philippines\"],\"xaxis\":\"x\",\"y\":[429000.0],\"yaxis\":\"y\",\"type\":\"bar\",\"textfont\":{\"size\":12},\"cliponaxis\":false,\"textangle\":0},{\"alignmentgroup\":\"True\",\"customdata\":[[13232.0,0.0]],\"hovertemplate\":\"Country=%{x}<br>Daily Oil Consumption (Barrels)=%{y}<br>GDP Per Capita ( USD )=%{customdata[0]}<br>World Share=%{customdata[1]}<extra></extra>\",\"legendgroup\":\"Chile\",\"marker\":{\"color\":\"#FECB52\",\"pattern\":{\"shape\":\"\"}},\"name\":\"Chile\",\"offsetgroup\":\"Chile\",\"orientation\":\"v\",\"showlegend\":true,\"textposition\":\"outside\",\"x\":[\"Chile\"],\"xaxis\":\"x\",\"y\":[351989.0],\"yaxis\":\"y\",\"type\":\"bar\",\"textfont\":{\"size\":12},\"cliponaxis\":false,\"textangle\":0},{\"alignmentgroup\":\"True\",\"customdata\":[[46324.0,0.0]],\"hovertemplate\":\"Country=%{x}<br>Daily Oil Consumption (Barrels)=%{y}<br>GDP Per Capita ( USD )=%{customdata[0]}<br>World Share=%{customdata[1]}<extra></extra>\",\"legendgroup\":\"Hong Kong\",\"marker\":{\"color\":\"#636efa\",\"pattern\":{\"shape\":\"\"}},\"name\":\"Hong Kong\",\"offsetgroup\":\"Hong Kong\",\"orientation\":\"v\",\"showlegend\":true,\"textposition\":\"outside\",\"x\":[\"Hong Kong\"],\"xaxis\":\"x\",\"y\":[408491.0],\"yaxis\":\"y\",\"type\":\"bar\",\"textfont\":{\"size\":12},\"cliponaxis\":false,\"textangle\":0},{\"alignmentgroup\":\"True\",\"customdata\":[[9122.0,0.0]],\"hovertemplate\":\"Country=%{x}<br>Daily Oil Consumption (Barrels)=%{y}<br>GDP Per Capita ( USD )=%{customdata[0]}<br>World Share=%{customdata[1]}<extra></extra>\",\"legendgroup\":\"Kazakhstan\",\"marker\":{\"color\":\"#EF553B\",\"pattern\":{\"shape\":\"\"}},\"name\":\"Kazakhstan\",\"offsetgroup\":\"Kazakhstan\",\"orientation\":\"v\",\"showlegend\":true,\"textposition\":\"outside\",\"x\":[\"Kazakhstan\"],\"xaxis\":\"x\",\"y\":[325000.0],\"yaxis\":\"y\",\"type\":\"bar\",\"textfont\":{\"size\":12},\"cliponaxis\":false,\"textangle\":0},{\"alignmentgroup\":\"True\",\"customdata\":[[48587.0,0.0]],\"hovertemplate\":\"Country=%{x}<br>Daily Oil Consumption (Barrels)=%{y}<br>GDP Per Capita ( USD )=%{customdata[0]}<br>World Share=%{customdata[1]}<extra></extra>\",\"legendgroup\":\"Austria\",\"marker\":{\"color\":\"#00cc96\",\"pattern\":{\"shape\":\"\"}},\"name\":\"Austria\",\"offsetgroup\":\"Austria\",\"orientation\":\"v\",\"showlegend\":true,\"textposition\":\"outside\",\"x\":[\"Austria\"],\"xaxis\":\"x\",\"y\":[262352.0],\"yaxis\":\"y\",\"type\":\"bar\",\"textfont\":{\"size\":12},\"cliponaxis\":false,\"textangle\":0},{\"alignmentgroup\":\"True\",\"customdata\":[[52274.0,0.0]],\"hovertemplate\":\"Country=%{x}<br>Daily Oil Consumption (Barrels)=%{y}<br>GDP Per Capita ( USD )=%{customdata[0]}<br>World Share=%{customdata[1]}<extra></extra>\",\"legendgroup\":\"Sweden\",\"marker\":{\"color\":\"#ab63fa\",\"pattern\":{\"shape\":\"\"}},\"name\":\"Sweden\",\"offsetgroup\":\"Sweden\",\"orientation\":\"v\",\"showlegend\":true,\"textposition\":\"outside\",\"x\":[\"Sweden\"],\"xaxis\":\"x\",\"y\":[322109.0],\"yaxis\":\"y\",\"type\":\"bar\",\"textfont\":{\"size\":12},\"cliponaxis\":false,\"textangle\":0},{\"alignmentgroup\":\"True\",\"customdata\":[[6127.0,0.0]],\"hovertemplate\":\"Country=%{x}<br>Daily Oil Consumption (Barrels)=%{y}<br>GDP Per Capita ( USD )=%{customdata[0]}<br>World Share=%{customdata[1]}<extra></extra>\",\"legendgroup\":\"Peru\",\"marker\":{\"color\":\"#FFA15A\",\"pattern\":{\"shape\":\"\"}},\"name\":\"Peru\",\"offsetgroup\":\"Peru\",\"orientation\":\"v\",\"showlegend\":true,\"textposition\":\"outside\",\"x\":[\"Peru\"],\"xaxis\":\"x\",\"y\":[246000.0],\"yaxis\":\"y\",\"type\":\"bar\",\"textfont\":{\"size\":12},\"cliponaxis\":false,\"textangle\":0},{\"alignmentgroup\":\"True\",\"customdata\":[[3727.0,0.0]],\"hovertemplate\":\"Country=%{x}<br>Daily Oil Consumption (Barrels)=%{y}<br>GDP Per Capita ( USD )=%{customdata[0]}<br>World Share=%{customdata[1]}<extra></extra>\",\"legendgroup\":\"Ukraine\",\"marker\":{\"color\":\"#19d3f3\",\"pattern\":{\"shape\":\"\"}},\"name\":\"Ukraine\",\"offsetgroup\":\"Ukraine\",\"orientation\":\"v\",\"showlegend\":true,\"textposition\":\"outside\",\"x\":[\"Ukraine\"],\"xaxis\":\"x\",\"y\":[244000.0],\"yaxis\":\"y\",\"type\":\"bar\",\"textfont\":{\"size\":12},\"cliponaxis\":false,\"textangle\":0},{\"alignmentgroup\":\"True\",\"customdata\":[[5600.0,0.0]],\"hovertemplate\":\"Country=%{x}<br>Daily Oil Consumption (Barrels)=%{y}<br>GDP Per Capita ( USD )=%{customdata[0]}<br>World Share=%{customdata[1]}<extra></extra>\",\"legendgroup\":\"Ecuador\",\"marker\":{\"color\":\"#FF6692\",\"pattern\":{\"shape\":\"\"}},\"name\":\"Ecuador\",\"offsetgroup\":\"Ecuador\",\"orientation\":\"v\",\"showlegend\":true,\"textposition\":\"outside\",\"x\":[\"Ecuador\"],\"xaxis\":\"x\",\"y\":[259000.0],\"yaxis\":\"y\",\"type\":\"bar\",\"textfont\":{\"size\":12},\"cliponaxis\":false,\"textangle\":0},{\"alignmentgroup\":\"True\",\"customdata\":[[17623.0,0.0]],\"hovertemplate\":\"Country=%{x}<br>Daily Oil Consumption (Barrels)=%{y}<br>GDP Per Capita ( USD )=%{customdata[0]}<br>World Share=%{customdata[1]}<extra></extra>\",\"legendgroup\":\"Greece\",\"marker\":{\"color\":\"#B6E880\",\"pattern\":{\"shape\":\"\"}},\"name\":\"Greece\",\"offsetgroup\":\"Greece\",\"orientation\":\"v\",\"showlegend\":true,\"textposition\":\"outside\",\"x\":[\"Greece\"],\"xaxis\":\"x\",\"y\":[296101.0],\"yaxis\":\"y\",\"type\":\"bar\",\"textfont\":{\"size\":12},\"cliponaxis\":false,\"textangle\":0},{\"alignmentgroup\":\"True\",\"customdata\":[[3009.0,0.0]],\"hovertemplate\":\"Country=%{x}<br>Daily Oil Consumption (Barrels)=%{y}<br>GDP Per Capita ( USD )=%{customdata[0]}<br>World Share=%{customdata[1]}<extra></extra>\",\"legendgroup\":\"Morocco\",\"marker\":{\"color\":\"#FF97FF\",\"pattern\":{\"shape\":\"\"}},\"name\":\"Morocco\",\"offsetgroup\":\"Morocco\",\"orientation\":\"v\",\"showlegend\":true,\"textposition\":\"outside\",\"x\":[\"Morocco\"],\"xaxis\":\"x\",\"y\":[275000.0],\"yaxis\":\"y\",\"type\":\"bar\",\"textfont\":{\"size\":12},\"cliponaxis\":false,\"textangle\":0},{\"alignmentgroup\":\"True\",\"customdata\":[[3699.0,0.0]],\"hovertemplate\":\"Country=%{x}<br>Daily Oil Consumption (Barrels)=%{y}<br>GDP Per Capita ( USD )=%{customdata[0]}<br>World Share=%{customdata[1]}<extra></extra>\",\"legendgroup\":\"Libya\",\"marker\":{\"color\":\"#FECB52\",\"pattern\":{\"shape\":\"\"}},\"name\":\"Libya\",\"offsetgroup\":\"Libya\",\"orientation\":\"v\",\"showlegend\":true,\"textposition\":\"outside\",\"x\":[\"Libya\"],\"xaxis\":\"x\",\"y\":[223000.0],\"yaxis\":\"y\",\"type\":\"bar\",\"textfont\":{\"size\":12},\"cliponaxis\":false,\"textangle\":0},{\"alignmentgroup\":\"True\",\"customdata\":[[87097.0,0.0]],\"hovertemplate\":\"Country=%{x}<br>Daily Oil Consumption (Barrels)=%{y}<br>GDP Per Capita ( USD )=%{customdata[0]}<br>World Share=%{customdata[1]}<extra></extra>\",\"legendgroup\":\"Switzerland\",\"marker\":{\"color\":\"#636efa\",\"pattern\":{\"shape\":\"\"}},\"name\":\"Switzerland\",\"offsetgroup\":\"Switzerland\",\"orientation\":\"v\",\"showlegend\":true,\"textposition\":\"outside\",\"x\":[\"Switzerland\"],\"xaxis\":\"x\",\"y\":[228194.0],\"yaxis\":\"y\",\"type\":\"bar\",\"textfont\":{\"size\":12},\"cliponaxis\":false,\"textangle\":0},{\"alignmentgroup\":\"True\",\"customdata\":[[50124.0,0.0]],\"hovertemplate\":\"Country=%{x}<br>Daily Oil Consumption (Barrels)=%{y}<br>GDP Per Capita ( USD )=%{customdata[0]}<br>World Share=%{customdata[1]}<extra></extra>\",\"legendgroup\":\"Qatar\",\"marker\":{\"color\":\"#EF553B\",\"pattern\":{\"shape\":\"\"}},\"name\":\"Qatar\",\"offsetgroup\":\"Qatar\",\"orientation\":\"v\",\"showlegend\":true,\"textposition\":\"outside\",\"x\":[\"Qatar\"],\"xaxis\":\"x\",\"y\":[172000.0],\"yaxis\":\"y\",\"type\":\"bar\",\"textfont\":{\"size\":12},\"cliponaxis\":false,\"textangle\":0},{\"alignmentgroup\":\"True\",\"customdata\":[[85268.0,0.0]],\"hovertemplate\":\"Country=%{x}<br>Daily Oil Consumption (Barrels)=%{y}<br>GDP Per Capita ( USD )=%{customdata[0]}<br>World Share=%{customdata[1]}<extra></extra>\",\"legendgroup\":\"Ireland\",\"marker\":{\"color\":\"#00cc96\",\"pattern\":{\"shape\":\"\"}},\"name\":\"Ireland\",\"offsetgroup\":\"Ireland\",\"orientation\":\"v\",\"showlegend\":true,\"textposition\":\"outside\",\"x\":[\"Ireland\"],\"xaxis\":\"x\",\"y\":[152404.0],\"yaxis\":\"y\",\"type\":\"bar\",\"textfont\":{\"size\":12},\"cliponaxis\":false,\"textangle\":0},{\"alignmentgroup\":\"True\",\"customdata\":[[61063.0,0.0]],\"hovertemplate\":\"Country=%{x}<br>Daily Oil Consumption (Barrels)=%{y}<br>GDP Per Capita ( USD )=%{customdata[0]}<br>World Share=%{customdata[1]}<extra></extra>\",\"legendgroup\":\"Denmark\",\"marker\":{\"color\":\"#ab63fa\",\"pattern\":{\"shape\":\"\"}},\"name\":\"Denmark\",\"offsetgroup\":\"Denmark\",\"orientation\":\"v\",\"showlegend\":true,\"textposition\":\"outside\",\"x\":[\"Denmark\"],\"xaxis\":\"x\",\"y\":[158194.0],\"yaxis\":\"y\",\"type\":\"bar\",\"textfont\":{\"size\":12},\"cliponaxis\":false,\"textangle\":0},{\"alignmentgroup\":\"True\",\"customdata\":[[44169.0,0.0]],\"hovertemplate\":\"Country=%{x}<br>Daily Oil Consumption (Barrels)=%{y}<br>GDP Per Capita ( USD )=%{customdata[0]}<br>World Share=%{customdata[1]}<extra></extra>\",\"legendgroup\":\"Israel\",\"marker\":{\"color\":\"#FFA15A\",\"pattern\":{\"shape\":\"\"}},\"name\":\"Israel\",\"offsetgroup\":\"Israel\",\"orientation\":\"v\",\"showlegend\":true,\"textposition\":\"outside\",\"x\":[\"Israel\"],\"xaxis\":\"x\",\"y\":[236249.0],\"yaxis\":\"y\",\"type\":\"bar\",\"textfont\":{\"size\":12},\"cliponaxis\":false,\"textangle\":0},{\"alignmentgroup\":\"True\",\"customdata\":[[12896.0,0.0]],\"hovertemplate\":\"Country=%{x}<br>Daily Oil Consumption (Barrels)=%{y}<br>GDP Per Capita ( USD )=%{customdata[0]}<br>World Share=%{customdata[1]}<extra></extra>\",\"legendgroup\":\"Romania\",\"marker\":{\"color\":\"#19d3f3\",\"pattern\":{\"shape\":\"\"}},\"name\":\"Romania\",\"offsetgroup\":\"Romania\",\"orientation\":\"v\",\"showlegend\":true,\"textposition\":\"outside\",\"x\":[\"Romania\"],\"xaxis\":\"x\",\"y\":[200000.0],\"yaxis\":\"y\",\"type\":\"bar\",\"textfont\":{\"size\":12},\"cliponaxis\":false,\"textangle\":0},{\"alignmentgroup\":\"True\",\"customdata\":[[22932.0,0.0]],\"hovertemplate\":\"Country=%{x}<br>Daily Oil Consumption (Barrels)=%{y}<br>GDP Per Capita ( USD )=%{customdata[0]}<br>World Share=%{customdata[1]}<extra></extra>\",\"legendgroup\":\"Czech Republic (Czechia)\",\"marker\":{\"color\":\"#FF6692\",\"pattern\":{\"shape\":\"\"}},\"name\":\"Czech Republic (Czechia)\",\"offsetgroup\":\"Czech Republic (Czechia)\",\"orientation\":\"v\",\"showlegend\":true,\"textposition\":\"outside\",\"x\":[\"Czech Republic (Czechia)\"],\"xaxis\":\"x\",\"y\":[179956.0],\"yaxis\":\"y\",\"type\":\"bar\",\"textfont\":{\"size\":12},\"cliponaxis\":false,\"textangle\":0},{\"alignmentgroup\":\"True\",\"customdata\":[[7612.0,0.0]],\"hovertemplate\":\"Country=%{x}<br>Daily Oil Consumption (Barrels)=%{y}<br>GDP Per Capita ( USD )=%{customdata[0]}<br>World Share=%{customdata[1]}<extra></extra>\",\"legendgroup\":\"Turkmenistan\",\"marker\":{\"color\":\"#B6E880\",\"pattern\":{\"shape\":\"\"}},\"name\":\"Turkmenistan\",\"offsetgroup\":\"Turkmenistan\",\"orientation\":\"v\",\"showlegend\":true,\"textposition\":\"outside\",\"x\":[\"Turkmenistan\"],\"xaxis\":\"x\",\"y\":[149000.0],\"yaxis\":\"y\",\"type\":\"bar\",\"textfont\":{\"size\":12},\"cliponaxis\":false,\"textangle\":0},{\"alignmentgroup\":\"True\",\"customdata\":[[67390.0,0.0]],\"hovertemplate\":\"Country=%{x}<br>Daily Oil Consumption (Barrels)=%{y}<br>GDP Per Capita ( USD )=%{customdata[0]}<br>World Share=%{customdata[1]}<extra></extra>\",\"legendgroup\":\"Norway\",\"marker\":{\"color\":\"#FF97FF\",\"pattern\":{\"shape\":\"\"}},\"name\":\"Norway\",\"offsetgroup\":\"Norway\",\"orientation\":\"v\",\"showlegend\":true,\"textposition\":\"outside\",\"x\":[\"Norway\"],\"xaxis\":\"x\",\"y\":[204090.0],\"yaxis\":\"y\",\"type\":\"bar\",\"textfont\":{\"size\":12},\"cliponaxis\":false,\"textangle\":0},{\"alignmentgroup\":\"True\",\"customdata\":[[41442.0,0.0]],\"hovertemplate\":\"Country=%{x}<br>Daily Oil Consumption (Barrels)=%{y}<br>GDP Per Capita ( USD )=%{customdata[0]}<br>World Share=%{customdata[1]}<extra></extra>\",\"legendgroup\":\"New Zealand\",\"marker\":{\"color\":\"#FECB52\",\"pattern\":{\"shape\":\"\"}},\"name\":\"New Zealand\",\"offsetgroup\":\"New Zealand\",\"orientation\":\"v\",\"showlegend\":true,\"textposition\":\"outside\",\"x\":[\"New Zealand\"],\"xaxis\":\"x\",\"y\":[166913.0],\"yaxis\":\"y\",\"type\":\"bar\",\"textfont\":{\"size\":12},\"cliponaxis\":false,\"textangle\":0},{\"alignmentgroup\":\"True\",\"customdata\":[[9478.0,0.0]],\"hovertemplate\":\"Country=%{x}<br>Daily Oil Consumption (Barrels)=%{y}<br>GDP Per Capita ( USD )=%{customdata[0]}<br>World Share=%{customdata[1]}<extra></extra>\",\"legendgroup\":\"Cuba\",\"marker\":{\"color\":\"#636efa\",\"pattern\":{\"shape\":\"\"}},\"name\":\"Cuba\",\"offsetgroup\":\"Cuba\",\"orientation\":\"v\",\"showlegend\":true,\"textposition\":\"outside\",\"x\":[\"Cuba\"],\"xaxis\":\"x\",\"y\":[153000.0],\"yaxis\":\"y\",\"type\":\"bar\",\"textfont\":{\"size\":12},\"cliponaxis\":false,\"textangle\":0},{\"alignmentgroup\":\"True\",\"customdata\":[[12660.0,0.0]],\"hovertemplate\":\"Country=%{x}<br>Daily Oil Consumption (Barrels)=%{y}<br>GDP Per Capita ( USD )=%{customdata[0]}<br>World Share=%{customdata[1]}<extra></extra>\",\"legendgroup\":\"Oman\",\"marker\":{\"color\":\"#EF553B\",\"pattern\":{\"shape\":\"\"}},\"name\":\"Oman\",\"offsetgroup\":\"Oman\",\"orientation\":\"v\",\"showlegend\":true,\"textposition\":\"outside\",\"x\":[\"Oman\"],\"xaxis\":\"x\",\"y\":[183000.0],\"yaxis\":\"y\",\"type\":\"bar\",\"textfont\":{\"size\":12},\"cliponaxis\":false,\"textangle\":0},{\"alignmentgroup\":\"True\",\"customdata\":[[15981.0,0.0]],\"hovertemplate\":\"Country=%{x}<br>Daily Oil Consumption (Barrels)=%{y}<br>GDP Per Capita ( USD )=%{customdata[0]}<br>World Share=%{customdata[1]}<extra></extra>\",\"legendgroup\":\"Hungary\",\"marker\":{\"color\":\"#00cc96\",\"pattern\":{\"shape\":\"\"}},\"name\":\"Hungary\",\"offsetgroup\":\"Hungary\",\"orientation\":\"v\",\"showlegend\":true,\"textposition\":\"outside\",\"x\":[\"Hungary\"],\"xaxis\":\"x\",\"y\":[155544.0],\"yaxis\":\"y\",\"type\":\"bar\",\"textfont\":{\"size\":12},\"cliponaxis\":false,\"textangle\":0},{\"alignmentgroup\":\"True\",\"customdata\":[[48773.0,0.0]],\"hovertemplate\":\"Country=%{x}<br>Daily Oil Consumption (Barrels)=%{y}<br>GDP Per Capita ( USD )=%{customdata[0]}<br>World Share=%{customdata[1]}<extra></extra>\",\"legendgroup\":\"Finland\",\"marker\":{\"color\":\"#ab63fa\",\"pattern\":{\"shape\":\"\"}},\"name\":\"Finland\",\"offsetgroup\":\"Finland\",\"orientation\":\"v\",\"showlegend\":true,\"textposition\":\"outside\",\"x\":[\"Finland\"],\"xaxis\":\"x\",\"y\":[210030.0],\"yaxis\":\"y\",\"type\":\"bar\",\"textfont\":{\"size\":12},\"cliponaxis\":false,\"textangle\":0},{\"alignmentgroup\":\"True\",\"customdata\":[[22176.0,0.0]],\"hovertemplate\":\"Country=%{x}<br>Daily Oil Consumption (Barrels)=%{y}<br>GDP Per Capita ( USD )=%{customdata[0]}<br>World Share=%{customdata[1]}<extra></extra>\",\"legendgroup\":\"Portugal\",\"marker\":{\"color\":\"#FFA15A\",\"pattern\":{\"shape\":\"\"}},\"name\":\"Portugal\",\"offsetgroup\":\"Portugal\",\"orientation\":\"v\",\"showlegend\":true,\"textposition\":\"outside\",\"x\":[\"Portugal\"],\"xaxis\":\"x\",\"y\":[236866.0],\"yaxis\":\"y\",\"type\":\"bar\",\"textfont\":{\"size\":12},\"cliponaxis\":false,\"textangle\":0},{\"alignmentgroup\":\"True\",\"customdata\":[[12510.0,0.0]],\"hovertemplate\":\"Country=%{x}<br>Daily Oil Consumption (Barrels)=%{y}<br>GDP Per Capita ( USD )=%{customdata[0]}<br>World Share=%{customdata[1]}<extra></extra>\",\"legendgroup\":\"Panama\",\"marker\":{\"color\":\"#19d3f3\",\"pattern\":{\"shape\":\"\"}},\"name\":\"Panama\",\"offsetgroup\":\"Panama\",\"orientation\":\"v\",\"showlegend\":true,\"textposition\":\"outside\",\"x\":[\"Panama\"],\"xaxis\":\"x\",\"y\":[155000.0],\"yaxis\":\"y\",\"type\":\"bar\",\"textfont\":{\"size\":12},\"cliponaxis\":false,\"textangle\":0},{\"alignmentgroup\":\"True\",\"customdata\":[[4650.0,0.0]],\"hovertemplate\":\"Country=%{x}<br>Daily Oil Consumption (Barrels)=%{y}<br>GDP Per Capita ( USD )=%{customdata[0]}<br>World Share=%{customdata[1]}<extra></extra>\",\"legendgroup\":\"Lebanon\",\"marker\":{\"color\":\"#FF6692\",\"pattern\":{\"shape\":\"\"}},\"name\":\"Lebanon\",\"offsetgroup\":\"Lebanon\",\"orientation\":\"v\",\"showlegend\":true,\"textposition\":\"outside\",\"x\":[\"Lebanon\"],\"xaxis\":\"x\",\"y\":[153000.0],\"yaxis\":\"y\",\"type\":\"bar\",\"textfont\":{\"size\":12},\"cliponaxis\":false,\"textangle\":0},{\"alignmentgroup\":\"True\",\"customdata\":[[1969.0,0.0]],\"hovertemplate\":\"Country=%{x}<br>Daily Oil Consumption (Barrels)=%{y}<br>GDP Per Capita ( USD )=%{customdata[0]}<br>World Share=%{customdata[1]}<extra></extra>\",\"legendgroup\":\"Bangladesh\",\"marker\":{\"color\":\"#B6E880\",\"pattern\":{\"shape\":\"\"}},\"name\":\"Bangladesh\",\"offsetgroup\":\"Bangladesh\",\"orientation\":\"v\",\"showlegend\":true,\"textposition\":\"outside\",\"x\":[\"Bangladesh\"],\"xaxis\":\"x\",\"y\":[113000.0],\"yaxis\":\"y\",\"type\":\"bar\",\"textfont\":{\"size\":12},\"cliponaxis\":false,\"textangle\":0},{\"alignmentgroup\":\"True\",\"customdata\":[[1896.0,0.0]],\"hovertemplate\":\"Country=%{x}<br>Daily Oil Consumption (Barrels)=%{y}<br>GDP Per Capita ( USD )=%{customdata[0]}<br>World Share=%{customdata[1]}<extra></extra>\",\"legendgroup\":\"Angola\",\"marker\":{\"color\":\"#FF97FF\",\"pattern\":{\"shape\":\"\"}},\"name\":\"Angola\",\"offsetgroup\":\"Angola\",\"orientation\":\"v\",\"showlegend\":true,\"textposition\":\"outside\",\"x\":[\"Angola\"],\"xaxis\":\"x\",\"y\":[133000.0],\"yaxis\":\"y\",\"type\":\"bar\",\"textfont\":{\"size\":12},\"cliponaxis\":false,\"textangle\":0},{\"alignmentgroup\":\"True\",\"customdata\":[[2033.0,0.0]],\"hovertemplate\":\"Country=%{x}<br>Daily Oil Consumption (Barrels)=%{y}<br>GDP Per Capita ( USD )=%{customdata[0]}<br>World Share=%{customdata[1]}<extra></extra>\",\"legendgroup\":\"Syria\",\"marker\":{\"color\":\"#FECB52\",\"pattern\":{\"shape\":\"\"}},\"name\":\"Syria\",\"offsetgroup\":\"Syria\",\"orientation\":\"v\",\"showlegend\":true,\"textposition\":\"outside\",\"x\":[\"Syria\"],\"xaxis\":\"x\",\"y\":[140000.0],\"yaxis\":\"y\",\"type\":\"bar\",\"textfont\":{\"size\":12},\"cliponaxis\":false,\"textangle\":0},{\"alignmentgroup\":\"True\",\"customdata\":[[32291.0,0.0]],\"hovertemplate\":\"Country=%{x}<br>Daily Oil Consumption (Barrels)=%{y}<br>GDP Per Capita ( USD )=%{customdata[0]}<br>World Share=%{customdata[1]}<extra></extra>\",\"legendgroup\":\"Puerto Rico\",\"marker\":{\"color\":\"#636efa\",\"pattern\":{\"shape\":\"\"}},\"name\":\"Puerto Rico\",\"offsetgroup\":\"Puerto Rico\",\"orientation\":\"v\",\"showlegend\":true,\"textposition\":\"outside\",\"x\":[\"Puerto Rico\"],\"xaxis\":\"x\",\"y\":[96746.0],\"yaxis\":\"y\",\"type\":\"bar\",\"textfont\":{\"size\":12},\"cliponaxis\":false,\"textangle\":0},{\"alignmentgroup\":\"True\",\"customdata\":[[4214.0,0.0]],\"hovertemplate\":\"Country=%{x}<br>Daily Oil Consumption (Barrels)=%{y}<br>GDP Per Capita ( USD )=%{customdata[0]}<br>World Share=%{customdata[1]}<extra></extra>\",\"legendgroup\":\"Azerbaijan\",\"marker\":{\"color\":\"#EF553B\",\"pattern\":{\"shape\":\"\"}},\"name\":\"Azerbaijan\",\"offsetgroup\":\"Azerbaijan\",\"orientation\":\"v\",\"showlegend\":true,\"textposition\":\"outside\",\"x\":[\"Azerbaijan\"],\"xaxis\":\"x\",\"y\":[96000.0],\"yaxis\":\"y\",\"type\":\"bar\",\"textfont\":{\"size\":12},\"cliponaxis\":false,\"textangle\":0},{\"alignmentgroup\":\"True\",\"customdata\":[[6411.0,0.0]],\"hovertemplate\":\"Country=%{x}<br>Daily Oil Consumption (Barrels)=%{y}<br>GDP Per Capita ( USD )=%{customdata[0]}<br>World Share=%{customdata[1]}<extra></extra>\",\"legendgroup\":\"Belarus\",\"marker\":{\"color\":\"#00cc96\",\"pattern\":{\"shape\":\"\"}},\"name\":\"Belarus\",\"offsetgroup\":\"Belarus\",\"orientation\":\"v\",\"showlegend\":true,\"textposition\":\"outside\",\"x\":[\"Belarus\"],\"xaxis\":\"x\",\"y\":[137000.0],\"yaxis\":\"y\",\"type\":\"bar\",\"textfont\":{\"size\":12},\"cliponaxis\":false,\"textangle\":0},{\"alignmentgroup\":\"True\",\"customdata\":[[4603.0,0.0]],\"hovertemplate\":\"Country=%{x}<br>Daily Oil Consumption (Barrels)=%{y}<br>GDP Per Capita ( USD )=%{customdata[0]}<br>World Share=%{customdata[1]}<extra></extra>\",\"legendgroup\":\"Guatemala\",\"marker\":{\"color\":\"#ab63fa\",\"pattern\":{\"shape\":\"\"}},\"name\":\"Guatemala\",\"offsetgroup\":\"Guatemala\",\"orientation\":\"v\",\"showlegend\":true,\"textposition\":\"outside\",\"x\":[\"Guatemala\"],\"xaxis\":\"x\",\"y\":[93000.0],\"yaxis\":\"y\",\"type\":\"bar\",\"textfont\":{\"size\":12},\"cliponaxis\":false,\"textangle\":0},{\"alignmentgroup\":\"True\",\"customdata\":[[1838.0,0.0]],\"hovertemplate\":\"Country=%{x}<br>Daily Oil Consumption (Barrels)=%{y}<br>GDP Per Capita ( USD )=%{customdata[0]}<br>World Share=%{customdata[1]}<extra></extra>\",\"legendgroup\":\"Kenya\",\"marker\":{\"color\":\"#FFA15A\",\"pattern\":{\"shape\":\"\"}},\"name\":\"Kenya\",\"offsetgroup\":\"Kenya\",\"orientation\":\"v\",\"showlegend\":true,\"textposition\":\"outside\",\"x\":[\"Kenya\"],\"xaxis\":\"x\",\"y\":[114000.0],\"yaxis\":\"y\",\"type\":\"bar\",\"textfont\":{\"size\":12},\"cliponaxis\":false,\"textangle\":0},{\"alignmentgroup\":\"True\",\"customdata\":[[3320.0,0.0]],\"hovertemplate\":\"Country=%{x}<br>Daily Oil Consumption (Barrels)=%{y}<br>GDP Per Capita ( USD )=%{customdata[0]}<br>World Share=%{customdata[1]}<extra></extra>\",\"legendgroup\":\"Tunisia\",\"marker\":{\"color\":\"#19d3f3\",\"pattern\":{\"shape\":\"\"}},\"name\":\"Tunisia\",\"offsetgroup\":\"Tunisia\",\"orientation\":\"v\",\"showlegend\":true,\"textposition\":\"outside\",\"x\":[\"Tunisia\"],\"xaxis\":\"x\",\"y\":[97000.0],\"yaxis\":\"y\",\"type\":\"bar\",\"textfont\":{\"size\":12},\"cliponaxis\":false,\"textangle\":0},{\"alignmentgroup\":\"True\",\"customdata\":[[3682.0,0.0]],\"hovertemplate\":\"Country=%{x}<br>Daily Oil Consumption (Barrels)=%{y}<br>GDP Per Capita ( USD )=%{customdata[0]}<br>World Share=%{customdata[1]}<extra></extra>\",\"legendgroup\":\"Sri Lanka\",\"marker\":{\"color\":\"#FF6692\",\"pattern\":{\"shape\":\"\"}},\"name\":\"Sri Lanka\",\"offsetgroup\":\"Sri Lanka\",\"orientation\":\"v\",\"showlegend\":true,\"textposition\":\"outside\",\"x\":[\"Sri Lanka\"],\"xaxis\":\"x\",\"y\":[127000.0],\"yaxis\":\"y\",\"type\":\"bar\",\"textfont\":{\"size\":12},\"cliponaxis\":false,\"textangle\":0},{\"alignmentgroup\":\"True\",\"customdata\":[[1400.0,0.0]],\"hovertemplate\":\"Country=%{x}<br>Daily Oil Consumption (Barrels)=%{y}<br>GDP Per Capita ( USD )=%{customdata[0]}<br>World Share=%{customdata[1]}<extra></extra>\",\"legendgroup\":\"Myanmar\",\"marker\":{\"color\":\"#B6E880\",\"pattern\":{\"shape\":\"\"}},\"name\":\"Myanmar\",\"offsetgroup\":\"Myanmar\",\"orientation\":\"v\",\"showlegend\":true,\"textposition\":\"outside\",\"x\":[\"Myanmar\"],\"xaxis\":\"x\",\"y\":[123000.0],\"yaxis\":\"y\",\"type\":\"bar\",\"textfont\":{\"size\":12},\"cliponaxis\":false,\"textangle\":0},{\"alignmentgroup\":\"True\",\"customdata\":[[10079.0,0.0]],\"hovertemplate\":\"Country=%{x}<br>Daily Oil Consumption (Barrels)=%{y}<br>GDP Per Capita ( USD )=%{customdata[0]}<br>World Share=%{customdata[1]}<extra></extra>\",\"legendgroup\":\"Bulgaria\",\"marker\":{\"color\":\"#FF97FF\",\"pattern\":{\"shape\":\"\"}},\"name\":\"Bulgaria\",\"offsetgroup\":\"Bulgaria\",\"orientation\":\"v\",\"showlegend\":true,\"textposition\":\"outside\",\"x\":[\"Bulgaria\"],\"xaxis\":\"x\",\"y\":[97000.0],\"yaxis\":\"y\",\"type\":\"bar\",\"textfont\":{\"size\":12},\"cliponaxis\":false,\"textangle\":0},{\"alignmentgroup\":\"True\",\"customdata\":[[7268.0,0.0]],\"hovertemplate\":\"Country=%{x}<br>Daily Oil Consumption (Barrels)=%{y}<br>GDP Per Capita ( USD )=%{customdata[0]}<br>World Share=%{customdata[1]}<extra></extra>\",\"legendgroup\":\"Dominican Republic\",\"marker\":{\"color\":\"#FECB52\",\"pattern\":{\"shape\":\"\"}},\"name\":\"Dominican Republic\",\"offsetgroup\":\"Dominican Republic\",\"orientation\":\"v\",\"showlegend\":true,\"textposition\":\"outside\",\"x\":[\"Dominican Republic\"],\"xaxis\":\"x\",\"y\":[133000.0],\"yaxis\":\"y\",\"type\":\"bar\",\"textfont\":{\"size\":12},\"cliponaxis\":false,\"textangle\":0},{\"alignmentgroup\":\"True\",\"customdata\":[[4283.0,0.0]],\"hovertemplate\":\"Country=%{x}<br>Daily Oil Consumption (Barrels)=%{y}<br>GDP Per Capita ( USD )=%{customdata[0]}<br>World Share=%{customdata[1]}<extra></extra>\",\"legendgroup\":\"Jordan\",\"marker\":{\"color\":\"#636efa\",\"pattern\":{\"shape\":\"\"}},\"name\":\"Jordan\",\"offsetgroup\":\"Jordan\",\"orientation\":\"v\",\"showlegend\":true,\"textposition\":\"outside\",\"x\":[\"Jordan\"],\"xaxis\":\"x\",\"y\":[114000.0],\"yaxis\":\"y\",\"type\":\"bar\",\"textfont\":{\"size\":12},\"cliponaxis\":false,\"textangle\":0},{\"alignmentgroup\":\"True\",\"customdata\":[[596.0,0.0]],\"hovertemplate\":\"Country=%{x}<br>Daily Oil Consumption (Barrels)=%{y}<br>GDP Per Capita ( USD )=%{customdata[0]}<br>World Share=%{customdata[1]}<extra></extra>\",\"legendgroup\":\"Sudan\",\"marker\":{\"color\":\"#EF553B\",\"pattern\":{\"shape\":\"\"}},\"name\":\"Sudan\",\"offsetgroup\":\"Sudan\",\"orientation\":\"v\",\"showlegend\":true,\"textposition\":\"outside\",\"x\":[\"Sudan\"],\"xaxis\":\"x\",\"y\":[140000.0],\"yaxis\":\"y\",\"type\":\"bar\",\"textfont\":{\"size\":12},\"cliponaxis\":false,\"textangle\":0},{\"alignmentgroup\":\"True\",\"customdata\":[[3143.0,0.0]],\"hovertemplate\":\"Country=%{x}<br>Daily Oil Consumption (Barrels)=%{y}<br>GDP Per Capita ( USD )=%{customdata[0]}<br>World Share=%{customdata[1]}<extra></extra>\",\"legendgroup\":\"Bolivia\",\"marker\":{\"color\":\"#00cc96\",\"pattern\":{\"shape\":\"\"}},\"name\":\"Bolivia\",\"offsetgroup\":\"Bolivia\",\"orientation\":\"v\",\"showlegend\":true,\"textposition\":\"outside\",\"x\":[\"Bolivia\"],\"xaxis\":\"x\",\"y\":[90000.0],\"yaxis\":\"y\",\"type\":\"bar\",\"textfont\":{\"size\":12},\"cliponaxis\":false,\"textangle\":0},{\"alignmentgroup\":\"True\",\"customdata\":[[2329.0,0.0]],\"hovertemplate\":\"Country=%{x}<br>Daily Oil Consumption (Barrels)=%{y}<br>GDP Per Capita ( USD )=%{customdata[0]}<br>World Share=%{customdata[1]}<extra></extra>\",\"legendgroup\":\"Ghana\",\"marker\":{\"color\":\"#ab63fa\",\"pattern\":{\"shape\":\"\"}},\"name\":\"Ghana\",\"offsetgroup\":\"Ghana\",\"orientation\":\"v\",\"showlegend\":true,\"textposition\":\"outside\",\"x\":[\"Ghana\"],\"xaxis\":\"x\",\"y\":[88000.0],\"yaxis\":\"y\",\"type\":\"bar\",\"textfont\":{\"size\":12},\"cliponaxis\":false,\"textangle\":0},{\"alignmentgroup\":\"True\",\"customdata\":[[936.0,0.0]],\"hovertemplate\":\"Country=%{x}<br>Daily Oil Consumption (Barrels)=%{y}<br>GDP Per Capita ( USD )=%{customdata[0]}<br>World Share=%{customdata[1]}<extra></extra>\",\"legendgroup\":\"Ethiopia\",\"marker\":{\"color\":\"#FFA15A\",\"pattern\":{\"shape\":\"\"}},\"name\":\"Ethiopia\",\"offsetgroup\":\"Ethiopia\",\"orientation\":\"v\",\"showlegend\":true,\"textposition\":\"outside\",\"x\":[\"Ethiopia\"],\"xaxis\":\"x\",\"y\":[74000.0],\"yaxis\":\"y\",\"type\":\"bar\",\"textfont\":{\"size\":12},\"cliponaxis\":false,\"textangle\":0},{\"alignmentgroup\":\"True\",\"customdata\":[[19267.0,0.0]],\"hovertemplate\":\"Country=%{x}<br>Daily Oil Consumption (Barrels)=%{y}<br>GDP Per Capita ( USD )=%{customdata[0]}<br>World Share=%{customdata[1]}<extra></extra>\",\"legendgroup\":\"Slovakia\",\"marker\":{\"color\":\"#19d3f3\",\"pattern\":{\"shape\":\"\"}},\"name\":\"Slovakia\",\"offsetgroup\":\"Slovakia\",\"orientation\":\"v\",\"showlegend\":true,\"textposition\":\"outside\",\"x\":[\"Slovakia\"],\"xaxis\":\"x\",\"y\":[81587.0],\"yaxis\":\"y\",\"type\":\"bar\",\"textfont\":{\"size\":12},\"cliponaxis\":false,\"textangle\":0},{\"alignmentgroup\":\"True\",\"customdata\":[[7721.0,0.0]],\"hovertemplate\":\"Country=%{x}<br>Daily Oil Consumption (Barrels)=%{y}<br>GDP Per Capita ( USD )=%{customdata[0]}<br>World Share=%{customdata[1]}<extra></extra>\",\"legendgroup\":\"Serbia\",\"marker\":{\"color\":\"#FF6692\",\"pattern\":{\"shape\":\"\"}},\"name\":\"Serbia\",\"offsetgroup\":\"Serbia\",\"orientation\":\"v\",\"showlegend\":true,\"textposition\":\"outside\",\"x\":[\"Serbia\"],\"xaxis\":\"x\",\"y\":[74000.0],\"yaxis\":\"y\",\"type\":\"bar\",\"textfont\":{\"size\":12},\"cliponaxis\":false,\"textangle\":0},{\"alignmentgroup\":\"True\",\"customdata\":[[1077.0,0.0]],\"hovertemplate\":\"Country=%{x}<br>Daily Oil Consumption (Barrels)=%{y}<br>GDP Per Capita ( USD )=%{customdata[0]}<br>World Share=%{customdata[1]}<extra></extra>\",\"legendgroup\":\"Tanzania\",\"marker\":{\"color\":\"#B6E880\",\"pattern\":{\"shape\":\"\"}},\"name\":\"Tanzania\",\"offsetgroup\":\"Tanzania\",\"orientation\":\"v\",\"showlegend\":true,\"textposition\":\"outside\",\"x\":[\"Tanzania\"],\"xaxis\":\"x\",\"y\":[71999.0],\"yaxis\":\"y\",\"type\":\"bar\",\"textfont\":{\"size\":12},\"cliponaxis\":false,\"textangle\":0},{\"alignmentgroup\":\"True\",\"customdata\":[[14134.0,0.0]],\"hovertemplate\":\"Country=%{x}<br>Daily Oil Consumption (Barrels)=%{y}<br>GDP Per Capita ( USD )=%{customdata[0]}<br>World Share=%{customdata[1]}<extra></extra>\",\"legendgroup\":\"Croatia\",\"marker\":{\"color\":\"#FF97FF\",\"pattern\":{\"shape\":\"\"}},\"name\":\"Croatia\",\"offsetgroup\":\"Croatia\",\"orientation\":\"v\",\"showlegend\":true,\"textposition\":\"outside\",\"x\":[\"Croatia\"],\"xaxis\":\"x\",\"y\":[69000.0],\"yaxis\":\"y\",\"type\":\"bar\",\"textfont\":{\"size\":12},\"cliponaxis\":false,\"textangle\":0},{\"alignmentgroup\":\"True\",\"customdata\":[[20410.0,0.0]],\"hovertemplate\":\"Country=%{x}<br>Daily Oil Consumption (Barrels)=%{y}<br>GDP Per Capita ( USD )=%{customdata[0]}<br>World Share=%{customdata[1]}<extra></extra>\",\"legendgroup\":\"Bahrain\",\"marker\":{\"color\":\"#FECB52\",\"pattern\":{\"shape\":\"\"}},\"name\":\"Bahrain\",\"offsetgroup\":\"Bahrain\",\"orientation\":\"v\",\"showlegend\":true,\"textposition\":\"outside\",\"x\":[\"Bahrain\"],\"xaxis\":\"x\",\"y\":[62000.0],\"yaxis\":\"y\",\"type\":\"bar\",\"textfont\":{\"size\":12},\"cliponaxis\":false,\"textangle\":0},{\"alignmentgroup\":\"True\",\"customdata\":[[824.0,0.0]],\"hovertemplate\":\"Country=%{x}<br>Daily Oil Consumption (Barrels)=%{y}<br>GDP Per Capita ( USD )=%{customdata[0]}<br>World Share=%{customdata[1]}<extra></extra>\",\"legendgroup\":\"Yemen\",\"marker\":{\"color\":\"#636efa\",\"pattern\":{\"shape\":\"\"}},\"name\":\"Yemen\",\"offsetgroup\":\"Yemen\",\"orientation\":\"v\",\"showlegend\":true,\"textposition\":\"outside\",\"x\":[\"Yemen\"],\"xaxis\":\"x\",\"y\":[60000.0],\"yaxis\":\"y\",\"type\":\"bar\",\"textfont\":{\"size\":12},\"cliponaxis\":false,\"textangle\":0},{\"alignmentgroup\":\"True\",\"customdata\":[[12141.0,0.0]],\"hovertemplate\":\"Country=%{x}<br>Daily Oil Consumption (Barrels)=%{y}<br>GDP Per Capita ( USD )=%{customdata[0]}<br>World Share=%{customdata[1]}<extra></extra>\",\"legendgroup\":\"Costa Rica\",\"marker\":{\"color\":\"#EF553B\",\"pattern\":{\"shape\":\"\"}},\"name\":\"Costa Rica\",\"offsetgroup\":\"Costa Rica\",\"orientation\":\"v\",\"showlegend\":true,\"textposition\":\"outside\",\"x\":[\"Costa Rica\"],\"xaxis\":\"x\",\"y\":[55000.0],\"yaxis\":\"y\",\"type\":\"bar\",\"textfont\":{\"size\":12},\"cliponaxis\":false,\"textangle\":0},{\"alignmentgroup\":\"True\",\"customdata\":[[115874.0,0.0]],\"hovertemplate\":\"Country=%{x}<br>Daily Oil Consumption (Barrels)=%{y}<br>GDP Per Capita ( USD )=%{customdata[0]}<br>World Share=%{customdata[1]}<extra></extra>\",\"legendgroup\":\"Luxembourg\",\"marker\":{\"color\":\"#00cc96\",\"pattern\":{\"shape\":\"\"}},\"name\":\"Luxembourg\",\"offsetgroup\":\"Luxembourg\",\"orientation\":\"v\",\"showlegend\":true,\"textposition\":\"outside\",\"x\":[\"Luxembourg\"],\"xaxis\":\"x\",\"y\":[56194.0],\"yaxis\":\"y\",\"type\":\"bar\",\"textfont\":{\"size\":12},\"cliponaxis\":false,\"textangle\":0},{\"alignmentgroup\":\"True\",\"customdata\":[[15438.0,0.0]],\"hovertemplate\":\"Country=%{x}<br>Daily Oil Consumption (Barrels)=%{y}<br>GDP Per Capita ( USD )=%{customdata[0]}<br>World Share=%{customdata[1]}<extra></extra>\",\"legendgroup\":\"Uruguay\",\"marker\":{\"color\":\"#ab63fa\",\"pattern\":{\"shape\":\"\"}},\"name\":\"Uruguay\",\"offsetgroup\":\"Uruguay\",\"orientation\":\"v\",\"showlegend\":true,\"textposition\":\"outside\",\"x\":[\"Uruguay\"],\"xaxis\":\"x\",\"y\":[53000.0],\"yaxis\":\"y\",\"type\":\"bar\",\"textfont\":{\"size\":12},\"cliponaxis\":false,\"textangle\":0},{\"alignmentgroup\":\"True\",\"customdata\":[[20234.0,0.0]],\"hovertemplate\":\"Country=%{x}<br>Daily Oil Consumption (Barrels)=%{y}<br>GDP Per Capita ( USD )=%{customdata[0]}<br>World Share=%{customdata[1]}<extra></extra>\",\"legendgroup\":\"Lithuania\",\"marker\":{\"color\":\"#FFA15A\",\"pattern\":{\"shape\":\"\"}},\"name\":\"Lithuania\",\"offsetgroup\":\"Lithuania\",\"orientation\":\"v\",\"showlegend\":true,\"textposition\":\"outside\",\"x\":[\"Lithuania\"],\"xaxis\":\"x\",\"y\":[61612.0],\"yaxis\":\"y\",\"type\":\"bar\",\"textfont\":{\"size\":12},\"cliponaxis\":false,\"textangle\":0},{\"alignmentgroup\":\"True\",\"customdata\":[[15426.0,0.0]],\"hovertemplate\":\"Country=%{x}<br>Daily Oil Consumption (Barrels)=%{y}<br>GDP Per Capita ( USD )=%{customdata[0]}<br>World Share=%{customdata[1]}<extra></extra>\",\"legendgroup\":\"Trinidad and Tobago\",\"marker\":{\"color\":\"#19d3f3\",\"pattern\":{\"shape\":\"\"}},\"name\":\"Trinidad and Tobago\",\"offsetgroup\":\"Trinidad and Tobago\",\"orientation\":\"v\",\"showlegend\":true,\"textposition\":\"outside\",\"x\":[\"Trinidad and Tobago\"],\"xaxis\":\"x\",\"y\":[57000.0],\"yaxis\":\"y\",\"type\":\"bar\",\"textfont\":{\"size\":12},\"cliponaxis\":false,\"textangle\":0},{\"alignmentgroup\":\"True\",\"customdata\":[[2406.0,0.0]],\"hovertemplate\":\"Country=%{x}<br>Daily Oil Consumption (Barrels)=%{y}<br>GDP Per Capita ( USD )=%{customdata[0]}<br>World Share=%{customdata[1]}<extra></extra>\",\"legendgroup\":\"Honduras\",\"marker\":{\"color\":\"#FF6692\",\"pattern\":{\"shape\":\"\"}},\"name\":\"Honduras\",\"offsetgroup\":\"Honduras\",\"orientation\":\"v\",\"showlegend\":true,\"textposition\":\"outside\",\"x\":[\"Honduras\"],\"xaxis\":\"x\",\"y\":[58000.0],\"yaxis\":\"y\",\"type\":\"bar\",\"textfont\":{\"size\":12},\"cliponaxis\":false,\"textangle\":0},{\"alignmentgroup\":\"True\",\"customdata\":[[4665.0,0.0]],\"hovertemplate\":\"Country=%{x}<br>Daily Oil Consumption (Barrels)=%{y}<br>GDP Per Capita ( USD )=%{customdata[0]}<br>World Share=%{customdata[1]}<extra></extra>\",\"legendgroup\":\"Jamaica\",\"marker\":{\"color\":\"#B6E880\",\"pattern\":{\"shape\":\"\"}},\"name\":\"Jamaica\",\"offsetgroup\":\"Jamaica\",\"orientation\":\"v\",\"showlegend\":true,\"textposition\":\"outside\",\"x\":[\"Jamaica\"],\"xaxis\":\"x\",\"y\":[54000.0],\"yaxis\":\"y\",\"type\":\"bar\",\"textfont\":{\"size\":12},\"cliponaxis\":false,\"textangle\":0},{\"alignmentgroup\":\"True\",\"customdata\":[[1686.0,0.0]],\"hovertemplate\":\"Country=%{x}<br>Daily Oil Consumption (Barrels)=%{y}<br>GDP Per Capita ( USD )=%{customdata[0]}<br>World Share=%{customdata[1]}<extra></extra>\",\"legendgroup\":\"Uzbekistan\",\"marker\":{\"color\":\"#FF97FF\",\"pattern\":{\"shape\":\"\"}},\"name\":\"Uzbekistan\",\"offsetgroup\":\"Uzbekistan\",\"orientation\":\"v\",\"showlegend\":true,\"textposition\":\"outside\",\"x\":[\"Uzbekistan\"],\"xaxis\":\"x\",\"y\":[49000.0],\"yaxis\":\"y\",\"type\":\"bar\",\"textfont\":{\"size\":12},\"cliponaxis\":false,\"textangle\":0},{\"alignmentgroup\":\"True\",\"customdata\":[[2325.0,0.0]],\"hovertemplate\":\"Country=%{x}<br>Daily Oil Consumption (Barrels)=%{y}<br>GDP Per Capita ( USD )=%{customdata[0]}<br>World Share=%{customdata[1]}<extra></extra>\",\"legendgroup\":\"C\\u00f4te d'Ivoire\",\"marker\":{\"color\":\"#FECB52\",\"pattern\":{\"shape\":\"\"}},\"name\":\"C\\u00f4te d'Ivoire\",\"offsetgroup\":\"C\\u00f4te d'Ivoire\",\"orientation\":\"v\",\"showlegend\":true,\"textposition\":\"outside\",\"x\":[\"C\\u00f4te d'Ivoire\"],\"xaxis\":\"x\",\"y\":[51000.0],\"yaxis\":\"y\",\"type\":\"bar\",\"textfont\":{\"size\":12},\"cliponaxis\":false,\"textangle\":0},{\"alignmentgroup\":\"True\",\"customdata\":[[25517.0,0.0]],\"hovertemplate\":\"Country=%{x}<br>Daily Oil Consumption (Barrels)=%{y}<br>GDP Per Capita ( USD )=%{customdata[0]}<br>World Share=%{customdata[1]}<extra></extra>\",\"legendgroup\":\"Slovenia\",\"marker\":{\"color\":\"#636efa\",\"pattern\":{\"shape\":\"\"}},\"name\":\"Slovenia\",\"offsetgroup\":\"Slovenia\",\"orientation\":\"v\",\"showlegend\":true,\"textposition\":\"outside\",\"x\":[\"Slovenia\"],\"xaxis\":\"x\",\"y\":[52298.0],\"yaxis\":\"y\",\"type\":\"bar\",\"textfont\":{\"size\":12},\"cliponaxis\":false,\"textangle\":0},{\"alignmentgroup\":\"True\",\"customdata\":[[4950.0,0.0]],\"hovertemplate\":\"Country=%{x}<br>Daily Oil Consumption (Barrels)=%{y}<br>GDP Per Capita ( USD )=%{customdata[0]}<br>World Share=%{customdata[1]}<extra></extra>\",\"legendgroup\":\"Paraguay\",\"marker\":{\"color\":\"#EF553B\",\"pattern\":{\"shape\":\"\"}},\"name\":\"Paraguay\",\"offsetgroup\":\"Paraguay\",\"orientation\":\"v\",\"showlegend\":true,\"textposition\":\"outside\",\"x\":[\"Paraguay\"],\"xaxis\":\"x\",\"y\":[51000.0],\"yaxis\":\"y\",\"type\":\"bar\",\"textfont\":{\"size\":12},\"cliponaxis\":false,\"textangle\":0},{\"alignmentgroup\":\"True\",\"customdata\":[[3799.0,0.0]],\"hovertemplate\":\"Country=%{x}<br>Daily Oil Consumption (Barrels)=%{y}<br>GDP Per Capita ( USD )=%{customdata[0]}<br>World Share=%{customdata[1]}<extra></extra>\",\"legendgroup\":\"El Salvador\",\"marker\":{\"color\":\"#00cc96\",\"pattern\":{\"shape\":\"\"}},\"name\":\"El Salvador\",\"offsetgroup\":\"El Salvador\",\"orientation\":\"v\",\"showlegend\":true,\"textposition\":\"outside\",\"x\":[\"El Salvador\"],\"xaxis\":\"x\",\"y\":[52000.0],\"yaxis\":\"y\",\"type\":\"bar\",\"textfont\":{\"size\":12},\"cliponaxis\":false,\"textangle\":0},{\"alignmentgroup\":\"True\",\"customdata\":[[1513.0,0.0]],\"hovertemplate\":\"Country=%{x}<br>Daily Oil Consumption (Barrels)=%{y}<br>GDP Per Capita ( USD )=%{customdata[0]}<br>World Share=%{customdata[1]}<extra></extra>\",\"legendgroup\":\"Cambodia\",\"marker\":{\"color\":\"#ab63fa\",\"pattern\":{\"shape\":\"\"}},\"name\":\"Cambodia\",\"offsetgroup\":\"Cambodia\",\"orientation\":\"v\",\"showlegend\":true,\"textposition\":\"outside\",\"x\":[\"Cambodia\"],\"xaxis\":\"x\",\"y\":[48000.0],\"yaxis\":\"y\",\"type\":\"bar\",\"textfont\":{\"size\":12},\"cliponaxis\":false,\"textangle\":0},{\"alignmentgroup\":\"True\",\"customdata\":[[26624.0,0.0]],\"hovertemplate\":\"Country=%{x}<br>Daily Oil Consumption (Barrels)=%{y}<br>GDP Per Capita ( USD )=%{customdata[0]}<br>World Share=%{customdata[1]}<extra></extra>\",\"legendgroup\":\"Cyprus\",\"marker\":{\"color\":\"#FFA15A\",\"pattern\":{\"shape\":\"\"}},\"name\":\"Cyprus\",\"offsetgroup\":\"Cyprus\",\"orientation\":\"v\",\"showlegend\":true,\"textposition\":\"outside\",\"x\":[\"Cyprus\"],\"xaxis\":\"x\",\"y\":[52000.0],\"yaxis\":\"y\",\"type\":\"bar\",\"textfont\":{\"size\":12},\"cliponaxis\":false,\"textangle\":0},{\"alignmentgroup\":\"True\",\"customdata\":[[1488.0,0.0]],\"hovertemplate\":\"Country=%{x}<br>Daily Oil Consumption (Barrels)=%{y}<br>GDP Per Capita ( USD )=%{customdata[0]}<br>World Share=%{customdata[1]}<extra></extra>\",\"legendgroup\":\"Senegal\",\"marker\":{\"color\":\"#19d3f3\",\"pattern\":{\"shape\":\"\"}},\"name\":\"Senegal\",\"offsetgroup\":\"Senegal\",\"orientation\":\"v\",\"showlegend\":true,\"textposition\":\"outside\",\"x\":[\"Senegal\"],\"xaxis\":\"x\",\"y\":[49000.0],\"yaxis\":\"y\",\"type\":\"bar\",\"textfont\":{\"size\":12},\"cliponaxis\":false,\"textangle\":0},{\"alignmentgroup\":\"True\",\"customdata\":[[27885.0,0.0]],\"hovertemplate\":\"Country=%{x}<br>Daily Oil Consumption (Barrels)=%{y}<br>GDP Per Capita ( USD )=%{customdata[0]}<br>World Share=%{customdata[1]}<extra></extra>\",\"legendgroup\":\"Malta\",\"marker\":{\"color\":\"#FF6692\",\"pattern\":{\"shape\":\"\"}},\"name\":\"Malta\",\"offsetgroup\":\"Malta\",\"orientation\":\"v\",\"showlegend\":true,\"textposition\":\"outside\",\"x\":[\"Malta\"],\"xaxis\":\"x\",\"y\":[47000.0],\"yaxis\":\"y\",\"type\":\"bar\",\"textfont\":{\"size\":12},\"cliponaxis\":false,\"textangle\":0},{\"alignmentgroup\":\"True\",\"customdata\":[[1499.0,0.0]],\"hovertemplate\":\"Country=%{x}<br>Daily Oil Consumption (Barrels)=%{y}<br>GDP Per Capita ( USD )=%{customdata[0]}<br>World Share=%{customdata[1]}<extra></extra>\",\"legendgroup\":\"Cameroon\",\"marker\":{\"color\":\"#B6E880\",\"pattern\":{\"shape\":\"\"}},\"name\":\"Cameroon\",\"offsetgroup\":\"Cameroon\",\"orientation\":\"v\",\"showlegend\":true,\"textposition\":\"outside\",\"x\":[\"Cameroon\"],\"xaxis\":\"x\",\"y\":[40000.0],\"yaxis\":\"y\",\"type\":\"bar\",\"textfont\":{\"size\":12},\"cliponaxis\":false,\"textangle\":0},{\"alignmentgroup\":\"True\",\"customdata\":[[509.0,0.0]],\"hovertemplate\":\"Country=%{x}<br>Daily Oil Consumption (Barrels)=%{y}<br>GDP Per Capita ( USD )=%{customdata[0]}<br>World Share=%{customdata[1]}<extra></extra>\",\"legendgroup\":\"Afghanistan\",\"marker\":{\"color\":\"#FF97FF\",\"pattern\":{\"shape\":\"\"}},\"name\":\"Afghanistan\",\"offsetgroup\":\"Afghanistan\",\"orientation\":\"v\",\"showlegend\":true,\"textposition\":\"outside\",\"x\":[\"Afghanistan\"],\"xaxis\":\"x\",\"y\":[35000.0],\"yaxis\":\"y\",\"type\":\"bar\",\"textfont\":{\"size\":12},\"cliponaxis\":false,\"textangle\":0},{\"alignmentgroup\":\"True\",\"customdata\":[[1155.0,0.0]],\"hovertemplate\":\"Country=%{x}<br>Daily Oil Consumption (Barrels)=%{y}<br>GDP Per Capita ( USD )=%{customdata[0]}<br>World Share=%{customdata[1]}<extra></extra>\",\"legendgroup\":\"Nepal\",\"marker\":{\"color\":\"#FECB52\",\"pattern\":{\"shape\":\"\"}},\"name\":\"Nepal\",\"offsetgroup\":\"Nepal\",\"orientation\":\"v\",\"showlegend\":true,\"textposition\":\"outside\",\"x\":[\"Nepal\"],\"xaxis\":\"x\",\"y\":[43000.0],\"yaxis\":\"y\",\"type\":\"bar\",\"textfont\":{\"size\":12},\"cliponaxis\":false,\"textangle\":0},{\"alignmentgroup\":\"True\",\"customdata\":[[17726.0,0.0]],\"hovertemplate\":\"Country=%{x}<br>Daily Oil Consumption (Barrels)=%{y}<br>GDP Per Capita ( USD )=%{customdata[0]}<br>World Share=%{customdata[1]}<extra></extra>\",\"legendgroup\":\"Latvia\",\"marker\":{\"color\":\"#636efa\",\"pattern\":{\"shape\":\"\"}},\"name\":\"Latvia\",\"offsetgroup\":\"Latvia\",\"orientation\":\"v\",\"showlegend\":true,\"textposition\":\"outside\",\"x\":[\"Latvia\"],\"xaxis\":\"x\",\"y\":[37694.0],\"yaxis\":\"y\",\"type\":\"bar\",\"textfont\":{\"size\":12},\"cliponaxis\":false,\"textangle\":0},{\"alignmentgroup\":\"True\",\"customdata\":[[1291.0,0.0]],\"hovertemplate\":\"Country=%{x}<br>Daily Oil Consumption (Barrels)=%{y}<br>GDP Per Capita ( USD )=%{customdata[0]}<br>World Share=%{customdata[1]}<extra></extra>\",\"legendgroup\":\"Benin\",\"marker\":{\"color\":\"#EF553B\",\"pattern\":{\"shape\":\"\"}},\"name\":\"Benin\",\"offsetgroup\":\"Benin\",\"orientation\":\"v\",\"showlegend\":true,\"textposition\":\"outside\",\"x\":[\"Benin\"],\"xaxis\":\"x\",\"y\":[36000.0],\"yaxis\":\"y\",\"type\":\"bar\",\"textfont\":{\"size\":12},\"cliponaxis\":false,\"textangle\":0},{\"alignmentgroup\":\"True\",\"customdata\":[[2637.0,0.0]],\"hovertemplate\":\"Country=%{x}<br>Daily Oil Consumption (Barrels)=%{y}<br>GDP Per Capita ( USD )=%{customdata[0]}<br>World Share=%{customdata[1]}<extra></extra>\",\"legendgroup\":\"Papua New Guinea\",\"marker\":{\"color\":\"#00cc96\",\"pattern\":{\"shape\":\"\"}},\"name\":\"Papua New Guinea\",\"offsetgroup\":\"Papua New Guinea\",\"orientation\":\"v\",\"showlegend\":true,\"textposition\":\"outside\",\"x\":[\"Papua New Guinea\"],\"xaxis\":\"x\",\"y\":[37001.0],\"yaxis\":\"y\",\"type\":\"bar\",\"textfont\":{\"size\":12},\"cliponaxis\":false,\"textangle\":0},{\"alignmentgroup\":\"True\",\"customdata\":[[6032.0,0.0]],\"hovertemplate\":\"Country=%{x}<br>Daily Oil Consumption (Barrels)=%{y}<br>GDP Per Capita ( USD )=%{customdata[0]}<br>World Share=%{customdata[1]}<extra></extra>\",\"legendgroup\":\"Bosnia and Herzegovina\",\"marker\":{\"color\":\"#ab63fa\",\"pattern\":{\"shape\":\"\"}},\"name\":\"Bosnia and Herzegovina\",\"offsetgroup\":\"Bosnia and Herzegovina\",\"orientation\":\"v\",\"showlegend\":true,\"textposition\":\"outside\",\"x\":[\"Bosnia and Herzegovina\"],\"xaxis\":\"x\",\"y\":[35000.0],\"yaxis\":\"y\",\"type\":\"bar\",\"textfont\":{\"size\":12},\"cliponaxis\":false,\"textangle\":0},{\"alignmentgroup\":\"True\",\"customdata\":[[449.0,0.0]],\"hovertemplate\":\"Country=%{x}<br>Daily Oil Consumption (Barrels)=%{y}<br>GDP Per Capita ( USD )=%{customdata[0]}<br>World Share=%{customdata[1]}<extra></extra>\",\"legendgroup\":\"Mozambique\",\"marker\":{\"color\":\"#FFA15A\",\"pattern\":{\"shape\":\"\"}},\"name\":\"Mozambique\",\"offsetgroup\":\"Mozambique\",\"orientation\":\"v\",\"showlegend\":true,\"textposition\":\"outside\",\"x\":[\"Mozambique\"],\"xaxis\":\"x\",\"y\":[40000.0],\"yaxis\":\"y\",\"type\":\"bar\",\"textfont\":{\"size\":12},\"cliponaxis\":false,\"textangle\":0},{\"alignmentgroup\":\"True\",\"customdata\":[[1905.0,0.0]],\"hovertemplate\":\"Country=%{x}<br>Daily Oil Consumption (Barrels)=%{y}<br>GDP Per Capita ( USD )=%{customdata[0]}<br>World Share=%{customdata[1]}<extra></extra>\",\"legendgroup\":\"Nicaragua\",\"marker\":{\"color\":\"#19d3f3\",\"pattern\":{\"shape\":\"\"}},\"name\":\"Nicaragua\",\"offsetgroup\":\"Nicaragua\",\"orientation\":\"v\",\"showlegend\":true,\"textposition\":\"outside\",\"x\":[\"Nicaragua\"],\"xaxis\":\"x\",\"y\":[37000.0],\"yaxis\":\"y\",\"type\":\"bar\",\"textfont\":{\"size\":12},\"cliponaxis\":false,\"textangle\":0},{\"alignmentgroup\":\"True\",\"customdata\":[[1174.0,0.0]],\"hovertemplate\":\"Country=%{x}<br>Daily Oil Consumption (Barrels)=%{y}<br>GDP Per Capita ( USD )=%{customdata[0]}<br>World Share=%{customdata[1]}<extra></extra>\",\"legendgroup\":\"Kyrgyzstan\",\"marker\":{\"color\":\"#FF6692\",\"pattern\":{\"shape\":\"\"}},\"name\":\"Kyrgyzstan\",\"offsetgroup\":\"Kyrgyzstan\",\"orientation\":\"v\",\"showlegend\":true,\"textposition\":\"outside\",\"x\":[\"Kyrgyzstan\"],\"xaxis\":\"x\",\"y\":[40000.0],\"yaxis\":\"y\",\"type\":\"bar\",\"textfont\":{\"size\":12},\"cliponaxis\":false,\"textangle\":0},{\"alignmentgroup\":\"True\",\"customdata\":[[817.0,0.0]],\"hovertemplate\":\"Country=%{x}<br>Daily Oil Consumption (Barrels)=%{y}<br>GDP Per Capita ( USD )=%{customdata[0]}<br>World Share=%{customdata[1]}<extra></extra>\",\"legendgroup\":\"Uganda\",\"marker\":{\"color\":\"#B6E880\",\"pattern\":{\"shape\":\"\"}},\"name\":\"Uganda\",\"offsetgroup\":\"Uganda\",\"orientation\":\"v\",\"showlegend\":true,\"textposition\":\"outside\",\"x\":[\"Uganda\"],\"xaxis\":\"x\",\"y\":[32001.0],\"yaxis\":\"y\",\"type\":\"bar\",\"textfont\":{\"size\":12},\"cliponaxis\":false,\"textangle\":0},{\"alignmentgroup\":\"True\",\"customdata\":[[23027.0,0.0]],\"hovertemplate\":\"Country=%{x}<br>Daily Oil Consumption (Barrels)=%{y}<br>GDP Per Capita ( USD )=%{customdata[0]}<br>World Share=%{customdata[1]}<extra></extra>\",\"legendgroup\":\"Estonia\",\"marker\":{\"color\":\"#FF97FF\",\"pattern\":{\"shape\":\"\"}},\"name\":\"Estonia\",\"offsetgroup\":\"Estonia\",\"orientation\":\"v\",\"showlegend\":true,\"textposition\":\"outside\",\"x\":[\"Estonia\"],\"xaxis\":\"x\",\"y\":[28855.0],\"yaxis\":\"y\",\"type\":\"bar\",\"textfont\":{\"size\":12},\"cliponaxis\":false,\"textangle\":0},{\"alignmentgroup\":\"True\",\"customdata\":[[1128.0,0.0]],\"hovertemplate\":\"Country=%{x}<br>Daily Oil Consumption (Barrels)=%{y}<br>GDP Per Capita ( USD )=%{customdata[0]}<br>World Share=%{customdata[1]}<extra></extra>\",\"legendgroup\":\"Zimbabwe\",\"marker\":{\"color\":\"#FECB52\",\"pattern\":{\"shape\":\"\"}},\"name\":\"Zimbabwe\",\"offsetgroup\":\"Zimbabwe\",\"orientation\":\"v\",\"showlegend\":true,\"textposition\":\"outside\",\"x\":[\"Zimbabwe\"],\"xaxis\":\"x\",\"y\":[24000.0],\"yaxis\":\"y\",\"type\":\"bar\",\"textfont\":{\"size\":12},\"cliponaxis\":false,\"textangle\":0},{\"alignmentgroup\":\"True\",\"customdata\":[[4279.0,0.0]],\"hovertemplate\":\"Country=%{x}<br>Daily Oil Consumption (Barrels)=%{y}<br>GDP Per Capita ( USD )=%{customdata[0]}<br>World Share=%{customdata[1]}<extra></extra>\",\"legendgroup\":\"Georgia\",\"marker\":{\"color\":\"#636efa\",\"pattern\":{\"shape\":\"\"}},\"name\":\"Georgia\",\"offsetgroup\":\"Georgia\",\"orientation\":\"v\",\"showlegend\":true,\"textposition\":\"outside\",\"x\":[\"Georgia\"],\"xaxis\":\"x\",\"y\":[33000.0],\"yaxis\":\"y\",\"type\":\"bar\",\"textfont\":{\"size\":12},\"cliponaxis\":false,\"textangle\":0},{\"alignmentgroup\":\"True\",\"customdata\":[[3240.0,0.0]],\"hovertemplate\":\"Country=%{x}<br>Daily Oil Consumption (Barrels)=%{y}<br>GDP Per Capita ( USD )=%{customdata[0]}<br>World Share=%{customdata[1]}<extra></extra>\",\"legendgroup\":\"State of Palestine\",\"marker\":{\"color\":\"#EF553B\",\"pattern\":{\"shape\":\"\"}},\"name\":\"State of Palestine\",\"offsetgroup\":\"State of Palestine\",\"orientation\":\"v\",\"showlegend\":true,\"textposition\":\"outside\",\"x\":[\"State of Palestine\"],\"xaxis\":\"x\",\"y\":[24001.0],\"yaxis\":\"y\",\"type\":\"bar\",\"textfont\":{\"size\":12},\"cliponaxis\":false,\"textangle\":0},{\"alignmentgroup\":\"True\",\"customdata\":[[4211.0,0.0]],\"hovertemplate\":\"Country=%{x}<br>Daily Oil Consumption (Barrels)=%{y}<br>GDP Per Capita ( USD )=%{customdata[0]}<br>World Share=%{customdata[1]}<extra></extra>\",\"legendgroup\":\"Namibia\",\"marker\":{\"color\":\"#00cc96\",\"pattern\":{\"shape\":\"\"}},\"name\":\"Namibia\",\"offsetgroup\":\"Namibia\",\"orientation\":\"v\",\"showlegend\":true,\"textposition\":\"outside\",\"x\":[\"Namibia\"],\"xaxis\":\"x\",\"y\":[26000.0],\"yaxis\":\"y\",\"type\":\"bar\",\"textfont\":{\"size\":12},\"cliponaxis\":false,\"textangle\":0},{\"alignmentgroup\":\"True\",\"customdata\":[[5215.0,0.0]],\"hovertemplate\":\"Country=%{x}<br>Daily Oil Consumption (Barrels)=%{y}<br>GDP Per Capita ( USD )=%{customdata[0]}<br>World Share=%{customdata[1]}<extra></extra>\",\"legendgroup\":\"Albania\",\"marker\":{\"color\":\"#ab63fa\",\"pattern\":{\"shape\":\"\"}},\"name\":\"Albania\",\"offsetgroup\":\"Albania\",\"orientation\":\"v\",\"showlegend\":true,\"textposition\":\"outside\",\"x\":[\"Albania\"],\"xaxis\":\"x\",\"y\":[27000.0],\"yaxis\":\"y\",\"type\":\"bar\",\"textfont\":{\"size\":12},\"cliponaxis\":false,\"textangle\":0},{\"alignmentgroup\":\"True\",\"customdata\":[[8628.0,0.0]],\"hovertemplate\":\"Country=%{x}<br>Daily Oil Consumption (Barrels)=%{y}<br>GDP Per Capita ( USD )=%{customdata[0]}<br>World Share=%{customdata[1]}<extra></extra>\",\"legendgroup\":\"Mauritius\",\"marker\":{\"color\":\"#FFA15A\",\"pattern\":{\"shape\":\"\"}},\"name\":\"Mauritius\",\"offsetgroup\":\"Mauritius\",\"orientation\":\"v\",\"showlegend\":true,\"textposition\":\"outside\",\"x\":[\"Mauritius\"],\"xaxis\":\"x\",\"y\":[28000.0],\"yaxis\":\"y\",\"type\":\"bar\",\"textfont\":{\"size\":12},\"cliponaxis\":false,\"textangle\":0},{\"alignmentgroup\":\"True\",\"customdata\":[[27443.0,0.0]],\"hovertemplate\":\"Country=%{x}<br>Daily Oil Consumption (Barrels)=%{y}<br>GDP Per Capita ( USD )=%{customdata[0]}<br>World Share=%{customdata[1]}<extra></extra>\",\"legendgroup\":\"Brunei \",\"marker\":{\"color\":\"#19d3f3\",\"pattern\":{\"shape\":\"\"}},\"name\":\"Brunei \",\"offsetgroup\":\"Brunei \",\"orientation\":\"v\",\"showlegend\":true,\"textposition\":\"outside\",\"x\":[\"Brunei \"],\"xaxis\":\"x\",\"y\":[16000.0],\"yaxis\":\"y\",\"type\":\"bar\",\"textfont\":{\"size\":12},\"cliponaxis\":false,\"textangle\":0},{\"alignmentgroup\":\"True\",\"customdata\":[[86117.0,0.0]],\"hovertemplate\":\"Country=%{x}<br>Daily Oil Consumption (Barrels)=%{y}<br>GDP Per Capita ( USD )=%{customdata[0]}<br>World Share=%{customdata[1]}<extra></extra>\",\"legendgroup\":\"Macao\",\"marker\":{\"color\":\"#FF6692\",\"pattern\":{\"shape\":\"\"}},\"name\":\"Macao\",\"offsetgroup\":\"Macao\",\"orientation\":\"v\",\"showlegend\":true,\"textposition\":\"outside\",\"x\":[\"Macao\"],\"xaxis\":\"x\",\"y\":[17110.0],\"yaxis\":\"y\",\"type\":\"bar\",\"textfont\":{\"size\":12},\"cliponaxis\":false,\"textangle\":0},{\"alignmentgroup\":\"True\",\"customdata\":[[557.0,0.0]],\"hovertemplate\":\"Country=%{x}<br>Daily Oil Consumption (Barrels)=%{y}<br>GDP Per Capita ( USD )=%{customdata[0]}<br>World Share=%{customdata[1]}<extra></extra>\",\"legendgroup\":\"DR Congo\",\"marker\":{\"color\":\"#B6E880\",\"pattern\":{\"shape\":\"\"}},\"name\":\"DR Congo\",\"offsetgroup\":\"DR Congo\",\"orientation\":\"v\",\"showlegend\":true,\"textposition\":\"outside\",\"x\":[\"DR Congo\"],\"xaxis\":\"x\",\"y\":[21000.0],\"yaxis\":\"y\",\"type\":\"bar\",\"textfont\":{\"size\":12},\"cliponaxis\":false,\"textangle\":0},{\"alignmentgroup\":\"True\",\"customdata\":[[1177.0,0.0]],\"hovertemplate\":\"Country=%{x}<br>Daily Oil Consumption (Barrels)=%{y}<br>GDP Per Capita ( USD )=%{customdata[0]}<br>World Share=%{customdata[1]}<extra></extra>\",\"legendgroup\":\"Haiti\",\"marker\":{\"color\":\"#FF97FF\",\"pattern\":{\"shape\":\"\"}},\"name\":\"Haiti\",\"offsetgroup\":\"Haiti\",\"orientation\":\"v\",\"showlegend\":true,\"textposition\":\"outside\",\"x\":[\"Haiti\"],\"xaxis\":\"x\",\"y\":[23000.0],\"yaxis\":\"y\",\"type\":\"bar\",\"textfont\":{\"size\":12},\"cliponaxis\":false,\"textangle\":0},{\"alignmentgroup\":\"True\",\"customdata\":[[7006.0,0.0]],\"hovertemplate\":\"Country=%{x}<br>Daily Oil Consumption (Barrels)=%{y}<br>GDP Per Capita ( USD )=%{customdata[0]}<br>World Share=%{customdata[1]}<extra></extra>\",\"legendgroup\":\"Gabon\",\"marker\":{\"color\":\"#FECB52\",\"pattern\":{\"shape\":\"\"}},\"name\":\"Gabon\",\"offsetgroup\":\"Gabon\",\"orientation\":\"v\",\"showlegend\":true,\"textposition\":\"outside\",\"x\":[\"Gabon\"],\"xaxis\":\"x\",\"y\":[21000.0],\"yaxis\":\"y\",\"type\":\"bar\",\"textfont\":{\"size\":12},\"cliponaxis\":false,\"textangle\":0},{\"alignmentgroup\":\"True\",\"customdata\":[[496.0,0.0]],\"hovertemplate\":\"Country=%{x}<br>Daily Oil Consumption (Barrels)=%{y}<br>GDP Per Capita ( USD )=%{customdata[0]}<br>World Share=%{customdata[1]}<extra></extra>\",\"legendgroup\":\"Madagascar\",\"marker\":{\"color\":\"#636efa\",\"pattern\":{\"shape\":\"\"}},\"name\":\"Madagascar\",\"offsetgroup\":\"Madagascar\",\"orientation\":\"v\",\"showlegend\":true,\"textposition\":\"outside\",\"x\":[\"Madagascar\"],\"xaxis\":\"x\",\"y\":[18000.0],\"yaxis\":\"y\",\"type\":\"bar\",\"textfont\":{\"size\":12},\"cliponaxis\":false,\"textangle\":0},{\"alignmentgroup\":\"True\",\"customdata\":[[6711.0,0.0]],\"hovertemplate\":\"Country=%{x}<br>Daily Oil Consumption (Barrels)=%{y}<br>GDP Per Capita ( USD )=%{customdata[0]}<br>World Share=%{customdata[1]}<extra></extra>\",\"legendgroup\":\"Botswana\",\"marker\":{\"color\":\"#EF553B\",\"pattern\":{\"shape\":\"\"}},\"name\":\"Botswana\",\"offsetgroup\":\"Botswana\",\"orientation\":\"v\",\"showlegend\":true,\"textposition\":\"outside\",\"x\":[\"Botswana\"],\"xaxis\":\"x\",\"y\":[21000.0],\"yaxis\":\"y\",\"type\":\"bar\",\"textfont\":{\"size\":12},\"cliponaxis\":false,\"textangle\":0},{\"alignmentgroup\":\"True\",\"customdata\":[[831.0,0.0]],\"hovertemplate\":\"Country=%{x}<br>Daily Oil Consumption (Barrels)=%{y}<br>GDP Per Capita ( USD )=%{customdata[0]}<br>World Share=%{customdata[1]}<extra></extra>\",\"legendgroup\":\"Burkina Faso\",\"marker\":{\"color\":\"#00cc96\",\"pattern\":{\"shape\":\"\"}},\"name\":\"Burkina Faso\",\"offsetgroup\":\"Burkina Faso\",\"orientation\":\"v\",\"showlegend\":true,\"textposition\":\"outside\",\"x\":[\"Burkina Faso\"],\"xaxis\":\"x\",\"y\":[23000.0],\"yaxis\":\"y\",\"type\":\"bar\",\"textfont\":{\"size\":12},\"cliponaxis\":false,\"textangle\":0},{\"alignmentgroup\":\"True\",\"customdata\":[[4551.0,0.0]],\"hovertemplate\":\"Country=%{x}<br>Daily Oil Consumption (Barrels)=%{y}<br>GDP Per Capita ( USD )=%{customdata[0]}<br>World Share=%{customdata[1]}<extra></extra>\",\"legendgroup\":\"Moldova\",\"marker\":{\"color\":\"#ab63fa\",\"pattern\":{\"shape\":\"\"}},\"name\":\"Moldova\",\"offsetgroup\":\"Moldova\",\"orientation\":\"v\",\"showlegend\":true,\"textposition\":\"outside\",\"x\":[\"Moldova\"],\"xaxis\":\"x\",\"y\":[18001.0],\"yaxis\":\"y\",\"type\":\"bar\",\"textfont\":{\"size\":12},\"cliponaxis\":false,\"textangle\":0},{\"alignmentgroup\":\"True\",\"customdata\":[[859.0,0.0]],\"hovertemplate\":\"Country=%{x}<br>Daily Oil Consumption (Barrels)=%{y}<br>GDP Per Capita ( USD )=%{customdata[0]}<br>World Share=%{customdata[1]}<extra></extra>\",\"legendgroup\":\"Mali\",\"marker\":{\"color\":\"#FFA15A\",\"pattern\":{\"shape\":\"\"}},\"name\":\"Mali\",\"offsetgroup\":\"Mali\",\"orientation\":\"v\",\"showlegend\":true,\"textposition\":\"outside\",\"x\":[\"Mali\"],\"xaxis\":\"x\",\"y\":[21999.0],\"yaxis\":\"y\",\"type\":\"bar\",\"textfont\":{\"size\":12},\"cliponaxis\":false,\"textangle\":0},{\"alignmentgroup\":\"True\",\"customdata\":[[1973.0,0.0]],\"hovertemplate\":\"Country=%{x}<br>Daily Oil Consumption (Barrels)=%{y}<br>GDP Per Capita ( USD )=%{customdata[0]}<br>World Share=%{customdata[1]}<extra></extra>\",\"legendgroup\":\"Congo\",\"marker\":{\"color\":\"#19d3f3\",\"pattern\":{\"shape\":\"\"}},\"name\":\"Congo\",\"offsetgroup\":\"Congo\",\"orientation\":\"v\",\"showlegend\":true,\"textposition\":\"outside\",\"x\":[\"Congo\"],\"xaxis\":\"x\",\"y\":[17000.0],\"yaxis\":\"y\",\"type\":\"bar\",\"textfont\":{\"size\":12},\"cliponaxis\":false,\"textangle\":0},{\"alignmentgroup\":\"True\",\"customdata\":[[915.0,0.0]],\"hovertemplate\":\"Country=%{x}<br>Daily Oil Consumption (Barrels)=%{y}<br>GDP Per Capita ( USD )=%{customdata[0]}<br>World Share=%{customdata[1]}<extra></extra>\",\"legendgroup\":\"Togo\",\"marker\":{\"color\":\"#FF6692\",\"pattern\":{\"shape\":\"\"}},\"name\":\"Togo\",\"offsetgroup\":\"Togo\",\"orientation\":\"v\",\"showlegend\":true,\"textposition\":\"outside\",\"x\":[\"Togo\"],\"xaxis\":\"x\",\"y\":[15000.0],\"yaxis\":\"y\",\"type\":\"bar\",\"textfont\":{\"size\":12},\"cliponaxis\":false,\"textangle\":0},{\"alignmentgroup\":\"True\",\"customdata\":[[1194.0,0.0]],\"hovertemplate\":\"Country=%{x}<br>Daily Oil Consumption (Barrels)=%{y}<br>GDP Per Capita ( USD )=%{customdata[0]}<br>World Share=%{customdata[1]}<extra></extra>\",\"legendgroup\":\"Guinea\",\"marker\":{\"color\":\"#B6E880\",\"pattern\":{\"shape\":\"\"}},\"name\":\"Guinea\",\"offsetgroup\":\"Guinea\",\"orientation\":\"v\",\"showlegend\":true,\"textposition\":\"outside\",\"x\":[\"Guinea\"],\"xaxis\":\"x\",\"y\":[19001.0],\"yaxis\":\"y\",\"type\":\"bar\",\"textfont\":{\"size\":12},\"cliponaxis\":false,\"textangle\":0},{\"alignmentgroup\":\"True\",\"customdata\":[[1051.0,0.0]],\"hovertemplate\":\"Country=%{x}<br>Daily Oil Consumption (Barrels)=%{y}<br>GDP Per Capita ( USD )=%{customdata[0]}<br>World Share=%{customdata[1]}<extra></extra>\",\"legendgroup\":\"Zambia\",\"marker\":{\"color\":\"#FF97FF\",\"pattern\":{\"shape\":\"\"}},\"name\":\"Zambia\",\"offsetgroup\":\"Zambia\",\"orientation\":\"v\",\"showlegend\":true,\"textposition\":\"outside\",\"x\":[\"Zambia\"],\"xaxis\":\"x\",\"y\":[22000.0],\"yaxis\":\"y\",\"type\":\"bar\",\"textfont\":{\"size\":12},\"cliponaxis\":false,\"textangle\":0},{\"alignmentgroup\":\"True\",\"customdata\":[[2630.0,0.0]],\"hovertemplate\":\"Country=%{x}<br>Daily Oil Consumption (Barrels)=%{y}<br>GDP Per Capita ( USD )=%{customdata[0]}<br>World Share=%{customdata[1]}<extra></extra>\",\"legendgroup\":\"Laos\",\"marker\":{\"color\":\"#FECB52\",\"pattern\":{\"shape\":\"\"}},\"name\":\"Laos\",\"offsetgroup\":\"Laos\",\"orientation\":\"v\",\"showlegend\":true,\"textposition\":\"outside\",\"x\":[\"Laos\"],\"xaxis\":\"x\",\"y\":[18000.0],\"yaxis\":\"y\",\"type\":\"bar\",\"textfont\":{\"size\":12},\"cliponaxis\":false,\"textangle\":0},{\"alignmentgroup\":\"True\",\"customdata\":[[4007.0,0.0]],\"hovertemplate\":\"Country=%{x}<br>Daily Oil Consumption (Barrels)=%{y}<br>GDP Per Capita ( USD )=%{customdata[0]}<br>World Share=%{customdata[1]}<extra></extra>\",\"legendgroup\":\"Mongolia\",\"marker\":{\"color\":\"#636efa\",\"pattern\":{\"shape\":\"\"}},\"name\":\"Mongolia\",\"offsetgroup\":\"Mongolia\",\"orientation\":\"v\",\"showlegend\":true,\"textposition\":\"outside\",\"x\":[\"Mongolia\"],\"xaxis\":\"x\",\"y\":[21000.0],\"yaxis\":\"y\",\"type\":\"bar\",\"textfont\":{\"size\":12},\"cliponaxis\":false,\"textangle\":0},{\"alignmentgroup\":\"True\",\"customdata\":[[59270.0,0.0]],\"hovertemplate\":\"Country=%{x}<br>Daily Oil Consumption (Barrels)=%{y}<br>GDP Per Capita ( USD )=%{customdata[0]}<br>World Share=%{customdata[1]}<extra></extra>\",\"legendgroup\":\"Iceland\",\"marker\":{\"color\":\"#EF553B\",\"pattern\":{\"shape\":\"\"}},\"name\":\"Iceland\",\"offsetgroup\":\"Iceland\",\"orientation\":\"v\",\"showlegend\":true,\"textposition\":\"outside\",\"x\":[\"Iceland\"],\"xaxis\":\"x\",\"y\":[19090.0],\"yaxis\":\"y\",\"type\":\"bar\",\"textfont\":{\"size\":12},\"cliponaxis\":false,\"textangle\":0},{\"alignmentgroup\":\"True\",\"customdata\":[[5888.0,0.0]],\"hovertemplate\":\"Country=%{x}<br>Daily Oil Consumption (Barrels)=%{y}<br>GDP Per Capita ( USD )=%{customdata[0]}<br>World Share=%{customdata[1]}<extra></extra>\",\"legendgroup\":\"North Macedonia\",\"marker\":{\"color\":\"#00cc96\",\"pattern\":{\"shape\":\"\"}},\"name\":\"North Macedonia\",\"offsetgroup\":\"North Macedonia\",\"orientation\":\"v\",\"showlegend\":true,\"textposition\":\"outside\",\"x\":[\"North Macedonia\"],\"xaxis\":\"x\",\"y\":[21000.0],\"yaxis\":\"y\",\"type\":\"bar\",\"textfont\":{\"size\":12},\"cliponaxis\":false,\"textangle\":0},{\"alignmentgroup\":\"True\",\"customdata\":[[25194.0,0.0]],\"hovertemplate\":\"Country=%{x}<br>Daily Oil Consumption (Barrels)=%{y}<br>GDP Per Capita ( USD )=%{customdata[0]}<br>World Share=%{customdata[1]}<extra></extra>\",\"legendgroup\":\"Bahamas\",\"marker\":{\"color\":\"#ab63fa\",\"pattern\":{\"shape\":\"\"}},\"name\":\"Bahamas\",\"offsetgroup\":\"Bahamas\",\"orientation\":\"v\",\"showlegend\":true,\"textposition\":\"outside\",\"x\":[\"Bahamas\"],\"xaxis\":\"x\",\"y\":[20036.0],\"yaxis\":\"y\",\"type\":\"bar\",\"textfont\":{\"size\":12},\"cliponaxis\":false,\"textangle\":0},{\"alignmentgroup\":\"True\",\"customdata\":[[859.0,0.0]],\"hovertemplate\":\"Country=%{x}<br>Daily Oil Consumption (Barrels)=%{y}<br>GDP Per Capita ( USD )=%{customdata[0]}<br>World Share=%{customdata[1]}<extra></extra>\",\"legendgroup\":\"Tajikistan\",\"marker\":{\"color\":\"#FFA15A\",\"pattern\":{\"shape\":\"\"}},\"name\":\"Tajikistan\",\"offsetgroup\":\"Tajikistan\",\"orientation\":\"v\",\"showlegend\":true,\"textposition\":\"outside\",\"x\":[\"Tajikistan\"],\"xaxis\":\"x\",\"y\":[21000.0],\"yaxis\":\"y\",\"type\":\"bar\",\"textfont\":{\"size\":12},\"cliponaxis\":false,\"textangle\":0},{\"alignmentgroup\":\"True\",\"customdata\":[[34789.0,0.0]],\"hovertemplate\":\"Country=%{x}<br>Daily Oil Consumption (Barrels)=%{y}<br>GDP Per Capita ( USD )=%{customdata[0]}<br>World Share=%{customdata[1]}<extra></extra>\",\"legendgroup\":\"New Caledonia\",\"marker\":{\"color\":\"#19d3f3\",\"pattern\":{\"shape\":\"\"}},\"name\":\"New Caledonia\",\"offsetgroup\":\"New Caledonia\",\"orientation\":\"v\",\"showlegend\":true,\"textposition\":\"outside\",\"x\":[\"New Caledonia\"],\"xaxis\":\"x\",\"y\":[20000.0],\"yaxis\":\"y\",\"type\":\"bar\",\"textfont\":{\"size\":12},\"cliponaxis\":false,\"textangle\":0},{\"alignmentgroup\":\"True\",\"customdata\":[[4882.0,0.0]],\"hovertemplate\":\"Country=%{x}<br>Daily Oil Consumption (Barrels)=%{y}<br>GDP Per Capita ( USD )=%{customdata[0]}<br>World Share=%{customdata[1]}<extra></extra>\",\"legendgroup\":\"Fiji\",\"marker\":{\"color\":\"#FF6692\",\"pattern\":{\"shape\":\"\"}},\"name\":\"Fiji\",\"offsetgroup\":\"Fiji\",\"orientation\":\"v\",\"showlegend\":true,\"textposition\":\"outside\",\"x\":[\"Fiji\"],\"xaxis\":\"x\",\"y\":[16000.0],\"yaxis\":\"y\",\"type\":\"bar\",\"textfont\":{\"size\":12},\"cliponaxis\":false,\"textangle\":0},{\"alignmentgroup\":\"True\",\"customdata\":[[1300.0,0.0]],\"hovertemplate\":\"Country=%{x}<br>Daily Oil Consumption (Barrels)=%{y}<br>GDP Per Capita ( USD )=%{customdata[0]}<br>World Share=%{customdata[1]}<extra></extra>\",\"legendgroup\":\"North Korea\",\"marker\":{\"color\":\"#B6E880\",\"pattern\":{\"shape\":\"\"}},\"name\":\"North Korea\",\"offsetgroup\":\"North Korea\",\"orientation\":\"v\",\"showlegend\":true,\"textposition\":\"outside\",\"x\":[\"North Korea\"],\"xaxis\":\"x\",\"y\":[18000.0],\"yaxis\":\"y\",\"type\":\"bar\",\"textfont\":{\"size\":12},\"cliponaxis\":false,\"textangle\":0},{\"alignmentgroup\":\"True\",\"customdata\":[[4268.0,0.0]],\"hovertemplate\":\"Country=%{x}<br>Daily Oil Consumption (Barrels)=%{y}<br>GDP Per Capita ( USD )=%{customdata[0]}<br>World Share=%{customdata[1]}<extra></extra>\",\"legendgroup\":\"Armenia\",\"marker\":{\"color\":\"#FF97FF\",\"pattern\":{\"shape\":\"\"}},\"name\":\"Armenia\",\"offsetgroup\":\"Armenia\",\"orientation\":\"v\",\"showlegend\":true,\"textposition\":\"outside\",\"x\":[\"Armenia\"],\"xaxis\":\"x\",\"y\":[6000.0],\"yaxis\":\"y\",\"type\":\"bar\",\"textfont\":{\"size\":12},\"cliponaxis\":false,\"textangle\":0},{\"alignmentgroup\":\"True\",\"customdata\":[[625.0,0.0]],\"hovertemplate\":\"Country=%{x}<br>Daily Oil Consumption (Barrels)=%{y}<br>GDP Per Capita ( USD )=%{customdata[0]}<br>World Share=%{customdata[1]}<extra></extra>\",\"legendgroup\":\"Malawi\",\"marker\":{\"color\":\"#FECB52\",\"pattern\":{\"shape\":\"\"}},\"name\":\"Malawi\",\"offsetgroup\":\"Malawi\",\"orientation\":\"v\",\"showlegend\":true,\"textposition\":\"outside\",\"x\":[\"Malawi\"],\"xaxis\":\"x\",\"y\":[6001.0],\"yaxis\":\"y\",\"type\":\"bar\",\"textfont\":{\"size\":12},\"cliponaxis\":false,\"textangle\":0},{\"alignmentgroup\":\"True\",\"customdata\":[[1120.0,0.0]],\"hovertemplate\":\"Country=%{x}<br>Daily Oil Consumption (Barrels)=%{y}<br>GDP Per Capita ( USD )=%{customdata[0]}<br>World Share=%{customdata[1]}<extra></extra>\",\"legendgroup\":\"South Sudan\",\"marker\":{\"color\":\"#636efa\",\"pattern\":{\"shape\":\"\"}},\"name\":\"South Sudan\",\"offsetgroup\":\"South Sudan\",\"orientation\":\"v\",\"showlegend\":true,\"textposition\":\"outside\",\"x\":[\"South Sudan\"],\"xaxis\":\"x\",\"y\":[8001.0],\"yaxis\":\"y\",\"type\":\"bar\",\"textfont\":{\"size\":12},\"cliponaxis\":false,\"textangle\":0},{\"alignmentgroup\":\"True\",\"customdata\":[[798.0,0.0]],\"hovertemplate\":\"Country=%{x}<br>Daily Oil Consumption (Barrels)=%{y}<br>GDP Per Capita ( USD )=%{customdata[0]}<br>World Share=%{customdata[1]}<extra></extra>\",\"legendgroup\":\"Rwanda\",\"marker\":{\"color\":\"#EF553B\",\"pattern\":{\"shape\":\"\"}},\"name\":\"Rwanda\",\"offsetgroup\":\"Rwanda\",\"orientation\":\"v\",\"showlegend\":true,\"textposition\":\"outside\",\"x\":[\"Rwanda\"],\"xaxis\":\"x\",\"y\":[6700.0],\"yaxis\":\"y\",\"type\":\"bar\",\"textfont\":{\"size\":12},\"cliponaxis\":false,\"textangle\":0},{\"alignmentgroup\":\"True\",\"customdata\":[[309.0,0.0]],\"hovertemplate\":\"Country=%{x}<br>Daily Oil Consumption (Barrels)=%{y}<br>GDP Per Capita ( USD )=%{customdata[0]}<br>World Share=%{customdata[1]}<extra></extra>\",\"legendgroup\":\"Somalia\",\"marker\":{\"color\":\"#00cc96\",\"pattern\":{\"shape\":\"\"}},\"name\":\"Somalia\",\"offsetgroup\":\"Somalia\",\"orientation\":\"v\",\"showlegend\":true,\"textposition\":\"outside\",\"x\":[\"Somalia\"],\"xaxis\":\"x\",\"y\":[5600.0],\"yaxis\":\"y\",\"type\":\"bar\",\"textfont\":{\"size\":12},\"cliponaxis\":false,\"textangle\":0},{\"alignmentgroup\":\"True\",\"customdata\":[[7677.0,0.0]],\"hovertemplate\":\"Country=%{x}<br>Daily Oil Consumption (Barrels)=%{y}<br>GDP Per Capita ( USD )=%{customdata[0]}<br>World Share=%{customdata[1]}<extra></extra>\",\"legendgroup\":\"Montenegro\",\"marker\":{\"color\":\"#ab63fa\",\"pattern\":{\"shape\":\"\"}},\"name\":\"Montenegro\",\"offsetgroup\":\"Montenegro\",\"orientation\":\"v\",\"showlegend\":true,\"textposition\":\"outside\",\"x\":[\"Montenegro\"],\"xaxis\":\"x\",\"y\":[7000.0],\"yaxis\":\"y\",\"type\":\"bar\",\"textfont\":{\"size\":12},\"cliponaxis\":false,\"textangle\":0},{\"alignmentgroup\":\"True\",\"customdata\":[[485.0,0.0]],\"hovertemplate\":\"Country=%{x}<br>Daily Oil Consumption (Barrels)=%{y}<br>GDP Per Capita ( USD )=%{customdata[0]}<br>World Share=%{customdata[1]}<extra></extra>\",\"legendgroup\":\"Sierra Leone\",\"marker\":{\"color\":\"#FFA15A\",\"pattern\":{\"shape\":\"\"}},\"name\":\"Sierra Leone\",\"offsetgroup\":\"Sierra Leone\",\"orientation\":\"v\",\"showlegend\":true,\"textposition\":\"outside\",\"x\":[\"Sierra Leone\"],\"xaxis\":\"x\",\"y\":[6500.0],\"yaxis\":\"y\",\"type\":\"bar\",\"textfont\":{\"size\":12},\"cliponaxis\":false,\"textangle\":0},{\"alignmentgroup\":\"True\",\"customdata\":[[6956.0,0.0]],\"hovertemplate\":\"Country=%{x}<br>Daily Oil Consumption (Barrels)=%{y}<br>GDP Per Capita ( USD )=%{customdata[0]}<br>World Share=%{customdata[1]}<extra></extra>\",\"legendgroup\":\"Guyana\",\"marker\":{\"color\":\"#19d3f3\",\"pattern\":{\"shape\":\"\"}},\"name\":\"Guyana\",\"offsetgroup\":\"Guyana\",\"orientation\":\"v\",\"showlegend\":true,\"textposition\":\"outside\",\"x\":[\"Guyana\"],\"xaxis\":\"x\",\"y\":[14000.0],\"yaxis\":\"y\",\"type\":\"bar\",\"textfont\":{\"size\":12},\"cliponaxis\":false,\"textangle\":0},{\"alignmentgroup\":\"True\",\"customdata\":[[6924.0,0.0]],\"hovertemplate\":\"Country=%{x}<br>Daily Oil Consumption (Barrels)=%{y}<br>GDP Per Capita ( USD )=%{customdata[0]}<br>World Share=%{customdata[1]}<extra></extra>\",\"legendgroup\":\"Maldives\",\"marker\":{\"color\":\"#FF6692\",\"pattern\":{\"shape\":\"\"}},\"name\":\"Maldives\",\"offsetgroup\":\"Maldives\",\"orientation\":\"v\",\"showlegend\":true,\"textposition\":\"outside\",\"x\":[\"Maldives\"],\"xaxis\":\"x\",\"y\":[11000.0],\"yaxis\":\"y\",\"type\":\"bar\",\"textfont\":{\"size\":12},\"cliponaxis\":false,\"textangle\":0},{\"alignmentgroup\":\"True\",\"customdata\":[[583.0,0.0]],\"hovertemplate\":\"Country=%{x}<br>Daily Oil Consumption (Barrels)=%{y}<br>GDP Per Capita ( USD )=%{customdata[0]}<br>World Share=%{customdata[1]}<extra></extra>\",\"legendgroup\":\"Liberia\",\"marker\":{\"color\":\"#B6E880\",\"pattern\":{\"shape\":\"\"}},\"name\":\"Liberia\",\"offsetgroup\":\"Liberia\",\"orientation\":\"v\",\"showlegend\":true,\"textposition\":\"outside\",\"x\":[\"Liberia\"],\"xaxis\":\"x\",\"y\":[8000.0],\"yaxis\":\"y\",\"type\":\"bar\",\"textfont\":{\"size\":12},\"cliponaxis\":false,\"textangle\":0},{\"alignmentgroup\":\"True\",\"customdata\":[[6491.0,0.0]],\"hovertemplate\":\"Country=%{x}<br>Daily Oil Consumption (Barrels)=%{y}<br>GDP Per Capita ( USD )=%{customdata[0]}<br>World Share=%{customdata[1]}<extra></extra>\",\"legendgroup\":\"Suriname\",\"marker\":{\"color\":\"#FF97FF\",\"pattern\":{\"shape\":\"\"}},\"name\":\"Suriname\",\"offsetgroup\":\"Suriname\",\"orientation\":\"v\",\"showlegend\":true,\"textposition\":\"outside\",\"x\":[\"Suriname\"],\"xaxis\":\"x\",\"y\":[13000.0],\"yaxis\":\"y\",\"type\":\"bar\",\"textfont\":{\"size\":12},\"cliponaxis\":false,\"textangle\":0},{\"alignmentgroup\":\"True\",\"customdata\":[[30253.0,0.0]],\"hovertemplate\":\"Country=%{x}<br>Daily Oil Consumption (Barrels)=%{y}<br>GDP Per Capita ( USD )=%{customdata[0]}<br>World Share=%{customdata[1]}<extra></extra>\",\"legendgroup\":\"Aruba\",\"marker\":{\"color\":\"#FECB52\",\"pattern\":{\"shape\":\"\"}},\"name\":\"Aruba\",\"offsetgroup\":\"Aruba\",\"orientation\":\"v\",\"showlegend\":true,\"textposition\":\"outside\",\"x\":[\"Aruba\"],\"xaxis\":\"x\",\"y\":[8000.0],\"yaxis\":\"y\",\"type\":\"bar\",\"textfont\":{\"size\":12},\"cliponaxis\":false,\"textangle\":0},{\"alignmentgroup\":\"True\",\"customdata\":[[861.0,0.0]],\"hovertemplate\":\"Country=%{x}<br>Daily Oil Consumption (Barrels)=%{y}<br>GDP Per Capita ( USD )=%{customdata[0]}<br>World Share=%{customdata[1]}<extra></extra>\",\"legendgroup\":\"Lesotho\",\"marker\":{\"color\":\"#636efa\",\"pattern\":{\"shape\":\"\"}},\"name\":\"Lesotho\",\"offsetgroup\":\"Lesotho\",\"orientation\":\"v\",\"showlegend\":true,\"textposition\":\"outside\",\"x\":[\"Lesotho\"],\"xaxis\":\"x\",\"y\":[5001.0],\"yaxis\":\"y\",\"type\":\"bar\",\"textfont\":{\"size\":12},\"cliponaxis\":false,\"textangle\":0},{\"alignmentgroup\":\"True\",\"customdata\":[[15374.0,0.0]],\"hovertemplate\":\"Country=%{x}<br>Daily Oil Consumption (Barrels)=%{y}<br>GDP Per Capita ( USD )=%{customdata[0]}<br>World Share=%{customdata[1]}<extra></extra>\",\"legendgroup\":\"Barbados\",\"marker\":{\"color\":\"#EF553B\",\"pattern\":{\"shape\":\"\"}},\"name\":\"Barbados\",\"offsetgroup\":\"Barbados\",\"orientation\":\"v\",\"showlegend\":true,\"textposition\":\"outside\",\"x\":[\"Barbados\"],\"xaxis\":\"x\",\"y\":[11001.0],\"yaxis\":\"y\",\"type\":\"bar\",\"textfont\":{\"size\":12},\"cliponaxis\":false,\"textangle\":0},{\"alignmentgroup\":\"True\",\"customdata\":[[3064.0,0.0]],\"hovertemplate\":\"Country=%{x}<br>Daily Oil Consumption (Barrels)=%{y}<br>GDP Per Capita ( USD )=%{customdata[0]}<br>World Share=%{customdata[1]}<extra></extra>\",\"legendgroup\":\"Cabo Verde\",\"marker\":{\"color\":\"#00cc96\",\"pattern\":{\"shape\":\"\"}},\"name\":\"Cabo Verde\",\"offsetgroup\":\"Cabo Verde\",\"orientation\":\"v\",\"showlegend\":true,\"textposition\":\"outside\",\"x\":[\"Cabo Verde\"],\"xaxis\":\"x\",\"y\":[5600.0],\"yaxis\":\"y\",\"type\":\"bar\",\"textfont\":{\"size\":12},\"cliponaxis\":false,\"textangle\":0},{\"alignmentgroup\":\"True\",\"customdata\":[[10764.0,0.0]],\"hovertemplate\":\"Country=%{x}<br>Daily Oil Consumption (Barrels)=%{y}<br>GDP Per Capita ( USD )=%{customdata[0]}<br>World Share=%{customdata[1]}<extra></extra>\",\"legendgroup\":\"Seychelles\",\"marker\":{\"color\":\"#ab63fa\",\"pattern\":{\"shape\":\"\"}},\"name\":\"Seychelles\",\"offsetgroup\":\"Seychelles\",\"orientation\":\"v\",\"showlegend\":true,\"textposition\":\"outside\",\"x\":[\"Seychelles\"],\"xaxis\":\"x\",\"y\":[7299.0],\"yaxis\":\"y\",\"type\":\"bar\",\"textfont\":{\"size\":12},\"cliponaxis\":false,\"textangle\":0},{\"alignmentgroup\":\"True\",\"customdata\":[[274.0,0.0]],\"hovertemplate\":\"Country=%{x}<br>Daily Oil Consumption (Barrels)=%{y}<br>GDP Per Capita ( USD )=%{customdata[0]}<br>World Share=%{customdata[1]}<extra></extra>\",\"legendgroup\":\"Burundi\",\"marker\":{\"color\":\"#FFA15A\",\"pattern\":{\"shape\":\"\"}},\"name\":\"Burundi\",\"offsetgroup\":\"Burundi\",\"orientation\":\"v\",\"showlegend\":true,\"textposition\":\"outside\",\"x\":[\"Burundi\"],\"xaxis\":\"x\",\"y\":[1499.0],\"yaxis\":\"y\",\"type\":\"bar\",\"textfont\":{\"size\":12},\"cliponaxis\":false,\"textangle\":0},{\"alignmentgroup\":\"True\",\"customdata\":[[34246.0,0.0]],\"hovertemplate\":\"Country=%{x}<br>Daily Oil Consumption (Barrels)=%{y}<br>GDP Per Capita ( USD )=%{customdata[0]}<br>World Share=%{customdata[1]}<extra></extra>\",\"legendgroup\":\"British Virgin Islands\",\"marker\":{\"color\":\"#19d3f3\",\"pattern\":{\"shape\":\"\"}},\"name\":\"British Virgin Islands\",\"offsetgroup\":\"British Virgin Islands\",\"orientation\":\"v\",\"showlegend\":true,\"textposition\":\"outside\",\"x\":[\"British Virgin Islands\"],\"xaxis\":\"x\",\"y\":[1240.0],\"yaxis\":\"y\",\"type\":\"bar\",\"textfont\":{\"size\":12},\"cliponaxis\":false,\"textangle\":0},{\"alignmentgroup\":\"True\",\"customdata\":[[85083.0,0.0]],\"hovertemplate\":\"Country=%{x}<br>Daily Oil Consumption (Barrels)=%{y}<br>GDP Per Capita ( USD )=%{customdata[0]}<br>World Share=%{customdata[1]}<extra></extra>\",\"legendgroup\":\"Cayman Islands\",\"marker\":{\"color\":\"#FF6692\",\"pattern\":{\"shape\":\"\"}},\"name\":\"Cayman Islands\",\"offsetgroup\":\"Cayman Islands\",\"orientation\":\"v\",\"showlegend\":true,\"textposition\":\"outside\",\"x\":[\"Cayman Islands\"],\"xaxis\":\"x\",\"y\":[4401.0],\"yaxis\":\"y\",\"type\":\"bar\",\"textfont\":{\"size\":12},\"cliponaxis\":false,\"textangle\":0},{\"alignmentgroup\":\"True\",\"customdata\":[[3122.0,0.0]],\"hovertemplate\":\"Country=%{x}<br>Daily Oil Consumption (Barrels)=%{y}<br>GDP Per Capita ( USD )=%{customdata[0]}<br>World Share=%{customdata[1]}<extra></extra>\",\"legendgroup\":\"Bhutan\",\"marker\":{\"color\":\"#B6E880\",\"pattern\":{\"shape\":\"\"}},\"name\":\"Bhutan\",\"offsetgroup\":\"Bhutan\",\"orientation\":\"v\",\"showlegend\":true,\"textposition\":\"outside\",\"x\":[\"Bhutan\"],\"xaxis\":\"x\",\"y\":[3001.0],\"yaxis\":\"y\",\"type\":\"bar\",\"textfont\":{\"size\":12},\"cliponaxis\":false,\"textangle\":0},{\"alignmentgroup\":\"True\",\"customdata\":[[1403.0,0.0]],\"hovertemplate\":\"Country=%{x}<br>Daily Oil Consumption (Barrels)=%{y}<br>GDP Per Capita ( USD )=%{customdata[0]}<br>World Share=%{customdata[1]}<extra></extra>\",\"legendgroup\":\"Comoros\",\"marker\":{\"color\":\"#FF97FF\",\"pattern\":{\"shape\":\"\"}},\"name\":\"Comoros\",\"offsetgroup\":\"Comoros\",\"orientation\":\"v\",\"showlegend\":true,\"textposition\":\"outside\",\"x\":[\"Comoros\"],\"xaxis\":\"x\",\"y\":[1300.0],\"yaxis\":\"y\",\"type\":\"bar\",\"textfont\":{\"size\":12},\"cliponaxis\":false,\"textangle\":0},{\"alignmentgroup\":\"True\",\"customdata\":[[2783.0,0.0]],\"hovertemplate\":\"Country=%{x}<br>Daily Oil Consumption (Barrels)=%{y}<br>GDP Per Capita ( USD )=%{customdata[0]}<br>World Share=%{customdata[1]}<extra></extra>\",\"legendgroup\":\"Vanuatu\",\"marker\":{\"color\":\"#FECB52\",\"pattern\":{\"shape\":\"\"}},\"name\":\"Vanuatu\",\"offsetgroup\":\"Vanuatu\",\"orientation\":\"v\",\"showlegend\":true,\"textposition\":\"outside\",\"x\":[\"Vanuatu\"],\"xaxis\":\"x\",\"y\":[1100.0],\"yaxis\":\"y\",\"type\":\"bar\",\"textfont\":{\"size\":12},\"cliponaxis\":false,\"textangle\":0},{\"alignmentgroup\":\"True\",\"customdata\":[[7800.0,0.0]],\"hovertemplate\":\"Country=%{x}<br>Daily Oil Consumption (Barrels)=%{y}<br>GDP Per Capita ( USD )=%{customdata[0]}<br>World Share=%{customdata[1]}<extra></extra>\",\"legendgroup\":\"Saint Helena\",\"marker\":{\"color\":\"#636efa\",\"pattern\":{\"shape\":\"\"}},\"name\":\"Saint Helena\",\"offsetgroup\":\"Saint Helena\",\"orientation\":\"v\",\"showlegend\":true,\"textposition\":\"outside\",\"x\":[\"Saint Helena\"],\"xaxis\":\"x\",\"y\":[70.0],\"yaxis\":\"y\",\"type\":\"bar\",\"textfont\":{\"size\":12},\"cliponaxis\":false,\"textangle\":0},{\"alignmentgroup\":\"True\",\"customdata\":[[1671.0,0.0]],\"hovertemplate\":\"Country=%{x}<br>Daily Oil Consumption (Barrels)=%{y}<br>GDP Per Capita ( USD )=%{customdata[0]}<br>World Share=%{customdata[1]}<extra></extra>\",\"legendgroup\":\"Kiribati\",\"marker\":{\"color\":\"#EF553B\",\"pattern\":{\"shape\":\"\"}},\"name\":\"Kiribati\",\"offsetgroup\":\"Kiribati\",\"orientation\":\"v\",\"showlegend\":true,\"textposition\":\"outside\",\"x\":[\"Kiribati\"],\"xaxis\":\"x\",\"y\":[400.0],\"yaxis\":\"y\",\"type\":\"bar\",\"textfont\":{\"size\":12},\"cliponaxis\":false,\"textangle\":0},{\"alignmentgroup\":\"True\",\"customdata\":[[9262.0,0.0]],\"hovertemplate\":\"Country=%{x}<br>Daily Oil Consumption (Barrels)=%{y}<br>GDP Per Capita ( USD )=%{customdata[0]}<br>World Share=%{customdata[1]}<extra></extra>\",\"legendgroup\":\"Grenada\",\"marker\":{\"color\":\"#00cc96\",\"pattern\":{\"shape\":\"\"}},\"name\":\"Grenada\",\"offsetgroup\":\"Grenada\",\"orientation\":\"v\",\"showlegend\":true,\"textposition\":\"outside\",\"x\":[\"Grenada\"],\"xaxis\":\"x\",\"y\":[2000.0],\"yaxis\":\"y\",\"type\":\"bar\",\"textfont\":{\"size\":12},\"cliponaxis\":false,\"textangle\":0},{\"alignmentgroup\":\"True\",\"customdata\":[[787.0,0.0]],\"hovertemplate\":\"Country=%{x}<br>Daily Oil Consumption (Barrels)=%{y}<br>GDP Per Capita ( USD )=%{customdata[0]}<br>World Share=%{customdata[1]}<extra></extra>\",\"legendgroup\":\"Gambia\",\"marker\":{\"color\":\"#ab63fa\",\"pattern\":{\"shape\":\"\"}},\"name\":\"Gambia\",\"offsetgroup\":\"Gambia\",\"orientation\":\"v\",\"showlegend\":true,\"textposition\":\"outside\",\"x\":[\"Gambia\"],\"xaxis\":\"x\",\"y\":[3800.0],\"yaxis\":\"y\",\"type\":\"bar\",\"textfont\":{\"size\":12},\"cliponaxis\":false,\"textangle\":0},{\"alignmentgroup\":\"True\",\"customdata\":[[477.0,0.0]],\"hovertemplate\":\"Country=%{x}<br>Daily Oil Consumption (Barrels)=%{y}<br>GDP Per Capita ( USD )=%{customdata[0]}<br>World Share=%{customdata[1]}<extra></extra>\",\"legendgroup\":\"Central African Republic\",\"marker\":{\"color\":\"#FFA15A\",\"pattern\":{\"shape\":\"\"}},\"name\":\"Central African Republic\",\"offsetgroup\":\"Central African Republic\",\"orientation\":\"v\",\"showlegend\":true,\"textposition\":\"outside\",\"x\":[\"Central African Republic\"],\"xaxis\":\"x\",\"y\":[2800.0],\"yaxis\":\"y\",\"type\":\"bar\",\"textfont\":{\"size\":12},\"cliponaxis\":false,\"textangle\":0},{\"alignmentgroup\":\"True\",\"customdata\":[[7268.0,0.0]],\"hovertemplate\":\"Country=%{x}<br>Daily Oil Consumption (Barrels)=%{y}<br>GDP Per Capita ( USD )=%{customdata[0]}<br>World Share=%{customdata[1]}<extra></extra>\",\"legendgroup\":\"Dominica\",\"marker\":{\"color\":\"#19d3f3\",\"pattern\":{\"shape\":\"\"}},\"name\":\"Dominica\",\"offsetgroup\":\"Dominica\",\"orientation\":\"v\",\"showlegend\":true,\"textposition\":\"outside\",\"x\":[\"Dominica\"],\"xaxis\":\"x\",\"y\":[1301.0],\"yaxis\":\"y\",\"type\":\"bar\",\"textfont\":{\"size\":12},\"cliponaxis\":false,\"textangle\":0},{\"alignmentgroup\":\"True\",\"customdata\":[[4436.0,0.0]],\"hovertemplate\":\"Country=%{x}<br>Daily Oil Consumption (Barrels)=%{y}<br>GDP Per Capita ( USD )=%{customdata[0]}<br>World Share=%{customdata[1]}<extra></extra>\",\"legendgroup\":\"Belize\",\"marker\":{\"color\":\"#FF6692\",\"pattern\":{\"shape\":\"\"}},\"name\":\"Belize\",\"offsetgroup\":\"Belize\",\"orientation\":\"v\",\"showlegend\":true,\"textposition\":\"outside\",\"x\":[\"Belize\"],\"xaxis\":\"x\",\"y\":[4001.0],\"yaxis\":\"y\",\"type\":\"bar\",\"textfont\":{\"size\":12},\"cliponaxis\":false,\"textangle\":0},{\"alignmentgroup\":\"True\",\"customdata\":[[15586.0,0.0]],\"hovertemplate\":\"Country=%{x}<br>Daily Oil Consumption (Barrels)=%{y}<br>GDP Per Capita ( USD )=%{customdata[0]}<br>World Share=%{customdata[1]}<extra></extra>\",\"legendgroup\":\"Niue\",\"marker\":{\"color\":\"#B6E880\",\"pattern\":{\"shape\":\"\"}},\"name\":\"Niue\",\"offsetgroup\":\"Niue\",\"orientation\":\"v\",\"showlegend\":true,\"textposition\":\"outside\",\"x\":[\"Niue\"],\"xaxis\":\"x\",\"y\":[51.0],\"yaxis\":\"y\",\"type\":\"bar\",\"textfont\":{\"size\":12},\"cliponaxis\":false,\"textangle\":0},{\"alignmentgroup\":\"True\",\"customdata\":[[34900.0,0.0]],\"hovertemplate\":\"Country=%{x}<br>Daily Oil Consumption (Barrels)=%{y}<br>GDP Per Capita ( USD )=%{customdata[0]}<br>World Share=%{customdata[1]}<extra></extra>\",\"legendgroup\":\"Saint Pierre & Miquelon\",\"marker\":{\"color\":\"#FF97FF\",\"pattern\":{\"shape\":\"\"}},\"name\":\"Saint Pierre & Miquelon\",\"offsetgroup\":\"Saint Pierre & Miquelon\",\"orientation\":\"v\",\"showlegend\":true,\"textposition\":\"outside\",\"x\":[\"Saint Pierre & Miquelon\"],\"xaxis\":\"x\",\"y\":[660.0],\"yaxis\":\"y\",\"type\":\"bar\",\"textfont\":{\"size\":12},\"cliponaxis\":false,\"textangle\":0},{\"alignmentgroup\":\"True\",\"customdata\":[[12589.0,0.0]],\"hovertemplate\":\"Country=%{x}<br>Daily Oil Consumption (Barrels)=%{y}<br>GDP Per Capita ( USD )=%{customdata[0]}<br>World Share=%{customdata[1]}<extra></extra>\",\"legendgroup\":\"Montserrat\",\"marker\":{\"color\":\"#FECB52\",\"pattern\":{\"shape\":\"\"}},\"name\":\"Montserrat\",\"offsetgroup\":\"Montserrat\",\"orientation\":\"v\",\"showlegend\":true,\"textposition\":\"outside\",\"x\":[\"Montserrat\"],\"xaxis\":\"x\",\"y\":[400.0],\"yaxis\":\"y\",\"type\":\"bar\",\"textfont\":{\"size\":12},\"cliponaxis\":false,\"textangle\":0},{\"alignmentgroup\":\"True\",\"customdata\":[[4903.0,0.0]],\"hovertemplate\":\"Country=%{x}<br>Daily Oil Consumption (Barrels)=%{y}<br>GDP Per Capita ( USD )=%{customdata[0]}<br>World Share=%{customdata[1]}<extra></extra>\",\"legendgroup\":\"Tonga\",\"marker\":{\"color\":\"#636efa\",\"pattern\":{\"shape\":\"\"}},\"name\":\"Tonga\",\"offsetgroup\":\"Tonga\",\"orientation\":\"v\",\"showlegend\":true,\"textposition\":\"outside\",\"x\":[\"Tonga\"],\"xaxis\":\"x\",\"y\":[899.0],\"yaxis\":\"y\",\"type\":\"bar\",\"textfont\":{\"size\":12},\"cliponaxis\":false,\"textangle\":0}],                        {\"template\":{\"data\":{\"bar\":[{\"error_x\":{\"color\":\"#2a3f5f\"},\"error_y\":{\"color\":\"#2a3f5f\"},\"marker\":{\"line\":{\"color\":\"#E5ECF6\",\"width\":0.5},\"pattern\":{\"fillmode\":\"overlay\",\"size\":10,\"solidity\":0.2}},\"type\":\"bar\"}],\"barpolar\":[{\"marker\":{\"line\":{\"color\":\"#E5ECF6\",\"width\":0.5},\"pattern\":{\"fillmode\":\"overlay\",\"size\":10,\"solidity\":0.2}},\"type\":\"barpolar\"}],\"carpet\":[{\"aaxis\":{\"endlinecolor\":\"#2a3f5f\",\"gridcolor\":\"white\",\"linecolor\":\"white\",\"minorgridcolor\":\"white\",\"startlinecolor\":\"#2a3f5f\"},\"baxis\":{\"endlinecolor\":\"#2a3f5f\",\"gridcolor\":\"white\",\"linecolor\":\"white\",\"minorgridcolor\":\"white\",\"startlinecolor\":\"#2a3f5f\"},\"type\":\"carpet\"}],\"choropleth\":[{\"colorbar\":{\"outlinewidth\":0,\"ticks\":\"\"},\"type\":\"choropleth\"}],\"contour\":[{\"colorbar\":{\"outlinewidth\":0,\"ticks\":\"\"},\"colorscale\":[[0.0,\"#0d0887\"],[0.1111111111111111,\"#46039f\"],[0.2222222222222222,\"#7201a8\"],[0.3333333333333333,\"#9c179e\"],[0.4444444444444444,\"#bd3786\"],[0.5555555555555556,\"#d8576b\"],[0.6666666666666666,\"#ed7953\"],[0.7777777777777778,\"#fb9f3a\"],[0.8888888888888888,\"#fdca26\"],[1.0,\"#f0f921\"]],\"type\":\"contour\"}],\"contourcarpet\":[{\"colorbar\":{\"outlinewidth\":0,\"ticks\":\"\"},\"type\":\"contourcarpet\"}],\"heatmap\":[{\"colorbar\":{\"outlinewidth\":0,\"ticks\":\"\"},\"colorscale\":[[0.0,\"#0d0887\"],[0.1111111111111111,\"#46039f\"],[0.2222222222222222,\"#7201a8\"],[0.3333333333333333,\"#9c179e\"],[0.4444444444444444,\"#bd3786\"],[0.5555555555555556,\"#d8576b\"],[0.6666666666666666,\"#ed7953\"],[0.7777777777777778,\"#fb9f3a\"],[0.8888888888888888,\"#fdca26\"],[1.0,\"#f0f921\"]],\"type\":\"heatmap\"}],\"heatmapgl\":[{\"colorbar\":{\"outlinewidth\":0,\"ticks\":\"\"},\"colorscale\":[[0.0,\"#0d0887\"],[0.1111111111111111,\"#46039f\"],[0.2222222222222222,\"#7201a8\"],[0.3333333333333333,\"#9c179e\"],[0.4444444444444444,\"#bd3786\"],[0.5555555555555556,\"#d8576b\"],[0.6666666666666666,\"#ed7953\"],[0.7777777777777778,\"#fb9f3a\"],[0.8888888888888888,\"#fdca26\"],[1.0,\"#f0f921\"]],\"type\":\"heatmapgl\"}],\"histogram\":[{\"marker\":{\"pattern\":{\"fillmode\":\"overlay\",\"size\":10,\"solidity\":0.2}},\"type\":\"histogram\"}],\"histogram2d\":[{\"colorbar\":{\"outlinewidth\":0,\"ticks\":\"\"},\"colorscale\":[[0.0,\"#0d0887\"],[0.1111111111111111,\"#46039f\"],[0.2222222222222222,\"#7201a8\"],[0.3333333333333333,\"#9c179e\"],[0.4444444444444444,\"#bd3786\"],[0.5555555555555556,\"#d8576b\"],[0.6666666666666666,\"#ed7953\"],[0.7777777777777778,\"#fb9f3a\"],[0.8888888888888888,\"#fdca26\"],[1.0,\"#f0f921\"]],\"type\":\"histogram2d\"}],\"histogram2dcontour\":[{\"colorbar\":{\"outlinewidth\":0,\"ticks\":\"\"},\"colorscale\":[[0.0,\"#0d0887\"],[0.1111111111111111,\"#46039f\"],[0.2222222222222222,\"#7201a8\"],[0.3333333333333333,\"#9c179e\"],[0.4444444444444444,\"#bd3786\"],[0.5555555555555556,\"#d8576b\"],[0.6666666666666666,\"#ed7953\"],[0.7777777777777778,\"#fb9f3a\"],[0.8888888888888888,\"#fdca26\"],[1.0,\"#f0f921\"]],\"type\":\"histogram2dcontour\"}],\"mesh3d\":[{\"colorbar\":{\"outlinewidth\":0,\"ticks\":\"\"},\"type\":\"mesh3d\"}],\"parcoords\":[{\"line\":{\"colorbar\":{\"outlinewidth\":0,\"ticks\":\"\"}},\"type\":\"parcoords\"}],\"pie\":[{\"automargin\":true,\"type\":\"pie\"}],\"scatter\":[{\"marker\":{\"colorbar\":{\"outlinewidth\":0,\"ticks\":\"\"}},\"type\":\"scatter\"}],\"scatter3d\":[{\"line\":{\"colorbar\":{\"outlinewidth\":0,\"ticks\":\"\"}},\"marker\":{\"colorbar\":{\"outlinewidth\":0,\"ticks\":\"\"}},\"type\":\"scatter3d\"}],\"scattercarpet\":[{\"marker\":{\"colorbar\":{\"outlinewidth\":0,\"ticks\":\"\"}},\"type\":\"scattercarpet\"}],\"scattergeo\":[{\"marker\":{\"colorbar\":{\"outlinewidth\":0,\"ticks\":\"\"}},\"type\":\"scattergeo\"}],\"scattergl\":[{\"marker\":{\"colorbar\":{\"outlinewidth\":0,\"ticks\":\"\"}},\"type\":\"scattergl\"}],\"scattermapbox\":[{\"marker\":{\"colorbar\":{\"outlinewidth\":0,\"ticks\":\"\"}},\"type\":\"scattermapbox\"}],\"scatterpolar\":[{\"marker\":{\"colorbar\":{\"outlinewidth\":0,\"ticks\":\"\"}},\"type\":\"scatterpolar\"}],\"scatterpolargl\":[{\"marker\":{\"colorbar\":{\"outlinewidth\":0,\"ticks\":\"\"}},\"type\":\"scatterpolargl\"}],\"scatterternary\":[{\"marker\":{\"colorbar\":{\"outlinewidth\":0,\"ticks\":\"\"}},\"type\":\"scatterternary\"}],\"surface\":[{\"colorbar\":{\"outlinewidth\":0,\"ticks\":\"\"},\"colorscale\":[[0.0,\"#0d0887\"],[0.1111111111111111,\"#46039f\"],[0.2222222222222222,\"#7201a8\"],[0.3333333333333333,\"#9c179e\"],[0.4444444444444444,\"#bd3786\"],[0.5555555555555556,\"#d8576b\"],[0.6666666666666666,\"#ed7953\"],[0.7777777777777778,\"#fb9f3a\"],[0.8888888888888888,\"#fdca26\"],[1.0,\"#f0f921\"]],\"type\":\"surface\"}],\"table\":[{\"cells\":{\"fill\":{\"color\":\"#EBF0F8\"},\"line\":{\"color\":\"white\"}},\"header\":{\"fill\":{\"color\":\"#C8D4E3\"},\"line\":{\"color\":\"white\"}},\"type\":\"table\"}]},\"layout\":{\"annotationdefaults\":{\"arrowcolor\":\"#2a3f5f\",\"arrowhead\":0,\"arrowwidth\":1},\"autotypenumbers\":\"strict\",\"coloraxis\":{\"colorbar\":{\"outlinewidth\":0,\"ticks\":\"\"}},\"colorscale\":{\"diverging\":[[0,\"#8e0152\"],[0.1,\"#c51b7d\"],[0.2,\"#de77ae\"],[0.3,\"#f1b6da\"],[0.4,\"#fde0ef\"],[0.5,\"#f7f7f7\"],[0.6,\"#e6f5d0\"],[0.7,\"#b8e186\"],[0.8,\"#7fbc41\"],[0.9,\"#4d9221\"],[1,\"#276419\"]],\"sequential\":[[0.0,\"#0d0887\"],[0.1111111111111111,\"#46039f\"],[0.2222222222222222,\"#7201a8\"],[0.3333333333333333,\"#9c179e\"],[0.4444444444444444,\"#bd3786\"],[0.5555555555555556,\"#d8576b\"],[0.6666666666666666,\"#ed7953\"],[0.7777777777777778,\"#fb9f3a\"],[0.8888888888888888,\"#fdca26\"],[1.0,\"#f0f921\"]],\"sequentialminus\":[[0.0,\"#0d0887\"],[0.1111111111111111,\"#46039f\"],[0.2222222222222222,\"#7201a8\"],[0.3333333333333333,\"#9c179e\"],[0.4444444444444444,\"#bd3786\"],[0.5555555555555556,\"#d8576b\"],[0.6666666666666666,\"#ed7953\"],[0.7777777777777778,\"#fb9f3a\"],[0.8888888888888888,\"#fdca26\"],[1.0,\"#f0f921\"]]},\"colorway\":[\"#636efa\",\"#EF553B\",\"#00cc96\",\"#ab63fa\",\"#FFA15A\",\"#19d3f3\",\"#FF6692\",\"#B6E880\",\"#FF97FF\",\"#FECB52\"],\"font\":{\"color\":\"#2a3f5f\"},\"geo\":{\"bgcolor\":\"white\",\"lakecolor\":\"white\",\"landcolor\":\"#E5ECF6\",\"showlakes\":true,\"showland\":true,\"subunitcolor\":\"white\"},\"hoverlabel\":{\"align\":\"left\"},\"hovermode\":\"closest\",\"mapbox\":{\"style\":\"light\"},\"paper_bgcolor\":\"white\",\"plot_bgcolor\":\"#E5ECF6\",\"polar\":{\"angularaxis\":{\"gridcolor\":\"white\",\"linecolor\":\"white\",\"ticks\":\"\"},\"bgcolor\":\"#E5ECF6\",\"radialaxis\":{\"gridcolor\":\"white\",\"linecolor\":\"white\",\"ticks\":\"\"}},\"scene\":{\"xaxis\":{\"backgroundcolor\":\"#E5ECF6\",\"gridcolor\":\"white\",\"gridwidth\":2,\"linecolor\":\"white\",\"showbackground\":true,\"ticks\":\"\",\"zerolinecolor\":\"white\"},\"yaxis\":{\"backgroundcolor\":\"#E5ECF6\",\"gridcolor\":\"white\",\"gridwidth\":2,\"linecolor\":\"white\",\"showbackground\":true,\"ticks\":\"\",\"zerolinecolor\":\"white\"},\"zaxis\":{\"backgroundcolor\":\"#E5ECF6\",\"gridcolor\":\"white\",\"gridwidth\":2,\"linecolor\":\"white\",\"showbackground\":true,\"ticks\":\"\",\"zerolinecolor\":\"white\"}},\"shapedefaults\":{\"line\":{\"color\":\"#2a3f5f\"}},\"ternary\":{\"aaxis\":{\"gridcolor\":\"white\",\"linecolor\":\"white\",\"ticks\":\"\"},\"baxis\":{\"gridcolor\":\"white\",\"linecolor\":\"white\",\"ticks\":\"\"},\"bgcolor\":\"#E5ECF6\",\"caxis\":{\"gridcolor\":\"white\",\"linecolor\":\"white\",\"ticks\":\"\"}},\"title\":{\"x\":0.05},\"xaxis\":{\"automargin\":true,\"gridcolor\":\"white\",\"linecolor\":\"white\",\"ticks\":\"\",\"title\":{\"standoff\":15},\"zerolinecolor\":\"white\",\"zerolinewidth\":2},\"yaxis\":{\"automargin\":true,\"gridcolor\":\"white\",\"linecolor\":\"white\",\"ticks\":\"\",\"title\":{\"standoff\":15},\"zerolinecolor\":\"white\",\"zerolinewidth\":2}}},\"xaxis\":{\"anchor\":\"y\",\"domain\":[0.0,1.0],\"title\":{\"text\":\"Country\"},\"categoryorder\":\"array\",\"categoryarray\":[\"United States\",\"China\",\"India\",\"Japan\",\"Russia\",\"Saudi Arabia\",\"Brazil\",\"South Korea\",\"Canada\",\"Germany\",\"Mexico\",\"Iran\",\"France\",\"Indonesia\",\"United Kingdom\",\"Singapore\",\"Italy\",\"Spain\",\"Thailand\",\"Australia\",\"Taiwan\",\"Turkey\",\"Netherlands\",\"Egypt\",\"United Arab Emirates\",\"Iraq\",\"Malaysia\",\"Argentina\",\"Belgium\",\"South Africa\",\"Venezuela\",\"Poland\",\"Pakistan\",\"Vietnam\",\"Nigeria\",\"Colombia\",\"Algeria\",\"Kuwait\",\"Philippines\",\"Chile\",\"Hong Kong\",\"Kazakhstan\",\"Austria\",\"Sweden\",\"Peru\",\"Ukraine\",\"Ecuador\",\"Greece\",\"Morocco\",\"Libya\",\"Switzerland\",\"Qatar\",\"Ireland\",\"Denmark\",\"Israel\",\"Romania\",\"Czech Republic (Czechia)\",\"Turkmenistan\",\"Norway\",\"New Zealand\",\"Cuba\",\"Oman\",\"Hungary\",\"Finland\",\"Portugal\",\"Panama\",\"Lebanon\",\"Bangladesh\",\"Angola\",\"Syria\",\"Puerto Rico\",\"Azerbaijan\",\"Belarus\",\"Guatemala\",\"Kenya\",\"Tunisia\",\"Sri Lanka\",\"Myanmar\",\"Bulgaria\",\"Dominican Republic\",\"Jordan\",\"Sudan\",\"Bolivia\",\"Ghana\",\"Ethiopia\",\"Slovakia\",\"Serbia\",\"Tanzania\",\"Croatia\",\"Bahrain\",\"Yemen\",\"Costa Rica\",\"Luxembourg\",\"Uruguay\",\"Lithuania\",\"Trinidad and Tobago\",\"Honduras\",\"Jamaica\",\"Uzbekistan\",\"C\\u00f4te d'Ivoire\",\"Slovenia\",\"Paraguay\",\"El Salvador\",\"Cambodia\",\"Cyprus\",\"Senegal\",\"Malta\",\"Cameroon\",\"Afghanistan\",\"Nepal\",\"Latvia\",\"Benin\",\"Papua New Guinea\",\"Bosnia and Herzegovina\",\"Mozambique\",\"Nicaragua\",\"Kyrgyzstan\",\"Uganda\",\"Estonia\",\"Zimbabwe\",\"Georgia\",\"State of Palestine\",\"Namibia\",\"Albania\",\"Mauritius\",\"Brunei \",\"Macao\",\"DR Congo\",\"Haiti\",\"Gabon\",\"Madagascar\",\"Botswana\",\"Burkina Faso\",\"Moldova\",\"Mali\",\"Congo\",\"Togo\",\"Guinea\",\"Zambia\",\"Laos\",\"Mongolia\",\"Iceland\",\"North Macedonia\",\"Bahamas\",\"Tajikistan\",\"New Caledonia\",\"Fiji\",\"North Korea\",\"Armenia\",\"Malawi\",\"South Sudan\",\"Rwanda\",\"Somalia\",\"Montenegro\",\"Sierra Leone\",\"Guyana\",\"Maldives\",\"Liberia\",\"Suriname\",\"Aruba\",\"Lesotho\",\"Barbados\",\"Cabo Verde\",\"Seychelles\",\"Burundi\",\"British Virgin Islands\",\"Cayman Islands\",\"Bhutan\",\"Comoros\",\"Vanuatu\",\"Saint Helena\",\"Kiribati\",\"Grenada\",\"Gambia\",\"Central African Republic\",\"Dominica\",\"Belize\",\"Niue\",\"Saint Pierre & Miquelon\",\"Montserrat\",\"Tonga\"]},\"yaxis\":{\"anchor\":\"x\",\"domain\":[0.0,1.0],\"title\":{\"text\":\"Daily Oil Consumption (Barrels)\"}},\"legend\":{\"title\":{\"text\":\"Country\"},\"tracegroupgap\":0},\"title\":{\"text\":\"Daily Oil Consumption (Barrels)\"},\"barmode\":\"relative\",\"height\":800,\"width\":1600},                        {\"responsive\": true}                    ).then(function(){\n",
              "                            \n",
              "var gd = document.getElementById('c4106356-84be-4c62-a237-7c8d8832f62b');\n",
              "var x = new MutationObserver(function (mutations, observer) {{\n",
              "        var display = window.getComputedStyle(gd).display;\n",
              "        if (!display || display === 'none') {{\n",
              "            console.log([gd, 'removed!']);\n",
              "            Plotly.purge(gd);\n",
              "            observer.disconnect();\n",
              "        }}\n",
              "}});\n",
              "\n",
              "// Listen for the removal of the full notebook cells\n",
              "var notebookContainer = gd.closest('#notebook-container');\n",
              "if (notebookContainer) {{\n",
              "    x.observe(notebookContainer, {childList: true});\n",
              "}}\n",
              "\n",
              "// Listen for the clearing of the current output cell\n",
              "var outputEl = gd.closest('.output');\n",
              "if (outputEl) {{\n",
              "    x.observe(outputEl, {childList: true});\n",
              "}}\n",
              "\n",
              "                        })                };                            </script>        </div>\n",
              "</body>\n",
              "</html>"
            ]
          },
          "metadata": {}
        }
      ]
    }
  ]
}